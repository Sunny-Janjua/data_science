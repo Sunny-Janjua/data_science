{
  "nbformat": 4,
  "nbformat_minor": 0,
  "metadata": {
    "colab": {
      "provenance": [],
      "authorship_tag": "ABX9TyNxYSpPiXLJTEd1u21nvJY0",
      "include_colab_link": true
    },
    "kernelspec": {
      "name": "python3",
      "display_name": "Python 3"
    },
    "language_info": {
      "name": "python"
    }
  },
  "cells": [
    {
      "cell_type": "markdown",
      "metadata": {
        "id": "view-in-github",
        "colab_type": "text"
      },
      "source": [
        "<a href=\"https://colab.research.google.com/github/Sunny-Janjua/data_analysis-/blob/main/class_o4.ipynb\" target=\"_parent\"><img src=\"https://colab.research.google.com/assets/colab-badge.svg\" alt=\"Open In Colab\"/></a>"
      ]
    },
    {
      "cell_type": "markdown",
      "source": [
        "# Math Functions in Python - Google Colab\n",
        "\n",
        "## Introduction\n",
        "Google Colab is an excellent platform for executing Python code in the cloud. This document provides a detailed guide on using Python's built-in `math` module for performing various mathematical operations in Google Colab.\n",
        "\n",
        "## Getting Started\n",
        "To use the `math` module in Google Colab, simply import it at the beginning of your code:\n",
        "\n",
        "```python\n",
        "import math\n",
        "```\n",
        "\n",
        "## Math Functions Overview\n",
        "The `math` module provides a wide range of mathematical functions. Below is a categorized list of the most commonly used functions with detailed examples.\n",
        "\n",
        "### A. Basic Mathematical Functions\n",
        "| Function | Description | Example |\n",
        "|----------|-------------|---------|\n",
        "| `math.ceil(x)` | Returns the smallest integer greater than or equal to `x`. | `math.ceil(4.3) → 5` |\n",
        "| `math.floor(x)` | Returns the largest integer less than or equal to `x`. | `math.floor(4.9) → 4` |\n",
        "| `math.trunc(x)` | Removes the decimal part of `x`. | `math.trunc(4.99) → 4` |\n",
        "| `math.fabs(x)` | Returns the absolute value of `x`. | `math.fabs(-10) → 10.0` |\n",
        "| `math.factorial(n)` | Returns `n!` (n factorial). | `math.factorial(5) → 120` |\n",
        "| `math.fmod(x, y)` | Returns the remainder of `x / y`. | `math.fmod(10, 3) → 1.0` |\n",
        "| `math.gcd(x, y)` | Returns the greatest common divisor of `x` and `y`. | `math.gcd(48, 18) → 6` |\n",
        "\n",
        "Example:\n",
        "```python\n",
        "print(math.ceil(4.3))  # Output: 5\n",
        "print(math.floor(4.9))  # Output: 4\n",
        "print(math.gcd(48, 18))  # Output: 6\n",
        "```\n",
        "\n",
        "### B. Power and Logarithmic Functions\n",
        "| Function | Description | Example |\n",
        "|----------|-------------|---------|\n",
        "| `math.pow(x, y)` | Returns `x` raised to the power of `y` (`x^y`). | `math.pow(2, 3) → 8.0` |\n",
        "| `math.sqrt(x)` | Returns the square root of `x`. | `math.sqrt(25) → 5.0` |\n",
        "| `math.exp(x)` | Returns `e^x` where `e` is Euler’s number. | `math.exp(2) → 7.389` |\n",
        "| `math.log(x, base)` | Returns the logarithm of `x` to the given `base`. Defaults to `e`. | `math.log(100, 10) → 2.0` |\n",
        "| `math.log10(x)` | Returns the base-10 logarithm of `x`. | `math.log10(1000) → 3.0` |\n",
        "| `math.log2(x)` | Returns the base-2 logarithm of `x`. | `math.log2(8) → 3.0` |\n",
        "\n",
        "Example:\n",
        "```python\n",
        "print(math.pow(2, 3))  # Output: 8.0\n",
        "print(math.sqrt(25))  # Output: 5.0\n",
        "print(math.log2(8))  # Output: 3.0\n",
        "```\n",
        "\n",
        "### C. Trigonometric Functions\n",
        "| Function | Description | Example |\n",
        "|----------|-------------|---------|\n",
        "| `math.sin(x)` | Returns the sine of `x` (in radians). | `math.sin(math.pi/2) → 1.0` |\n",
        "| `math.cos(x)` | Returns the cosine of `x` (in radians). | `math.cos(0) → 1.0` |\n",
        "| `math.tan(x)` | Returns the tangent of `x` (in radians). | `math.tan(math.pi/4) → 1.0` |\n",
        "| `math.asin(x)` | Returns the arcsine (inverse sine) of `x`. | `math.asin(1) → 1.57` |\n",
        "| `math.acos(x)` | Returns the arccosine (inverse cosine) of `x`. | `math.acos(1) → 0.0` |\n",
        "| `math.atan(x)` | Returns the arctangent (inverse tangent) of `x`. | `math.atan(1) → 0.78` |\n",
        "| `math.degrees(x)` | Converts radians to degrees. | `math.degrees(math.pi) → 180.0` |\n",
        "| `math.radians(x)` | Converts degrees to radians. | `math.radians(180) → 3.14` |\n",
        "\n",
        "Example:\n",
        "```python\n",
        "print(math.sin(math.radians(90)))  # Output: 1.0\n",
        "print(math.degrees(math.pi))  # Output: 180.0\n",
        "```\n",
        "\n",
        "### D. Constants in `math` Module\n",
        "| Constant | Description | Value |\n",
        "|----------|-------------|-------|\n",
        "| `math.pi` | The mathematical constant π (pi). | `3.141592653589793` |\n",
        "| `math.e` | Euler’s number, the base of natural logarithms. | `2.718281828459045` |\n",
        "| `math.tau` | The mathematical constant `τ` (tau), which is `2π`. | `6.283185307179586` |\n",
        "| `math.inf` | Represents positive infinity. | `∞` |\n",
        "| `math.nan` | Represents Not-a-Number (NaN). | `NaN` |\n",
        "\n",
        "## Example Usage in Google Colab\n",
        "```python\n",
        "import math\n",
        "\n",
        "# Basic functions\n",
        "print(\"Ceil:\", math.ceil(4.3))\n",
        "print(\"Floor:\", math.floor(4.9))\n",
        "print(\"GCD:\", math.gcd(48, 18))\n",
        "print(\"Square Root:\", math.sqrt(9))\n",
        "print(\"Power:\", math.pow(2, 3))\n",
        "print(\"Log Base 10:\", math.log10(1000))\n",
        "print(\"Sine of 90 degrees:\", math.sin(math.radians(90)))\n",
        "print(\"Pi constant:\", math.pi)\n",
        "```\n",
        "\n",
        "## Conclusion\n",
        "The `math` module in Python is a powerful tool for mathematical operations and can be used efficiently in Google Colab for scientific computing, data analysis, and machine learning tasks.\n",
        "\n",
        "---\n",
        "\n",
        "This document serves as a complete reference for using Python’s `math` module in Google Colab. Happy coding! 🚀\n",
        "\n"
      ],
      "metadata": {
        "id": "WXbIhyArcIUQ"
      }
    },
    {
      "cell_type": "code",
      "source": [
        "def calculate_emi(principal, annual_interest_rate, tenure_years):\n",
        "    # Convert annual interest rate to monthly and percentage\n",
        "    monthly_interest_rate = (annual_interest_rate / 12) / 100\n",
        "    # Convert tenure from years to months\n",
        "    tenure_months = tenure_years * 12\n",
        "\n",
        "    # EMI Formula\n",
        "    emi = (principal * monthly_interest_rate * (1 + monthly_interest_rate) ** tenure_months) / \\\n",
        "          ((1 + monthly_interest_rate) ** tenure_months - 1)\n",
        "\n",
        "    return round(emi, 2)\n",
        "\n",
        "# Input from user\n",
        "principal = float(input(\"Enter loan amount: \"))\n",
        "annual_interest_rate = float(input(\"Enter annual interest rate (in %): \"))\n",
        "tenure_years = int(input(\"Enter tenure (in years): \"))\n",
        "\n",
        "# Calculate EMI\n",
        "emi = calculate_emi(principal, annual_interest_rate, tenure_years)\n",
        "\n",
        "# Display result\n",
        "print(f\"Your monthly EMI is: {emi}\")\n"
      ],
      "metadata": {
        "colab": {
          "base_uri": "https://localhost:8080/"
        },
        "id": "uptgyOU_c8Dv",
        "outputId": "388cb283-fecc-4fc4-d580-fc9c0934cdb8"
      },
      "execution_count": 3,
      "outputs": [
        {
          "output_type": "stream",
          "name": "stdout",
          "text": [
            "Enter loan amount: 4\n",
            "Enter annual interest rate (in %): 4\n",
            "Enter tenure (in years): 4\n",
            "Your monthly EMI is: 0.09\n"
          ]
        }
      ]
    }
  ]
}
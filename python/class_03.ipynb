{
  "nbformat": 4,
  "nbformat_minor": 0,
  "metadata": {
    "colab": {
      "provenance": [],
      "authorship_tag": "ABX9TyM4aTqj/NziGJzpiRJ0i2vl",
      "include_colab_link": true
    },
    "kernelspec": {
      "name": "python3",
      "display_name": "Python 3"
    },
    "language_info": {
      "name": "python"
    }
  },
  "cells": [
    {
      "cell_type": "markdown",
      "metadata": {
        "id": "view-in-github",
        "colab_type": "text"
      },
      "source": [
        "<a href=\"https://colab.research.google.com/github/Sunny-Janjua/data_analysis-/blob/main/class_03.ipynb\" target=\"_parent\"><img src=\"https://colab.research.google.com/assets/colab-badge.svg\" alt=\"Open In Colab\"/></a>"
      ]
    },
    {
      "cell_type": "code",
      "execution_count": 1,
      "metadata": {
        "colab": {
          "base_uri": "https://localhost:8080/"
        },
        "id": "wNxDAeifULGI",
        "outputId": "89b844b6-47b9-4b79-d66a-324643ce7dbf"
      },
      "outputs": [
        {
          "output_type": "stream",
          "name": "stdout",
          "text": [
            "(1, 2, 3, 4, 5, 6, 7, 8, 8, 9, 6, 4, 53, 33, 554, 6, 7, 67)\n"
          ]
        }
      ],
      "source": [
        "tup=(1,2,3,4,5,6,7,8,8,9,6,4,53,33,554,6,7,67)\n",
        "print(tup)"
      ]
    },
    {
      "cell_type": "code",
      "source": [
        "for i in tup:\n",
        "  print(f\"My tuple is {i}\")"
      ],
      "metadata": {
        "colab": {
          "base_uri": "https://localhost:8080/"
        },
        "id": "867IdeP1UVh5",
        "outputId": "33abd199-c5e0-4e4f-de43-30241611a36e"
      },
      "execution_count": 2,
      "outputs": [
        {
          "output_type": "stream",
          "name": "stdout",
          "text": [
            "My tuple is 1\n",
            "My tuple is 2\n",
            "My tuple is 3\n",
            "My tuple is 4\n",
            "My tuple is 5\n",
            "My tuple is 6\n",
            "My tuple is 7\n",
            "My tuple is 8\n",
            "My tuple is 8\n",
            "My tuple is 9\n",
            "My tuple is 6\n",
            "My tuple is 4\n",
            "My tuple is 53\n",
            "My tuple is 33\n",
            "My tuple is 554\n",
            "My tuple is 6\n",
            "My tuple is 7\n",
            "My tuple is 67\n"
          ]
        }
      ]
    },
    {
      "cell_type": "code",
      "source": [
        "print(tup[0])\n",
        "print(tup[1])\n",
        "print(tup[2])\n",
        "print(tup[3])\n",
        "print(tup[4])\n",
        "print(tup[5])\n"
      ],
      "metadata": {
        "colab": {
          "base_uri": "https://localhost:8080/"
        },
        "id": "JNx9B6qIUe98",
        "outputId": "b662e361-7bf5-4911-d47c-b02ec62ca95a"
      },
      "execution_count": 3,
      "outputs": [
        {
          "output_type": "stream",
          "name": "stdout",
          "text": [
            "1\n",
            "2\n",
            "3\n",
            "4\n",
            "5\n",
            "6\n"
          ]
        }
      ]
    },
    {
      "cell_type": "code",
      "source": [
        "for i in tup:\n",
        "  if i%2==0:\n",
        "    print(f\"Even number is {i}\")\n",
        "  else:\n",
        "    print(f\"Odd number is {i}\")"
      ],
      "metadata": {
        "colab": {
          "base_uri": "https://localhost:8080/"
        },
        "id": "d4Hd_XovUnfH",
        "outputId": "5749c585-3103-4cc5-9074-462e64f7fabb"
      },
      "execution_count": 4,
      "outputs": [
        {
          "output_type": "stream",
          "name": "stdout",
          "text": [
            "Odd number is 1\n",
            "Even number is 2\n",
            "Odd number is 3\n",
            "Even number is 4\n",
            "Odd number is 5\n",
            "Even number is 6\n",
            "Odd number is 7\n",
            "Even number is 8\n",
            "Even number is 8\n",
            "Odd number is 9\n",
            "Even number is 6\n",
            "Even number is 4\n",
            "Odd number is 53\n",
            "Odd number is 33\n",
            "Even number is 554\n",
            "Even number is 6\n",
            "Odd number is 7\n",
            "Odd number is 67\n"
          ]
        }
      ]
    },
    {
      "cell_type": "code",
      "source": [
        "print(tup.count(2))"
      ],
      "metadata": {
        "colab": {
          "base_uri": "https://localhost:8080/"
        },
        "id": "-Yh5HShzU6hW",
        "outputId": "56676f3d-3099-4b0d-996f-9e8e22d95af1"
      },
      "execution_count": 5,
      "outputs": [
        {
          "output_type": "stream",
          "name": "stdout",
          "text": [
            "1\n"
          ]
        }
      ]
    },
    {
      "cell_type": "code",
      "source": [
        "print(tup.index(4))"
      ],
      "metadata": {
        "colab": {
          "base_uri": "https://localhost:8080/"
        },
        "id": "L5lLq7VgVCC0",
        "outputId": "cd1a16f2-48a1-410a-a7d4-3428cc7eaf95"
      },
      "execution_count": 6,
      "outputs": [
        {
          "output_type": "stream",
          "name": "stdout",
          "text": [
            "3\n"
          ]
        }
      ]
    },
    {
      "cell_type": "markdown",
      "source": [
        "# Tuple in Python\n",
        "\n",
        "## Introduction\n",
        "A **tuple** is an immutable, ordered collection of elements in Python. Tuples are similar to lists but cannot be modified after creation. They are useful when you need to store data that should not change.\n",
        "\n",
        "## Features\n",
        "- **Immutable** – Elements cannot be changed, added, or removed.\n",
        "- **Ordered** – Elements maintain their original order.\n",
        "- **Heterogeneous** – Can contain different data types.\n",
        "- **Duplicates Allowed** – Tuples can have repeated values.\n",
        "- **Efficient** – Faster than lists for certain operations.\n",
        "\n",
        "## Creating a Tuple\n",
        "Tuples can be created using parentheses `()` or the `tuple()` function:\n",
        "```python\n",
        "# Creating tuples\n",
        "empty_tuple = ()\n",
        "single_element_tuple = (5,)  # Comma is necessary\n",
        "tuple1 = (1, 2, 3, \"Python\", 4.5)\n",
        "```\n",
        "\n",
        "## Accessing Elements\n",
        "Tuple elements can be accessed using indexing:\n",
        "```python\n",
        "tuple1 = (10, 20, 30, 40)\n",
        "print(tuple1[0])  # Output: 10\n",
        "print(tuple1[-1])  # Output: 40\n",
        "```\n",
        "\n",
        "## Tuple Operations\n",
        "Tuples support various operations:\n",
        "```python\n",
        "tuple1 = (1, 2, 3)\n",
        "tuple2 = (4, 5, 6)\n",
        "\n",
        "print(tuple1 + tuple2)  # Concatenation: (1, 2, 3, 4, 5, 6)\n",
        "print(tuple1 * 2)   # Repetition: (1, 2, 3, 1, 2, 3)\n",
        "print(3 in tuple1)  # Membership test: True\n",
        "print(len(tuple1))  # Length: 3\n",
        "```\n",
        "\n",
        "## Tuple Methods\n",
        "Tuples have limited built-in methods due to immutability:\n",
        "```python\n",
        "tuple1 = (1, 2, 3, 2, 2, 4)\n",
        "print(tuple1.count(2))  # Output: 3\n",
        "print(tuple1.index(3))  # Output: 2\n",
        "```\n",
        "\n",
        "## Tuple Unpacking\n",
        "```python\n",
        "a, b, c = (10, 20, 30)\n",
        "print(a)  # Output: 10\n",
        "print(b)  # Output: 20\n",
        "print(c)  # Output: 30\n",
        "```\n",
        "\n",
        "## Why Use Tuples?\n",
        "- Ensures data integrity by preventing modification.\n",
        "- More efficient than lists for read-only operations.\n",
        "- Can be used as dictionary keys (if containing only hashable elements).\n",
        "\n",
        "## Conclusion\n",
        "Tuples are a powerful way to store immutable sequences in Python. They provide performance benefits and ensure data integrity when modification is not required."
      ],
      "metadata": {
        "id": "S_Is_CqQf2Oo"
      }
    }
  ]
}
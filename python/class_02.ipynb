{
  "nbformat": 4,
  "nbformat_minor": 0,
  "metadata": {
    "colab": {
      "provenance": [],
      "authorship_tag": "ABX9TyN8zz6sl0ObKvlrCQ0cqIyb",
      "include_colab_link": true
    },
    "kernelspec": {
      "name": "python3",
      "display_name": "Python 3"
    },
    "language_info": {
      "name": "python"
    }
  },
  "cells": [
    {
      "cell_type": "markdown",
      "metadata": {
        "id": "view-in-github",
        "colab_type": "text"
      },
      "source": [
        "<a href=\"https://colab.research.google.com/github/Sunny-Janjua/data_analysis-/blob/main/class_02.ipynb\" target=\"_parent\"><img src=\"https://colab.research.google.com/assets/colab-badge.svg\" alt=\"Open In Colab\"/></a>"
      ]
    },
    {
      "cell_type": "code",
      "execution_count": 1,
      "metadata": {
        "colab": {
          "base_uri": "https://localhost:8080/"
        },
        "id": "DESP9BP7NF3Z",
        "outputId": "7073b4b5-4f90-4b11-fb9e-8a25e6a6cbb8"
      },
      "outputs": [
        {
          "output_type": "stream",
          "name": "stdout",
          "text": [
            "3323\n",
            "44343.43\n",
            "Sunny-Janjua\n",
            "True\n",
            "<class 'int'>\n",
            "<class 'float'>\n",
            "<class 'str'>\n",
            "<class 'bool'>\n"
          ]
        }
      ],
      "source": [
        "num=3323\n",
        "num1=44343.43\n",
        "string=\"Sunny-Janjua\"\n",
        "boolean=True\n",
        "print(num)\n",
        "print(num1)\n",
        "print(string)\n",
        "print(boolean)\n",
        "print(type(num))\n",
        "print(type(num1))\n",
        "print(type(string))\n",
        "print(type(boolean))"
      ]
    },
    {
      "cell_type": "code",
      "source": [
        "string=\"code with sunny\"\n",
        "print(string[0])\n",
        "print(string[1])\n",
        "print(string[2])\n",
        "print(string[4])"
      ],
      "metadata": {
        "colab": {
          "base_uri": "https://localhost:8080/"
        },
        "id": "DGpbukYENR5j",
        "outputId": "0cacc52c-bf4b-4b26-94b9-a472d5738350"
      },
      "execution_count": 2,
      "outputs": [
        {
          "output_type": "stream",
          "name": "stdout",
          "text": [
            "c\n",
            "o\n",
            "d\n",
            " \n"
          ]
        }
      ]
    },
    {
      "cell_type": "code",
      "source": [
        "print(string)\n",
        "print(string.capitalize())"
      ],
      "metadata": {
        "colab": {
          "base_uri": "https://localhost:8080/"
        },
        "id": "G9bfw2hbNe96",
        "outputId": "d5b71fc5-7a49-4378-98f6-6536ad571fec"
      },
      "execution_count": 4,
      "outputs": [
        {
          "output_type": "stream",
          "name": "stdout",
          "text": [
            "code with sunny\n",
            "Code with sunny\n"
          ]
        }
      ]
    },
    {
      "cell_type": "code",
      "source": [
        "print(string)\n",
        "print(string.upper())"
      ],
      "metadata": {
        "colab": {
          "base_uri": "https://localhost:8080/"
        },
        "id": "vAx7z8CaNtW-",
        "outputId": "c06100f4-0d83-4d04-fc94-849595fb7a35"
      },
      "execution_count": 5,
      "outputs": [
        {
          "output_type": "stream",
          "name": "stdout",
          "text": [
            "code with sunny\n",
            "CODE WITH SUNNY\n"
          ]
        }
      ]
    },
    {
      "cell_type": "code",
      "source": [
        "print(string)\n",
        "print(string.lower())"
      ],
      "metadata": {
        "colab": {
          "base_uri": "https://localhost:8080/"
        },
        "id": "gUfP4xGHN1k2",
        "outputId": "dedb0478-8409-47d4-cf03-af5459b4651e"
      },
      "execution_count": 6,
      "outputs": [
        {
          "output_type": "stream",
          "name": "stdout",
          "text": [
            "code with sunny\n",
            "code with sunny\n"
          ]
        }
      ]
    },
    {
      "cell_type": "code",
      "source": [
        "print(string)\n",
        "print(string.islower())"
      ],
      "metadata": {
        "colab": {
          "base_uri": "https://localhost:8080/"
        },
        "id": "LabbraJsN5cM",
        "outputId": "2c307dc0-c835-4945-d4bf-029591e61b29"
      },
      "execution_count": 7,
      "outputs": [
        {
          "output_type": "stream",
          "name": "stdout",
          "text": [
            "code with sunny\n",
            "True\n"
          ]
        }
      ]
    },
    {
      "cell_type": "code",
      "source": [
        "print(string)\n",
        "print(string.isupper())"
      ],
      "metadata": {
        "colab": {
          "base_uri": "https://localhost:8080/"
        },
        "id": "819LcyyXOALD",
        "outputId": "077382cd-8695-4219-ecaa-e006be5c52ed"
      },
      "execution_count": 9,
      "outputs": [
        {
          "output_type": "stream",
          "name": "stdout",
          "text": [
            "code with sunny\n",
            "False\n"
          ]
        }
      ]
    },
    {
      "cell_type": "code",
      "source": [
        "print(string)\n",
        "print(string.title())"
      ],
      "metadata": {
        "colab": {
          "base_uri": "https://localhost:8080/"
        },
        "id": "pbe5YQhUOGjp",
        "outputId": "e45fa3e7-be0a-4bb6-9f0b-607b47972a82"
      },
      "execution_count": 10,
      "outputs": [
        {
          "output_type": "stream",
          "name": "stdout",
          "text": [
            "code with sunny\n",
            "Code With Sunny\n"
          ]
        }
      ]
    },
    {
      "cell_type": "code",
      "source": [
        "print(string)\n",
        "print(string.find(\"sunny\"))"
      ],
      "metadata": {
        "colab": {
          "base_uri": "https://localhost:8080/"
        },
        "id": "uIixOET8OSec",
        "outputId": "f7db84eb-ace4-4d7c-a649-ad23d3cd05fc"
      },
      "execution_count": 12,
      "outputs": [
        {
          "output_type": "stream",
          "name": "stdout",
          "text": [
            "code with sunny\n",
            "10\n"
          ]
        }
      ]
    },
    {
      "cell_type": "code",
      "source": [
        "print(string)\n",
        "print(string.replace(\"sunny\",\"hussnain mulazam\"))"
      ],
      "metadata": {
        "colab": {
          "base_uri": "https://localhost:8080/"
        },
        "id": "P_2BIQjMOZ9p",
        "outputId": "ec42abef-d950-49c1-c102-eea037e6faba"
      },
      "execution_count": 13,
      "outputs": [
        {
          "output_type": "stream",
          "name": "stdout",
          "text": [
            "code with sunny\n",
            "code with hussnain mulazam\n"
          ]
        }
      ]
    },
    {
      "cell_type": "code",
      "source": [
        "print(string)\n",
        "print(string.count(\"sunny\"))"
      ],
      "metadata": {
        "colab": {
          "base_uri": "https://localhost:8080/"
        },
        "id": "ut2iyFZdOyek",
        "outputId": "79450daf-233f-49a7-8b0a-1f18794a827a"
      },
      "execution_count": 15,
      "outputs": [
        {
          "output_type": "stream",
          "name": "stdout",
          "text": [
            "code with sunny\n",
            "1\n"
          ]
        }
      ]
    },
    {
      "cell_type": "code",
      "source": [
        "print(string)\n",
        "print(string.strip())"
      ],
      "metadata": {
        "colab": {
          "base_uri": "https://localhost:8080/"
        },
        "id": "OTGMYUMSO5z8",
        "outputId": "9524262d-9c17-4d26-a6cc-948eec759a29"
      },
      "execution_count": 16,
      "outputs": [
        {
          "output_type": "stream",
          "name": "stdout",
          "text": [
            "code with sunny\n",
            "code with sunny\n"
          ]
        }
      ]
    },
    {
      "cell_type": "code",
      "source": [
        "print(string)\n",
        "print(string.find(\"sunny\"))"
      ],
      "metadata": {
        "colab": {
          "base_uri": "https://localhost:8080/"
        },
        "id": "dQCgtphPPFy7",
        "outputId": "ff872714-c474-453e-e0ca-333c1c2f8f6d"
      },
      "execution_count": 17,
      "outputs": [
        {
          "output_type": "stream",
          "name": "stdout",
          "text": [
            "code with sunny\n",
            "10\n"
          ]
        }
      ]
    },
    {
      "cell_type": "markdown",
      "source": [
        "# 📌 Python String Methods 🔤🐍\n",
        "\n",
        "## **1️⃣ String Basics**\n",
        "Strings in Python are sequences of characters enclosed in single (`'`), double (`\"`), or triple (`''' \"\"\"`') quotes.\n",
        "\n",
        "```python\n",
        "string1 = 'Hello, Sunny!'\n",
        "string2 = \"Python is amazing!\"\n",
        "string3 = '''Multi-line\n",
        "String Example'''\n",
        "```\n",
        "\n",
        "---\n",
        "\n",
        "## **2️⃣ Common String Methods**\n",
        "\n",
        "### **🔹 Changing Case**\n",
        "```python\n",
        "text = \"Hello World\"\n",
        "print(text.upper())  # HELLO WORLD\n",
        "print(text.lower())  # hello world\n",
        "print(text.title())  # Hello World\n",
        "print(text.capitalize())  # Hello world\n",
        "print(text.swapcase())  # hELLO wORLD\n",
        "```\n",
        "\n",
        "### **🔹 Checking String Properties**\n",
        "```python\n",
        "print(\"abc123\".isalnum())  # True (Alphanumeric)\n",
        "print(\"Python\".isalpha())  # True (Only letters)\n",
        "print(\"123\".isdigit())  # True (Only digits)\n",
        "print(\"    \".isspace())  # True (Only spaces)\n",
        "print(\"Sunny\".islower())  # False (Contains uppercase)\n",
        "print(\"HELLO\".isupper())  # True (All uppercase)\n",
        "```\n",
        "\n",
        "### **🔹 Finding and Replacing Substrings**\n",
        "```python\n",
        "text = \"Python is fun\"\n",
        "print(text.find(\"is\"))  # 7 (Index of substring)\n",
        "print(text.replace(\"fun\", \"awesome\"))  # Python is awesome\n",
        "```\n",
        "\n",
        "### **🔹 Splitting and Joining Strings**\n",
        "```python\n",
        "text = \"apple,banana,grape\"\n",
        "words = text.split(\",\")  # ['apple', 'banana', 'grape']\n",
        "print(\" - \".join(words))  # apple - banana - grape\n",
        "```\n",
        "\n",
        "### **🔹 Stripping Whitespace**\n",
        "```python\n",
        "text = \"  Python  \"\n",
        "print(text.strip())  # 'Python'\n",
        "print(text.lstrip())  # 'Python  '\n",
        "print(text.rstrip())  # '  Python'\n",
        "```\n",
        "\n",
        "### **🔹 String Formatting**\n",
        "```python\n",
        "name = \"Sunny\"\n",
        "age = 22\n",
        "print(f\"My name is {name} and I am {age} years old.\")\n",
        "```\n",
        "\n",
        "---\n",
        "\n",
        "## **3️⃣ Escape Sequences**\n",
        "```python\n",
        "print(\"Sunny\\'s Laptop\")  # Sunny's Laptop\n",
        "print(\"Hello\\nWorld\")  # New line\n",
        "print(\"Hello\\tWorld\")  # Tab space\n",
        "```\n",
        "\n",
        "---\n",
        "\n",
        "## **4️⃣ String Indexing & Slicing**\n",
        "```python\n",
        "text = \"Data Science\"\n",
        "print(text[0])  # D\n",
        "print(text[-1])  # e\n",
        "print(text[0:4])  # Data\n",
        "print(text[::-1])  # Reverse string\n",
        "```\n",
        "\n",
        "---\n",
        "\n",
        "## **🚀 Want More?**\n",
        "Let me know if you need more string-related content! 😊\n"
      ],
      "metadata": {
        "id": "pUjFmETqPnhX"
      }
    },
    {
      "cell_type": "code",
      "source": [
        "mylist=[233,34,554,344,55,45,34,45,45,3,44,55,45,34,42,3,344,3,4342,3]\n",
        "print(mylist)"
      ],
      "metadata": {
        "colab": {
          "base_uri": "https://localhost:8080/"
        },
        "id": "eU9onLH2PViL",
        "outputId": "37fb5ce5-33de-427b-dae2-085db5459cdc"
      },
      "execution_count": 18,
      "outputs": [
        {
          "output_type": "stream",
          "name": "stdout",
          "text": [
            "[233, 34, 554, 344, 55, 45, 34, 45, 45, 3, 44, 55, 45, 34, 42, 3, 344, 3, 4342, 3]\n"
          ]
        }
      ]
    },
    {
      "cell_type": "code",
      "source": [
        "print(mylist[0])\n",
        "print(mylist[1])\n",
        "print(mylist[2])\n",
        "print(mylist[3])\n",
        "print(mylist[4])\n",
        "print(mylist[5])\n",
        "print(mylist[6])\n",
        "print(mylist[7])\n",
        "print(mylist[8])\n",
        "print(mylist[8])\n",
        "print(mylist[9])\n",
        "print(mylist[10])"
      ],
      "metadata": {
        "colab": {
          "base_uri": "https://localhost:8080/"
        },
        "id": "YCRGAdj0QTPg",
        "outputId": "074eb91f-1e41-4f71-f56d-0d6661bb26b2"
      },
      "execution_count": 19,
      "outputs": [
        {
          "output_type": "stream",
          "name": "stdout",
          "text": [
            "233\n",
            "34\n",
            "554\n",
            "344\n",
            "55\n",
            "45\n",
            "34\n",
            "45\n",
            "45\n",
            "45\n",
            "3\n",
            "44\n"
          ]
        }
      ]
    },
    {
      "cell_type": "code",
      "source": [
        "for i in mylist:\n",
        "  print(f\"my list number is {i}\")"
      ],
      "metadata": {
        "colab": {
          "base_uri": "https://localhost:8080/"
        },
        "id": "O-KZrAXhQlz3",
        "outputId": "198fcbbc-2eee-46b9-9567-75c47285832a"
      },
      "execution_count": 20,
      "outputs": [
        {
          "output_type": "stream",
          "name": "stdout",
          "text": [
            "my list number is 233\n",
            "my list number is 34\n",
            "my list number is 554\n",
            "my list number is 344\n",
            "my list number is 55\n",
            "my list number is 45\n",
            "my list number is 34\n",
            "my list number is 45\n",
            "my list number is 45\n",
            "my list number is 3\n",
            "my list number is 44\n",
            "my list number is 55\n",
            "my list number is 45\n",
            "my list number is 34\n",
            "my list number is 42\n",
            "my list number is 3\n",
            "my list number is 344\n",
            "my list number is 3\n",
            "my list number is 4342\n",
            "my list number is 3\n"
          ]
        }
      ]
    },
    {
      "cell_type": "code",
      "source": [
        "print(mylist)\n",
        "print(mylist.count(34))"
      ],
      "metadata": {
        "colab": {
          "base_uri": "https://localhost:8080/"
        },
        "id": "cSGSVYWSQsKj",
        "outputId": "b9173381-9513-4b25-ebc8-99651c8bfd21"
      },
      "execution_count": 21,
      "outputs": [
        {
          "output_type": "stream",
          "name": "stdout",
          "text": [
            "[233, 34, 554, 344, 55, 45, 34, 45, 45, 3, 44, 55, 45, 34, 42, 3, 344, 3, 4342, 3]\n",
            "3\n"
          ]
        }
      ]
    },
    {
      "cell_type": "code",
      "source": [
        "print(mylist)\n",
        "newlist=mylist.append(\"sunny janjua\")"
      ],
      "metadata": {
        "colab": {
          "base_uri": "https://localhost:8080/"
        },
        "id": "cIYD9qTbQ8No",
        "outputId": "47e99eb2-6dc6-4c8d-d1c8-e84e54d9e47f"
      },
      "execution_count": 24,
      "outputs": [
        {
          "output_type": "stream",
          "name": "stdout",
          "text": [
            "[233, 34, 554, 344, 55, 45, 34, 45, 45, 3, 44, 55, 45, 34, 42, 3, 344, 3, 4342, 3, 'sunny janjua', 'sunny janjua']\n"
          ]
        }
      ]
    },
    {
      "cell_type": "code",
      "source": [
        "print(mylist)\n",
        "print(mylist.pop())"
      ],
      "metadata": {
        "colab": {
          "base_uri": "https://localhost:8080/"
        },
        "id": "t5fS9t4lRETL",
        "outputId": "fc39ece0-8a2f-4173-e6aa-727748a70ffb"
      },
      "execution_count": 27,
      "outputs": [
        {
          "output_type": "stream",
          "name": "stdout",
          "text": [
            "[233, 34, 554, 344, 55, 45, 34, 45, 45, 3, 44, 55, 45, 34, 42, 3, 344, 3, 4342, 3, 'sunny janjua']\n",
            "sunny janjua\n"
          ]
        }
      ]
    },
    {
      "cell_type": "code",
      "source": [
        "print(mylist)"
      ],
      "metadata": {
        "colab": {
          "base_uri": "https://localhost:8080/"
        },
        "id": "xKYMImRjRZWh",
        "outputId": "422aec5c-7646-4918-c09c-a2da56fc4b14"
      },
      "execution_count": 28,
      "outputs": [
        {
          "output_type": "stream",
          "name": "stdout",
          "text": [
            "[233, 34, 554, 344, 55, 45, 34, 45, 45, 3, 44, 55, 45, 34, 42, 3, 344, 3, 4342, 3]\n"
          ]
        }
      ]
    },
    {
      "cell_type": "code",
      "source": [
        "print(mylist)\n",
        "newlist=mylist.remove(3)\n",
        "print(newlist)"
      ],
      "metadata": {
        "colab": {
          "base_uri": "https://localhost:8080/"
        },
        "id": "FMTcn7vNRkEv",
        "outputId": "8a9e1950-8a28-4fbc-ca95-7930e707c396"
      },
      "execution_count": 32,
      "outputs": [
        {
          "output_type": "stream",
          "name": "stdout",
          "text": [
            "[233, 34, 554, 344, 55, 45, 34, 45, 45, 3, 44, 55, 45, 34, 3, 344, 3, 4342, 3]\n",
            "None\n"
          ]
        }
      ]
    },
    {
      "cell_type": "code",
      "source": [
        "print(mylist)"
      ],
      "metadata": {
        "colab": {
          "base_uri": "https://localhost:8080/"
        },
        "id": "WpfKebdxRvW-",
        "outputId": "d413d93c-4bc1-4b79-c37f-b91345bc9538"
      },
      "execution_count": 33,
      "outputs": [
        {
          "output_type": "stream",
          "name": "stdout",
          "text": [
            "[233, 34, 554, 344, 55, 45, 34, 45, 45, 44, 55, 45, 34, 3, 344, 3, 4342, 3]\n"
          ]
        }
      ]
    },
    {
      "cell_type": "code",
      "source": [
        "print(mylist)\n",
        "newlist=mylist.reverse()\n",
        "print(newlist)"
      ],
      "metadata": {
        "colab": {
          "base_uri": "https://localhost:8080/"
        },
        "id": "M_0kt2yWSCu2",
        "outputId": "cbf56d9d-7772-48fa-8e09-9ecef6234664"
      },
      "execution_count": 34,
      "outputs": [
        {
          "output_type": "stream",
          "name": "stdout",
          "text": [
            "[233, 34, 554, 344, 55, 45, 34, 45, 45, 44, 55, 45, 34, 3, 344, 3, 4342, 3]\n",
            "None\n"
          ]
        }
      ]
    },
    {
      "cell_type": "code",
      "source": [
        "print(mylist)"
      ],
      "metadata": {
        "colab": {
          "base_uri": "https://localhost:8080/"
        },
        "id": "byXMUlk6SGOS",
        "outputId": "2dd1f7c1-b4ea-4cf9-e8fc-5c090a81df92"
      },
      "execution_count": 35,
      "outputs": [
        {
          "output_type": "stream",
          "name": "stdout",
          "text": [
            "[3, 4342, 3, 344, 3, 34, 45, 55, 44, 45, 45, 34, 45, 55, 344, 554, 34, 233]\n"
          ]
        }
      ]
    },
    {
      "cell_type": "code",
      "source": [
        "print(mylist.index(3))"
      ],
      "metadata": {
        "colab": {
          "base_uri": "https://localhost:8080/"
        },
        "id": "98iQFbm9SJD8",
        "outputId": "a4653505-8f84-4135-b69e-a36ca2dddcb9"
      },
      "execution_count": 36,
      "outputs": [
        {
          "output_type": "stream",
          "name": "stdout",
          "text": [
            "0\n"
          ]
        }
      ]
    },
    {
      "cell_type": "code",
      "source": [
        "mylist.sort()\n",
        "print(mylist)"
      ],
      "metadata": {
        "colab": {
          "base_uri": "https://localhost:8080/"
        },
        "id": "T3GF9T1jSOUH",
        "outputId": "cf601345-a329-4bd7-b52e-90ee1db9b294"
      },
      "execution_count": 38,
      "outputs": [
        {
          "output_type": "stream",
          "name": "stdout",
          "text": [
            "[3, 3, 3, 34, 34, 34, 44, 45, 45, 45, 45, 55, 55, 233, 344, 344, 554, 4342]\n"
          ]
        }
      ]
    },
    {
      "cell_type": "code",
      "source": [
        "newlistis=[\"code with sunny janjua\",\"hello world\"]\n",
        "mylist.extend(newlistis)\n",
        "print(mylist)"
      ],
      "metadata": {
        "colab": {
          "base_uri": "https://localhost:8080/"
        },
        "id": "wbTKu4n7SUq7",
        "outputId": "aa225915-3fef-4834-c6d9-95a709f50706"
      },
      "execution_count": 42,
      "outputs": [
        {
          "output_type": "stream",
          "name": "stdout",
          "text": [
            "[3, 3, 3, 34, 34, 34, 44, 45, 45, 45, 45, 55, 55, 233, 344, 344, 554, 4342, 'code with sunny janjua', 'code with sunny janjua', 'code with sunny janjua', 'hello world', 'code with sunny janjua', 'hello world']\n"
          ]
        }
      ]
    },
    {
      "cell_type": "markdown",
      "source": [
        "# 📌 Python String & List Methods 🔤🐍\n",
        "\n",
        "## **1️⃣ What is a List?**\n",
        "A **list** is a collection of ordered, mutable, and heterogeneous elements (can store different data types).\n",
        "\n",
        "```python\n",
        "my_list = [1, \"Sunny\", 3.14, True]\n",
        "print(my_list)  # [1, 'Sunny', 3.14, True]\n",
        "```\n",
        "\n",
        "---\n",
        "\n",
        "## **2️⃣ List Methods**\n",
        "\n",
        "### **🔹 Adding Elements**\n",
        "```python\n",
        "lst = [1, 2, 3]\n",
        "lst.append(4)  # Adds 4 at the end\n",
        "lst.insert(1, 10)  # Inserts 10 at index 1\n",
        "lst.extend([5, 6])  # Extends list with another list\n",
        "print(lst)  # [1, 10, 2, 3, 4, 5, 6]\n",
        "```\n",
        "\n",
        "### **🔹 Removing Elements**\n",
        "```python\n",
        "lst = [1, 2, 3, 4, 5]\n",
        "lst.remove(3)  # Removes first occurrence of 3\n",
        "lst.pop()  # Removes last element\n",
        "lst.pop(1)  # Removes element at index 1\n",
        "lst.clear()  # Clears the list\n",
        "print(lst)  # []\n",
        "```\n",
        "\n",
        "### **🔹 Sorting & Reversing**\n",
        "```python\n",
        "nums = [3, 1, 4, 1, 5, 9]\n",
        "nums.sort()  # Sorts in ascending order\n",
        "nums.sort(reverse=True)  # Sorts in descending order\n",
        "nums.reverse()  # Reverses the list\n",
        "```\n",
        "\n",
        "### **🔹 Finding Elements**\n",
        "```python\n",
        "lst = [10, 20, 30, 40]\n",
        "print(lst.index(30))  # Returns index of 30 (2)\n",
        "print(lst.count(20))  # Counts occurrences of 20 (1)\n",
        "```\n",
        "\n",
        "### **🔹 Copying a List**\n",
        "```python\n",
        "lst = [1, 2, 3]\n",
        "copied_lst = lst.copy()\n",
        "print(copied_lst)  # [1, 2, 3]\n",
        "```\n",
        "\n",
        "### **🔹 List Comprehension**\n",
        "```python\n",
        "squares = [x**2 for x in range(5)]\n",
        "print(squares)  # [0, 1, 4, 9, 16]\n",
        "```\n",
        "\n",
        "---\n",
        "\n",
        "## **3️⃣ String Methods**\n",
        "\n",
        "### **🔹 Changing Case**\n",
        "```python\n",
        "text = \"Hello World\"\n",
        "print(text.upper())  # HELLO WORLD\n",
        "print(text.lower())  # hello world\n",
        "print(text.title())  # Hello World\n",
        "print(text.capitalize())  # Hello world\n",
        "print(text.swapcase())  # hELLO wORLD\n",
        "```\n",
        "\n",
        "### **🔹 Checking String Properties**\n",
        "```python\n",
        "print(\"abc123\".isalnum())  # True (Alphanumeric)\n",
        "print(\"Python\".isalpha())  # True (Only letters)\n",
        "print(\"123\".isdigit())  # True (Only digits)\n",
        "print(\"    \".isspace())  # True (Only spaces)\n",
        "print(\"Sunny\".islower())  # False (Contains uppercase)\n",
        "print(\"HELLO\".isupper())  # True (All uppercase)\n",
        "```\n",
        "\n",
        "### **🔹 Finding and Replacing Substrings**\n",
        "```python\n",
        "text = \"Python is fun\"\n",
        "print(text.find(\"is\"))  # 7 (Index of substring)\n",
        "print(text.replace(\"fun\", \"awesome\"))  # Python is awesome\n",
        "```\n",
        "\n",
        "### **🔹 Splitting and Joining Strings**\n",
        "```python\n",
        "text = \"apple,banana,grape\"\n",
        "words = text.split(\",\")  # ['apple', 'banana', 'grape']\n",
        "print(\" - \".join(words))  # apple - banana - grape\n",
        "```\n",
        "\n",
        "### **🔹 Stripping Whitespace**\n",
        "```python\n",
        "text = \"  Python  \"\n",
        "print(text.strip())  # 'Python'\n",
        "print(text.lstrip())  # 'Python  '\n",
        "print(text.rstrip())  # '  Python'\n",
        "```\n",
        "\n",
        "### **🔹 String Formatting**\n",
        "```python\n",
        "name = \"Sunny\"\n",
        "age = 22\n",
        "print(f\"My name is {name} and I am {age} years old.\")\n",
        "```\n",
        "\n",
        "---\n",
        "\n",
        "## **4️⃣ Escape Sequences**\n",
        "```python\n",
        "print(\"Sunny\\'s Laptop\")  # Sunny's Laptop\n",
        "print(\"Hello\\nWorld\")  # New line\n",
        "print(\"Hello\\tWorld\")  # Tab space\n",
        "```\n",
        "\n",
        "---\n",
        "\n",
        "## **5️⃣ String Indexing & Slicing**\n",
        "```python\n",
        "text = \"Data Science\"\n",
        "print(text[0])  # D\n",
        "print(text[-1])  # e\n",
        "print(text[0:4])  # Data\n",
        "print(text[::-1])  # Reverse string\n",
        "```\n",
        "\n",
        "---\n",
        "\n",
        "## **🚀 Want More?**\n",
        "Let me know if you need more list or string-related content! 😊"
      ],
      "metadata": {
        "id": "73XqlrB1TJjw"
      }
    }
  ]
}
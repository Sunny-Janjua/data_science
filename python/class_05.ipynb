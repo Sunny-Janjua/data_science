{
  "nbformat": 4,
  "nbformat_minor": 0,
  "metadata": {
    "colab": {
      "provenance": [],
      "authorship_tag": "ABX9TyNqJh/eZy1o8VR8ybPip26F",
      "include_colab_link": true
    },
    "kernelspec": {
      "name": "python3",
      "display_name": "Python 3"
    },
    "language_info": {
      "name": "python"
    }
  },
  "cells": [
    {
      "cell_type": "markdown",
      "metadata": {
        "id": "view-in-github",
        "colab_type": "text"
      },
      "source": [
        "<a href=\"https://colab.research.google.com/github/Sunny-Janjua/data_analysis-/blob/main/class_05.ipynb\" target=\"_parent\"><img src=\"https://colab.research.google.com/assets/colab-badge.svg\" alt=\"Open In Colab\"/></a>"
      ]
    },
    {
      "cell_type": "code",
      "execution_count": 1,
      "metadata": {
        "id": "1ToDtV8r6x-l"
      },
      "outputs": [],
      "source": [
        "import numpy as np"
      ]
    },
    {
      "cell_type": "code",
      "source": [
        "array=np.array([1,2,3,4,5])"
      ],
      "metadata": {
        "id": "QHAm8vQO64qs"
      },
      "execution_count": 2,
      "outputs": []
    },
    {
      "cell_type": "code",
      "source": [
        "array"
      ],
      "metadata": {
        "colab": {
          "base_uri": "https://localhost:8080/"
        },
        "id": "5zdbVbP86-Gp",
        "outputId": "ca1a5c4e-676c-4ec4-e296-cb65ee66ab3a"
      },
      "execution_count": 3,
      "outputs": [
        {
          "output_type": "execute_result",
          "data": {
            "text/plain": [
              "array([1, 2, 3, 4, 5])"
            ]
          },
          "metadata": {},
          "execution_count": 3
        }
      ]
    },
    {
      "cell_type": "code",
      "source": [
        "array.shape"
      ],
      "metadata": {
        "colab": {
          "base_uri": "https://localhost:8080/"
        },
        "id": "nenA0Elc6_KD",
        "outputId": "4c603430-0e3a-40e8-f0ed-8e5cdc72f83e"
      },
      "execution_count": 5,
      "outputs": [
        {
          "output_type": "execute_result",
          "data": {
            "text/plain": [
              "(5,)"
            ]
          },
          "metadata": {},
          "execution_count": 5
        }
      ]
    },
    {
      "cell_type": "code",
      "source": [
        "array.size"
      ],
      "metadata": {
        "colab": {
          "base_uri": "https://localhost:8080/"
        },
        "id": "AZ5yhWmR7HKF",
        "outputId": "9a33c345-736e-4dee-c4fe-f21a8913d647"
      },
      "execution_count": 6,
      "outputs": [
        {
          "output_type": "execute_result",
          "data": {
            "text/plain": [
              "5"
            ]
          },
          "metadata": {},
          "execution_count": 6
        }
      ]
    },
    {
      "cell_type": "code",
      "source": [
        "array.dtype"
      ],
      "metadata": {
        "colab": {
          "base_uri": "https://localhost:8080/"
        },
        "id": "YuOV6zub7Mwv",
        "outputId": "6b163c39-aae7-43c1-f917-8f46406af284"
      },
      "execution_count": 7,
      "outputs": [
        {
          "output_type": "execute_result",
          "data": {
            "text/plain": [
              "dtype('int64')"
            ]
          },
          "metadata": {},
          "execution_count": 7
        }
      ]
    },
    {
      "cell_type": "code",
      "source": [
        "array=np.zeros((5,5))"
      ],
      "metadata": {
        "id": "eW9HS2vX7QWg"
      },
      "execution_count": 11,
      "outputs": []
    },
    {
      "cell_type": "code",
      "source": [
        "array=np.array([1,2,3,4,5,6,7,8])"
      ],
      "metadata": {
        "id": "P3KoEwj37ZaJ"
      },
      "execution_count": 12,
      "outputs": []
    },
    {
      "cell_type": "code",
      "source": [
        "array"
      ],
      "metadata": {
        "colab": {
          "base_uri": "https://localhost:8080/"
        },
        "id": "rEy1kX-7834Y",
        "outputId": "e6e7f159-2479-487a-841a-98fa1756eea7"
      },
      "execution_count": 13,
      "outputs": [
        {
          "output_type": "execute_result",
          "data": {
            "text/plain": [
              "array([1, 2, 3, 4, 5, 6, 7, 8])"
            ]
          },
          "metadata": {},
          "execution_count": 13
        }
      ]
    },
    {
      "cell_type": "code",
      "source": [
        "newarray=np.zeros((5,5))"
      ],
      "metadata": {
        "id": "ql2e_8EQ8463"
      },
      "execution_count": 14,
      "outputs": []
    },
    {
      "cell_type": "code",
      "source": [
        "newarray"
      ],
      "metadata": {
        "colab": {
          "base_uri": "https://localhost:8080/"
        },
        "id": "eXpTI4Fk8_r3",
        "outputId": "e791f2d1-1633-496b-c852-499772ef2ce9"
      },
      "execution_count": 15,
      "outputs": [
        {
          "output_type": "execute_result",
          "data": {
            "text/plain": [
              "array([[0., 0., 0., 0., 0.],\n",
              "       [0., 0., 0., 0., 0.],\n",
              "       [0., 0., 0., 0., 0.],\n",
              "       [0., 0., 0., 0., 0.],\n",
              "       [0., 0., 0., 0., 0.]])"
            ]
          },
          "metadata": {},
          "execution_count": 15
        }
      ]
    },
    {
      "cell_type": "code",
      "source": [
        "newarray=np.ones((5,5))"
      ],
      "metadata": {
        "id": "O0bCuxEn9BOt"
      },
      "execution_count": 16,
      "outputs": []
    },
    {
      "cell_type": "code",
      "source": [
        "newarray\n"
      ],
      "metadata": {
        "colab": {
          "base_uri": "https://localhost:8080/"
        },
        "id": "fkiXwBMy9NDa",
        "outputId": "c8523f99-ce90-4ce4-d873-e8f03d4fc9c6"
      },
      "execution_count": 17,
      "outputs": [
        {
          "output_type": "execute_result",
          "data": {
            "text/plain": [
              "array([[1., 1., 1., 1., 1.],\n",
              "       [1., 1., 1., 1., 1.],\n",
              "       [1., 1., 1., 1., 1.],\n",
              "       [1., 1., 1., 1., 1.],\n",
              "       [1., 1., 1., 1., 1.]])"
            ]
          },
          "metadata": {},
          "execution_count": 17
        }
      ]
    },
    {
      "cell_type": "code",
      "source": [
        "newarray=np.full((5,5),6)"
      ],
      "metadata": {
        "id": "9gMcqNkC9Olm"
      },
      "execution_count": 20,
      "outputs": []
    },
    {
      "cell_type": "code",
      "source": [
        "newarray"
      ],
      "metadata": {
        "colab": {
          "base_uri": "https://localhost:8080/"
        },
        "id": "ClgKno6K9dF-",
        "outputId": "3c7b4c21-5411-4fb7-de7b-7f394b5dfc5f"
      },
      "execution_count": 21,
      "outputs": [
        {
          "output_type": "execute_result",
          "data": {
            "text/plain": [
              "array([[6, 6, 6, 6, 6],\n",
              "       [6, 6, 6, 6, 6],\n",
              "       [6, 6, 6, 6, 6],\n",
              "       [6, 6, 6, 6, 6],\n",
              "       [6, 6, 6, 6, 6]])"
            ]
          },
          "metadata": {},
          "execution_count": 21
        }
      ]
    },
    {
      "cell_type": "code",
      "source": [
        "arr = np.array([1, 2, 3, 4, 5])\n",
        "print(arr)\n",
        "# Output: [1 2 3 4 5]\n"
      ],
      "metadata": {
        "colab": {
          "base_uri": "https://localhost:8080/"
        },
        "id": "RnAus_g79eM-",
        "outputId": "60628fac-1b3b-4665-fd94-603b4de9798f"
      },
      "execution_count": 23,
      "outputs": [
        {
          "output_type": "stream",
          "name": "stdout",
          "text": [
            "[1 2 3 4 5]\n"
          ]
        }
      ]
    },
    {
      "cell_type": "code",
      "source": [
        "zeros_arr = np.zeros((2, 3))  # 2x3 array\n",
        "print(zeros_arr)\n",
        "# Output: [[0. 0. 0.]\n",
        "#          [0. 0. 0.]]\n"
      ],
      "metadata": {
        "colab": {
          "base_uri": "https://localhost:8080/"
        },
        "id": "sml3JyLe-ONJ",
        "outputId": "a1b905b7-0816-49b3-c9ed-0b4933e36e70"
      },
      "execution_count": 24,
      "outputs": [
        {
          "output_type": "stream",
          "name": "stdout",
          "text": [
            "[[0. 0. 0.]\n",
            " [0. 0. 0.]]\n"
          ]
        }
      ]
    },
    {
      "cell_type": "code",
      "source": [
        "ones_arr = np.ones((3, 2))\n",
        "print(ones_arr)\n",
        "# Output: [[1. 1.]\n",
        "#          [1. 1.]\n",
        "#          [1. 1.]]\n"
      ],
      "metadata": {
        "colab": {
          "base_uri": "https://localhost:8080/"
        },
        "id": "6bMSUhEa-TUf",
        "outputId": "12b3a1d9-d9af-48f3-f207-2862b4ab097e"
      },
      "execution_count": 25,
      "outputs": [
        {
          "output_type": "stream",
          "name": "stdout",
          "text": [
            "[[1. 1.]\n",
            " [1. 1.]\n",
            " [1. 1.]]\n"
          ]
        }
      ]
    },
    {
      "cell_type": "code",
      "source": [
        "full_arr = np.full((2, 2), 7)\n",
        "print(full_arr)\n",
        "# Output: [[7 7]\n",
        "#          [7 7]]\n"
      ],
      "metadata": {
        "colab": {
          "base_uri": "https://localhost:8080/"
        },
        "id": "382w_tlB-VYr",
        "outputId": "a7354629-6198-4a3d-b22d-2a6435bc5156"
      },
      "execution_count": 26,
      "outputs": [
        {
          "output_type": "stream",
          "name": "stdout",
          "text": [
            "[[7 7]\n",
            " [7 7]]\n"
          ]
        }
      ]
    },
    {
      "cell_type": "code",
      "source": [
        "newarray=np.eye(10)"
      ],
      "metadata": {
        "id": "cq99O5Zf-XT2"
      },
      "execution_count": 27,
      "outputs": []
    },
    {
      "cell_type": "code",
      "source": [
        "newarray"
      ],
      "metadata": {
        "colab": {
          "base_uri": "https://localhost:8080/"
        },
        "id": "3fT8tMUM-oTa",
        "outputId": "ad4b85bf-3bdf-4277-a178-cfd360752d30"
      },
      "execution_count": 28,
      "outputs": [
        {
          "output_type": "execute_result",
          "data": {
            "text/plain": [
              "array([[1., 0., 0., 0., 0., 0., 0., 0., 0., 0.],\n",
              "       [0., 1., 0., 0., 0., 0., 0., 0., 0., 0.],\n",
              "       [0., 0., 1., 0., 0., 0., 0., 0., 0., 0.],\n",
              "       [0., 0., 0., 1., 0., 0., 0., 0., 0., 0.],\n",
              "       [0., 0., 0., 0., 1., 0., 0., 0., 0., 0.],\n",
              "       [0., 0., 0., 0., 0., 1., 0., 0., 0., 0.],\n",
              "       [0., 0., 0., 0., 0., 0., 1., 0., 0., 0.],\n",
              "       [0., 0., 0., 0., 0., 0., 0., 1., 0., 0.],\n",
              "       [0., 0., 0., 0., 0., 0., 0., 0., 1., 0.],\n",
              "       [0., 0., 0., 0., 0., 0., 0., 0., 0., 1.]])"
            ]
          },
          "metadata": {},
          "execution_count": 28
        }
      ]
    },
    {
      "cell_type": "code",
      "source": [
        "newarray=np.linspace(1,10,3)"
      ],
      "metadata": {
        "id": "y2GBCShf-pAS"
      },
      "execution_count": 31,
      "outputs": []
    },
    {
      "cell_type": "code",
      "source": [
        "newarray"
      ],
      "metadata": {
        "colab": {
          "base_uri": "https://localhost:8080/"
        },
        "id": "_m9Dpev6-wfG",
        "outputId": "da241ed1-c2fb-429b-dc98-bbf85e201faa"
      },
      "execution_count": 32,
      "outputs": [
        {
          "output_type": "execute_result",
          "data": {
            "text/plain": [
              "array([ 1. ,  5.5, 10. ])"
            ]
          },
          "metadata": {},
          "execution_count": 32
        }
      ]
    },
    {
      "cell_type": "code",
      "source": [
        "newarray=np.arange(1,10,2)"
      ],
      "metadata": {
        "id": "Ly0ebf2A-xke"
      },
      "execution_count": 33,
      "outputs": []
    },
    {
      "cell_type": "code",
      "source": [
        "newarray"
      ],
      "metadata": {
        "colab": {
          "base_uri": "https://localhost:8080/"
        },
        "id": "waLcsBkV_DGR",
        "outputId": "cbc53315-c4a9-4042-b7f6-7ba972c34a78"
      },
      "execution_count": 34,
      "outputs": [
        {
          "output_type": "execute_result",
          "data": {
            "text/plain": [
              "array([1, 3, 5, 7, 9])"
            ]
          },
          "metadata": {},
          "execution_count": 34
        }
      ]
    },
    {
      "cell_type": "code",
      "source": [
        "newarray=np.arange(0,10,2)"
      ],
      "metadata": {
        "id": "bqCR0y7f_EFN"
      },
      "execution_count": 35,
      "outputs": []
    },
    {
      "cell_type": "code",
      "source": [
        "newarray"
      ],
      "metadata": {
        "colab": {
          "base_uri": "https://localhost:8080/"
        },
        "id": "rk3kSttv_Jrc",
        "outputId": "8676df7e-2ef7-457f-a61e-67fefa6d4643"
      },
      "execution_count": 36,
      "outputs": [
        {
          "output_type": "execute_result",
          "data": {
            "text/plain": [
              "array([0, 2, 4, 6, 8])"
            ]
          },
          "metadata": {},
          "execution_count": 36
        }
      ]
    },
    {
      "cell_type": "code",
      "source": [
        "identity_matrix = np.eye(4)\n",
        "print(identity_matrix)\n",
        "# Output: [[1. 0. 0. 0.]\n",
        "#          [0. 1. 0. 0.]\n",
        "#          [0. 0. 1. 0.]\n",
        "#          [0. 0. 0. 1.]]\n"
      ],
      "metadata": {
        "colab": {
          "base_uri": "https://localhost:8080/"
        },
        "id": "o2j4rxbf_Ko_",
        "outputId": "78b4db21-7215-4577-f006-1845c63e9f18"
      },
      "execution_count": 37,
      "outputs": [
        {
          "output_type": "stream",
          "name": "stdout",
          "text": [
            "[[1. 0. 0. 0.]\n",
            " [0. 1. 0. 0.]\n",
            " [0. 0. 1. 0.]\n",
            " [0. 0. 0. 1.]]\n"
          ]
        }
      ]
    },
    {
      "cell_type": "code",
      "source": [
        "linspace_arr = np.linspace(0, 10, 5)\n",
        "print(linspace_arr)\n",
        "# Output: [ 0.   2.5  5.   7.5 10. ]\n"
      ],
      "metadata": {
        "colab": {
          "base_uri": "https://localhost:8080/"
        },
        "id": "z6DIgSOa_O8p",
        "outputId": "04198329-26db-4e5c-fb7f-af7a4ee341de"
      },
      "execution_count": 38,
      "outputs": [
        {
          "output_type": "stream",
          "name": "stdout",
          "text": [
            "[ 0.   2.5  5.   7.5 10. ]\n"
          ]
        }
      ]
    },
    {
      "cell_type": "code",
      "source": [
        "arange_arr = np.arange(0, 10, 2)\n",
        "print(arange_arr)\n",
        "# Output: [0 2 4 6 8]\n"
      ],
      "metadata": {
        "colab": {
          "base_uri": "https://localhost:8080/"
        },
        "id": "fDXoaqY2_Qy2",
        "outputId": "16d80fc0-8d25-415c-d799-f20eb0f18642"
      },
      "execution_count": 39,
      "outputs": [
        {
          "output_type": "stream",
          "name": "stdout",
          "text": [
            "[0 2 4 6 8]\n"
          ]
        }
      ]
    },
    {
      "cell_type": "code",
      "source": [
        "empty_arr = np.empty((2, 2))\n",
        "print(empty_arr)\n",
        "# Output: (Values uninitialized, could vary)\n"
      ],
      "metadata": {
        "colab": {
          "base_uri": "https://localhost:8080/"
        },
        "id": "0c0SHxn-_S9Z",
        "outputId": "80b12aed-a5f8-4607-e225-e217d3f1416e"
      },
      "execution_count": 40,
      "outputs": [
        {
          "output_type": "stream",
          "name": "stdout",
          "text": [
            "[[ 2.5  5. ]\n",
            " [ 7.5 10. ]]\n"
          ]
        }
      ]
    },
    {
      "cell_type": "code",
      "source": [
        "newarray=np.random.rand(4,4)"
      ],
      "metadata": {
        "id": "3QhXqH6F_U4u"
      },
      "execution_count": 42,
      "outputs": []
    },
    {
      "cell_type": "code",
      "source": [
        "newarray"
      ],
      "metadata": {
        "colab": {
          "base_uri": "https://localhost:8080/"
        },
        "id": "v6j8yv5NAXST",
        "outputId": "f69196bb-209c-421c-c1a3-ed4d84967b62"
      },
      "execution_count": 43,
      "outputs": [
        {
          "output_type": "execute_result",
          "data": {
            "text/plain": [
              "array([[0.32353471, 0.5598931 , 0.13774308, 0.1178006 ],\n",
              "       [0.80415533, 0.29348747, 0.98656438, 0.46227424],\n",
              "       [0.2794237 , 0.97217952, 0.23639214, 0.53705326],\n",
              "       [0.99936468, 0.75595612, 0.65294973, 0.79938184]])"
            ]
          },
          "metadata": {},
          "execution_count": 43
        }
      ]
    },
    {
      "cell_type": "code",
      "source": [
        "newarray=np.random.randn(5,5)"
      ],
      "metadata": {
        "id": "NtwLhwyxAbNb"
      },
      "execution_count": 46,
      "outputs": []
    },
    {
      "cell_type": "code",
      "source": [
        "newarray"
      ],
      "metadata": {
        "colab": {
          "base_uri": "https://localhost:8080/"
        },
        "id": "1TY9xXVZAjPS",
        "outputId": "a3c45918-6b38-4cca-f627-9f0bfea7e384"
      },
      "execution_count": 47,
      "outputs": [
        {
          "output_type": "execute_result",
          "data": {
            "text/plain": [
              "array([[ 0.94675161,  0.05565651,  0.17997319,  0.44325372, -0.42251657],\n",
              "       [-1.65667027, -0.85029128, -0.99079819,  0.87385867, -0.91753702],\n",
              "       [ 2.37721883,  0.75994195,  0.99079807, -0.46609683,  0.15344307],\n",
              "       [-0.37887344,  0.12780018, -0.50494537, -1.82124003,  0.49682674],\n",
              "       [-1.29378699, -0.88822464,  1.22464742,  1.31143936,  1.94615059]])"
            ]
          },
          "metadata": {},
          "execution_count": 47
        }
      ]
    },
    {
      "cell_type": "code",
      "source": [
        "newarray=np.random.randint(1,10,(5,5))"
      ],
      "metadata": {
        "id": "MjhKZ3oKAkRe"
      },
      "execution_count": 51,
      "outputs": []
    },
    {
      "cell_type": "code",
      "source": [
        "newarray"
      ],
      "metadata": {
        "colab": {
          "base_uri": "https://localhost:8080/"
        },
        "id": "9dEc6ZWAAta6",
        "outputId": "a6a12aa5-9773-43d1-8d87-2319fa205a4a"
      },
      "execution_count": 52,
      "outputs": [
        {
          "output_type": "execute_result",
          "data": {
            "text/plain": [
              "array([[1, 3, 1, 1, 5],\n",
              "       [2, 1, 5, 2, 4],\n",
              "       [7, 4, 2, 5, 5],\n",
              "       [6, 2, 1, 9, 7],\n",
              "       [3, 2, 1, 1, 4]])"
            ]
          },
          "metadata": {},
          "execution_count": 52
        }
      ]
    },
    {
      "cell_type": "code",
      "source": [
        "newarray=np.random.choice([1,2,3,4,5,6] , size=(5,5))"
      ],
      "metadata": {
        "id": "Tq1qgnbWAupz"
      },
      "execution_count": 53,
      "outputs": []
    },
    {
      "cell_type": "code",
      "source": [
        "newarray"
      ],
      "metadata": {
        "id": "Yf8r0ocbBFvC"
      },
      "execution_count": 60,
      "outputs": []
    },
    {
      "cell_type": "code",
      "source": [
        "newarray=np.random.shuffle([1,2,3,4,5,6])"
      ],
      "metadata": {
        "id": "27PvLbwABG0S"
      },
      "execution_count": 63,
      "outputs": []
    },
    {
      "cell_type": "code",
      "source": [
        "print(newarray)"
      ],
      "metadata": {
        "colab": {
          "base_uri": "https://localhost:8080/"
        },
        "id": "aNhqCFEYBSN3",
        "outputId": "3d2df0fb-9b01-47ed-8927-a1a034ff902d"
      },
      "execution_count": 64,
      "outputs": [
        {
          "output_type": "stream",
          "name": "stdout",
          "text": [
            "None\n"
          ]
        }
      ]
    },
    {
      "cell_type": "code",
      "source": [
        "shuffle_arr = np.array([1, 2, 3, 4, 5])\n",
        "np.random.shuffle(shuffle_arr)\n",
        "print(shuffle_arr)\n",
        "# Output: [4 5 2 1 3] (output varies)\n"
      ],
      "metadata": {
        "colab": {
          "base_uri": "https://localhost:8080/"
        },
        "id": "czt7ElbrBXf2",
        "outputId": "5e160b5a-19bd-45b9-8a5a-d7aa4d7f24bb"
      },
      "execution_count": 65,
      "outputs": [
        {
          "output_type": "stream",
          "name": "stdout",
          "text": [
            "[5 2 3 4 1]\n"
          ]
        }
      ]
    },
    {
      "cell_type": "code",
      "source": [
        "newarray=np.random.rand(4,4)"
      ],
      "metadata": {
        "id": "CpdoqJXUBuKP"
      },
      "execution_count": 67,
      "outputs": []
    },
    {
      "cell_type": "code",
      "source": [
        "newarray"
      ],
      "metadata": {
        "colab": {
          "base_uri": "https://localhost:8080/"
        },
        "id": "dL0BMTGVCHt9",
        "outputId": "822be79f-f7d9-4bcb-8ee3-0cbfa6001553"
      },
      "execution_count": 68,
      "outputs": [
        {
          "output_type": "execute_result",
          "data": {
            "text/plain": [
              "array([[0.52904831, 0.46790823, 0.8926184 , 0.33424094],\n",
              "       [0.8197487 , 0.59423674, 0.03364455, 0.19445261],\n",
              "       [0.13874775, 0.2990845 , 0.97233516, 0.03959863],\n",
              "       [0.58630452, 0.99715319, 0.34859654, 0.30163147]])"
            ]
          },
          "metadata": {},
          "execution_count": 68
        }
      ]
    },
    {
      "cell_type": "code",
      "source": [
        "newarray=np.random.randn(4,4)"
      ],
      "metadata": {
        "id": "CC22TU0mCMIo"
      },
      "execution_count": 69,
      "outputs": []
    },
    {
      "cell_type": "code",
      "source": [
        "newarray"
      ],
      "metadata": {
        "colab": {
          "base_uri": "https://localhost:8080/"
        },
        "id": "0_TebjlYCgwH",
        "outputId": "be78a9ff-a820-4043-e18b-115433a96c1b"
      },
      "execution_count": 70,
      "outputs": [
        {
          "output_type": "execute_result",
          "data": {
            "text/plain": [
              "array([[ 1.27590228, -0.24901693,  0.96804402,  0.6054628 ],\n",
              "       [ 0.35100882,  0.63011853, -0.54320048, -1.30315157],\n",
              "       [-0.1384426 ,  0.95605819, -0.62465253,  0.2742235 ],\n",
              "       [-1.45268291,  0.25575174, -0.34239281, -1.36105953]])"
            ]
          },
          "metadata": {},
          "execution_count": 70
        }
      ]
    },
    {
      "cell_type": "code",
      "source": [
        "newarray=np.random.randint(1,100,(6,4))"
      ],
      "metadata": {
        "id": "oaMF-Ns8Chz5"
      },
      "execution_count": 77,
      "outputs": []
    },
    {
      "cell_type": "code",
      "source": [
        "newarray"
      ],
      "metadata": {
        "colab": {
          "base_uri": "https://localhost:8080/"
        },
        "id": "1c6KxsHxC1X3",
        "outputId": "078f42a7-2388-4872-dcac-9bf334441362"
      },
      "execution_count": 78,
      "outputs": [
        {
          "output_type": "execute_result",
          "data": {
            "text/plain": [
              "array([[99, 63,  5, 30],\n",
              "       [99, 87, 94, 29],\n",
              "       [78, 66,  2, 21],\n",
              "       [48,  6, 85, 77],\n",
              "       [25, 54, 26, 76],\n",
              "       [84, 32, 37, 73]])"
            ]
          },
          "metadata": {},
          "execution_count": 78
        }
      ]
    },
    {
      "cell_type": "code",
      "source": [
        "newarray=np.random.choice([1,2,3,4,5,6,7,8,9,10] , size=(5,5))"
      ],
      "metadata": {
        "id": "M4W4OP13C2gG"
      },
      "execution_count": 79,
      "outputs": []
    },
    {
      "cell_type": "code",
      "source": [
        "newarray"
      ],
      "metadata": {
        "colab": {
          "base_uri": "https://localhost:8080/"
        },
        "id": "VpthzQCeDRko",
        "outputId": "722149aa-5ec1-4ebc-9fa6-29d3468aa8b1"
      },
      "execution_count": 80,
      "outputs": [
        {
          "output_type": "execute_result",
          "data": {
            "text/plain": [
              "array([[ 1,  9,  3,  8,  9],\n",
              "       [ 9,  7,  9,  1,  7],\n",
              "       [ 3,  6,  7,  8,  6],\n",
              "       [ 2,  7,  5,  1,  1],\n",
              "       [ 5,  1, 10,  8,  3]])"
            ]
          },
          "metadata": {},
          "execution_count": 80
        }
      ]
    },
    {
      "cell_type": "code",
      "source": [
        "random_arr = np.random.rand(2, 3)\n",
        "print(random_arr)\n",
        "# Output: [[0.5314654  0.56942428 0.92111345]\n",
        "#          [0.12859372 0.0137274  0.29803528]]\n"
      ],
      "metadata": {
        "colab": {
          "base_uri": "https://localhost:8080/"
        },
        "id": "QLXdA_zWDS4D",
        "outputId": "2531a53c-f7f7-4a13-99bd-024c86c81511"
      },
      "execution_count": 82,
      "outputs": [
        {
          "output_type": "stream",
          "name": "stdout",
          "text": [
            "[[0.22851578 0.18001057 0.01448634]\n",
            " [0.2949655  0.63681548 0.29926699]]\n"
          ]
        }
      ]
    },
    {
      "cell_type": "code",
      "source": [
        "random_int_arr = np.random.randint(1, 10, (3, 3))\n",
        "print(random_int_arr)\n",
        "# Output: [[8 3 1]\n",
        "#          [9 5 8]\n",
        "#          [1 5 2]]\n"
      ],
      "metadata": {
        "colab": {
          "base_uri": "https://localhost:8080/"
        },
        "id": "E3b2Wb4pDo-8",
        "outputId": "8f29dc5c-6b8f-4ae7-cfeb-ac7283ef22c5"
      },
      "execution_count": 83,
      "outputs": [
        {
          "output_type": "stream",
          "name": "stdout",
          "text": [
            "[[9 2 9]\n",
            " [8 4 2]\n",
            " [6 3 8]]\n"
          ]
        }
      ]
    },
    {
      "cell_type": "code",
      "source": [
        "random_normal_arr = np.random.randn(3, 3)\n",
        "print(random_normal_arr)\n",
        "# Output: [[-0.06281219  0.87939698 -0.0047966 ]\n",
        "#          [ 0.20440502 -0.17145988  0.47985034]\n",
        "#          [-0.29096073  1.39247374  0.4746671 ]]\n"
      ],
      "metadata": {
        "colab": {
          "base_uri": "https://localhost:8080/"
        },
        "id": "-fwt6vNKDsuc",
        "outputId": "d92679e3-f313-4309-ca5e-2b88c44eca3e"
      },
      "execution_count": 84,
      "outputs": [
        {
          "output_type": "stream",
          "name": "stdout",
          "text": [
            "[[-0.48204472  0.69978034  1.89258363]\n",
            " [-1.26615148 -0.77335629  0.58628842]\n",
            " [-1.52273335 -1.53011313 -0.08499433]]\n"
          ]
        }
      ]
    },
    {
      "cell_type": "code",
      "source": [
        "choice_arr = np.random.choice([1, 2, 3, 4, 5], size=3)\n",
        "print(choice_arr)\n",
        "# Output: [4 1 3] (output varies)\n"
      ],
      "metadata": {
        "colab": {
          "base_uri": "https://localhost:8080/"
        },
        "id": "bp675XghDvts",
        "outputId": "ffcc80be-d73a-492d-a069-54c846d2ded8"
      },
      "execution_count": 85,
      "outputs": [
        {
          "output_type": "stream",
          "name": "stdout",
          "text": [
            "[1 2 4]\n"
          ]
        }
      ]
    },
    {
      "cell_type": "code",
      "source": [
        "shuffle_arr = np.array([1, 2, 3, 4, 5])\n",
        "np.random.shuffle(shuffle_arr)\n",
        "print(shuffle_arr)\n",
        "# Output: [4 5 2 1 3] (output varies)\n"
      ],
      "metadata": {
        "colab": {
          "base_uri": "https://localhost:8080/"
        },
        "id": "0rlQ0oN3DyZz",
        "outputId": "b6cccca2-75d8-4210-ab85-1189a17e5c99"
      },
      "execution_count": 86,
      "outputs": [
        {
          "output_type": "stream",
          "name": "stdout",
          "text": [
            "[4 1 5 3 2]\n"
          ]
        }
      ]
    },
    {
      "cell_type": "code",
      "source": [
        "np.random.seed(42)\n",
        "random_seeded_arr = np.random.rand(2, 2)\n",
        "print(random_seeded_arr)\n",
        "# Output: [[0.37454012 0.95071431]\n",
        "#          [0.73199394 0.59865848]]\n"
      ],
      "metadata": {
        "colab": {
          "base_uri": "https://localhost:8080/"
        },
        "id": "ThenmSt7D1ma",
        "outputId": "1de26801-0849-45db-f2e5-b4393839e062"
      },
      "execution_count": 87,
      "outputs": [
        {
          "output_type": "stream",
          "name": "stdout",
          "text": [
            "[[0.37454012 0.95071431]\n",
            " [0.73199394 0.59865848]]\n"
          ]
        }
      ]
    }
  ]
}
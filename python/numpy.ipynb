{
  "nbformat": 4,
  "nbformat_minor": 0,
  "metadata": {
    "colab": {
      "provenance": [],
      "authorship_tag": "ABX9TyPGtyEu7V1FnPi+Q8dOHVeC",
      "include_colab_link": true
    },
    "kernelspec": {
      "name": "python3",
      "display_name": "Python 3"
    },
    "language_info": {
      "name": "python"
    }
  },
  "cells": [
    {
      "cell_type": "markdown",
      "metadata": {
        "id": "view-in-github",
        "colab_type": "text"
      },
      "source": [
        "<a href=\"https://colab.research.google.com/github/Sunny-Janjua/data_analysis-/blob/main/numpy.ipynb\" target=\"_parent\"><img src=\"https://colab.research.google.com/assets/colab-badge.svg\" alt=\"Open In Colab\"/></a>"
      ]
    },
    {
      "cell_type": "code",
      "execution_count": 1,
      "metadata": {
        "id": "uxTRHN8vhIT_"
      },
      "outputs": [],
      "source": [
        "import numpy as np"
      ]
    },
    {
      "cell_type": "code",
      "source": [
        "myarray=np.array([1,2,3,4,5,6,7,8,9,10])"
      ],
      "metadata": {
        "id": "Xc-TicthhgSo"
      },
      "execution_count": 2,
      "outputs": []
    },
    {
      "cell_type": "code",
      "source": [
        "print(myarray)"
      ],
      "metadata": {
        "colab": {
          "base_uri": "https://localhost:8080/"
        },
        "id": "QnTH2lhZhpZG",
        "outputId": "144063e5-20fb-40cf-88aa-bdd0f5e7d02f"
      },
      "execution_count": 3,
      "outputs": [
        {
          "output_type": "stream",
          "name": "stdout",
          "text": [
            "[ 1  2  3  4  5  6  7  8  9 10]\n"
          ]
        }
      ]
    },
    {
      "cell_type": "code",
      "source": [
        "myarray.size"
      ],
      "metadata": {
        "colab": {
          "base_uri": "https://localhost:8080/"
        },
        "id": "U2qq7u_5hrKI",
        "outputId": "58482ad2-ccd1-4cb8-db80-f5fd07aca1b2"
      },
      "execution_count": 5,
      "outputs": [
        {
          "output_type": "execute_result",
          "data": {
            "text/plain": [
              "10"
            ]
          },
          "metadata": {},
          "execution_count": 5
        }
      ]
    },
    {
      "cell_type": "code",
      "source": [
        "myarray.dtype"
      ],
      "metadata": {
        "colab": {
          "base_uri": "https://localhost:8080/"
        },
        "id": "s7W4OSEchvWR",
        "outputId": "3c5859d9-9747-453d-e841-04ff55483095"
      },
      "execution_count": 8,
      "outputs": [
        {
          "output_type": "execute_result",
          "data": {
            "text/plain": [
              "dtype('int64')"
            ]
          },
          "metadata": {},
          "execution_count": 8
        }
      ]
    },
    {
      "cell_type": "code",
      "source": [
        "myarray.max()"
      ],
      "metadata": {
        "colab": {
          "base_uri": "https://localhost:8080/"
        },
        "id": "nv9bRy8dhy70",
        "outputId": "55ab9cb4-8e3e-4da5-9172-4e4d412b2573"
      },
      "execution_count": 11,
      "outputs": [
        {
          "output_type": "execute_result",
          "data": {
            "text/plain": [
              "10"
            ]
          },
          "metadata": {},
          "execution_count": 11
        }
      ]
    },
    {
      "cell_type": "code",
      "source": [
        "myarray.min()"
      ],
      "metadata": {
        "colab": {
          "base_uri": "https://localhost:8080/"
        },
        "id": "ZsceT8UPh8l8",
        "outputId": "34c20cfe-0961-41bc-c8ee-65bf0a167e59"
      },
      "execution_count": 10,
      "outputs": [
        {
          "output_type": "execute_result",
          "data": {
            "text/plain": [
              "1"
            ]
          },
          "metadata": {},
          "execution_count": 10
        }
      ]
    },
    {
      "cell_type": "code",
      "source": [
        "print(myarray.sort())"
      ],
      "metadata": {
        "colab": {
          "base_uri": "https://localhost:8080/"
        },
        "id": "433l3uOih-ul",
        "outputId": "5ea17cdb-2f0e-4495-ea79-10c1c6552fa9"
      },
      "execution_count": 13,
      "outputs": [
        {
          "output_type": "stream",
          "name": "stdout",
          "text": [
            "None\n"
          ]
        }
      ]
    },
    {
      "cell_type": "code",
      "source": [
        "np.zeros((4,4))"
      ],
      "metadata": {
        "colab": {
          "base_uri": "https://localhost:8080/"
        },
        "id": "duDBJQCaiCPB",
        "outputId": "49d1b253-f1f6-420c-fd60-a9e1972bbba3"
      },
      "execution_count": 15,
      "outputs": [
        {
          "output_type": "execute_result",
          "data": {
            "text/plain": [
              "array([[0., 0., 0., 0.],\n",
              "       [0., 0., 0., 0.],\n",
              "       [0., 0., 0., 0.],\n",
              "       [0., 0., 0., 0.]])"
            ]
          },
          "metadata": {},
          "execution_count": 15
        }
      ]
    },
    {
      "cell_type": "code",
      "source": [
        "np.ones((5,5))"
      ],
      "metadata": {
        "colab": {
          "base_uri": "https://localhost:8080/"
        },
        "id": "fXL5yb4WiS8V",
        "outputId": "dc12d39a-0fee-4893-ed45-8304af3d36c5"
      },
      "execution_count": 16,
      "outputs": [
        {
          "output_type": "execute_result",
          "data": {
            "text/plain": [
              "array([[1., 1., 1., 1., 1.],\n",
              "       [1., 1., 1., 1., 1.],\n",
              "       [1., 1., 1., 1., 1.],\n",
              "       [1., 1., 1., 1., 1.],\n",
              "       [1., 1., 1., 1., 1.]])"
            ]
          },
          "metadata": {},
          "execution_count": 16
        }
      ]
    },
    {
      "cell_type": "code",
      "source": [
        "np.full((5,5),4)"
      ],
      "metadata": {
        "colab": {
          "base_uri": "https://localhost:8080/"
        },
        "id": "tjENVBsaiYQh",
        "outputId": "ddc4a085-b2c6-4db0-973c-cd74ab4ccc0d"
      },
      "execution_count": 17,
      "outputs": [
        {
          "output_type": "execute_result",
          "data": {
            "text/plain": [
              "array([[4, 4, 4, 4, 4],\n",
              "       [4, 4, 4, 4, 4],\n",
              "       [4, 4, 4, 4, 4],\n",
              "       [4, 4, 4, 4, 4],\n",
              "       [4, 4, 4, 4, 4]])"
            ]
          },
          "metadata": {},
          "execution_count": 17
        }
      ]
    },
    {
      "cell_type": "code",
      "source": [
        "myarray"
      ],
      "metadata": {
        "colab": {
          "base_uri": "https://localhost:8080/"
        },
        "id": "BEi8IVI6iet5",
        "outputId": "feaf668c-bfa2-4676-84a9-16908019fe1e"
      },
      "execution_count": 18,
      "outputs": [
        {
          "output_type": "execute_result",
          "data": {
            "text/plain": [
              "array([ 1,  2,  3,  4,  5,  6,  7,  8,  9, 10])"
            ]
          },
          "metadata": {},
          "execution_count": 18
        }
      ]
    },
    {
      "cell_type": "code",
      "source": [
        "myarray.sum()"
      ],
      "metadata": {
        "colab": {
          "base_uri": "https://localhost:8080/"
        },
        "id": "2RtuUwd0io_p",
        "outputId": "7d668f06-3d55-4496-9952-766efd2a8398"
      },
      "execution_count": 19,
      "outputs": [
        {
          "output_type": "execute_result",
          "data": {
            "text/plain": [
              "55"
            ]
          },
          "metadata": {},
          "execution_count": 19
        }
      ]
    },
    {
      "cell_type": "code",
      "source": [
        "np.eye(5)"
      ],
      "metadata": {
        "colab": {
          "base_uri": "https://localhost:8080/"
        },
        "id": "N7R_a9H6isWr",
        "outputId": "d4d3ad13-1e40-4a71-d95c-6c2f7fd8b8e2"
      },
      "execution_count": 20,
      "outputs": [
        {
          "output_type": "execute_result",
          "data": {
            "text/plain": [
              "array([[1., 0., 0., 0., 0.],\n",
              "       [0., 1., 0., 0., 0.],\n",
              "       [0., 0., 1., 0., 0.],\n",
              "       [0., 0., 0., 1., 0.],\n",
              "       [0., 0., 0., 0., 1.]])"
            ]
          },
          "metadata": {},
          "execution_count": 20
        }
      ]
    },
    {
      "cell_type": "code",
      "source": [
        "np.arange(40)"
      ],
      "metadata": {
        "colab": {
          "base_uri": "https://localhost:8080/"
        },
        "id": "EXoxVXYsi2yP",
        "outputId": "58e7ecbb-6e78-419a-d91f-720329006e5e"
      },
      "execution_count": 21,
      "outputs": [
        {
          "output_type": "execute_result",
          "data": {
            "text/plain": [
              "array([ 0,  1,  2,  3,  4,  5,  6,  7,  8,  9, 10, 11, 12, 13, 14, 15, 16,\n",
              "       17, 18, 19, 20, 21, 22, 23, 24, 25, 26, 27, 28, 29, 30, 31, 32, 33,\n",
              "       34, 35, 36, 37, 38, 39])"
            ]
          },
          "metadata": {},
          "execution_count": 21
        }
      ]
    },
    {
      "cell_type": "code",
      "source": [
        "np.linspace(0,10,5)"
      ],
      "metadata": {
        "colab": {
          "base_uri": "https://localhost:8080/"
        },
        "id": "bdZYTYJBi7QE",
        "outputId": "50312828-9874-4882-8c27-1e5a94eb18a5"
      },
      "execution_count": 22,
      "outputs": [
        {
          "output_type": "execute_result",
          "data": {
            "text/plain": [
              "array([ 0. ,  2.5,  5. ,  7.5, 10. ])"
            ]
          },
          "metadata": {},
          "execution_count": 22
        }
      ]
    },
    {
      "cell_type": "code",
      "source": [
        "np.random.random()"
      ],
      "metadata": {
        "colab": {
          "base_uri": "https://localhost:8080/"
        },
        "id": "f7PIvgEPi_6Y",
        "outputId": "2797220e-7792-4f52-da89-b123e8a65b10"
      },
      "execution_count": 23,
      "outputs": [
        {
          "output_type": "execute_result",
          "data": {
            "text/plain": [
              "0.15877282935553338"
            ]
          },
          "metadata": {},
          "execution_count": 23
        }
      ]
    },
    {
      "cell_type": "code",
      "source": [
        "np.random.rand(4,4)"
      ],
      "metadata": {
        "colab": {
          "base_uri": "https://localhost:8080/"
        },
        "id": "rsPny5jTjEA7",
        "outputId": "6d33c992-ceac-4307-ecc3-c0c6f1478179"
      },
      "execution_count": 24,
      "outputs": [
        {
          "output_type": "execute_result",
          "data": {
            "text/plain": [
              "array([[0.74555668, 0.60916745, 0.81752155, 0.55912403],\n",
              "       [0.17431776, 0.07767176, 0.33881319, 0.52807649],\n",
              "       [0.13613288, 0.89652901, 0.79927474, 0.51774722],\n",
              "       [0.64945772, 0.97879913, 0.35665612, 0.59833979]])"
            ]
          },
          "metadata": {},
          "execution_count": 24
        }
      ]
    },
    {
      "cell_type": "code",
      "source": [
        "np.random.randint((5,5))"
      ],
      "metadata": {
        "colab": {
          "base_uri": "https://localhost:8080/"
        },
        "id": "tf9KUzl0jKEw",
        "outputId": "0909ba73-a4ab-49c0-d1d9-774a63dcfc4e"
      },
      "execution_count": 27,
      "outputs": [
        {
          "output_type": "execute_result",
          "data": {
            "text/plain": [
              "array([1, 3])"
            ]
          },
          "metadata": {},
          "execution_count": 27
        }
      ]
    },
    {
      "cell_type": "code",
      "source": [
        "np.random.randn(5,5)"
      ],
      "metadata": {
        "colab": {
          "base_uri": "https://localhost:8080/"
        },
        "id": "xi-5PSDujOVP",
        "outputId": "b03542ee-c336-4cac-e0a9-f6f821d6da2a"
      },
      "execution_count": 28,
      "outputs": [
        {
          "output_type": "execute_result",
          "data": {
            "text/plain": [
              "array([[ 1.72533318,  1.43190859,  0.51505473,  0.25486477, -0.57872306],\n",
              "       [-0.46568869,  0.34306059,  1.41202057, -0.07027425, -0.92178205],\n",
              "       [-1.9021705 , -0.05216778, -0.45872866, -1.35128558,  1.23661973],\n",
              "       [ 1.7275405 , -0.70638727,  0.94832425, -2.29399387,  1.99094718],\n",
              "       [-0.44288857,  0.71098727,  2.14729456, -0.39834354, -0.01732682]])"
            ]
          },
          "metadata": {},
          "execution_count": 28
        }
      ]
    },
    {
      "cell_type": "code",
      "source": [],
      "metadata": {
        "colab": {
          "base_uri": "https://localhost:8080/",
          "height": 263
        },
        "id": "ldPM-dsFjfKL",
        "outputId": "a1241d4b-1634-45c9-db07-21da6936a9d2"
      },
      "execution_count": 30,
      "outputs": [
        {
          "output_type": "error",
          "ename": "AttributeError",
          "evalue": "module 'numpy' has no attribute 'choice'",
          "traceback": [
            "\u001b[0;31m---------------------------------------------------------------------------\u001b[0m",
            "\u001b[0;31mAttributeError\u001b[0m                            Traceback (most recent call last)",
            "\u001b[0;32m<ipython-input-30-1574bfced202>\u001b[0m in \u001b[0;36m<cell line: 0>\u001b[0;34m()\u001b[0m\n\u001b[0;32m----> 1\u001b[0;31m \u001b[0mnp\u001b[0m\u001b[0;34m.\u001b[0m\u001b[0mchoice\u001b[0m\u001b[0;34m(\u001b[0m\u001b[0;36m5\u001b[0m\u001b[0;34m)\u001b[0m\u001b[0;34m\u001b[0m\u001b[0;34m\u001b[0m\u001b[0m\n\u001b[0m",
            "\u001b[0;32m/usr/local/lib/python3.11/dist-packages/numpy/__init__.py\u001b[0m in \u001b[0;36m__getattr__\u001b[0;34m(attr)\u001b[0m\n\u001b[1;32m    331\u001b[0m             \u001b[0;32mraise\u001b[0m \u001b[0mRuntimeError\u001b[0m\u001b[0;34m(\u001b[0m\u001b[0;34m\"Tester was removed in NumPy 1.25.\"\u001b[0m\u001b[0;34m)\u001b[0m\u001b[0;34m\u001b[0m\u001b[0;34m\u001b[0m\u001b[0m\n\u001b[1;32m    332\u001b[0m \u001b[0;34m\u001b[0m\u001b[0m\n\u001b[0;32m--> 333\u001b[0;31m         raise AttributeError(\"module {!r} has no attribute \"\n\u001b[0m\u001b[1;32m    334\u001b[0m                              \"{!r}\".format(__name__, attr))\n\u001b[1;32m    335\u001b[0m \u001b[0;34m\u001b[0m\u001b[0m\n",
            "\u001b[0;31mAttributeError\u001b[0m: module 'numpy' has no attribute 'choice'"
          ]
        }
      ]
    },
    {
      "cell_type": "code",
      "source": [
        "import numpy as np\n",
        "\n",
        "# Creating a 1D array\n",
        "arr1 = np.array([1, 2, 3, 4, 5])\n",
        "print(\"1D Array:\", arr1)\n",
        "\n",
        "# Creating a 2D array\n",
        "arr2 = np.array([[1, 2, 3], [4, 5, 6]])\n",
        "print(\"2D Array:\\n\", arr2)\n",
        "\n",
        "# Creating an array from a tuple\n",
        "arr3 = np.array((10, 20, 30))\n",
        "print(\"Array from tuple:\", arr3)\n"
      ],
      "metadata": {
        "colab": {
          "base_uri": "https://localhost:8080/"
        },
        "id": "_PN4C9t3jnRe",
        "outputId": "e87b9088-e289-46af-e7bb-1fa31cf5742e"
      },
      "execution_count": 31,
      "outputs": [
        {
          "output_type": "stream",
          "name": "stdout",
          "text": [
            "1D Array: [1 2 3 4 5]\n",
            "2D Array:\n",
            " [[1 2 3]\n",
            " [4 5 6]]\n",
            "Array from tuple: [10 20 30]\n"
          ]
        }
      ]
    },
    {
      "cell_type": "code",
      "source": [
        "myarray=np.array((12,3,4,5,6))"
      ],
      "metadata": {
        "id": "TxbDuBTKkF-T"
      },
      "execution_count": 32,
      "outputs": []
    },
    {
      "cell_type": "code",
      "source": [
        "myarray"
      ],
      "metadata": {
        "colab": {
          "base_uri": "https://localhost:8080/"
        },
        "id": "XZvIjh6xkjkg",
        "outputId": "9ac251ab-bb08-4e12-c50d-b5674094e37f"
      },
      "execution_count": 33,
      "outputs": [
        {
          "output_type": "execute_result",
          "data": {
            "text/plain": [
              "array([12,  3,  4,  5,  6])"
            ]
          },
          "metadata": {},
          "execution_count": 33
        }
      ]
    },
    {
      "cell_type": "code",
      "source": [
        "print(myarray)"
      ],
      "metadata": {
        "colab": {
          "base_uri": "https://localhost:8080/"
        },
        "id": "MTE-W5UmkknE",
        "outputId": "36ded1e3-4378-4fff-fecd-5036e0e6a5ea"
      },
      "execution_count": 34,
      "outputs": [
        {
          "output_type": "stream",
          "name": "stdout",
          "text": [
            "[12  3  4  5  6]\n"
          ]
        }
      ]
    },
    {
      "cell_type": "code",
      "source": [
        "newarray=np.zeros((4,4))\n"
      ],
      "metadata": {
        "id": "YN9X7AA-knCP"
      },
      "execution_count": 35,
      "outputs": []
    },
    {
      "cell_type": "code",
      "source": [
        "newarray"
      ],
      "metadata": {
        "colab": {
          "base_uri": "https://localhost:8080/"
        },
        "id": "7TqODHOakvto",
        "outputId": "428c40d5-e97d-42e1-bb6f-e1cc5a16f806"
      },
      "execution_count": 36,
      "outputs": [
        {
          "output_type": "execute_result",
          "data": {
            "text/plain": [
              "array([[0., 0., 0., 0.],\n",
              "       [0., 0., 0., 0.],\n",
              "       [0., 0., 0., 0.],\n",
              "       [0., 0., 0., 0.]])"
            ]
          },
          "metadata": {},
          "execution_count": 36
        }
      ]
    },
    {
      "cell_type": "code",
      "source": [
        "mynewarray=np.ones((4,4))"
      ],
      "metadata": {
        "id": "uUYvojhUkxdg"
      },
      "execution_count": 37,
      "outputs": []
    },
    {
      "cell_type": "code",
      "source": [
        "print(mynewarray)"
      ],
      "metadata": {
        "colab": {
          "base_uri": "https://localhost:8080/"
        },
        "id": "LpIUT7tdk2X-",
        "outputId": "e0bd5bf6-e7dc-4f2a-df12-8ea5fba69123"
      },
      "execution_count": 38,
      "outputs": [
        {
          "output_type": "stream",
          "name": "stdout",
          "text": [
            "[[1. 1. 1. 1.]\n",
            " [1. 1. 1. 1.]\n",
            " [1. 1. 1. 1.]\n",
            " [1. 1. 1. 1.]]\n"
          ]
        }
      ]
    },
    {
      "cell_type": "code",
      "source": [
        "myfllarray=np.full((5,5),33)"
      ],
      "metadata": {
        "id": "NnTUpnCpk4sD"
      },
      "execution_count": 39,
      "outputs": []
    },
    {
      "cell_type": "code",
      "source": [
        "print(myfllarray)"
      ],
      "metadata": {
        "colab": {
          "base_uri": "https://localhost:8080/"
        },
        "id": "0FZFh_ELk-2A",
        "outputId": "e3e15c7d-5aef-44ba-e902-9cb86cf5578f"
      },
      "execution_count": 40,
      "outputs": [
        {
          "output_type": "stream",
          "name": "stdout",
          "text": [
            "[[33 33 33 33 33]\n",
            " [33 33 33 33 33]\n",
            " [33 33 33 33 33]\n",
            " [33 33 33 33 33]\n",
            " [33 33 33 33 33]]\n"
          ]
        }
      ]
    },
    {
      "cell_type": "code",
      "source": [
        "ones_arr = np.ones((2, 3), dtype=float)  # 2 rows, 3 columns, integer type\n",
        "print(\"Ones Array:\\n\", ones_arr)\n"
      ],
      "metadata": {
        "colab": {
          "base_uri": "https://localhost:8080/"
        },
        "id": "wIDz9kJMlAYZ",
        "outputId": "bfd750fd-0fee-423b-8bdc-7782bc5cd516"
      },
      "execution_count": 42,
      "outputs": [
        {
          "output_type": "stream",
          "name": "stdout",
          "text": [
            "Ones Array:\n",
            " [[1. 1. 1.]\n",
            " [1. 1. 1.]]\n"
          ]
        }
      ]
    },
    {
      "cell_type": "code",
      "source": [
        "identity_matrix = np.eye(4)  # 4x4 Identity matrix\n",
        "print(\"Identity Matrix:\\n\", identity_matrix)\n"
      ],
      "metadata": {
        "colab": {
          "base_uri": "https://localhost:8080/"
        },
        "id": "hyPK8URqlDrm",
        "outputId": "6cc110b4-68f6-4b7d-d6ae-8597e6a1a92f"
      },
      "execution_count": 43,
      "outputs": [
        {
          "output_type": "stream",
          "name": "stdout",
          "text": [
            "Identity Matrix:\n",
            " [[1. 0. 0. 0.]\n",
            " [0. 1. 0. 0.]\n",
            " [0. 0. 1. 0.]\n",
            " [0. 0. 0. 1.]]\n"
          ]
        }
      ]
    },
    {
      "cell_type": "code",
      "source": [
        "np.array((1,10))"
      ],
      "metadata": {
        "colab": {
          "base_uri": "https://localhost:8080/"
        },
        "id": "IIyv_wVNlVQ-",
        "outputId": "cf905be1-5ac7-43a5-acd0-66cda4342a66"
      },
      "execution_count": 46,
      "outputs": [
        {
          "output_type": "execute_result",
          "data": {
            "text/plain": [
              "array([ 1, 10])"
            ]
          },
          "metadata": {},
          "execution_count": 46
        }
      ]
    },
    {
      "cell_type": "code",
      "source": [
        "np.arange(1,10,3)*4"
      ],
      "metadata": {
        "colab": {
          "base_uri": "https://localhost:8080/"
        },
        "id": "M0b2CNcgldoJ",
        "outputId": "cd7ac5a5-c3db-4e7b-9ad7-cb5904aa09dc"
      },
      "execution_count": 48,
      "outputs": [
        {
          "output_type": "execute_result",
          "data": {
            "text/plain": [
              "array([ 4, 16, 28])"
            ]
          },
          "metadata": {},
          "execution_count": 48
        }
      ]
    },
    {
      "cell_type": "code",
      "source": [
        "np.linspace(1,20,7)"
      ],
      "metadata": {
        "colab": {
          "base_uri": "https://localhost:8080/"
        },
        "id": "Rnlcxd1jlmXq",
        "outputId": "8c210407-9796-4d12-ac98-2956c2215f34"
      },
      "execution_count": 50,
      "outputs": [
        {
          "output_type": "execute_result",
          "data": {
            "text/plain": [
              "array([ 1.        ,  4.16666667,  7.33333333, 10.5       , 13.66666667,\n",
              "       16.83333333, 20.        ])"
            ]
          },
          "metadata": {},
          "execution_count": 50
        }
      ]
    },
    {
      "cell_type": "code",
      "source": [
        "linspace_arr = np.linspace(0, 10, 5)  # Start=0, Stop=10, 5 values\n",
        "print(\"Linspace Array:\", linspace_arr)\n"
      ],
      "metadata": {
        "colab": {
          "base_uri": "https://localhost:8080/"
        },
        "id": "NzPx7q-qlvr2",
        "outputId": "b3f32f8c-ad4e-4777-ff1d-b0484e49a73c"
      },
      "execution_count": 51,
      "outputs": [
        {
          "output_type": "stream",
          "name": "stdout",
          "text": [
            "Linspace Array: [ 0.   2.5  5.   7.5 10. ]\n"
          ]
        }
      ]
    },
    {
      "cell_type": "code",
      "source": [
        "random_arr = np.random.rand(3, 3)  # 3x3 matrix with random numbers\n",
        "print(\"Random Array:\\n\", random_arr)\n"
      ],
      "metadata": {
        "colab": {
          "base_uri": "https://localhost:8080/"
        },
        "id": "8Tq_DIv0lzxk",
        "outputId": "71ffa344-9352-4070-a267-c3623e96f008"
      },
      "execution_count": 52,
      "outputs": [
        {
          "output_type": "stream",
          "name": "stdout",
          "text": [
            "Random Array:\n",
            " [[0.69306762 0.43868282 0.33608715]\n",
            " [0.51102366 0.20262676 0.46928907]\n",
            " [0.52870034 0.60389471 0.57808441]]\n"
          ]
        }
      ]
    },
    {
      "cell_type": "code",
      "source": [
        "myarray=np.array([1,2,3,4,5,6,7,8,9,10])"
      ],
      "metadata": {
        "id": "BFuEQ0nwl3Ax"
      },
      "execution_count": 53,
      "outputs": []
    },
    {
      "cell_type": "code",
      "source": [
        "myarray"
      ],
      "metadata": {
        "colab": {
          "base_uri": "https://localhost:8080/"
        },
        "id": "sNA0TKAzmDd0",
        "outputId": "f886a673-2078-43ad-9074-7e6f0480ce13"
      },
      "execution_count": 59,
      "outputs": [
        {
          "output_type": "execute_result",
          "data": {
            "text/plain": [
              "array([ 1,  2,  3,  4,  5,  6,  7,  8,  9, 10])"
            ]
          },
          "metadata": {},
          "execution_count": 59
        }
      ]
    },
    {
      "cell_type": "code",
      "source": [
        "myarray.reshape(2,5)"
      ],
      "metadata": {
        "colab": {
          "base_uri": "https://localhost:8080/"
        },
        "id": "ZX4iI5i4mGKA",
        "outputId": "51d2494f-3d83-462e-edda-719cb2a9f3a7"
      },
      "execution_count": 61,
      "outputs": [
        {
          "output_type": "execute_result",
          "data": {
            "text/plain": [
              "array([[ 1,  2,  3,  4,  5],\n",
              "       [ 6,  7,  8,  9, 10]])"
            ]
          },
          "metadata": {},
          "execution_count": 61
        }
      ]
    },
    {
      "cell_type": "code",
      "source": [
        "myarray=np.arange(20)"
      ],
      "metadata": {
        "id": "pBTMDP4smc7S"
      },
      "execution_count": 63,
      "outputs": []
    },
    {
      "cell_type": "code",
      "source": [
        "myarray"
      ],
      "metadata": {
        "colab": {
          "base_uri": "https://localhost:8080/"
        },
        "id": "MVTdeOEQm2lf",
        "outputId": "4a443e6f-6108-41f3-c3ad-abd50ef8813a"
      },
      "execution_count": 64,
      "outputs": [
        {
          "output_type": "execute_result",
          "data": {
            "text/plain": [
              "array([ 0,  1,  2,  3,  4,  5,  6,  7,  8,  9, 10, 11, 12, 13, 14, 15, 16,\n",
              "       17, 18, 19])"
            ]
          },
          "metadata": {},
          "execution_count": 64
        }
      ]
    },
    {
      "cell_type": "code",
      "source": [
        "myarray.reshape(2,10)"
      ],
      "metadata": {
        "colab": {
          "base_uri": "https://localhost:8080/"
        },
        "id": "WRCexshlm6KG",
        "outputId": "57ed4b06-b3f3-43ad-8ceb-7ac2d565e4bc"
      },
      "execution_count": 66,
      "outputs": [
        {
          "output_type": "execute_result",
          "data": {
            "text/plain": [
              "array([[ 0,  1,  2,  3,  4,  5,  6,  7,  8,  9],\n",
              "       [10, 11, 12, 13, 14, 15, 16, 17, 18, 19]])"
            ]
          },
          "metadata": {},
          "execution_count": 66
        }
      ]
    },
    {
      "cell_type": "code",
      "source": [
        "myarray"
      ],
      "metadata": {
        "colab": {
          "base_uri": "https://localhost:8080/"
        },
        "id": "m-AKqpxQnWAb",
        "outputId": "a0ed4096-a605-47c6-ff12-a569d9ca522e"
      },
      "execution_count": 71,
      "outputs": [
        {
          "output_type": "execute_result",
          "data": {
            "text/plain": [
              "array([ 0,  1,  2,  3,  4,  5,  6,  7,  8,  9, 10, 11, 12, 13, 14, 15, 16,\n",
              "       17, 18, 19])"
            ]
          },
          "metadata": {},
          "execution_count": 71
        }
      ]
    },
    {
      "cell_type": "code",
      "source": [
        "myarray.flatten()"
      ],
      "metadata": {
        "colab": {
          "base_uri": "https://localhost:8080/"
        },
        "id": "AuobDVSLnJjc",
        "outputId": "3f1e4e08-8712-4a4b-f1dd-345388d7993a"
      },
      "execution_count": 70,
      "outputs": [
        {
          "output_type": "execute_result",
          "data": {
            "text/plain": [
              "array([ 0,  1,  2,  3,  4,  5,  6,  7,  8,  9, 10, 11, 12, 13, 14, 15, 16,\n",
              "       17, 18, 19])"
            ]
          },
          "metadata": {},
          "execution_count": 70
        }
      ]
    },
    {
      "cell_type": "code",
      "source": [
        "arr = np.array([[1, 2, 3], [4, 5, 6]])\n",
        "flattened_arr = arr.ravel()\n",
        "print(\"Flattened Array:\", flattened_arr)\n"
      ],
      "metadata": {
        "colab": {
          "base_uri": "https://localhost:8080/"
        },
        "id": "gG4NCm9LnQrU",
        "outputId": "6f2d48d9-4ff8-4dd5-915b-d22f80c93598"
      },
      "execution_count": 74,
      "outputs": [
        {
          "output_type": "stream",
          "name": "stdout",
          "text": [
            "Flattened Array: [1 2 3 4 5 6]\n"
          ]
        }
      ]
    },
    {
      "cell_type": "code",
      "source": [
        "arr = np.array([[1, 2, 3], [4, 5, 6]])\n",
        "transposed_arr = arr.transpose()\n",
        "print(\"Transposed Array:\\n\", transposed_arr)\n"
      ],
      "metadata": {
        "colab": {
          "base_uri": "https://localhost:8080/"
        },
        "id": "NVIJE3Rdna0t",
        "outputId": "9fa7d472-fb2a-4d33-e0f9-ba1657343347"
      },
      "execution_count": 75,
      "outputs": [
        {
          "output_type": "stream",
          "name": "stdout",
          "text": [
            "Transposed Array:\n",
            " [[1 4]\n",
            " [2 5]\n",
            " [3 6]]\n"
          ]
        }
      ]
    },
    {
      "cell_type": "code",
      "source": [
        "arr = np.array([[[1, 2], [3, 4]], [[5, 6], [7, 8]]])\n",
        "swapped_arr = np.swapaxes(arr, 0, 1)  # Swap axis 0 and axis 1\n",
        "print(\"Swapped Axes Array:\\n\", swapped_arr)\n"
      ],
      "metadata": {
        "colab": {
          "base_uri": "https://localhost:8080/"
        },
        "id": "Uz3GDlTznrFi",
        "outputId": "57384e98-648b-4c0f-c60c-0d599a4c3663"
      },
      "execution_count": 76,
      "outputs": [
        {
          "output_type": "stream",
          "name": "stdout",
          "text": [
            "Swapped Axes Array:\n",
            " [[[1 2]\n",
            "  [5 6]]\n",
            "\n",
            " [[3 4]\n",
            "  [7 8]]]\n"
          ]
        }
      ]
    },
    {
      "cell_type": "code",
      "source": [
        "array=np.arange(1,20)"
      ],
      "metadata": {
        "id": "qEIxBZZqnx32"
      },
      "execution_count": 77,
      "outputs": []
    },
    {
      "cell_type": "code",
      "source": [
        "array"
      ],
      "metadata": {
        "colab": {
          "base_uri": "https://localhost:8080/"
        },
        "id": "O-90tC0bn96Y",
        "outputId": "744cbc54-8b8a-434d-b788-59c3f4303bf7"
      },
      "execution_count": 78,
      "outputs": [
        {
          "output_type": "execute_result",
          "data": {
            "text/plain": [
              "array([ 1,  2,  3,  4,  5,  6,  7,  8,  9, 10, 11, 12, 13, 14, 15, 16, 17,\n",
              "       18, 19])"
            ]
          },
          "metadata": {},
          "execution_count": 78
        }
      ]
    },
    {
      "cell_type": "code",
      "source": [
        "array1=np.arange(10,40)"
      ],
      "metadata": {
        "id": "K_eaEfWsn-yN"
      },
      "execution_count": 79,
      "outputs": []
    },
    {
      "cell_type": "code",
      "source": [
        "array1"
      ],
      "metadata": {
        "colab": {
          "base_uri": "https://localhost:8080/"
        },
        "id": "LfCEAN1SoEIf",
        "outputId": "8899ed09-5f74-46c1-fe12-690bcbe4fce7"
      },
      "execution_count": 80,
      "outputs": [
        {
          "output_type": "execute_result",
          "data": {
            "text/plain": [
              "array([10, 11, 12, 13, 14, 15, 16, 17, 18, 19, 20, 21, 22, 23, 24, 25, 26,\n",
              "       27, 28, 29, 30, 31, 32, 33, 34, 35, 36, 37, 38, 39])"
            ]
          },
          "metadata": {},
          "execution_count": 80
        }
      ]
    },
    {
      "cell_type": "code",
      "source": [
        "np.concatenate((array,array1))"
      ],
      "metadata": {
        "colab": {
          "base_uri": "https://localhost:8080/"
        },
        "id": "M26klwGnoFPk",
        "outputId": "f5fe3d73-a063-4234-f01d-040ab55c2348"
      },
      "execution_count": 81,
      "outputs": [
        {
          "output_type": "execute_result",
          "data": {
            "text/plain": [
              "array([ 1,  2,  3,  4,  5,  6,  7,  8,  9, 10, 11, 12, 13, 14, 15, 16, 17,\n",
              "       18, 19, 10, 11, 12, 13, 14, 15, 16, 17, 18, 19, 20, 21, 22, 23, 24,\n",
              "       25, 26, 27, 28, 29, 30, 31, 32, 33, 34, 35, 36, 37, 38, 39])"
            ]
          },
          "metadata": {},
          "execution_count": 81
        }
      ]
    },
    {
      "cell_type": "code",
      "source": [
        "arr1 = np.array([[1, 2], [3, 4]])\n",
        "arr2 = np.array([[5, 6], [7, 8]])\n",
        "concat_arr = np.concatenate((arr1, arr2), axis=0)  # Vertical stacking\n",
        "print(\"Concatenated Array:\\n\", concat_arr)\n"
      ],
      "metadata": {
        "colab": {
          "base_uri": "https://localhost:8080/"
        },
        "id": "lewGa7UjoJU3",
        "outputId": "85f948f9-7cec-4e39-f198-d817266fbaee"
      },
      "execution_count": 82,
      "outputs": [
        {
          "output_type": "stream",
          "name": "stdout",
          "text": [
            "Concatenated Array:\n",
            " [[1 2]\n",
            " [3 4]\n",
            " [5 6]\n",
            " [7 8]]\n"
          ]
        }
      ]
    },
    {
      "cell_type": "code",
      "source": [
        "arr1 = np.array([1, 2, 3])\n",
        "arr2 = np.array([4, 5, 6])\n",
        "hstack_arr = np.hstack((arr1, arr2))\n",
        "print(\"Horizontally Stacked Array:\", hstack_arr)\n"
      ],
      "metadata": {
        "colab": {
          "base_uri": "https://localhost:8080/"
        },
        "id": "k1Ej9mnAoL4R",
        "outputId": "718fce3c-7f2b-444b-99f8-b9d4058dd905"
      },
      "execution_count": 83,
      "outputs": [
        {
          "output_type": "stream",
          "name": "stdout",
          "text": [
            "Horizontally Stacked Array: [1 2 3 4 5 6]\n"
          ]
        }
      ]
    },
    {
      "cell_type": "code",
      "source": [
        "arr1 = np.array([1, 2, 3])\n",
        "arr2 = np.array([4, 5, 6])\n",
        "hstack_arr = np.vstack((arr1, arr2))\n",
        "print(\"Horizontally Stacked Array:\", hstack_arr)\n"
      ],
      "metadata": {
        "colab": {
          "base_uri": "https://localhost:8080/"
        },
        "id": "n_K3eJaAoRSa",
        "outputId": "9f439751-44be-4ef2-9d16-fba42ee11c24"
      },
      "execution_count": 84,
      "outputs": [
        {
          "output_type": "stream",
          "name": "stdout",
          "text": [
            "Horizontally Stacked Array: [[1 2 3]\n",
            " [4 5 6]]\n"
          ]
        }
      ]
    },
    {
      "cell_type": "code",
      "source": [
        "arr = np.array([1, 2, 3, 4, 5, 6])\n",
        "split_arr = np.split(arr, 6)  # Splits into 3 equal parts\n",
        "print(\"Split Arrays:\", split_arr)\n"
      ],
      "metadata": {
        "colab": {
          "base_uri": "https://localhost:8080/"
        },
        "id": "Z2ichHEqoWVv",
        "outputId": "53229219-cbc3-41d5-de08-3b36f69b9e24"
      },
      "execution_count": 86,
      "outputs": [
        {
          "output_type": "stream",
          "name": "stdout",
          "text": [
            "Split Arrays: [array([1]), array([2]), array([3]), array([4]), array([5]), array([6])]\n"
          ]
        }
      ]
    },
    {
      "cell_type": "code",
      "source": [
        "myarray1=np.arange(1,10)"
      ],
      "metadata": {
        "id": "wBfOOnnFobU_"
      },
      "execution_count": 87,
      "outputs": []
    },
    {
      "cell_type": "code",
      "source": [
        "myarray2=np.arange(11,20)"
      ],
      "metadata": {
        "id": "MzIVd54qpMjH"
      },
      "execution_count": 90,
      "outputs": []
    },
    {
      "cell_type": "code",
      "source": [
        "np.add(myarray1,myarray2)"
      ],
      "metadata": {
        "colab": {
          "base_uri": "https://localhost:8080/"
        },
        "id": "sioaw7YUpRqa",
        "outputId": "f642519d-c20e-41b7-8ae6-702f8b28094c"
      },
      "execution_count": 91,
      "outputs": [
        {
          "output_type": "execute_result",
          "data": {
            "text/plain": [
              "array([12, 14, 16, 18, 20, 22, 24, 26, 28])"
            ]
          },
          "metadata": {},
          "execution_count": 91
        }
      ]
    },
    {
      "cell_type": "code",
      "source": [
        "import numpy as np\n",
        "\n",
        "arr1 = np.array([1, 2, 3])\n",
        "arr2 = np.array([4, 5, 6])\n",
        "\n",
        "sum_arr = np.add(arr1, arr2)\n",
        "print(\"Sum:\", sum_arr)\n"
      ],
      "metadata": {
        "colab": {
          "base_uri": "https://localhost:8080/"
        },
        "id": "tdGV9EI6pWzq",
        "outputId": "f7abca9b-901c-47d2-b150-e88db6da88f0"
      },
      "execution_count": 92,
      "outputs": [
        {
          "output_type": "stream",
          "name": "stdout",
          "text": [
            "Sum: [5 7 9]\n"
          ]
        }
      ]
    },
    {
      "cell_type": "code",
      "source": [
        "np.subtract(myarray1,myarray2)"
      ],
      "metadata": {
        "colab": {
          "base_uri": "https://localhost:8080/"
        },
        "id": "BDo2dxr8psY7",
        "outputId": "5e603755-a895-4da1-c761-f96f950b7c7e"
      },
      "execution_count": 93,
      "outputs": [
        {
          "output_type": "execute_result",
          "data": {
            "text/plain": [
              "array([-10, -10, -10, -10, -10, -10, -10, -10, -10])"
            ]
          },
          "metadata": {},
          "execution_count": 93
        }
      ]
    },
    {
      "cell_type": "code",
      "source": [
        "np.multiply(myarray1,myarray2)"
      ],
      "metadata": {
        "colab": {
          "base_uri": "https://localhost:8080/"
        },
        "id": "iqJTnHpFpyoE",
        "outputId": "126f23bd-6408-42e3-b9ad-5187221b2d59"
      },
      "execution_count": 94,
      "outputs": [
        {
          "output_type": "execute_result",
          "data": {
            "text/plain": [
              "array([ 11,  24,  39,  56,  75,  96, 119, 144, 171])"
            ]
          },
          "metadata": {},
          "execution_count": 94
        }
      ]
    },
    {
      "cell_type": "code",
      "source": [
        "np.divide(myarray1,myarray2)"
      ],
      "metadata": {
        "colab": {
          "base_uri": "https://localhost:8080/"
        },
        "id": "YdBB666dp2vf",
        "outputId": "3eaa5492-3450-4ced-db58-d1b9872ce0e2"
      },
      "execution_count": 95,
      "outputs": [
        {
          "output_type": "execute_result",
          "data": {
            "text/plain": [
              "array([0.09090909, 0.16666667, 0.23076923, 0.28571429, 0.33333333,\n",
              "       0.375     , 0.41176471, 0.44444444, 0.47368421])"
            ]
          },
          "metadata": {},
          "execution_count": 95
        }
      ]
    },
    {
      "cell_type": "code",
      "source": [
        "np.power(myarray1,myarray2)"
      ],
      "metadata": {
        "colab": {
          "base_uri": "https://localhost:8080/"
        },
        "id": "JiAF8kDKp7US",
        "outputId": "0f1f6340-f6b3-4101-d0cf-93695abaae2d"
      },
      "execution_count": 96,
      "outputs": [
        {
          "output_type": "execute_result",
          "data": {
            "text/plain": [
              "array([                  1,                4096,             1594323,\n",
              "                 268435456,         30517578125,       2821109907456,\n",
              "           232630513987207,   18014398509481984, 1350851717672992089])"
            ]
          },
          "metadata": {},
          "execution_count": 96
        }
      ]
    },
    {
      "cell_type": "code",
      "source": [
        "np.sqrt(myarray1)"
      ],
      "metadata": {
        "colab": {
          "base_uri": "https://localhost:8080/"
        },
        "id": "agU4s-w6qAGv",
        "outputId": "12352eff-acb2-4516-8ea9-554d81c22d39"
      },
      "execution_count": 97,
      "outputs": [
        {
          "output_type": "execute_result",
          "data": {
            "text/plain": [
              "array([1.        , 1.41421356, 1.73205081, 2.        , 2.23606798,\n",
              "       2.44948974, 2.64575131, 2.82842712, 3.        ])"
            ]
          },
          "metadata": {},
          "execution_count": 97
        }
      ]
    },
    {
      "cell_type": "code",
      "source": [
        "np.log(myarray1)"
      ],
      "metadata": {
        "colab": {
          "base_uri": "https://localhost:8080/"
        },
        "id": "rvXqwXTbqIuW",
        "outputId": "132d688d-5ea3-4233-e3e6-529452b5e83f"
      },
      "execution_count": 98,
      "outputs": [
        {
          "output_type": "execute_result",
          "data": {
            "text/plain": [
              "array([0.        , 0.69314718, 1.09861229, 1.38629436, 1.60943791,\n",
              "       1.79175947, 1.94591015, 2.07944154, 2.19722458])"
            ]
          },
          "metadata": {},
          "execution_count": 98
        }
      ]
    },
    {
      "cell_type": "code",
      "source": [
        "np.sin(myarray1)"
      ],
      "metadata": {
        "colab": {
          "base_uri": "https://localhost:8080/"
        },
        "id": "gOcfw5f9qLvR",
        "outputId": "33a07403-0ae9-4cbe-a5aa-8bef48c8a084"
      },
      "execution_count": 99,
      "outputs": [
        {
          "output_type": "execute_result",
          "data": {
            "text/plain": [
              "array([ 0.84147098,  0.90929743,  0.14112001, -0.7568025 , -0.95892427,\n",
              "       -0.2794155 ,  0.6569866 ,  0.98935825,  0.41211849])"
            ]
          },
          "metadata": {},
          "execution_count": 99
        }
      ]
    },
    {
      "cell_type": "code",
      "source": [
        "myarray=np.array([1,2])"
      ],
      "metadata": {
        "id": "3LWVrdsbqN-H"
      },
      "execution_count": 102,
      "outputs": []
    },
    {
      "cell_type": "code",
      "source": [
        "myarray.mean()"
      ],
      "metadata": {
        "colab": {
          "base_uri": "https://localhost:8080/"
        },
        "id": "ZIrTyqcqqXMs",
        "outputId": "6b1e35a9-a307-4ed3-cb37-1d7f399cb905"
      },
      "execution_count": 103,
      "outputs": [
        {
          "output_type": "execute_result",
          "data": {
            "text/plain": [
              "1.5"
            ]
          },
          "metadata": {},
          "execution_count": 103
        }
      ]
    },
    {
      "cell_type": "code",
      "source": [
        "myarray=np.arange(20)"
      ],
      "metadata": {
        "id": "3n0vIPhCqaWf"
      },
      "execution_count": 104,
      "outputs": []
    },
    {
      "cell_type": "code",
      "source": [
        "myarray.mean()"
      ],
      "metadata": {
        "colab": {
          "base_uri": "https://localhost:8080/"
        },
        "id": "AAj0bLtuql48",
        "outputId": "56cd0ed2-67c9-438b-f2ae-8c21963485ec"
      },
      "execution_count": 105,
      "outputs": [
        {
          "output_type": "execute_result",
          "data": {
            "text/plain": [
              "9.5"
            ]
          },
          "metadata": {},
          "execution_count": 105
        }
      ]
    },
    {
      "cell_type": "code",
      "source": [
        "myarray"
      ],
      "metadata": {
        "colab": {
          "base_uri": "https://localhost:8080/"
        },
        "id": "LcUVOnM0qoWG",
        "outputId": "2ce7cd89-3e25-4a69-aaf6-a2bc160ba489"
      },
      "execution_count": 106,
      "outputs": [
        {
          "output_type": "execute_result",
          "data": {
            "text/plain": [
              "array([ 0,  1,  2,  3,  4,  5,  6,  7,  8,  9, 10, 11, 12, 13, 14, 15, 16,\n",
              "       17, 18, 19])"
            ]
          },
          "metadata": {},
          "execution_count": 106
        }
      ]
    },
    {
      "cell_type": "code",
      "source": [
        "import numpy as np\n",
        "\n",
        "arr = np.array([3, 1, 5, 2, 4])\n",
        "sorted_arr = np.sort(arr)\n",
        "print(\"Sorted Array:\", sorted_arr)\n"
      ],
      "metadata": {
        "colab": {
          "base_uri": "https://localhost:8080/"
        },
        "id": "tKvFFnNsrLBs",
        "outputId": "35eb2f0e-e4ee-4721-9d3d-aba49d4019cd"
      },
      "execution_count": 110,
      "outputs": [
        {
          "output_type": "stream",
          "name": "stdout",
          "text": [
            "Sorted Array: [1 2 3 4 5]\n"
          ]
        }
      ]
    },
    {
      "cell_type": "code",
      "source": [
        "sorted_indices = np.argsort(arr)\n",
        "print(\"Indices:\", sorted_indices)\n"
      ],
      "metadata": {
        "colab": {
          "base_uri": "https://localhost:8080/"
        },
        "id": "xImUKenJr8bd",
        "outputId": "e190d600-abd9-46a7-995a-43a962d4aa2a"
      },
      "execution_count": 111,
      "outputs": [
        {
          "output_type": "stream",
          "name": "stdout",
          "text": [
            "Indices: [1 3 0 4 2]\n"
          ]
        }
      ]
    },
    {
      "cell_type": "code",
      "source": [
        "import pandas as pd"
      ],
      "metadata": {
        "id": "Okh0xMiCr_lR"
      },
      "execution_count": 112,
      "outputs": []
    },
    {
      "cell_type": "code",
      "source": [
        "pd.DataFrame(np.array([1,2,3,4,7]))"
      ],
      "metadata": {
        "colab": {
          "base_uri": "https://localhost:8080/",
          "height": 1330
        },
        "id": "4Nj_FCJjvm1E",
        "outputId": "43d1dbef-ccc0-4812-bde6-0291ec7596f4"
      },
      "execution_count": 113,
      "outputs": [
        {
          "output_type": "execute_result",
          "data": {
            "text/plain": [
              "   0\n",
              "0  1\n",
              "1  2\n",
              "2  3\n",
              "3  4\n",
              "4  7"
            ],
            "text/html": [
              "\n",
              "  <div id=\"df-31a753e1-eb0c-454f-aa27-9e5c2c2a7f32\" class=\"colab-df-container\">\n",
              "    <div>\n",
              "<style scoped>\n",
              "    .dataframe tbody tr th:only-of-type {\n",
              "        vertical-align: middle;\n",
              "    }\n",
              "\n",
              "    .dataframe tbody tr th {\n",
              "        vertical-align: top;\n",
              "    }\n",
              "\n",
              "    .dataframe thead th {\n",
              "        text-align: right;\n",
              "    }\n",
              "</style>\n",
              "<table border=\"1\" class=\"dataframe\">\n",
              "  <thead>\n",
              "    <tr style=\"text-align: right;\">\n",
              "      <th></th>\n",
              "      <th>0</th>\n",
              "    </tr>\n",
              "  </thead>\n",
              "  <tbody>\n",
              "    <tr>\n",
              "      <th>0</th>\n",
              "      <td>1</td>\n",
              "    </tr>\n",
              "    <tr>\n",
              "      <th>1</th>\n",
              "      <td>2</td>\n",
              "    </tr>\n",
              "    <tr>\n",
              "      <th>2</th>\n",
              "      <td>3</td>\n",
              "    </tr>\n",
              "    <tr>\n",
              "      <th>3</th>\n",
              "      <td>4</td>\n",
              "    </tr>\n",
              "    <tr>\n",
              "      <th>4</th>\n",
              "      <td>7</td>\n",
              "    </tr>\n",
              "  </tbody>\n",
              "</table>\n",
              "</div>\n",
              "    <div class=\"colab-df-buttons\">\n",
              "\n",
              "  <div class=\"colab-df-container\">\n",
              "    <button class=\"colab-df-convert\" onclick=\"convertToInteractive('df-31a753e1-eb0c-454f-aa27-9e5c2c2a7f32')\"\n",
              "            title=\"Convert this dataframe to an interactive table.\"\n",
              "            style=\"display:none;\">\n",
              "\n",
              "  <svg xmlns=\"http://www.w3.org/2000/svg\" height=\"24px\" viewBox=\"0 -960 960 960\">\n",
              "    <path d=\"M120-120v-720h720v720H120Zm60-500h600v-160H180v160Zm220 220h160v-160H400v160Zm0 220h160v-160H400v160ZM180-400h160v-160H180v160Zm440 0h160v-160H620v160ZM180-180h160v-160H180v160Zm440 0h160v-160H620v160Z\"/>\n",
              "  </svg>\n",
              "    </button>\n",
              "\n",
              "  <style>\n",
              "    .colab-df-container {\n",
              "      display:flex;\n",
              "      gap: 12px;\n",
              "    }\n",
              "\n",
              "    .colab-df-convert {\n",
              "      background-color: #E8F0FE;\n",
              "      border: none;\n",
              "      border-radius: 50%;\n",
              "      cursor: pointer;\n",
              "      display: none;\n",
              "      fill: #1967D2;\n",
              "      height: 32px;\n",
              "      padding: 0 0 0 0;\n",
              "      width: 32px;\n",
              "    }\n",
              "\n",
              "    .colab-df-convert:hover {\n",
              "      background-color: #E2EBFA;\n",
              "      box-shadow: 0px 1px 2px rgba(60, 64, 67, 0.3), 0px 1px 3px 1px rgba(60, 64, 67, 0.15);\n",
              "      fill: #174EA6;\n",
              "    }\n",
              "\n",
              "    .colab-df-buttons div {\n",
              "      margin-bottom: 4px;\n",
              "    }\n",
              "\n",
              "    [theme=dark] .colab-df-convert {\n",
              "      background-color: #3B4455;\n",
              "      fill: #D2E3FC;\n",
              "    }\n",
              "\n",
              "    [theme=dark] .colab-df-convert:hover {\n",
              "      background-color: #434B5C;\n",
              "      box-shadow: 0px 1px 3px 1px rgba(0, 0, 0, 0.15);\n",
              "      filter: drop-shadow(0px 1px 2px rgba(0, 0, 0, 0.3));\n",
              "      fill: #FFFFFF;\n",
              "    }\n",
              "  </style>\n",
              "\n",
              "    <script>\n",
              "      const buttonEl =\n",
              "        document.querySelector('#df-31a753e1-eb0c-454f-aa27-9e5c2c2a7f32 button.colab-df-convert');\n",
              "      buttonEl.style.display =\n",
              "        google.colab.kernel.accessAllowed ? 'block' : 'none';\n",
              "\n",
              "      async function convertToInteractive(key) {\n",
              "        const element = document.querySelector('#df-31a753e1-eb0c-454f-aa27-9e5c2c2a7f32');\n",
              "        const dataTable =\n",
              "          await google.colab.kernel.invokeFunction('convertToInteractive',\n",
              "                                                    [key], {});\n",
              "        if (!dataTable) return;\n",
              "\n",
              "        const docLinkHtml = 'Like what you see? Visit the ' +\n",
              "          '<a target=\"_blank\" href=https://colab.research.google.com/notebooks/data_table.ipynb>data table notebook</a>'\n",
              "          + ' to learn more about interactive tables.';\n",
              "        element.innerHTML = '';\n",
              "        dataTable['output_type'] = 'display_data';\n",
              "        await google.colab.output.renderOutput(dataTable, element);\n",
              "        const docLink = document.createElement('div');\n",
              "        docLink.innerHTML = docLinkHtml;\n",
              "        element.appendChild(docLink);\n",
              "      }\n",
              "    </script>\n",
              "  </div>\n",
              "\n",
              "\n",
              "<div id=\"df-200ee48f-6154-47aa-84db-d7319d34e08e\">\n",
              "  <button class=\"colab-df-quickchart\" onclick=\"quickchart('df-200ee48f-6154-47aa-84db-d7319d34e08e')\"\n",
              "            title=\"Suggest charts\"\n",
              "            style=\"display:none;\">\n",
              "\n",
              "<svg xmlns=\"http://www.w3.org/2000/svg\" height=\"24px\"viewBox=\"0 0 24 24\"\n",
              "     width=\"24px\">\n",
              "    <g>\n",
              "        <path d=\"M19 3H5c-1.1 0-2 .9-2 2v14c0 1.1.9 2 2 2h14c1.1 0 2-.9 2-2V5c0-1.1-.9-2-2-2zM9 17H7v-7h2v7zm4 0h-2V7h2v10zm4 0h-2v-4h2v4z\"/>\n",
              "    </g>\n",
              "</svg>\n",
              "  </button>\n",
              "\n",
              "<style>\n",
              "  .colab-df-quickchart {\n",
              "      --bg-color: #E8F0FE;\n",
              "      --fill-color: #1967D2;\n",
              "      --hover-bg-color: #E2EBFA;\n",
              "      --hover-fill-color: #174EA6;\n",
              "      --disabled-fill-color: #AAA;\n",
              "      --disabled-bg-color: #DDD;\n",
              "  }\n",
              "\n",
              "  [theme=dark] .colab-df-quickchart {\n",
              "      --bg-color: #3B4455;\n",
              "      --fill-color: #D2E3FC;\n",
              "      --hover-bg-color: #434B5C;\n",
              "      --hover-fill-color: #FFFFFF;\n",
              "      --disabled-bg-color: #3B4455;\n",
              "      --disabled-fill-color: #666;\n",
              "  }\n",
              "\n",
              "  .colab-df-quickchart {\n",
              "    background-color: var(--bg-color);\n",
              "    border: none;\n",
              "    border-radius: 50%;\n",
              "    cursor: pointer;\n",
              "    display: none;\n",
              "    fill: var(--fill-color);\n",
              "    height: 32px;\n",
              "    padding: 0;\n",
              "    width: 32px;\n",
              "  }\n",
              "\n",
              "  .colab-df-quickchart:hover {\n",
              "    background-color: var(--hover-bg-color);\n",
              "    box-shadow: 0 1px 2px rgba(60, 64, 67, 0.3), 0 1px 3px 1px rgba(60, 64, 67, 0.15);\n",
              "    fill: var(--button-hover-fill-color);\n",
              "  }\n",
              "\n",
              "  .colab-df-quickchart-complete:disabled,\n",
              "  .colab-df-quickchart-complete:disabled:hover {\n",
              "    background-color: var(--disabled-bg-color);\n",
              "    fill: var(--disabled-fill-color);\n",
              "    box-shadow: none;\n",
              "  }\n",
              "\n",
              "  .colab-df-spinner {\n",
              "    border: 2px solid var(--fill-color);\n",
              "    border-color: transparent;\n",
              "    border-bottom-color: var(--fill-color);\n",
              "    animation:\n",
              "      spin 1s steps(1) infinite;\n",
              "  }\n",
              "\n",
              "  @keyframes spin {\n",
              "    0% {\n",
              "      border-color: transparent;\n",
              "      border-bottom-color: var(--fill-color);\n",
              "      border-left-color: var(--fill-color);\n",
              "    }\n",
              "    20% {\n",
              "      border-color: transparent;\n",
              "      border-left-color: var(--fill-color);\n",
              "      border-top-color: var(--fill-color);\n",
              "    }\n",
              "    30% {\n",
              "      border-color: transparent;\n",
              "      border-left-color: var(--fill-color);\n",
              "      border-top-color: var(--fill-color);\n",
              "      border-right-color: var(--fill-color);\n",
              "    }\n",
              "    40% {\n",
              "      border-color: transparent;\n",
              "      border-right-color: var(--fill-color);\n",
              "      border-top-color: var(--fill-color);\n",
              "    }\n",
              "    60% {\n",
              "      border-color: transparent;\n",
              "      border-right-color: var(--fill-color);\n",
              "    }\n",
              "    80% {\n",
              "      border-color: transparent;\n",
              "      border-right-color: var(--fill-color);\n",
              "      border-bottom-color: var(--fill-color);\n",
              "    }\n",
              "    90% {\n",
              "      border-color: transparent;\n",
              "      border-bottom-color: var(--fill-color);\n",
              "    }\n",
              "  }\n",
              "</style>\n",
              "\n",
              "  <script>\n",
              "    async function quickchart(key) {\n",
              "      const quickchartButtonEl =\n",
              "        document.querySelector('#' + key + ' button');\n",
              "      quickchartButtonEl.disabled = true;  // To prevent multiple clicks.\n",
              "      quickchartButtonEl.classList.add('colab-df-spinner');\n",
              "      try {\n",
              "        const charts = await google.colab.kernel.invokeFunction(\n",
              "            'suggestCharts', [key], {});\n",
              "      } catch (error) {\n",
              "        console.error('Error during call to suggestCharts:', error);\n",
              "      }\n",
              "      quickchartButtonEl.classList.remove('colab-df-spinner');\n",
              "      quickchartButtonEl.classList.add('colab-df-quickchart-complete');\n",
              "    }\n",
              "    (() => {\n",
              "      let quickchartButtonEl =\n",
              "        document.querySelector('#df-200ee48f-6154-47aa-84db-d7319d34e08e button');\n",
              "      quickchartButtonEl.style.display =\n",
              "        google.colab.kernel.accessAllowed ? 'block' : 'none';\n",
              "    })();\n",
              "  </script>\n",
              "</div>\n",
              "\n",
              "    </div>\n",
              "  </div>\n"
            ],
            "application/vnd.google.colaboratory.intrinsic+json": {
              "type": "dataframe",
              "summary": "{\n  \"name\": \"pd\",\n  \"rows\": 5,\n  \"fields\": [\n    {\n      \"column\": 0,\n      \"properties\": {\n        \"dtype\": \"number\",\n        \"std\": 2,\n        \"min\": 1,\n        \"max\": 7,\n        \"num_unique_values\": 5,\n        \"samples\": [\n          2,\n          7,\n          3\n        ],\n        \"semantic_type\": \"\",\n        \"description\": \"\"\n      }\n    }\n  ]\n}"
            }
          },
          "metadata": {},
          "execution_count": 113
        },
        {
          "output_type": "display_data",
          "data": {
            "text/plain": [
              "<google.colab._quickchart_helpers.SectionTitle at 0x7e3058814290>"
            ],
            "text/html": [
              "<h4 class=\"colab-quickchart-section-title\">Distributions</h4>\n",
              "<style>\n",
              "  .colab-quickchart-section-title {\n",
              "      clear: both;\n",
              "  }\n",
              "</style>"
            ]
          },
          "metadata": {}
        },
        {
          "output_type": "display_data",
          "data": {
            "text/plain": [
              "from matplotlib import pyplot as plt\n",
              "_df_0['index'].plot(kind='hist', bins=20, title='index')\n",
              "plt.gca().spines[['top', 'right',]].set_visible(False)"
            ],
            "text/html": [
              "      <div class=\"colab-quickchart-chart-with-code\" id=\"chart-55c225ab-787b-424e-829b-5f170f96b923\">\n",
              "        <img style=\"width: 180px;\" src=\"data:image/png;base64,iVBORw0KGgoAAAANSUhEUgAAAioAAAGrCAYAAADuNLxTAAAAOnRFWHRTb2Z0d2FyZQBNYXRwbG90\n",
              "bGliIHZlcnNpb24zLjEwLjAsIGh0dHBzOi8vbWF0cGxvdGxpYi5vcmcvlHJYcgAAAAlwSFlzAAAP\n",
              "YQAAD2EBqD+naQAAH+hJREFUeJzt3XtwVOX9x/HPkthV0SSCpESSJQ25AGoSgkljoN4YW7QCljhW\n",
              "bDSp5iLaoZ3YQiMyArYGbbVSHCQQJxWZeimJmoLoVEFFRSFeMYgQIGzASBwpSVohkM35/cG4P7Yh\n",
              "mo17ss+G92tmZ7Kbx8P36enOvGf3ZNdhWZYlAAAAAw0K9gAAAAA9IVQAAICxCBUAAGAsQgUAABiL\n",
              "UAEAAMYiVAAAgLEIFQAAYCxCBQAAGItQAQAAxiJUANjmqquu0r333tvn/37ixImaP39+4AYCEHLC\n",
              "gz0AgIFr3bp1wR4BQIjjFRUAAGAsQgWAbS677DLdfffdkiSHw6ElS5ZowoQJOuuss3ThhRfqjTfe\n",
              "8K7t7OzU7NmzNXz4cA0bNkxlZWXdjrd//37deOONGjFihKKjozVjxgx98cUXkqRXX31VgwcP1pYt\n",
              "WyRJlmXppz/9qaZMmSK+exUIXYQKgH5TWVmpxx9/XIcOHdKkSZP0i1/8wvu7Bx54QM8884zWr1+v\n",
              "ffv2KTw8XO+884739x0dHZo0aZLOO+887dixQ7t371Z4eLhuvPFGScejaP78+bruuuv05Zdf6t57\n",
              "79X27dv1xBNPyOFw9PteAQQGoQKg39x5551KTExUeHi4ioqK5Ha7deDAAUlSVVWV7rzzTo0dO1ZO\n",
              "p1Pz58/XOeec4/1v165dq/b2dv3pT3/S4MGDddZZZ2nRokV6+eWXtW/fPknS7373O2VmZmrSpEl6\n",
              "4IEHVF1draioqGBsFUCAcDEtgH5z3nnneX8ePHiwJKm9vV3f//73tW/fPv3gBz/w/j4sLEwul8t7\n",
              "f+fOnTpw4IBPvEiS0+mU2+1WbGysJKm0tFQTJkzQjBkzlJ6ebuNuAPQHQgWAEWJjY9XY2Oi97/F4\n",
              "1NTU5L0/fPhwjRw5Urt27erxGK2trcrPz9ett96qZ555Rv/85z81ZcoUO8cGYDPe+gFghPz8fD34\n",
              "4IPavn27Ojo6tHDhQh08eND7++nTp+vYsWOaN2+eWltbJUktLS16+umnJR2/eDY/P18pKSlasWKF\n",
              "KioqdPPNN2v37t1B2Q+AwCBUABhhzpw5mj59ui699FLFxsbq6NGj+uEPf+j9/dlnn61NmzbJ7Xbr\n",
              "wgsvVEREhHJycvT6669Lku6//3599NFH3otnZ8yYoby8POXm5urw4cPB2haA78hh8Xd7AADAULyi\n",
              "AgAAjEWoAAAAYxEqAADAWIQKAAAwFqECAACMRagAAABjESoAAMBYAyJUFi9eHOwRAACADQZEqOzd\n",
              "uzfYIwAAABsMiFABAAADE6ECAACMRagAAABjESoAAMBYhAoAADAWoQIAAIxFqAAAAGMRKgAAwFiE\n",
              "CgAAMBahAgAAjEWoAAAAYxEqAADAWLaGyqxZsxQfHy+Hw6EPPvigx3WPPfaYkpKSNGrUKBUVFenY\n",
              "sWN2jgUAAEKEraFy3XXX6Y033tDIkSN7XLNnzx7NmzdPGzduVENDgw4cOKDly5fbORYAAAgRtobK\n",
              "JZdcotjY2G9cs3r1ak2dOlXDhw+Xw+HQbbfdpieffLLH9R0dHWpra/O5eTyeQI8OAAAMEB7sAdxu\n",
              "t88rLvHx8XK73T2uLy8v14IFC3wey87OtmW2+N+vteW4ktS46Ke2HRv/j3MY+uw6h5y//sM57B8D\n",
              "9X/nkLuYtqysTK2trT63rKysYI8FAABsEPRXVFwul3bt2uW939jYKJfL1eN6p9Mpp9Pp81hYWJht\n",
              "8wEAgOAJ+isqubm5qq2t1eeffy7LsrRs2TLdcMMNwR4LAAAYwNZQKSkpUWxsrPbt26ef/OQnSkxM\n",
              "lCQVFhaqtrZWkpSQkKAFCxZowoQJSkxM1LBhw1RSUmLnWAAAIETY+tZPRUXFSR+vrKz0uV9UVKSi\n",
              "oiI7RwEAACEo6G/9AAAA9IRQAQAAxiJUAACAsQgVAABgLEIFAAAYi1ABAADGIlQAAICxCBUAAGAs\n",
              "QgUAABiLUAEAAMYiVAAAgLEIFQAAYCxCBQAAGItQAQAAxiJUAACAsQgVAABgLEIFAAAYi1ABAADG\n",
              "IlQAAICxCBUAAGAsQgUAABiLUAEAAMYiVAAAgLEIFQAAYCxCBQAAGItQAQAAxiJUAACAsQgVAABg\n",
              "LEIFAAAYi1ABAADGIlQAAICxCBUAAGAsQgUAABiLUAEAAMYiVAAAgLEIFQAAYCxCBQAAGItQAQAA\n",
              "xiJUAACAsQgVAABgLEIFAAAYi1ABAADGIlQAAICxCBUAAGAsQgUAABiLUAEAAMYiVAAAgLEIFQAA\n",
              "YCxCBQAAGItQAQAAxiJUAACAsQgVAABgLEIFAAAYi1ABAADGIlQAAICxCBUAAGAsQgUAABiLUAEA\n",
              "AMYiVAAAgLEIFQAAYCxCBQAAGMvWUNm5c6dycnKUnJyszMxM1dfXd1vT1dWl0tJSjR07Vqmpqbr8\n",
              "8svV0NBg51gAACBE2BoqJSUlKi4u1o4dOzRnzhwVFBR0W1NbW6s333xTH374oT766CNNmjRJd911\n",
              "l51jAQCAEGFbqLS0tKiurk55eXmSpNzcXDU1NXV7tcThcKijo0NHjhyRZVlqa2tTbGysXWMBAIAQ\n",
              "Em7XgZuamhQTE6Pw8OP/hMPhkMvlktvtVmJionfdlClTtGHDBg0fPlxnn322RowYoddee63H43Z0\n",
              "dKijo8PnMY/HY88mAABAUAX9Ytq6ujp9/PHH2r9/vz777DNNmjRJt912W4/ry8vLFRkZ6XPbvHlz\n",
              "P04MAAD6i22hEhcXp+bmZnV2dkqSLMuS2+2Wy+XyWbdy5UpdccUVioqK0qBBg5Sfn68NGzb0eNyy\n",
              "sjK1trb63LKysuzaBgAACCLbQiU6OloZGRlatWqVJKm6ulqxsbE+b/tIUkJCgtavX6+jR49Kktas\n",
              "WaMLLrigx+M6nU5FRET43MLCwuzaBgAACCLbrlGRpIqKChUUFOi+++5TRESEqqqqJEmFhYWaOnWq\n",
              "pk6dqjvuuEOffPKJ0tLSdNppp2n48OFatmyZnWMBAIAQYWuopKSkaNOmTd0er6ys9P7sdDq1YsUK\n",
              "O8cAAAAhKugX0wIAAPSEUAEAAMYiVAAAgLEIFQAAYCxCBQAAGItQAQAAxiJUAACAsQgVAABgLEIF\n",
              "AAAYi1ABAADGIlQAAICxCBUAAGAsQgUAABiLUAEAAMYiVAAAgLEIFQAAYCxCBQAAGItQAQAAxiJU\n",
              "AACAsQgVAABgLEIFAAAYi1ABAADGIlQAAICxCBUAAGAsQgUAABiLUAEAAMYiVAAAgLEIFQAAYCxC\n",
              "BQAAGItQAQAAxiJUAACAsQgVAABgLEIFAAAYi1ABAADGIlQAAICxCBUAAGAsQgUAABiLUAEAAMYi\n",
              "VAAAgLEIFQAAYCxCBQAAGItQAQAAxiJUAACAsQgVAABgLEIFAAAYi1ABAADGIlQAAICxCBUAAGAs\n",
              "QgUAABiLUAEAAMYiVAAAgLEIFQAAYCxCBQAAGItQAQAAxiJUAACAsQgVAABgLEIFAAAYi1ABAADG\n",
              "IlQAAICxCBUAAGAsQgUAABiLUAEAAMayNVR27typnJwcJScnKzMzU/X19Sddt3XrVl122WUaM2aM\n",
              "xowZo5qaGjvHAgAAISLczoOXlJSouLhYBQUFWr16tQoKCrRlyxafNV999ZWmTZumlStXauLEifJ4\n",
              "PDp48KCdYwEAgBBh2ysqLS0tqqurU15eniQpNzdXTU1Namho8Fn397//XdnZ2Zo4caIkKSwsTMOG\n",
              "DevxuB0dHWpra/O5eTweu7YBAACCyLZQaWpqUkxMjMLDj79o43A45HK55Ha7fdZt27ZNTqdT11xz\n",
              "jdLT03XzzTfriy++6PG45eXlioyM9Llt3rzZrm0AAIAg8jtUXnrppYAO0NnZqZdfflkVFRV6//33\n",
              "NWLECM2cObPH9WVlZWptbfW5ZWVlBXQmAABgBr9DZeHChUpJSdHixYvV1tbW47q4uDg1Nzers7NT\n",
              "kmRZltxut1wul886l8ulyy+/XCNGjJDD4VBeXp7efvvtHo/rdDoVERHhcwsLC/N3GwAAIAT4HSpv\n",
              "vvmmnnrqKX388cdKTk7W7bffrm3btnVbFx0drYyMDK1atUqSVF1drdjYWCUmJvqsu/7667VlyxZv\n",
              "9LzwwgtKS0vry14AAMAA06drVMaNG6cVK1boxRdf1Jo1a5Samqorr7xSW7du9VlXUVGhiooKJScn\n",
              "a9GiRaqqqpIkFRYWqra2VtLxV1Tuuusu5eTkKDU1VevXr9eyZcu+47YAAMBA0Kc/T3755Ze1ZMkS\n",
              "bd26VXfccYduvfVWvfrqq/rZz37m81c9KSkp2rRpU7f/vrKy0uf+TTfdpJtuuqkvowAAgAHM71AZ\n",
              "M2aMzj33XM2aNUvTp0/3Xh9y3XXX6bHHHgv4gAAA4NTld6isWrVK48ePP+nv1q1b950HAgAA+Jrf\n",
              "16i8++67Pp8c++WXX2rFihUBHQoAAEDqQ6gsXbpUQ4YM8d4fOnSoli5dGtChAAAApD6EimVZ3R7j\n",
              "I+wBAIAd/A6VmJgYPfPMM977Tz/9tGJiYgI6FAAAgNSHi2kffvhhTZs2TbNnz5YknXnmmXr++ecD\n",
              "PhgAAIDfoTJ69Ght27ZNn376qaTjn5XCR9gDAAA79OkD3xwOh6KiotTZ2an9+/dLUrfv8AEAAPiu\n",
              "/A6Vv/3tb5o1a5ZOO+00DRp0/BIXh8OhlpaWgA8HAABObX6Hyr333qstW7YoJSXFjnkAAAC8/P6r\n",
              "n3PPPZdIAQAA/cLvULn22mv18MMPq6WlRW1tbd4bAABAoPn91s/cuXMlSaWlpXI4HLIsSw6Hgw99\n",
              "AwAAAed3qHR1ddkxBwAAQDd+v/UjHf9iwieeeEKSdOjQITU3Nwd0KAAAAKmPX0p4yy23aP78+ZKO\n",
              "f3vyjTfeGOi5AAAA/A+V5cuX6+2331ZERIQkadSoUfriiy8CPhgAAIDfoeJ0OnXGGWf4PBYe3qcP\n",
              "uAUAAPhGfofKsGHDtGPHDjkcDknHP6mWj88HAAB26NO3J8+YMUPbt29XXFycIiIitGbNGjtmAwAA\n",
              "pzi/QyUxMVHvvPOOPv30U1mWxbcnAwAA2/gdKm63W5I0ePBgSeLbkwEAgG38DpXx48d7P5H2yJEj\n",
              "+uqrrzR06FC+PRkAAASc36Hyv3+KXFNTow8//DBgAwEAAHytT59Me6Lp06dr7dq1gZgFAADAh9+v\n",
              "qJz4Tckej0fvvPMO354MAABs4XeoREVFea9RCQsLU1JSkv7617/aMRsAADjF8e3JAADAWN/5GhUA\n",
              "AAC7+P2KyqBBg7wfn38iy7LkcDjk8XgCMhgAAIDfobJw4UIdPnxYM2fOlCQtW7ZMZ5xxhn7zm98E\n",
              "ejYAAHCK8ztUnn32Wb377rve+3/4wx80fvx4zZ07N6CDAQAA+H2NSnt7u8+n0La0tKi9vT2gQwEA\n",
              "AEh9eEXlzjvvVFpamq6++mpJ0osvvqj58+cHei4AAAD/Q6WkpEQTJkzQhg0bJEmlpaU6//zzAz4Y\n",
              "AACA36EiSUOHDtWFF16oyy67TJ2dnTp69Ki+973vBXo2AABwivP7GpXVq1crOztbv/zlLyVJ9fX1\n",
              "uvbaawM9FwAAgP+hUl5ervfee09RUVGSpLS0NO3duzfQcwEAAPgfKmFhYRo6dKjPY7ztAwAA7OB3\n",
              "qJx99tk6cOCA99NpX3nlFQ0ZMiTggwEAAPh9Me3999+vq666Srt379bEiRO1Z88erV271o7ZAADA\n",
              "Kc6vUOnq6pLH49GGDRv01ltvybIs5eTkeK9XAQAACCS/QmXQoEEqLi7Whx9+qKuuusqumQAAACT1\n",
              "4RqVpKQkNTQ02DELAACAD7+vUTl48KDS09OVk5Ojs846y/t4TU1NQAcDAADodagUFxdr+fLlys/P\n",
              "19SpU3XOOefYORcAAEDvQ6Wurk6SlJ+fr4yMDL333nu2DQUAACD14RoVSbIsK9BzAAAAdNPrV1QO\n",
              "Hz6srVu3yrIsHTlyxPvz11JTU20ZEAAAnLr8CpWpU6d675/4s8Ph0O7duwM7GQAAOOX1OlQaGxtt\n",
              "HAMAAKC7Pl2jAgAA0B8IFQAAYCxCBQAAGItQAQAAxiJUAACAsQgVAABgLEIFAAAYi1ABAADGIlQA\n",
              "AICxbA2VnTt3KicnR8nJycrMzFR9fX2Pay3L0hVXXKGoqCg7RwIAACHE1lApKSlRcXGxduzYoTlz\n",
              "5qigoKDHtX/5y180atQoO8cBAAAhxrZQaWlpUV1dnfLy8iRJubm5ampqUkNDQ7e19fX1eu655/T7\n",
              "3//+W4/b0dGhtrY2n5vH4wn4/AAAIPhsC5WmpibFxMQoPPz49x46HA65XC653W6fdceOHVNRUZEq\n",
              "KioUFhb2rcctLy9XZGSkz23z5s227AEAAARX0C+mXbBggaZPn64xY8b0an1ZWZlaW1t9bllZWTZP\n",
              "CQAAgiHcrgPHxcWpublZnZ2dCg8Pl2VZcrvdcrlcPutee+01ud1uPfLII+rs7FRbW5vi4+O1ZcsW\n",
              "DRs2rNtxnU6nnE6nz2O9eSUGAACEHtteUYmOjlZGRoZWrVolSaqurlZsbKwSExN91m3cuFF79+5V\n",
              "Y2Oj3njjDUVERKixsfGkkQIAAE4ttr71U1FRoYqKCiUnJ2vRokWqqqqSJBUWFqq2ttbOfxoAAAwA\n",
              "tr31I0kpKSnatGlTt8crKytPuj4+Pl6HDh2ycyQAABBCgn4xLQAAQE8IFQAAYCxCBQAAGItQAQAA\n",
              "xiJUAACAsQgVAABgLEIFAAAYi1ABAADGIlQAAICxCBUAAGAsQgUAABiLUAEAAMYiVAAAgLEIFQAA\n",
              "YCxCBQAAGItQAQAAxiJUAACAsQgVAABgLEIFAAAYi1ABAADGIlQAAICxCBUAAGAsQgUAABiLUAEA\n",
              "AMYiVAAAgLEIFQAAYCxCBQAAGItQAQAAxiJUAACAsQgVAABgLEIFAAAYi1ABAADGIlQAAICxCBUA\n",
              "AGAsQgUAABiLUAEAAMYiVAAAgLEIFQAAYCxCBQAAGItQAQAAxiJUAACAsQgVAABgLEIFAAAYi1AB\n",
              "AADGIlQAAICxCBUAAGAsQgUAABiLUAEAAMYiVAAAgLEIFQAAYCxCBQAAGItQAQAAxiJUAACAsQgV\n",
              "AABgLEIFAAAYi1ABAADGIlQAAICxCBUAAGAsQgUAABiLUAEAAMYiVAAAgLEIFQAAYCxbQ2Xnzp3K\n",
              "yclRcnKyMjMzVV9f323N+vXrlZWVpbFjx+r888/X7Nmz1dXVZedYAAAgRNgaKiUlJSouLtaOHTs0\n",
              "Z84cFRQUdFtzzjnn6KmnntK2bdv07rvv6q233tLKlSvtHAsAAIQI20KlpaVFdXV1ysvLkyTl5uaq\n",
              "qalJDQ0NPuvGjRunhIQESdLpp5+u9PR0NTY29njcjo4OtbW1+dw8Ho9d2wAAAEFkW6g0NTUpJiZG\n",
              "4eHhkiSHwyGXyyW3293jf/P5559r9erVuuaaa3pcU15ersjISJ/b5s2bAz4/AAAIPmMupm1ra9OU\n",
              "KVM0e/ZsXXTRRT2uKysrU2trq88tKyurHycFAAD9JdyuA8fFxam5uVmdnZ0KDw+XZVlyu91yuVzd\n",
              "1ra3t2vy5MmaNm2aSktLv/G4TqdTTqfT57GwsLCAzg4AAMxg2ysq0dHRysjI0KpVqyRJ1dXVio2N\n",
              "VWJios+6//znP5o8ebImT56su+++265xAABACLL1rZ+KigpVVFQoOTlZixYtUlVVlSSpsLBQtbW1\n",
              "kqTFixdr8+bNqqmpUXp6utLT0/XHP/7RzrEAAECIsO2tH0lKSUnRpk2buj1eWVnp/Xnu3LmaO3eu\n",
              "nWMAAIAQZczFtAAAAP+LUAEAAMYiVAAAgLEIFQAAYCxCBQAAGItQAQAAxiJUAACAsQgVAABgLEIF\n",
              "AAAYi1ABAADGIlQAAICxCBUAAGAsQgUAABiLUAEAAMYiVAAAgLEIFQAAYCxCBQAAGItQAQAAxiJU\n",
              "AACAsQgVAABgLEIFAAAYi1ABAADGIlQAAICxCBUAAGAsQgUAABiLUAEAAMYiVAAAgLEIFQAAYCxC\n",
              "BQAAGItQAQAAxiJUAACAsQgVAABgLEIFAAAYi1ABAADGIlQAAICxCBUAAGAsQgUAABiLUAEAAMYi\n",
              "VAAAgLEIFQAAYCxCBQAAGItQAQAAxiJUAACAsQgVAABgLEIFAAAYi1ABAADGIlQAAICxCBUAAGAs\n",
              "QgUAABiLUAEAAMYiVAAAgLEIFQAAYCxCBQAAGItQAQAAxiJUAACAsQgVAABgLEIFAAAYi1ABAADG\n",
              "IlQAAICxCBUAAGAsQgUAABjL1lDZuXOncnJylJycrMzMTNXX15903WOPPaakpCSNGjVKRUVFOnbs\n",
              "mJ1jAQCAEGFrqJSUlKi4uFg7duzQnDlzVFBQ0G3Nnj17NG/ePG3cuFENDQ06cOCAli9fbudYAAAg\n",
              "RNgWKi0tLaqrq1NeXp4kKTc3V01NTWpoaPBZt3r1ak2dOlXDhw+Xw+HQbbfdpieffLLH43Z0dKit\n",
              "rc3n5vF47NoGAAAIonC7DtzU1KSYmBiFhx//JxwOh1wul9xutxITE73r3G63Ro4c6b0fHx8vt9vd\n",
              "43HLy8u1YMECn8dGjx6t0tLSgM7v8XgUs3mzsrKyFBYWFtBjS1Jp6SsBP6a/PB6PNtu4x2Ab6Odw\n",
              "oJ8/yd5zGOzzJ3EOvyvOoa/pNhzT4/Ho4ov/YNv+Ro4cqV//+tffuMa2ULFLWVlZtyhxOp1yOp0B\n",
              "/Xfa2toUGRmpl156SREREQE9tikG+h7ZX+gb6Hsc6PuTBv4e2Z/9bAuVuLg4NTc3q7OzU+Hh4bIs\n",
              "S263Wy6Xy2edy+XSrl27vPcbGxu7rTmRHVECAADMZNs1KtHR0crIyNCqVaskSdXV1YqNjfV520c6\n",
              "fu1KbW2tPv/8c1mWpWXLlumGG26waywAABBCbP2rn4qKClVUVCg5OVmLFi1SVVWVJKmwsFC1tbWS\n",
              "pISEBC1YsEATJkxQYmKihg0bppKSEjvHAgAAIcLWa1RSUlK0adOmbo9XVlb63C8qKlJRUZGdo/jN\n",
              "6XTqnnvuGdBvMw30PbK/0DfQ9zjQ9ycN/D2yP/s5LMuygvavAwAAfAM+Qh8AABiLUAEAAMYiVAAA\n",
              "gLEIFQAAYKxTPlROhW947s0eX331VZ1xxhlKT0/33g4fPhyEaf0za9YsxcfHy+Fw6IMPPuhxXSif\n",
              "v97sMVTPnyQdOXJE1157rZKTk5WWlqYrr7yy23eCfW3NmjUaPXq0kpKSNH36dLW1tfXztP7r7f4a\n",
              "GxsVFhbmcw5P/DBM0/34xz9Wamqq0tPT9aMf/Ujvv//+SdeF6nOxN/sL5efh16qqquRwOPTcc8+d\n",
              "9PdBeQ5ap7jLL7/cqqqqsizLsv7xj39YF110Ubc1u3fvtmJiYqzm5marq6vLmjJlivXII4/086R9\n",
              "15s9btiwwUpLS+vfwQLgtddes5qamqyRI0da77///knXhPr5680eQ/X8WZZlHT582Fq7dq3V1dVl\n",
              "WZZlLVmyxLr00ku7rWtvb7eio6OtTz75xLIsy7rjjjus3/72t/05ap/0dn979uyxIiMj+3e4APr3\n",
              "v//t/bmmpsZKTU3ttiaUn4u92V8oPw8t6/j/By+++GIrOzvbevbZZ7v9PljPwVP6FRW7vuHZJL3d\n",
              "Y6i65JJLFBsb+41rQvn8Sb3bYyg7/fTTdfXVV8vhcEiSsrOz1djY2G3dunXrNG7cOI0ePVqSdPvt\n",
              "t4fEeezt/kJdVFSU9+fW1lbvfk8Uys/F3uwvlHV1damwsFBLlizp8TNTgvUcPKVD5Zu+4flE/n7D\n",
              "s0l6u0dJ2rVrlzIyMpSZmamlS5f296i2CeXz54+Bcv4WL16sadOmdXv8ZOfx6+8TCyU97U+S/vvf\n",
              "/yozM1MZGRlauHChPB5PP0/33dx8882Ki4vTvHnz9MQTT3T7fag/F79tf1LoPg8feughTZgwQePH\n",
              "j+9xTbCegyH37cmwR0ZGhvbt26fIyEjt27dPV199tc4991xdf/31wR4NvTBQzt99992nhoYGvfLK\n",
              "K8EexRbftL+YmBjt379f0dHROnjwoH7+85/rwQcf1OzZs4Mwad+sXLlSkvT4449rzpw5euGFF4I8\n",
              "UWB92/5C9Xn48ccfq7q6Wq+//nqwRzmpU/oVlRO/4VnSN37D8969e733v+0bnk3S2z1GREQoMjJS\n",
              "khQbG6sZM2Zo48aN/T6vHUL5/PXWQDh/f/7zn1VTU6N169bpzDPP7Pb7k53HE18tNN237c/pdCo6\n",
              "OlqSNGTIEN1yyy0hdw6/lp+frw0bNujLL7/0eXygPBd72l+oPg83btyoxsZGJSUlKT4+Xm+//baK\n",
              "i4v16KOP+qwL1nPwlA6VU+Ebnnu7x+bmZnV1dUmS2tvbtWbNGo0bN67f57VDKJ+/3gr18/fQQw/p\n",
              "ySef1L/+9S+fawFONHnyZL333nvavn27JGnp0qUhcx57s7+WlhbvX8B0dHSopqYmZM7hoUOH9Nln\n",
              "n3nvP/fccxo6dKiGDBnisy5Un4u93V+oPg9nzpyp5uZmNTY2qrGxUdnZ2Vq+fLlmzpzpsy5oz0Hb\n",
              "L9c13Pbt263s7GwrKSnJGj9+vPXRRx9ZlmVZt956q/X888971y1fvtxKSEiwEhISrFtuucU6evRo\n",
              "sEb2W2/2uGTJEmvs2LFWamqqNXbsWOuee+7x/pWCyYqLi60RI0ZYYWFhVnR0tDVq1CjLsgbW+evN\n",
              "HkP1/FmWZTU1NVmSrISEBCstLc1KS0uzsrKyLMuyrHnz5lmPPvqod+3zzz9vpaSkWKNGjbKmTZtm\n",
              "HTp0KFhj91pv91ddXW2df/753nP4q1/9yjpy5EgwR++1xsZGKzMz07rgggus1NRUa9KkSd6/UBsI\n",
              "z8Xe7i+Un4cnuvTSS71/9WPCc5AvJQQAAMY6pd/6AQAAZiNUAACAsQgVAABgLEIFAAAYi1ABAADG\n",
              "IlQAAICxCBUAAGAsQgUAABiLUAEAAMYiVAAAgLH+D6LLCLtcNjEOAAAAAElFTkSuQmCC\n",
              "\">\n",
              "      </div>\n",
              "      <script type=\"text/javascript\">\n",
              "        (() => {\n",
              "          const chartElement = document.getElementById(\"chart-55c225ab-787b-424e-829b-5f170f96b923\");\n",
              "          async function getCodeForChartHandler(event) {\n",
              "            const chartCodeResponse =  await google.colab.kernel.invokeFunction(\n",
              "                'getCodeForChart', [\"chart-55c225ab-787b-424e-829b-5f170f96b923\"], {});\n",
              "            const responseJson = chartCodeResponse.data['application/json'];\n",
              "            await google.colab.notebook.addCell(responseJson.code, 'code');\n",
              "          }\n",
              "          chartElement.onclick = getCodeForChartHandler;\n",
              "        })();\n",
              "      </script>\n",
              "      <style>\n",
              "        .colab-quickchart-chart-with-code  {\n",
              "            display: block;\n",
              "            float: left;\n",
              "            border: 1px solid transparent;\n",
              "        }\n",
              "\n",
              "        .colab-quickchart-chart-with-code:hover {\n",
              "            cursor: pointer;\n",
              "            border: 1px solid #aaa;\n",
              "        }\n",
              "      </style>"
            ]
          },
          "metadata": {}
        },
        {
          "output_type": "display_data",
          "data": {
            "text/plain": [
              "from matplotlib import pyplot as plt\n",
              "_df_1[0].plot(kind='hist', bins=20, title=0)\n",
              "plt.gca().spines[['top', 'right',]].set_visible(False)"
            ],
            "text/html": [
              "      <div class=\"colab-quickchart-chart-with-code\" id=\"chart-0f76bdaf-a79f-449c-a76f-ace53d05ec07\">\n",
              "        <img style=\"width: 180px;\" src=\"data:image/png;base64,iVBORw0KGgoAAAANSUhEUgAAAioAAAGZCAYAAACnhhr1AAAAOnRFWHRTb2Z0d2FyZQBNYXRwbG90\n",
              "bGliIHZlcnNpb24zLjEwLjAsIGh0dHBzOi8vbWF0cGxvdGxpYi5vcmcvlHJYcgAAAAlwSFlzAAAP\n",
              "YQAAD2EBqD+naQAAG5dJREFUeJzt3X+QVfV9//HXBewmaQUiQmGElSIsYqqsGBiKJhPjtNF8E7Bi\n",
              "27QlQiuw2nRshsxIiHEa0kTsTMbGNJNhEYYOYWp0gFhG2zo1WmsiEdBoFNsAhnU3CT8craxJdOMu\n",
              "9/uHk/1mv4hhcS/3s/p4zJwZ7vXDue97xnWennv2nkq1Wq0GAKBAQ+o9AADAsQgVAKBYQgUAKJZQ\n",
              "AQCKJVQAgGIJFQCgWEIFACiWUAEAiiVUAIBivSVC5dZbb633CABADbwlQuXZZ5+t9wgAQA28JUIF\n",
              "AHhrEioAQLGECgBQLKECABRLqAAAxRIqAECxhAoAUCyhAgAUS6gAAMUSKgBAsYQKAFAsoQIAFKum\n",
              "oXLddddl4sSJqVQqefzxx4+5bt26dZkyZUrOOuusLFmyJK+++motxwIABomahsqVV16Zb3/72znz\n",
              "zDOPuWbfvn258cYb89BDD2Xv3r05ePBg1qxZU8uxAIBBoqah8v73vz/jx49/wzWbNm3K3LlzM3bs\n",
              "2FQqlVxzzTW5/fbbj7m+q6srnZ2dfbaenp6BHh0AKMCweg/Q3t7e54zLxIkT097efsz1q1atysqV\n",
              "K/s8N3v27JrMNvHT99Rkv0nSdvP/qdm+a8Xx6KtWx2MwHotacpzh+LxVf1YG3cW0K1asyOHDh/ts\n",
              "s2bNqvdYAEAN1P2MSmNjY5555pnex21tbWlsbDzm+oaGhjQ0NPR5bujQoTWbDwCon7qfUZk/f362\n",
              "bt2aAwcOpFqtZvXq1fnYxz5W77EAgALUNFRaWloyfvz4/OhHP8qHPvShTJ48OUmyePHibN26NUky\n",
              "adKkrFy5MhdeeGEmT56c0aNHp6WlpZZjAQCDRE0/+mltbX3d59euXdvn8ZIlS7JkyZJajgIADEJ1\n",
              "/+gHAOBYhAoAUCyhAgAUS6gAAMUSKgBAsYQKAFAsoQIAFEuoAADFEioAQLGECgBQLKECABRLqAAA\n",
              "xRIqAECxhAoAUCyhAgAUS6gAAMUSKgBAsYQKAFAsoQIAFEuoAADFEioAQLGECgBQLKECABRLqAAA\n",
              "xRIqAECxhAoAUCyhAgAUS6gAAMUSKgBAsYQKAFAsoQIAFEuoAADFEioAQLGECgBQLKECABRLqAAA\n",
              "xRIqAECxhAoAUCyhAgAUS6gAAMUSKgBAsYQKAFAsoQIAFEuoAADFEioAQLGECgBQLKECABRLqAAA\n",
              "xRIqAECxhAoAUCyhAgAUS6gAAMUSKgBAsYQKAFAsoQIAFEuoAADFEioAQLGECgBQLKECABRLqAAA\n",
              "xRIqAECxahoqe/bsyZw5c9LU1JSZM2dm165dR605cuRIli1blnPOOSfnnXdeLr744uzdu7eWYwEA\n",
              "g0RNQ6WlpSVLly7N7t27s3z58ixatOioNVu3bs13vvOdPPHEE/n+97+fSy65JJ/5zGdqORYAMEjU\n",
              "LFQOHTqUnTt3ZsGCBUmS+fPnp6Oj46izJZVKJV1dXXnllVdSrVbT2dmZ8ePH12osAGAQGVarHXd0\n",
              "dGTcuHEZNuy1l6hUKmlsbEx7e3smT57cu+6jH/1oHnjggYwdOzannnpqzjjjjDz44IPH3G9XV1e6\n",
              "urr6PNfT01ObNwEA1FXdL6bduXNnnnrqqfz4xz/OT37yk1xyySW55pprjrl+1apVGTFiRJ9t+/bt\n",
              "J3FiAOBkqVmoTJgwIfv37093d3eSpFqtpr29PY2NjX3WbdiwIR/84AczcuTIDBkyJAsXLswDDzxw\n",
              "zP2uWLEihw8f7rPNmjWrVm8DAKijmoXKmDFjMmPGjGzcuDFJsnnz5owfP77Pxz5JMmnSpNx///35\n",
              "xS9+kSS5++6787u/+7vH3G9DQ0OGDx/eZxs6dGit3gYAUEc1u0YlSVpbW7No0aLcdNNNGT58eNav\n",
              "X58kWbx4cebOnZu5c+fmE5/4RP77v/8706dPzymnnJKxY8dm9erVtRwLABgkahoqU6dOzbZt2456\n",
              "fu3atb1/bmhoyG233VbLMQCAQaruF9MCAByLUAEAiiVUAIBiCRUAoFhCBQAollABAIolVACAYgkV\n",
              "AKBYQgUAKJZQAQCKJVQAgGIJFQCgWEIFACiWUAEAiiVUAIBiCRUAoFhCBQAollABAIolVACAYgkV\n",
              "AKBYQgUAKJZQAQCKJVQAgGIJFQCgWEIFACiWUAEAiiVUAIBiCRUAoFhCBQAollABAIolVACAYgkV\n",
              "AKBYQgUAKJZQAQCKJVQAgGIJFQCgWEIFACiWUAEAiiVUAIBiCRUAoFhCBQAollABAIolVACAYgkV\n",
              "AKBYQgUAKJZQAQCKJVQAgGIJFQCgWEIFACiWUAEAiiVUAIBiCRUAoFhCBQAollABAIolVACAYgkV\n",
              "AKBYQgUAKJZQAQCKJVQAgGIJFQCgWEIFAChWTUNlz549mTNnTpqamjJz5szs2rXrddc9+eST+cAH\n",
              "PpBp06Zl2rRp2bJlSy3HAgAGiWG13HlLS0uWLl2aRYsWZdOmTVm0aFF27NjRZ83Pf/7zzJs3Lxs2\n",
              "bMhFF12Unp6evPDCC7UcCwAYJGp2RuXQoUPZuXNnFixYkCSZP39+Ojo6snfv3j7r/vmf/zmzZ8/O\n",
              "RRddlCQZOnRoRo8eXauxAIBBpGah0tHRkXHjxmXYsNdO2lQqlTQ2Nqa9vb3PuqeffjoNDQ35yEc+\n",
              "kubm5lx11VV57rnnjrnfrq6udHZ29tl6enpq9TYAgDqq+8W03d3due+++9La2prvfe97OeOMM3Lt\n",
              "tdcec/2qVasyYsSIPtv27dtP4sQAwMnS71C59957j2vdhAkTsn///nR3dydJqtVq2tvb09jY2Gdd\n",
              "Y2NjLr744pxxxhmpVCpZsGBBvvvd7x5zvytWrMjhw4f7bLNmzerv2wAABoF+h8rnP//5TJ06Nbfe\n",
              "ems6OzuPuW7MmDGZMWNGNm7cmCTZvHlzxo8fn8mTJ/dZ98d//MfZsWNH777+9V//NdOnTz/mfhsa\n",
              "GjJ8+PA+29ChQ/v7NgCAQaDfofKd73wn3/jGN/LUU0+lqakpf/VXf5Wnn376dde2tramtbU1TU1N\n",
              "ufnmm7N+/fokyeLFi7N169Ykr51R+cxnPpM5c+bkvPPOy/3335/Vq1e/ibcEALxVnNCvJ59//vm5\n",
              "7bbb8vjjj2fu3LlZs2ZNLr744txyyy0599xze9dNnTo127ZtO+rvr127ts/jj3/84/n4xz9+IqMA\n",
              "AG9hJ3Qx7X333Zd58+bliiuuyCc+8YkcOHAgLS0t+cM//MOBng8AeBvr9xmVadOm5fTTT891112X\n",
              "K664ovf6kCuvvDLr1q0b8AEBgLevfofKxo0bc8EFF7zuP/u3f/u3Nz0QAMAv9fujn0cffbTPV9w/\n",
              "//zzue222wZ0KACA5ARC5Wtf+1pOO+203sejRo3K1772tQEdCgAgOYFQqVarRz3nK+wBgFrod6iM\n",
              "Gzcud955Z+/jO+64I+PGjRvQoQAAkhO4mPbLX/5y5s2bl+uvvz5J8q53vSv/8i//MuCDAQD0O1TO\n",
              "PvvsPP300/nBD36Q5LUvdfMV9gBALZzQN9NWKpWMHDky3d3d+fGPf5wkR91sEADgzep3qPzTP/1T\n",
              "rrvuupxyyikZMuS1S1wqlUoOHTo04MMBAG9v/Q6Vv/u7v8uOHTsyderUWswDANCr37/1c/rpp4sU\n",
              "AOCk6HeoXH755fnyl7+cQ4cOpbOzs3cDABho/f7o54YbbkiSLFu2LJVKJdVqNZVKxZe+AQADrt+h\n",
              "cuTIkVrMAQBwlH5/9JO8dmPCr3/960mSF198Mfv37x/QoQAAkhO8KeFf/uVf5nOf+1yS1+6e/Gd/\n",
              "9mcDPRcAQP9DZc2aNfnud7+b4cOHJ0nOOuusPPfccwM+GABAv0OloaEh73znO/s8N2zYCX3BLQDA\n",
              "G+p3qIwePTq7d+9OpVJJ8to31fr6fACgFk7o7sl/+qd/mv/5n//JhAkTMnz48Nx99921mA0AeJvr\n",
              "d6hMnjw5jzzySH7wgx+kWq26ezIAUDP9DpX29vYkyW/+5m8mibsnAwA10+9QueCCC3q/kfaVV17J\n",
              "z3/+84waNcrdkwGAAdfvUPn/fxV5y5YteeKJJwZsIACAXzqhb6b9VVdccUXuueeegZgFAKCPfp9R\n",
              "+dU7Jff09OSRRx5x92QAoCb6HSojR47svUZl6NChmTJlSr7yla/UYjYA4G3O3ZMBgGK96WtUAABq\n",
              "pd9nVIYMGdL79fm/qlqtplKppKenZ0AGAwDod6h8/vOfz8svv5xrr702SbJ69eq8853vzCc/+cmB\n",
              "ng0AeJvrd6h885vfzKOPPtr7+Atf+EIuuOCC3HDDDQM6GABAv69Reemll/p8C+2hQ4fy0ksvDehQ\n",
              "AADJCZxR+dSnPpXp06fnwx/+cJLk3//93/O5z31uoOcCAOh/qLS0tOTCCy/MAw88kCRZtmxZ3vOe\n",
              "9wz4YAAA/Q6VJBk1alTOPffcfOADH0h3d3d+8Ytf5Dd+4zcGejYA4G2u39eobNq0KbNnz85f/MVf\n",
              "JEl27dqVyy+/fKDnAgDof6isWrUqjz32WEaOHJkkmT59ep599tmBngsAoP+hMnTo0IwaNarPcz72\n",
              "AQBqod+hcuqpp+bgwYO93077rW99K6eddtqADwYA0O+Laf/+7/8+l112WX74wx/moosuyr59+3LP\n",
              "PffUYjYA4G2uX6Fy5MiR9PT05IEHHsjDDz+carWaOXPm9F6vAgAwkPoVKkOGDMnSpUvzxBNP5LLL\n",
              "LqvVTAAASU7gGpUpU6Zk7969tZgFAKCPfl+j8sILL6S5uTlz5szJb/3Wb/U+v2XLlgEdDADguENl\n",
              "6dKlWbNmTRYuXJi5c+fm3e9+dy3nAgA4/lDZuXNnkmThwoWZMWNGHnvssZoNBQCQnMA1KklSrVYH\n",
              "eg4AgKMc9xmVl19+OU8++WSq1WpeeeWV3j//0nnnnVeTAQGAt69+hcrcuXN7H//qnyuVSn74wx8O\n",
              "7GQAwNvecYdKW1tbDccAADjaCV2jAgBwMggVAKBYQgUAKJZQAQCKJVQAgGIJFQCgWEIFACiWUAEA\n",
              "iiVUAIBi1TRU9uzZkzlz5qSpqSkzZ87Mrl27jrm2Wq3mgx/8YEaOHFnLkQCAQaSmodLS0pKlS5dm\n",
              "9+7dWb58eRYtWnTMtf/wD/+Qs846q5bjAACDTM1C5dChQ9m5c2cWLFiQJJk/f346Ojqyd+/eo9bu\n",
              "2rUrd911Vz796U//2v12dXWls7Ozz9bT0zPg8wMA9VezUOno6Mi4ceMybNhr9z2sVCppbGxMe3t7\n",
              "n3WvvvpqlixZktbW1gwdOvTX7nfVqlUZMWJEn2379u01eQ8AQH3V/WLalStX5oorrsi0adOOa/2K\n",
              "FSty+PDhPtusWbNqPCUAUA/DarXjCRMmZP/+/enu7s6wYcNSrVbT3t6exsbGPusefPDBtLe356tf\n",
              "/Wq6u7vT2dmZiRMnZseOHRk9evRR+21oaEhDQ0Of547nTAwAMPjU7IzKmDFjMmPGjGzcuDFJsnnz\n",
              "5owfPz6TJ0/us+6hhx7Ks88+m7a2tnz729/O8OHD09bW9rqRAgC8vdT0o5/W1ta0tramqakpN998\n",
              "c9avX58kWbx4cbZu3VrLlwYA3gJq9tFPkkydOjXbtm076vm1a9e+7vqJEyfmxRdfrOVIAMAgUveL\n",
              "aQEAjkWoAADFEioAQLGECgBQLKECABRLqAAAxRIqAECxhAoAUCyhAgAUS6gAAMUSKgBAsYQKAFAs\n",
              "oQIAFEuoAADFEioAQLGECgBQLKECABRLqAAAxRIqAECxhAoAUCyhAgAUS6gAAMUSKgBAsYQKAFAs\n",
              "oQIAFEuoAADFEioAQLGECgBQLKECABRLqAAAxRIqAECxhAoAUCyhAgAUS6gAAMUSKgBAsYQKAFAs\n",
              "oQIAFEuoAADFEioAQLGECgBQLKECABRLqAAAxRIqAECxhAoAUCyhAgAUS6gAAMUSKgBAsYQKAFAs\n",
              "oQIAFEuoAADFEioAQLGECgBQLKECABRLqAAAxRIqAECxhAoAUCyhAgAUS6gAAMUSKgBAsYQKAFAs\n",
              "oQIAFKumobJnz57MmTMnTU1NmTlzZnbt2nXUmvvvvz+zZs3KOeeck/e85z25/vrrc+TIkVqOBQAM\n",
              "EjUNlZaWlixdujS7d+/O8uXLs2jRoqPWvPvd7843vvGNPP3003n00Ufz8MMPZ8OGDbUcCwAYJGoW\n",
              "KocOHcrOnTuzYMGCJMn8+fPT0dGRvXv39ll3/vnnZ9KkSUmSd7zjHWlubk5bW1utxgIABpFhtdpx\n",
              "R0dHxo0bl2HDXnuJSqWSxsbGtLe3Z/Lkya/7dw4cOJBNmzbl7rvvPuZ+u7q60tXV1ee5np6egRsc\n",
              "AChGMRfTdnZ25qMf/Wiuv/76vPe97z3mulWrVmXEiBF9tu3bt5/ESQGAk6VmoTJhwoTs378/3d3d\n",
              "SZJqtZr29vY0NjYetfall17KpZdemnnz5mXZsmVvuN8VK1bk8OHDfbZZs2bV5D0AAPVVs1AZM2ZM\n",
              "ZsyYkY0bNyZJNm/enPHjxx/1sc9Pf/rTXHrppbn00kvz2c9+9tfut6GhIcOHD++zDR06tCbvAQCo\n",
              "r5p+9NPa2prW1tY0NTXl5ptvzvr165MkixcvztatW5Mkt956a7Zv354tW7akubk5zc3N+eIXv1jL\n",
              "sQCAQaJmF9MmydSpU7Nt27ajnl+7dm3vn2+44YbccMMNtRwDABikirmYFgDg/ydUAIBiCRUAoFhC\n",
              "BQAollABAIolVACAYgkVAKBYQgUAKJZQAQCKJVQAgGIJFQCgWEIFACiWUAEAiiVUAIBiCRUAoFhC\n",
              "BQAollABAIolVACAYgkVAKBYQgUAKJZQAQCKJVQAgGIJFQCgWEIFACiWUAEAiiVUAIBiCRUAoFhC\n",
              "BQAollABAIolVACAYgkVAKBYQgUAKJZQAQCKJVQAgGIJFQCgWEIFACiWUAEAiiVUAIBiCRUAoFhC\n",
              "BQAollABAIolVACAYgkVAKBYQgUAKJZQAQCKJVQAgGIJFQCgWEIFACiWUAEAiiVUAIBiCRUAoFhC\n",
              "BQAollABAIolVACAYgkVAKBYQgUAKJZQAQCKJVQAgGIJFQCgWEIFACiWUAEAiiVUAIBi1TRU9uzZ\n",
              "kzlz5qSpqSkzZ87Mrl27XnfdunXrMmXKlJx11llZsmRJXn311VqOBQAMEjUNlZaWlixdujS7d+/O\n",
              "8uXLs2jRoqPW7Nu3LzfeeGMeeuih7N27NwcPHsyaNWtqORYAMEjULFQOHTqUnTt3ZsGCBUmS+fPn\n",
              "p6OjI3v37u2zbtOmTZk7d27Gjh2bSqWSa665Jrfffvsx99vV1ZXOzs4+W09PT63eBgBQR8NqteOO\n",
              "jo6MGzcuw4a99hKVSiWNjY1pb2/P5MmTe9e1t7fnzDPP7H08ceLEtLe3H3O/q1atysqVK/s8d/bZ\n",
              "Z2fZsmUDOn9PT0/Gbd+eWbNmZejQoQO67yRZtuxbA77PWrviDf5ZT09Ptr+J4/VWOx5v5Ncdq8F4\n",
              "LGqllj+Hb7Xj/GZ/Bt9O3qrH6kT/m/RGenp68nu/94WaHaszzzwzf/M3f/OGa2oWKrWyYsWKo6Kk\n",
              "oaEhDQ0NA/o6nZ2dGTFiRO69994MHz58QPf9VuR4HT/H6vg5VsfPsTp+jtXxK+FY1SxUJkyYkP37\n",
              "96e7uzvDhg1LtVpNe3t7Ghsb+6xrbGzMM8880/u4ra3tqDW/qhZRAgCUqWbXqIwZMyYzZszIxo0b\n",
              "kySbN2/O+PHj+3zsk7x27crWrVtz4MCBVKvVrF69Oh/72MdqNRYAMIjU9Ld+Wltb09ramqamptx8\n",
              "881Zv359kmTx4sXZunVrkmTSpElZuXJlLrzwwkyePDmjR49OS0tLLccCAAaJml6jMnXq1Gzbtu2o\n",
              "59euXdvn8ZIlS7JkyZJajtJvDQ0N+du//VsfMx0nx+v4OVbHz7E6fo7V8XOsjl8Jx6pSrVardXt1\n",
              "AIA34Cv0AYBiCRUAoFhCBQAollB5Hdddd10mTpyYSqWSxx9/vN7jFO2VV17J5ZdfnqampkyfPj2/\n",
              "//u/f9RtEvh//uAP/iDnnXdempub8773vS/f+9736j1S8davX59KpZK77rqr3qMUa+LEiZk6dWqa\n",
              "m5vT3NycO+64o94jFaurqyt//dd/nSlTpuTcc8/tvc0LR3v++ed7/51qbm5OU1NThg0blhdeeOGk\n",
              "zjHovpn2ZLjyyitz/fXX56KLLqr3KIPC0qVLc9lll6VSqeSrX/1qFi9enP/8z/+s91hFuvPOOzNy\n",
              "5MgkyTe/+c0sWrQoTzzxRH2HKlhbW1tuu+22zJ49u96jFO+OO+5Ic3Nzvcco3qc//elUKpXs3r07\n",
              "lUolBw4cqPdIxRo1alSf/1n/0pe+lAcffDCnnXbaSZ3DGZXX8f73vz/jx4+v9xiDwjve8Y58+MMf\n",
              "TqVSSZLMnj07bW1t9R2qYL+MlCQ5fPhw73HjaEeOHMnixYvzj//4j36NlAHxs5/9LOvWrcsXv/jF\n",
              "3p+9sWPH1nmqwWPdunW5+uqrT/rrChUG1K233pp58+bVe4yiXXXVVZkwYUJuvPHGfP3rX6/3OMW6\n",
              "5ZZbcuGFF+aCCy6o9yiDwlVXXZVzzz03V199dZ577rl6j1OkZ555JqeddlpuuummvPe978373ve+\n",
              "fOtbb62bU9bKww8/nP/93//NRz7ykZP+2kKFAXPTTTdl7969WbVqVb1HKdqGDRvS0dGRL3zhC1m+\n",
              "fHm9xynSU089lc2bN+ezn/1svUcZFP7rv/4r3//+9/PYY4/l9NNPz8KFC+s9UpG6u7vz7LPP5pxz\n",
              "zsnOnTvzla98JX/yJ3+SgwcP1nu04q1bty5XXXVVhg07+VeMuEaFAfGlL30pW7ZsyX333Zd3vetd\n",
              "9R5nUFi4cGGuueaaPP/88xk1alS9xynKQw89lLa2tkyZMiVJcuDAgSxdujT79+/PtddeW+fpyvPL\n",
              "G7mecsop+eQnP5mmpqY6T1SmxsbGDBkyJH/+53+eJDn//PPzO7/zO3nyySfz27/923Werlw//elP\n",
              "c+edd2bHjh11eX1nVHjTbrnlltx+++35j//4jz7XYNDXiy++mJ/85Ce9j++6666MGjXqpF+YNhhc\n",
              "e+212b9/f9ra2tLW1pbZs2dnzZo1IuV1/OxnP8uLL77Y+/j222/P+eefX7+BCnb66afnkksuyb33\n",
              "3psk2bdvX/bt25dp06bVebKy3XHHHZk+fXrOPvvsury+Myqvo6WlJffcc08OHDiQD33oQzn11FP9\n",
              "yu0x/OhHP8qnPvWpTJo0KRdffHGS1+4N8cgjj9R5svIcPnw4f/RHf5SXX345Q4YMyejRo3P33Xe7\n",
              "oJY35eDBg5k/f356enpSrVYzadKkbNiwod5jFWv16tW5+uqrs3z58gwZMiStra0544wz6j1W0dat\n",
              "W1fX+/G51w8AUCwf/QAAxRIqAECxhAoAUCyhAgAUS6gAAMUSKgBAsYQKAFAsoQIAFEuoAADFEioA\n",
              "QLGECgBQrP8Ldpu8LpiOUvcAAAAASUVORK5CYII=\n",
              "\">\n",
              "      </div>\n",
              "      <script type=\"text/javascript\">\n",
              "        (() => {\n",
              "          const chartElement = document.getElementById(\"chart-0f76bdaf-a79f-449c-a76f-ace53d05ec07\");\n",
              "          async function getCodeForChartHandler(event) {\n",
              "            const chartCodeResponse =  await google.colab.kernel.invokeFunction(\n",
              "                'getCodeForChart', [\"chart-0f76bdaf-a79f-449c-a76f-ace53d05ec07\"], {});\n",
              "            const responseJson = chartCodeResponse.data['application/json'];\n",
              "            await google.colab.notebook.addCell(responseJson.code, 'code');\n",
              "          }\n",
              "          chartElement.onclick = getCodeForChartHandler;\n",
              "        })();\n",
              "      </script>\n",
              "      <style>\n",
              "        .colab-quickchart-chart-with-code  {\n",
              "            display: block;\n",
              "            float: left;\n",
              "            border: 1px solid transparent;\n",
              "        }\n",
              "\n",
              "        .colab-quickchart-chart-with-code:hover {\n",
              "            cursor: pointer;\n",
              "            border: 1px solid #aaa;\n",
              "        }\n",
              "      </style>"
            ]
          },
          "metadata": {}
        },
        {
          "output_type": "display_data",
          "data": {
            "text/plain": [
              "<google.colab._quickchart_helpers.SectionTitle at 0x7e30566e6110>"
            ],
            "text/html": [
              "<h4 class=\"colab-quickchart-section-title\">2-d distributions</h4>\n",
              "<style>\n",
              "  .colab-quickchart-section-title {\n",
              "      clear: both;\n",
              "  }\n",
              "</style>"
            ]
          },
          "metadata": {}
        },
        {
          "output_type": "error",
          "ename": "KeyError",
          "evalue": "'0'",
          "traceback": [
            "\u001b[0;31m---------------------------------------------------------------------------\u001b[0m",
            "\u001b[0;31mKeyError\u001b[0m                                  Traceback (most recent call last)",
            "\u001b[0;32m/usr/local/lib/python3.11/dist-packages/pandas/core/indexes/base.py\u001b[0m in \u001b[0;36mget_loc\u001b[0;34m(self, key)\u001b[0m\n\u001b[1;32m   3804\u001b[0m         \u001b[0;32mtry\u001b[0m\u001b[0;34m:\u001b[0m\u001b[0;34m\u001b[0m\u001b[0;34m\u001b[0m\u001b[0m\n\u001b[0;32m-> 3805\u001b[0;31m             \u001b[0;32mreturn\u001b[0m \u001b[0mself\u001b[0m\u001b[0;34m.\u001b[0m\u001b[0m_engine\u001b[0m\u001b[0;34m.\u001b[0m\u001b[0mget_loc\u001b[0m\u001b[0;34m(\u001b[0m\u001b[0mcasted_key\u001b[0m\u001b[0;34m)\u001b[0m\u001b[0;34m\u001b[0m\u001b[0;34m\u001b[0m\u001b[0m\n\u001b[0m\u001b[1;32m   3806\u001b[0m         \u001b[0;32mexcept\u001b[0m \u001b[0mKeyError\u001b[0m \u001b[0;32mas\u001b[0m \u001b[0merr\u001b[0m\u001b[0;34m:\u001b[0m\u001b[0;34m\u001b[0m\u001b[0;34m\u001b[0m\u001b[0m\n",
            "\u001b[0;32mindex.pyx\u001b[0m in \u001b[0;36mpandas._libs.index.IndexEngine.get_loc\u001b[0;34m()\u001b[0m\n",
            "\u001b[0;32mindex.pyx\u001b[0m in \u001b[0;36mpandas._libs.index.IndexEngine.get_loc\u001b[0;34m()\u001b[0m\n",
            "\u001b[0;32mpandas/_libs/hashtable_class_helper.pxi\u001b[0m in \u001b[0;36mpandas._libs.hashtable.PyObjectHashTable.get_item\u001b[0;34m()\u001b[0m\n",
            "\u001b[0;32mpandas/_libs/hashtable_class_helper.pxi\u001b[0m in \u001b[0;36mpandas._libs.hashtable.PyObjectHashTable.get_item\u001b[0;34m()\u001b[0m\n",
            "\u001b[0;31mKeyError\u001b[0m: '0'",
            "\nThe above exception was the direct cause of the following exception:\n",
            "\u001b[0;31mKeyError\u001b[0m                                  Traceback (most recent call last)",
            "\u001b[0;32m/usr/local/lib/python3.11/dist-packages/IPython/core/formatters.py\u001b[0m in \u001b[0;36m__call__\u001b[0;34m(self, obj)\u001b[0m\n\u001b[1;32m    343\u001b[0m             \u001b[0mmethod\u001b[0m \u001b[0;34m=\u001b[0m \u001b[0mget_real_method\u001b[0m\u001b[0;34m(\u001b[0m\u001b[0mobj\u001b[0m\u001b[0;34m,\u001b[0m \u001b[0mself\u001b[0m\u001b[0;34m.\u001b[0m\u001b[0mprint_method\u001b[0m\u001b[0;34m)\u001b[0m\u001b[0;34m\u001b[0m\u001b[0;34m\u001b[0m\u001b[0m\n\u001b[1;32m    344\u001b[0m             \u001b[0;32mif\u001b[0m \u001b[0mmethod\u001b[0m \u001b[0;32mis\u001b[0m \u001b[0;32mnot\u001b[0m \u001b[0;32mNone\u001b[0m\u001b[0;34m:\u001b[0m\u001b[0;34m\u001b[0m\u001b[0;34m\u001b[0m\u001b[0m\n\u001b[0;32m--> 345\u001b[0;31m                 \u001b[0;32mreturn\u001b[0m \u001b[0mmethod\u001b[0m\u001b[0;34m(\u001b[0m\u001b[0;34m)\u001b[0m\u001b[0;34m\u001b[0m\u001b[0;34m\u001b[0m\u001b[0m\n\u001b[0m\u001b[1;32m    346\u001b[0m             \u001b[0;32mreturn\u001b[0m \u001b[0;32mNone\u001b[0m\u001b[0;34m\u001b[0m\u001b[0;34m\u001b[0m\u001b[0m\n\u001b[1;32m    347\u001b[0m         \u001b[0;32melse\u001b[0m\u001b[0;34m:\u001b[0m\u001b[0;34m\u001b[0m\u001b[0;34m\u001b[0m\u001b[0m\n",
            "\u001b[0;32m/usr/local/lib/python3.11/dist-packages/google/colab/_quickchart_helpers.py\u001b[0m in \u001b[0;36m_repr_html_\u001b[0;34m(self)\u001b[0m\n\u001b[1;32m    200\u001b[0m       \u001b[0;32mwith\u001b[0m \u001b[0mmpl\u001b[0m\u001b[0;34m.\u001b[0m\u001b[0mrc_context\u001b[0m\u001b[0;34m(\u001b[0m\u001b[0mdict\u001b[0m\u001b[0;34m(\u001b[0m\u001b[0m_MPL_STYLE_OPTIONS\u001b[0m\u001b[0;34m)\u001b[0m\u001b[0;34m)\u001b[0m\u001b[0;34m:\u001b[0m\u001b[0;34m\u001b[0m\u001b[0;34m\u001b[0m\u001b[0m\n\u001b[1;32m    201\u001b[0m         \u001b[0mdata\u001b[0m \u001b[0;34m=\u001b[0m \u001b[0mself\u001b[0m\u001b[0;34m.\u001b[0m\u001b[0m_plot_func\u001b[0m\u001b[0;34m(\u001b[0m\u001b[0;34m'df'\u001b[0m\u001b[0;34m,\u001b[0m \u001b[0;34m*\u001b[0m\u001b[0mself\u001b[0m\u001b[0;34m.\u001b[0m\u001b[0m_args\u001b[0m\u001b[0;34m,\u001b[0m \u001b[0;34m**\u001b[0m\u001b[0mself\u001b[0m\u001b[0;34m.\u001b[0m\u001b[0m_kwargs\u001b[0m\u001b[0;34m)\u001b[0m\u001b[0;34m\u001b[0m\u001b[0;34m\u001b[0m\u001b[0m\n\u001b[0;32m--> 202\u001b[0;31m         \u001b[0mexec\u001b[0m\u001b[0;34m(\u001b[0m\u001b[0mdata\u001b[0m\u001b[0;34m.\u001b[0m\u001b[0mcode\u001b[0m\u001b[0;34m,\u001b[0m \u001b[0;34m{\u001b[0m\u001b[0;34m'df'\u001b[0m\u001b[0;34m:\u001b[0m \u001b[0mself\u001b[0m\u001b[0;34m.\u001b[0m\u001b[0m_df\u001b[0m\u001b[0;34m}\u001b[0m\u001b[0;34m)\u001b[0m  \u001b[0;31m# pylint: disable=exec-used\u001b[0m\u001b[0;34m\u001b[0m\u001b[0;34m\u001b[0m\u001b[0m\n\u001b[0m\u001b[1;32m    203\u001b[0m         \u001b[0mself\u001b[0m\u001b[0;34m.\u001b[0m\u001b[0m_chart\u001b[0m \u001b[0;34m=\u001b[0m \u001b[0m_quickchart_lib\u001b[0m\u001b[0;34m.\u001b[0m\u001b[0mautoviz\u001b[0m\u001b[0;34m.\u001b[0m\u001b[0mMplChart\u001b[0m\u001b[0;34m.\u001b[0m\u001b[0mfrom_current_mpl_state\u001b[0m\u001b[0;34m(\u001b[0m\u001b[0;34m)\u001b[0m\u001b[0;34m\u001b[0m\u001b[0;34m\u001b[0m\u001b[0m\n\u001b[1;32m    204\u001b[0m \u001b[0;34m\u001b[0m\u001b[0m\n",
            "\u001b[0;32m<string>\u001b[0m in \u001b[0;36m<module>\u001b[0;34m\u001b[0m\n",
            "\u001b[0;32m/usr/local/lib/python3.11/dist-packages/pandas/plotting/_core.py\u001b[0m in \u001b[0;36m__call__\u001b[0;34m(self, *args, **kwargs)\u001b[0m\n\u001b[1;32m    973\u001b[0m         \u001b[0;32mif\u001b[0m \u001b[0mkind\u001b[0m \u001b[0;32min\u001b[0m \u001b[0mself\u001b[0m\u001b[0;34m.\u001b[0m\u001b[0m_dataframe_kinds\u001b[0m\u001b[0;34m:\u001b[0m\u001b[0;34m\u001b[0m\u001b[0;34m\u001b[0m\u001b[0m\n\u001b[1;32m    974\u001b[0m             \u001b[0;32mif\u001b[0m \u001b[0misinstance\u001b[0m\u001b[0;34m(\u001b[0m\u001b[0mdata\u001b[0m\u001b[0;34m,\u001b[0m \u001b[0mABCDataFrame\u001b[0m\u001b[0;34m)\u001b[0m\u001b[0;34m:\u001b[0m\u001b[0;34m\u001b[0m\u001b[0;34m\u001b[0m\u001b[0m\n\u001b[0;32m--> 975\u001b[0;31m                 \u001b[0;32mreturn\u001b[0m \u001b[0mplot_backend\u001b[0m\u001b[0;34m.\u001b[0m\u001b[0mplot\u001b[0m\u001b[0;34m(\u001b[0m\u001b[0mdata\u001b[0m\u001b[0;34m,\u001b[0m \u001b[0mx\u001b[0m\u001b[0;34m=\u001b[0m\u001b[0mx\u001b[0m\u001b[0;34m,\u001b[0m \u001b[0my\u001b[0m\u001b[0;34m=\u001b[0m\u001b[0my\u001b[0m\u001b[0;34m,\u001b[0m \u001b[0mkind\u001b[0m\u001b[0;34m=\u001b[0m\u001b[0mkind\u001b[0m\u001b[0;34m,\u001b[0m \u001b[0;34m**\u001b[0m\u001b[0mkwargs\u001b[0m\u001b[0;34m)\u001b[0m\u001b[0;34m\u001b[0m\u001b[0;34m\u001b[0m\u001b[0m\n\u001b[0m\u001b[1;32m    976\u001b[0m             \u001b[0;32melse\u001b[0m\u001b[0;34m:\u001b[0m\u001b[0;34m\u001b[0m\u001b[0;34m\u001b[0m\u001b[0m\n\u001b[1;32m    977\u001b[0m                 \u001b[0;32mraise\u001b[0m \u001b[0mValueError\u001b[0m\u001b[0;34m(\u001b[0m\u001b[0;34mf\"plot kind {kind} can only be used for data frames\"\u001b[0m\u001b[0;34m)\u001b[0m\u001b[0;34m\u001b[0m\u001b[0;34m\u001b[0m\u001b[0m\n",
            "\u001b[0;32m/usr/local/lib/python3.11/dist-packages/pandas/plotting/_matplotlib/__init__.py\u001b[0m in \u001b[0;36mplot\u001b[0;34m(data, kind, **kwargs)\u001b[0m\n\u001b[1;32m     69\u001b[0m             \u001b[0mkwargs\u001b[0m\u001b[0;34m[\u001b[0m\u001b[0;34m\"ax\"\u001b[0m\u001b[0;34m]\u001b[0m \u001b[0;34m=\u001b[0m \u001b[0mgetattr\u001b[0m\u001b[0;34m(\u001b[0m\u001b[0max\u001b[0m\u001b[0;34m,\u001b[0m \u001b[0;34m\"left_ax\"\u001b[0m\u001b[0;34m,\u001b[0m \u001b[0max\u001b[0m\u001b[0;34m)\u001b[0m\u001b[0;34m\u001b[0m\u001b[0;34m\u001b[0m\u001b[0m\n\u001b[1;32m     70\u001b[0m     \u001b[0mplot_obj\u001b[0m \u001b[0;34m=\u001b[0m \u001b[0mPLOT_CLASSES\u001b[0m\u001b[0;34m[\u001b[0m\u001b[0mkind\u001b[0m\u001b[0;34m]\u001b[0m\u001b[0;34m(\u001b[0m\u001b[0mdata\u001b[0m\u001b[0;34m,\u001b[0m \u001b[0;34m**\u001b[0m\u001b[0mkwargs\u001b[0m\u001b[0;34m)\u001b[0m\u001b[0;34m\u001b[0m\u001b[0;34m\u001b[0m\u001b[0m\n\u001b[0;32m---> 71\u001b[0;31m     \u001b[0mplot_obj\u001b[0m\u001b[0;34m.\u001b[0m\u001b[0mgenerate\u001b[0m\u001b[0;34m(\u001b[0m\u001b[0;34m)\u001b[0m\u001b[0;34m\u001b[0m\u001b[0;34m\u001b[0m\u001b[0m\n\u001b[0m\u001b[1;32m     72\u001b[0m     \u001b[0mplot_obj\u001b[0m\u001b[0;34m.\u001b[0m\u001b[0mdraw\u001b[0m\u001b[0;34m(\u001b[0m\u001b[0;34m)\u001b[0m\u001b[0;34m\u001b[0m\u001b[0;34m\u001b[0m\u001b[0m\n\u001b[1;32m     73\u001b[0m     \u001b[0;32mreturn\u001b[0m \u001b[0mplot_obj\u001b[0m\u001b[0;34m.\u001b[0m\u001b[0mresult\u001b[0m\u001b[0;34m\u001b[0m\u001b[0;34m\u001b[0m\u001b[0m\n",
            "\u001b[0;32m/usr/local/lib/python3.11/dist-packages/pandas/plotting/_matplotlib/core.py\u001b[0m in \u001b[0;36mgenerate\u001b[0;34m(self)\u001b[0m\n\u001b[1;32m    499\u001b[0m         \u001b[0mself\u001b[0m\u001b[0;34m.\u001b[0m\u001b[0m_compute_plot_data\u001b[0m\u001b[0;34m(\u001b[0m\u001b[0;34m)\u001b[0m\u001b[0;34m\u001b[0m\u001b[0;34m\u001b[0m\u001b[0m\n\u001b[1;32m    500\u001b[0m         \u001b[0mfig\u001b[0m \u001b[0;34m=\u001b[0m \u001b[0mself\u001b[0m\u001b[0;34m.\u001b[0m\u001b[0mfig\u001b[0m\u001b[0;34m\u001b[0m\u001b[0;34m\u001b[0m\u001b[0m\n\u001b[0;32m--> 501\u001b[0;31m         \u001b[0mself\u001b[0m\u001b[0;34m.\u001b[0m\u001b[0m_make_plot\u001b[0m\u001b[0;34m(\u001b[0m\u001b[0mfig\u001b[0m\u001b[0;34m)\u001b[0m\u001b[0;34m\u001b[0m\u001b[0;34m\u001b[0m\u001b[0m\n\u001b[0m\u001b[1;32m    502\u001b[0m         \u001b[0mself\u001b[0m\u001b[0;34m.\u001b[0m\u001b[0m_add_table\u001b[0m\u001b[0;34m(\u001b[0m\u001b[0;34m)\u001b[0m\u001b[0;34m\u001b[0m\u001b[0;34m\u001b[0m\u001b[0m\n\u001b[1;32m    503\u001b[0m         \u001b[0mself\u001b[0m\u001b[0;34m.\u001b[0m\u001b[0m_make_legend\u001b[0m\u001b[0;34m(\u001b[0m\u001b[0;34m)\u001b[0m\u001b[0;34m\u001b[0m\u001b[0;34m\u001b[0m\u001b[0m\n",
            "\u001b[0;32m/usr/local/lib/python3.11/dist-packages/pandas/plotting/_matplotlib/core.py\u001b[0m in \u001b[0;36m_make_plot\u001b[0;34m(self, fig)\u001b[0m\n\u001b[1;32m   1345\u001b[0m         scatter = ax.scatter(\n\u001b[1;32m   1346\u001b[0m             \u001b[0mdata\u001b[0m\u001b[0;34m[\u001b[0m\u001b[0mx\u001b[0m\u001b[0;34m]\u001b[0m\u001b[0;34m.\u001b[0m\u001b[0mvalues\u001b[0m\u001b[0;34m,\u001b[0m\u001b[0;34m\u001b[0m\u001b[0;34m\u001b[0m\u001b[0m\n\u001b[0;32m-> 1347\u001b[0;31m             \u001b[0mdata\u001b[0m\u001b[0;34m[\u001b[0m\u001b[0my\u001b[0m\u001b[0;34m]\u001b[0m\u001b[0;34m.\u001b[0m\u001b[0mvalues\u001b[0m\u001b[0;34m,\u001b[0m\u001b[0;34m\u001b[0m\u001b[0;34m\u001b[0m\u001b[0m\n\u001b[0m\u001b[1;32m   1348\u001b[0m             \u001b[0mc\u001b[0m\u001b[0;34m=\u001b[0m\u001b[0mc_values\u001b[0m\u001b[0;34m,\u001b[0m\u001b[0;34m\u001b[0m\u001b[0;34m\u001b[0m\u001b[0m\n\u001b[1;32m   1349\u001b[0m             \u001b[0mlabel\u001b[0m\u001b[0;34m=\u001b[0m\u001b[0mlabel\u001b[0m\u001b[0;34m,\u001b[0m\u001b[0;34m\u001b[0m\u001b[0;34m\u001b[0m\u001b[0m\n",
            "\u001b[0;32m/usr/local/lib/python3.11/dist-packages/pandas/core/frame.py\u001b[0m in \u001b[0;36m__getitem__\u001b[0;34m(self, key)\u001b[0m\n\u001b[1;32m   4100\u001b[0m             \u001b[0;32mif\u001b[0m \u001b[0mself\u001b[0m\u001b[0;34m.\u001b[0m\u001b[0mcolumns\u001b[0m\u001b[0;34m.\u001b[0m\u001b[0mnlevels\u001b[0m \u001b[0;34m>\u001b[0m \u001b[0;36m1\u001b[0m\u001b[0;34m:\u001b[0m\u001b[0;34m\u001b[0m\u001b[0;34m\u001b[0m\u001b[0m\n\u001b[1;32m   4101\u001b[0m                 \u001b[0;32mreturn\u001b[0m \u001b[0mself\u001b[0m\u001b[0;34m.\u001b[0m\u001b[0m_getitem_multilevel\u001b[0m\u001b[0;34m(\u001b[0m\u001b[0mkey\u001b[0m\u001b[0;34m)\u001b[0m\u001b[0;34m\u001b[0m\u001b[0;34m\u001b[0m\u001b[0m\n\u001b[0;32m-> 4102\u001b[0;31m             \u001b[0mindexer\u001b[0m \u001b[0;34m=\u001b[0m \u001b[0mself\u001b[0m\u001b[0;34m.\u001b[0m\u001b[0mcolumns\u001b[0m\u001b[0;34m.\u001b[0m\u001b[0mget_loc\u001b[0m\u001b[0;34m(\u001b[0m\u001b[0mkey\u001b[0m\u001b[0;34m)\u001b[0m\u001b[0;34m\u001b[0m\u001b[0;34m\u001b[0m\u001b[0m\n\u001b[0m\u001b[1;32m   4103\u001b[0m             \u001b[0;32mif\u001b[0m \u001b[0mis_integer\u001b[0m\u001b[0;34m(\u001b[0m\u001b[0mindexer\u001b[0m\u001b[0;34m)\u001b[0m\u001b[0;34m:\u001b[0m\u001b[0;34m\u001b[0m\u001b[0;34m\u001b[0m\u001b[0m\n\u001b[1;32m   4104\u001b[0m                 \u001b[0mindexer\u001b[0m \u001b[0;34m=\u001b[0m \u001b[0;34m[\u001b[0m\u001b[0mindexer\u001b[0m\u001b[0;34m]\u001b[0m\u001b[0;34m\u001b[0m\u001b[0;34m\u001b[0m\u001b[0m\n",
            "\u001b[0;32m/usr/local/lib/python3.11/dist-packages/pandas/core/indexes/base.py\u001b[0m in \u001b[0;36mget_loc\u001b[0;34m(self, key)\u001b[0m\n\u001b[1;32m   3810\u001b[0m             ):\n\u001b[1;32m   3811\u001b[0m                 \u001b[0;32mraise\u001b[0m \u001b[0mInvalidIndexError\u001b[0m\u001b[0;34m(\u001b[0m\u001b[0mkey\u001b[0m\u001b[0;34m)\u001b[0m\u001b[0;34m\u001b[0m\u001b[0;34m\u001b[0m\u001b[0m\n\u001b[0;32m-> 3812\u001b[0;31m             \u001b[0;32mraise\u001b[0m \u001b[0mKeyError\u001b[0m\u001b[0;34m(\u001b[0m\u001b[0mkey\u001b[0m\u001b[0;34m)\u001b[0m \u001b[0;32mfrom\u001b[0m \u001b[0merr\u001b[0m\u001b[0;34m\u001b[0m\u001b[0;34m\u001b[0m\u001b[0m\n\u001b[0m\u001b[1;32m   3813\u001b[0m         \u001b[0;32mexcept\u001b[0m \u001b[0mTypeError\u001b[0m\u001b[0;34m:\u001b[0m\u001b[0;34m\u001b[0m\u001b[0;34m\u001b[0m\u001b[0m\n\u001b[1;32m   3814\u001b[0m             \u001b[0;31m# If we have a listlike key, _check_indexing_error will raise\u001b[0m\u001b[0;34m\u001b[0m\u001b[0;34m\u001b[0m\u001b[0m\n",
            "\u001b[0;31mKeyError\u001b[0m: '0'"
          ]
        },
        {
          "output_type": "display_data",
          "data": {
            "text/plain": [
              "from matplotlib import pyplot as plt\n",
              "_df_2.plot(kind='scatter', x='index', y='0', s=32, alpha=.8)\n",
              "plt.gca().spines[['top', 'right',]].set_visible(False)"
            ]
          },
          "metadata": {}
        },
        {
          "output_type": "display_data",
          "data": {
            "text/plain": [
              "<google.colab._quickchart_helpers.SectionTitle at 0x7e3055b71f50>"
            ],
            "text/html": [
              "<h4 class=\"colab-quickchart-section-title\">Time series</h4>\n",
              "<style>\n",
              "  .colab-quickchart-section-title {\n",
              "      clear: both;\n",
              "  }\n",
              "</style>"
            ]
          },
          "metadata": {}
        },
        {
          "output_type": "display_data",
          "data": {
            "text/plain": [
              "from matplotlib import pyplot as plt\n",
              "import seaborn as sns\n",
              "def _plot_series(series, series_name, series_index=0):\n",
              "  palette = list(sns.palettes.mpl_palette('Dark2'))\n",
              "  counted = (series['index']\n",
              "                .value_counts()\n",
              "              .reset_index(name='counts')\n",
              "              .rename({'index': 'index'}, axis=1)\n",
              "              .sort_values('index', ascending=True))\n",
              "  xs = counted['index']\n",
              "  ys = counted['counts']\n",
              "  plt.plot(xs, ys, label=series_name, color=palette[series_index % len(palette)])\n",
              "\n",
              "fig, ax = plt.subplots(figsize=(10, 5.2), layout='constrained')\n",
              "df_sorted = _df_3.sort_values('index', ascending=True)\n",
              "_plot_series(df_sorted, '')\n",
              "sns.despine(fig=fig, ax=ax)\n",
              "plt.xlabel('index')\n",
              "_ = plt.ylabel('count()')"
            ],
            "text/html": [
              "      <div class=\"colab-quickchart-chart-with-code\" id=\"chart-9761bc16-35fa-435f-a9d1-7331fd1cfd09\">\n",
              "        <img style=\"width: 180px;\" src=\"data:image/png;base64,iVBORw0KGgoAAAANSUhEUgAAA/MAAAITCAYAAABLz0yVAAAAOnRFWHRTb2Z0d2FyZQBNYXRwbG90\n",
              "bGliIHZlcnNpb24zLjEwLjAsIGh0dHBzOi8vbWF0cGxvdGxpYi5vcmcvlHJYcgAAAAlwSFlzAAAP\n",
              "YQAAD2EBqD+naQAAJNhJREFUeJzt3XuQ1fV9//HXAeJ6qSBWENt1Idw0iMhFGG+RpKYVbcQL1pjU\n",
              "WKogpjo6UotxGhpNWk0ag6EkBukwNurUTArEMCbpTGuMRTGDFjANaiLKuqAoMRUwFhDY7++PTPeX\n",
              "LaC7yS67H3w8Zs4Me85nd99nPvOdL889Z79bq6qqCgAAAFCMHl09AAAAANA+Yh4AAAAKI+YBAACg\n",
              "MGIeAAAACiPmAQAAoDBiHgAAAAoj5gEAAKAwYh4AAAAKc8DH/Ny5c7t6BAAAAOhQB3zMv/TSS109\n",
              "AgAAAHSoAz7mAQAA4EAj5gEAAKAwYh4AAAAKI+YBAACgMGIeAAAACiPmAQAAoDBiHgAAAAoj5gEA\n",
              "AKAwYh4AAAAKI+YBAACgMGIeAAAACiPmAQAAoDBiHgAAAAoj5gEAAKAwYh4AAAAKI+YBAACgMGIe\n",
              "AAAACiPmAQAAoDBiHgAAAAoj5gEAAKAwYh4AAAAKI+YBAACgMGIeAAAACiPmAQAAoDBiHgAAAAoj\n",
              "5gEAAKAwYh4AAAAKI+YBAACgMGIeAAAACiPmAQAAoDBiHgAAAAoj5gEAAKAwYh4AAAAKI+YBAACg\n",
              "MGIeAAAACiPmAQAAoDBiHgAAAAoj5gEAAKAwYh4AAAAKI+YBAACgMGIeAAAACiPmAQAAoDBiHgAA\n",
              "AAoj5gEAAKAwYh4AAAAKI+YBAACgMGIeAAAACiPmAQAAoDBiHgAAAAoj5gEAAKAwYh4AAAAKI+YB\n",
              "AACgMGIeAAAACiPmAQAAoDBiHgAAAAoj5gEAAKAwYh4AAAAKI+YBAACgMGIeAAAACiPmAQAAoDBi\n",
              "HgAAAArTqTF/3XXXZdCgQanValm9evU+1y1cuDDDhg3LkCFDMn369OzcubPV41VV5Q/+4A9yxBFH\n",
              "dOa4AAAAUIROjfmLL744jz32WAYOHLjPNevWrcvs2bOzbNmyrF27Nq+99loWLFjQas2dd96ZIUOG\n",
              "dOaoAAAAUIxOjfkzzzwz9fX177hm0aJFmTx5cgYMGJBarZarr746DzzwQMvja9asyYMPPphPf/rT\n",
              "7/r9duzYka1bt7a67d69+7d+HgAAANCddPnvzDc1NbV65X7QoEFpampKkuzcuTPTp0/P3XffnZ49\n",
              "e77r17r99tvTp0+fVrcVK1Z02uwAAADQFbo85t/Jrbfemosuuigf+MAH2rT+5ptvzpYtW1rdJkyY\n",
              "0MlTAgAAwP7Vq6sHaGhoyAsvvNDycWNjYxoaGpIkjz76aJqamvLVr341u3btytatWzNo0KA8+eST\n",
              "6dev3x5fq66uLnV1da3ua8sr+gAAAFCSLn9lfsqUKVm6dGleffXVVFWV+fPn59JLL02SLFu2LC+9\n",
              "9FIaGxvz2GOPpXfv3mlsbNxryAMAAMB7RafG/IwZM1JfX58NGzbk7LPPztChQ5Mk06ZNy9KlS5Mk\n",
              "gwcPzq233prTTz89Q4cOTb9+/TJjxozOHAsAAACKVquqqurqITrTzJkzM2fOnK4eAwAAADpMl7/N\n",
              "HgAAAGgfMQ8AAACFEfMAAABQGDEPAAAAhRHzAAAAUBgxDwAAAIUR8wAAAFAYMQ8AAACFEfMAAABQ\n",
              "GDEPAAAAhRHzAAAAUBgxDwAAAIUR8wAAAFAYMQ8AAACFEfMAAABQGDEPAAAAhRHzAAAAUBgxDwAA\n",
              "AIUR8wAAAFAYMQ8AAACFEfMAAABQGDEPAAAAhRHzAAAAUBgxDwAAAIUR8wAAAFAYMQ8AAACFEfMA\n",
              "AABQGDEPAAAAhRHzAAAAUBgxDwAAAIUR8wAAAFAYMQ8AAACFEfMAAABQGDEPAAAAhRHzAAAAUBgx\n",
              "DwAAAIUR8wAAAFAYMQ8AAACFEfMAAABQGDEPAAAAhRHzAAAAUBgxDwAAAIUR8wAAAFAYMQ8AAACF\n",
              "EfMAAABQGDEPAAAAhRHzAAAAUBgxDwAAAIUR8wAAAFAYMQ8AAACFEfMAAABQGDEPAAAAhRHzAAAA\n",
              "UBgxDwAAAIUR8wAAAFAYMQ8AAACFEfMAAABQGDEPAAAAhRHzAAAAUBgxDwAAAIUR8wAAAFAYMQ8A\n",
              "AACFEfMAAABQGDEPAAAAhRHzAAAAUBgxDwAAAIUR8wAAAFAYMQ8AAACFEfMAAABQGDEPAAAAhRHz\n",
              "AAAAUBgxDwAAAIUR8wAAAFAYMQ8AAACFEfMAAABQGDEPAAAAhRHzAAAAUBgxDwAAAIXp1Ji/7rrr\n",
              "MmjQoNRqtaxevXqf6xYuXJhhw4ZlyJAhmT59enbu3Jkk+cEPfpAJEyZkxIgROeGEEzJr1qw0Nzd3\n",
              "5sgAAADQ7XVqzF988cV57LHHMnDgwH2uWbduXWbPnp1ly5Zl7dq1ee2117JgwYIkSd++ffPNb34z\n",
              "zzzzTP7zP/8zy5cvz7333tuZIwMAAEC316kxf+aZZ6a+vv4d1yxatCiTJ0/OgAEDUqvVcvXVV+eB\n",
              "Bx5IkowZMyaDBw9Okhx88MEZPXp0Ghsb9/m1duzYka1bt7a67d69u8OeDwAAAHQHXf47801NTa1e\n",
              "uR80aFCampr2WPfqq69m0aJF+ehHP7rPr3X77benT58+rW4rVqzolLkBAACgq3R5zLfF1q1bc955\n",
              "52XWrFk5+eST97nu5ptvzpYtW1rdJkyYsB8nBQAAgM7Xq6sHaGhoyAsvvNDycWNjYxoaGlo+fvPN\n",
              "NzNp0qScf/75mTlz5jt+rbq6utTV1bW6r2fPnh07MAAAAHSxLn9lfsqUKVm6dGleffXVVFWV+fPn\n",
              "59JLL02S/PKXv8ykSZMyadKkfOYzn+niSQEAAKB76NSYnzFjRurr67Nhw4acffbZGTp0aJJk2rRp\n",
              "Wbp0aZJk8ODBufXWW3P66adn6NCh6devX2bMmJEkmTt3blasWJElS5Zk9OjRGT16dP7u7/6uM0cG\n",
              "AACAbq9WVVXV1UN0ppkzZ2bOnDldPQYAAAB0mC5/mz0AAADQPmIeAAAACiPmAQAAoDBiHgAAAAoj\n",
              "5gEAAKAwYh4AAAAKI+YBAACgMGIeAAAACiPmAQAAoDBiHgAAAAoj5gEAAKAwYh4AAAAKI+YBAACg\n",
              "MGIeAAAACiPmAQAAoDBiHgAAAAoj5gEAAKAwYh4AAAAKI+YBAACgMGIeAAAACiPmAQAAoDBiHgAA\n",
              "AAoj5gEAAKAwYh4AAAAKI+YBAACgMGIeAAAACiPmAQAAoDBiHgAAAAoj5gEAAKAwYh4AAAAKI+YB\n",
              "AACgMGIeAAAACiPmAQAAoDBiHgAAAAoj5gEAAKAwYh4AAAAKI+YBAACgMGIeAAAACiPmAQAAoDBi\n",
              "HgAAAAoj5gEAAKAwYh4AAAAKI+YBAACgMGIeAAAACiPmAQAAoDBiHgAAAAoj5gEAAKAwYh4AAAAK\n",
              "I+YBAACgMGIeAAAACiPmAQAAoDBiHgAAAAoj5gEAAKAwYh4AAAAKI+YBAACgMGIeAAAACiPmAQAA\n",
              "oDBiHgAAAAoj5gEAAKAwYh4AAAAKI+YBAACgMGIeAAAACiPmAQAAoDBiHgAAAArT6zf5pGeeeSYb\n",
              "NmzIIYcckhNPPDFHHHFEB48FAAAA7EubY/7NN9/MHXfckX/8x3/MoYcemqOPPjrbt2/PCy+8kAkT\n",
              "JuSmm27KWWed1ZmzAgAAAGlHzH/4wx/O5ZdfnlWrVuXoo49uub+5uTnLli3L/Pnzs3bt2syYMaNT\n",
              "BgUAAAB+pc0x//jjj6eurm6P+3v06JGJEydm4sSJ2bFjR4cOBwAAAOypzRfA21vI/yZrAAAAgN9O\n",
              "m2P+ox/9aJYvX77XxzZv3pwvf/nLufvuuztsMAAAAGDv2vw2+9tuuy0333xznnnmmYwfP77lAnjP\n",
              "PfdcXn755VxzzTW54oorOnNWAAAAIO2I+VGjRuW73/1u1q9fn0cffTQbNmzIoYcemj/90z/NGWec\n",
              "kV69fqO/cgcAAAC0U7sL/I033shll13W6r4f//jHGTVqVIcNBQAAAOxbm39n/n9NnTq1TfcBAAAA\n",
              "naPNr8xv2rQpr776arZt25b/+q//SlVVSZItW7bkrbfe6rQBAQAAgNbaHPMPPPBAvvKVr+SVV17J\n",
              "5MmTW+7v06dPZs2a1SnDAQAAAHtqc8xff/31uf766/P5z38+s2fP7syZAAAAgHfQ7gvgzZ49O83N\n",
              "zXn11Veza9eulvsbGho6dDAAAABg79p9AbxvfOMbOeKII3LiiSdm3LhxGTduXE4++eS9rr3uuusy\n",
              "aNCg1Gq1rF69ep9fc+HChRk2bFiGDBmS6dOnZ+fOnW16DAAAAN6L2h3zn/vc5/Lkk0/mF7/4RX7+\n",
              "85/n5z//eTZt2rTXtRdffHEee+yxDBw4cJ9fb926dZk9e3aWLVuWtWvX5rXXXsuCBQve9TEAAAB4\n",
              "r2r32+yPOuqoHHfccW1ae+aZZ77rmkWLFmXy5MkZMGBAkuTqq6/ObbfdlmuuueYdHzuQVFWVbbu8\n",
              "4wAAAKAzHdLrfanVal09Rodod8xfcMEF+cpXvpJPfOITOfjgg1vu79279280QFNTU6tX7gcNGpSm\n",
              "pqZ3fWxvduzYkR07drS6b/fu3b/RXPvTtl07M/z+v+nqMQAAAA5oP7vsczn0fQd19Rgdot1vs//r\n",
              "v/7rzJw5MwMGDEjfvn1zxBFHpG/fvp0xW7vdfvvt6dOnT6vbihUrunosAAAA6FDtfmW+ubm5Qwdo\n",
              "aGjICy+80PJxY2Njy5Xx3+mxvbn55pszc+bMVveV8Gf0Dun1vvzsss919RgAAAAHtEN6va+rR+gw\n",
              "7Y75jjZlypScccYZueWWW3L00Udn/vz5ufTSS9/1sb2pq6tLXV1dq/t69uzZqfN3hFqtdsC81QMA\n",
              "AIDO1+632ffo0SM9e/bc47Y3M2bMSH19fTZs2JCzzz47Q4cOTZJMmzYtS5cuTZIMHjw4t956a04/\n",
              "/fQMHTo0/fr1y4wZM971MQAAAHivqlVVVbXnE956662Wf2/bti333ntvdu/enb/6q7/q8OE6wsyZ\n",
              "MzNnzpyuHgMAAAA6TLtfmT/ssMNabkcddVRmzpyZRYsWdcZsAAAAwF60O+b/r+eeey6vv/56R8wC\n",
              "AAAAtEG7L4DXt2/f1Gq1JMmuXbuSJPPmzevYqQAAAIB9anfMr169+v9/cq9eGTBgQBFXjAcAAIAD\n",
              "RbtjfuDAgfmf//mflqjv27dvDj300I6eCwAAANiHdsf88uXLM2XKlAwYMCBJ8tprr2Xx4sU59dRT\n",
              "O3w4AAAAYE/tjvn/vXr96aefnuRXcX/DDTfkRz/6UYcPBwAAAOyp3Vez37ZtW0vIJ8lpp52W7du3\n",
              "d+hQAAAAwL61O+Z/53d+J//+7//e8vHDDz+cww47rEOHAgAAAPat3W+z/4d/+IdcdNFFLVewb25u\n",
              "zpIlSzp8MAAAAGDv2h3zr7zySp566qm89tprSZKjjz46K1as6PDBAAAAgL1r99vsZ8+enX79+mXk\n",
              "yJEZOXJkjjrqqMyePbszZgMAAAD2ot0x/3/VarXs3r27I2YBAAAA2qDdMX/44Ydn+fLlLR8//vjj\n",
              "Ofzwwzt0KAAAAGDf2v0783//93+fCy+8MMcff3yS5Pnnn8+3v/3tDh8MAAAA2Lt2x/ypp56aZ599\n",
              "Nk888USSX/2d+SOOOKKj5wIAAAD2od0xnyR9+/bNueee29GzAAAAAG3wW18ADwAAANi/xDwAAAAU\n",
              "RswDAABAYcQ8AAAAFEbMAwAAQGHEPAAAABRGzAMAAEBhxDwAAAAURswDAABAYcQ8AAAAFEbMAwAA\n",
              "QGHEPAAAABRGzAMAAEBhxDwAAAAURswDAABAYcQ8AAAAFEbMAwAAQGHEPAAAABRGzAMAAEBhxDwA\n",
              "AAAURswDAABAYcQ8AAAAFEbMAwAAQGHEPAAAABRGzAMAAEBhxDwAAAAURswDAABAYcQ8AAAAFEbM\n",
              "AwAAQGHEPAAAABRGzAMAAEBhxDwAAAAURswDAABAYcQ8AAAAFEbMAwAAQGHEPAAAABRGzAMAAEBh\n",
              "xDwAAAAURswDAABAYcQ8AAAAFEbMAwAAQGHEPAAAABRGzAMAAEBhxDwAAAAURswDAABAYcQ8AAAA\n",
              "FEbMAwAAQGHEPAAAABRGzAMAAEBhxDwAAAAURswDAABAYcQ8AAAAFEbMAwAAQGHEPAAAABRGzAMA\n",
              "AEBhxDwAAAAURswDAABAYcQ8AAAAFEbMAwAAQGHEPAAAABRGzAMAAEBhxDwAAAAUplNj/vnnn89p\n",
              "p52W4cOHZ/z48VmzZs0ea5qbm3PjjTdm5MiROf7443PllVfm7bffbnn8i1/8YkaMGJHRo0fnlFNO\n",
              "yYoVKzpzZAAAAOj2OjXmZ8yYkauuuio/+9nPctNNN2Xq1Kl7rFm4cGFWrlyZlStX5tlnn02PHj0y\n",
              "d+7cJMnq1atz1113ZcWKFVm9enWuvfbaXHvttZ05MgAAAHR7nRbzmzZtylNPPZXLLrssSTJlypSs\n",
              "X78+a9eubbXu6aefzkc+8pEcdNBBqdVqOeecc3LfffclSWq1Wnbu3Jm33norSbJ58+bU19fv83vu\n",
              "2LEjW7dubXXbvXt3Jz1DAAAA6BqdFvPr16/PMccck169eiX5VZg3NDSkqamp1bpx48Zl6dKl2bp1\n",
              "a3bu3JlvfetbaWxsTJKcdNJJueGGG/L+978/9fX1ufPOOzNv3rx9fs/bb789ffr0aXXztnwAAAAO\n",
              "NF1+AbypU6dm0qRJmThxYiZOnJjhw4e3/ABg3bp1WbJkSdauXZsNGzbkhhtuyMc+9rF9fq2bb745\n",
              "W7ZsaXWbMGHC/noqAAAAsF90Wswfe+yx2bhxY3bt2pUkqaoqTU1NaWhoaLWuVqvllltuyapVq7J8\n",
              "+fKMGDEiJ5xwQpJk8eLFOfHEE/N7v/d7SZI///M/z+OPP97qAnm/rq6uLr17925169mzZ2c9RQAA\n",
              "AOgSnRbz/fv3z9ixY3P//fcn+VWY19fXZ+jQoa3Wbd++PW+88UaS5PXXX88XvvCFzJo1K0kyePDg\n",
              "PP744/nlL3+ZJHnooYcyfPjwHHTQQZ01NgAAAHR7vTrzi999992ZOnVqbrvttvTu3Tv33HNPkmTa\n",
              "tGmZPHlyJk+enC1btuRDH/pQevTokebm5lx//fU577zzkiQXXnhhnnzyyZx88smpq6vLYYcdln/+\n",
              "53/uzJEBAACg26tVVVV19RCdaebMmZkzZ05XjwEAAAAdpssvgAcAAAC0j5gHAACAwoh5AAAAKIyY\n",
              "BwAAgMKIeQAAACiMmAcAAIDCiHkAAAAojJgHAACAwoh5AAAAKIyYBwAAgMKIeQAAACiMmAcAAIDC\n",
              "iHkAAAAojJgHAACAwoh5AAAAKIyYBwAAgMKIeQAAACiMmAcAAIDCiHkAAAAojJgHAACAwoh5AAAA\n",
              "KIyYBwAAgMKIeQAAACiMmAcAAIDCiHkAAAAojJgHAACAwoh5AAAAKIyYBwAAgMKIeQAAACiMmAcA\n",
              "AIDCiHkAAAAojJgHAACAwoh5AAAAKIyYBwAAgMKIeQAAACiMmAcAAIDCiHkAAAAojJgHAACAwoh5\n",
              "AAAAKIyYBwAAgMKIeQAAACiMmAcAAIDCiHkAAAAojJgHAACAwoh5AAAAKIyYBwAAgMKIeQAAACiM\n",
              "mAcAAIDCiHkAAAAojJgHAACAwoh5AAAAKIyYBwAAgMKIeQAAACiMmAcAAIDCiHkAAAAojJgHAACA\n",
              "woh5AAAAKIyYBwAAgMKIeQAAACiMmAcAAIDCiHkAAAAojJgHAACAwoh5AAAAKIyYBwAAgMKIeQAA\n",
              "ACiMmAcAAIDCiHkAAAAojJgHAACAwoh5AAAAKIyYBwAAgMKIeQAAACiMmAcAAIDCiHkAAAAojJgH\n",
              "AACAwoh5AAAAKIyYBwAAgMKIeQAAACiMmAcAAIDCdGrMP//88znttNMyfPjwjB8/PmvWrNljTXNz\n",
              "c2688caMHDkyxx9/fK688sq8/fbbLY83NTXlvPPOy3HHHZcRI0Zk3rx5nTkyAAAAdHudGvMzZszI\n",
              "VVddlZ/97Ge56aabMnXq1D3WLFy4MCtXrszKlSvz7LPPpkePHpk7d26SpKqqXHjhhbn88svz05/+\n",
              "NM8880wuueSSzhwZAAAAur1Oi/lNmzblqaeeymWXXZYkmTJlStavX5+1a9e2Wvf000/nIx/5SA46\n",
              "6KDUarWcc845ue+++5IkDz/8cOrq6vInf/InLeuPPvrofX7PHTt2ZOvWra1uu3fv7oRnBwAAAF2n\n",
              "02J+/fr1OeaYY9KrV68kSa1WS0NDQ5qamlqtGzduXJYuXZqtW7dm586d+da3vpXGxsYkyTPPPJN+\n",
              "/frl0ksvzZgxY3LhhRfmxRdf3Of3vP3229OnT59WtxUrVnTWUwQAAIAu0eUXwJs6dWomTZqUiRMn\n",
              "ZuLEiRk+fHjLDwB27dqVH/zgB5k9e3ZWrVqVs88++x3fZn/zzTdny5YtrW4TJkzYX08FAAAA9otO\n",
              "i/ljjz02GzduzK5du5L86vffm5qa0tDQ0GpdrVbLLbfcklWrVmX58uUZMWJETjjhhCRJQ0NDxowZ\n",
              "0/LxJz/5yaxcuTI7d+7c6/esq6tL7969W9169uzZWU8RAAAAukSnxXz//v0zduzY3H///UmSxYsX\n",
              "p76+PkOHDm21bvv27XnjjTeSJK+//nq+8IUvZNasWUmSc845Jxs2bMjLL7+cJPne976XD3zgA3nf\n",
              "+97XWWMDAABAt9erM7/43XffnalTp+a2225L7969c8899yRJpk2blsmTJ2fy5MnZsmVLPvShD6VH\n",
              "jx5pbm7O9ddfn/POOy9Jcthhh2X+/Pn54z/+41RVlT59+uSb3/xmZ44MAAAA3V6tqqqqq4foTDNn\n",
              "zsycOXO6egwAAADoMF1+ATwAAACgfcQ8AAAAFEbMAwAAQGHEPAAAABRGzAMAAEBhxDwAAAAURswD\n",
              "AABAYcQ8AAAAFEbMAwAAQGHEPAAAABRGzAMAAEBhxDwAAAAURswDAABAYcQ8AAAAFEbMAwAAQGHE\n",
              "PAAAABRGzAMAAEBhxDwAAAAURswDAABAYcQ8AAAAFEbMAwAAQGHEPAAAABRGzAMAAEBhxDwAAAAU\n",
              "RswDAABAYcQ8AAAAFEbMAwAAQGHEPAAAABRGzAMAAEBhxDwAAAAURswDAABAYcQ8AAAAFEbMAwAA\n",
              "QGHEPAAAABRGzAMAAEBhxDwAAAAURswDAABAYcQ8AAAAFEbMAwAAQGHEPAAAABRGzAMAAEBhxDwA\n",
              "AAAURswDAABAYcQ8AAAAFEbMAwAAQGHEPAAAABRGzAMAAEBhxDwAAAAURswDAABAYcQ8AAAAFEbM\n",
              "AwAAQGHEPAAAABRGzAMAAEBhxDwAAAAURswDAABAYcQ8AAAAFEbMAwAAQGHEPAAAABRGzAMAAEBh\n",
              "xDwAAAAUplZVVdXVQ3Smiy66KIMGDerqMd7V7t27s2LFikyYMCE9e/bs6nF4B/aqLParHPaqLPar\n",
              "HPaqLParHPaqLKXt18CBA3P99de/45oDPuZLsXXr1vTp0ydbtmxJ7969u3oc3oG9Kov9Koe9Kov9\n",
              "Koe9Kov9Koe9KsuBuF/eZg8AAACFEfMAAABQGDEPAAAAhRHz3URdXV0++9nPpq6urqtH4V3Yq7LY\n",
              "r3LYq7LYr3LYq7LYr3LYq7IciPvlAngAAABQGK/MAwAAQGHEPAAAABRGzAMAAEBhxPx+9vzzz+e0\n",
              "007L8OHDM378+KxZs2av6xYuXJhhw4ZlyJAhmT59enbu3LmfJ6Ute/XDH/4whxxySEaPHt1y27Zt\n",
              "WxdM+9523XXXZdCgQanValm9evU+1zmuuoe27Jdjq3vYvn17LrjgggwfPjwnnXRS/vAP/zBr167d\n",
              "69qHHnooxx9/fIYNG5aLLrooW7du3c/Tvre1da8aGxvTs2fPVsfWCy+80AUT80d/9EcZNWpURo8e\n",
              "nQ9+8INZtWrVXtc5d3W9tuyV81b3cs8996RWq+XBBx/c6+MHzDmrYr/68Ic/XN1zzz1VVVXVv/zL\n",
              "v1Qnn3zyHmtefPHF6phjjqk2btxYNTc3V+edd1711a9+dT9PSlv26pFHHqlOOumk/TsYe3j00Uer\n",
              "9evXVwMHDqxWrVq11zWOq+6jLfvl2Ooetm3bVn33u9+tmpubq6qqqnnz5lUTJ07cY92bb75Z9e/f\n",
              "v3r22Werqqqqa665prrxxhv356jveW3dq3Xr1lV9+vTZv8OxV2+88UbLv5csWVKNGjVqjzXOXd1D\n",
              "W/bKeav7WLduXXXqqadWp5xySvXtb397j8cPpHOWV+b3o02bNuWpp57KZZddliSZMmVK1q9fv8dP\n",
              "zhctWpTJkydnwIABqdVqufrqq/PAAw90xcjvWW3dK7qHM888M/X19e+4xnHVfbRlv+geDj744Jx7\n",
              "7rmp1WpJklNOOSWNjY17rPv+97+fMWPG5Pjjj0+S/MVf/IXjaz9r617RfRxxxBEt/96yZUvL3v06\n",
              "567uoS17RffQ3NycadOmZd68efv8E3QH0jlLzO9H69evzzHHHJNevXolSWq1WhoaGtLU1NRqXVNT\n",
              "UwYOHNjy8aBBg/ZYQ+dq614lyQsvvJCxY8dm/Pjxueuuu/b3qLSR46o8jq3uZ+7cuTn//PP3uH9v\n",
              "x9fGjRuza9eu/Tkev2Zfe5Ukb731VsaPH5+xY8fmc5/7XHbv3r2fp+N/XX755Tn22GMze/bs3Hff\n",
              "fXs87tzVfbzbXiXOW93BnDlzcvrpp2fcuHH7XHMgnbN6dfUAULKxY8dmw4YN6dOnTzZs2JBzzz03\n",
              "Rx11VC655JKuHg2K5tjqfm677basXbs2Dz/8cFePwrt4p7065phj8vLLL6d///757//+73zsYx/L\n",
              "l7/85cyaNasLJuXee+9NknzjG9/ITTfdlO9973tdPBH78m575bzV9X7yk59k8eLF+Y//+I+uHmW/\n",
              "8cr8fnTssce2+qlPVVVpampKQ0NDq3UNDQ156aWXWj5ubGzcYw2dq6171bt37/Tp0ydJUl9fn49/\n",
              "/ONZtmzZfp+Xd+e4Kotjq3u54447smTJknz/+9/PoYceusfjezu+fv3dTew/77ZXdXV16d+/f5Lk\n",
              "yCOPzBVXXOHY6gb+7M/+LI888kh+8YtftLrfuav72ddeOW91vWXLlqWxsTHDhg3LoEGD8qMf/ShX\n",
              "XXVVvv71r7dadyCds8T8ftS/f/+MHTs2999/f5Jk8eLFqa+vz9ChQ1utmzJlSpYuXZpXX301VVVl\n",
              "/vz5ufTSS7ti5Pestu7Vxo0b09zcnCR5880389BDD2XMmDH7fV7eneOqLI6t7mPOnDl54IEH8m//\n",
              "9m+tfm/0102aNCkrV67Mc889lyS56667HF9doC17tWnTpparoe/YsSNLlixxbHWBzZs355VXXmn5\n",
              "+MEHH8zv/u7v5sgjj2y1zrmr67V1r5y3ut6nPvWpbNy4MY2NjWlsbMwpp5ySBQsW5FOf+lSrdQfU\n",
              "OatLL7/3HvTcc89Vp5xySjVs2LBq3Lhx1Y9//OOqqqrqyiuvrL7zne+0rFuwYEE1ePDgavDgwdUV\n",
              "V1xRvf3221018ntWW/Zq3rx51YgRI6pRo0ZVI0aMqD772c+2XEmY/eeqq66qfv/3f7/q2bNn1b9/\n",
              "/2rIkCFVVTmuuqu27Jdjq3tYv359laQaPHhwddJJJ1UnnXRSNWHChKqqqmr27NnV17/+9Za13/nO\n",
              "d6rjjjuuGjJkSHX++edXmzdv7qqx35PauleLFy+uTjjhhJZj69prr622b9/elaO/JzU2Nlbjx4+v\n",
              "Ro4cWY0aNao666yzWv66h3NX99LWvXLe6n4mTpzYcjX7A/WcVauqqurqHygAAAAAbedt9gAAAFAY\n",
              "MQ8AAACFEfMAAABQGDEPAO9xo0ePzptvvtnuz7v44ovzT//0Tx0/EADwrsr7Y3oAQIdavXp1V48A\n",
              "ALSTV+YB4D2uVqtl8+bNSZJBgwblb/7mb3Lqqafm/e9/f/72b/+2Zd1zzz2X0047LSeccEIuuOCC\n",
              "bN26teWxN998M9OnT8+ECRMyatSoXHXVVXn77bfz05/+NPX19XnxxReTJHfccUcmTZrU8veYAYDf\n",
              "jJgHAFrZvHlznnjiiTz55JP50pe+lJdffjlJ8slPfjJXXnll1qxZk89//vN59NFHWz7nL//yL/PB\n",
              "D34wK1asyNNPP53m5ubMnTs3xx13XL70pS/lkksuyQ9/+MN87Wtfy3333ZcePfwXBAB+G95mDwC0\n",
              "8olPfCJJctRRR2Xw4MFZt25dDj/88KxevTpTp05Nkpx44ok544wzWj7nwQcfzBNPPJE5c+YkSbZt\n",
              "25aePXsmST7+8Y/nkUceydlnn52HH344/fr1279PCAAOQGIeAGjl4IMPbvl3z549s2vXrr2uq9Vq\n",
              "Lf+uqiqLFy/O8OHD91i3a9eu/OQnP8mRRx7Z8io/APDb8R43AOBd9e7dO2PGjMm9996bJFmzZk0e\n",
              "e+yxlscvuOCCfPGLX2wJ/zfeeCNr165Nknz605/Occcdl2XLluXGG29suR8A+M2JeQCgTe69994s\n",
              "WLAgI0eOzGc+85mceeaZLY/deeedOeSQQzJ69OiMGjUqZ511VhobG/PQQw/lX//1X/O1r30tQ4cO\n",
              "zZw5c3LJJZdk+/btXfhMAKB8taqqqq4eAgAAAGg7r8wDAABAYcQ8AAAAFEbMAwAAQGHEPAAAABRG\n",
              "zAMAAEBhxDwAAAAURswDAABAYcQ8AAAAFEbMAwAAQGHEPAAAABTm/wEB4eiufu39VwAAAABJRU5E\n",
              "rkJggg==\n",
              "\">\n",
              "      </div>\n",
              "      <script type=\"text/javascript\">\n",
              "        (() => {\n",
              "          const chartElement = document.getElementById(\"chart-9761bc16-35fa-435f-a9d1-7331fd1cfd09\");\n",
              "          async function getCodeForChartHandler(event) {\n",
              "            const chartCodeResponse =  await google.colab.kernel.invokeFunction(\n",
              "                'getCodeForChart', [\"chart-9761bc16-35fa-435f-a9d1-7331fd1cfd09\"], {});\n",
              "            const responseJson = chartCodeResponse.data['application/json'];\n",
              "            await google.colab.notebook.addCell(responseJson.code, 'code');\n",
              "          }\n",
              "          chartElement.onclick = getCodeForChartHandler;\n",
              "        })();\n",
              "      </script>\n",
              "      <style>\n",
              "        .colab-quickchart-chart-with-code  {\n",
              "            display: block;\n",
              "            float: left;\n",
              "            border: 1px solid transparent;\n",
              "        }\n",
              "\n",
              "        .colab-quickchart-chart-with-code:hover {\n",
              "            cursor: pointer;\n",
              "            border: 1px solid #aaa;\n",
              "        }\n",
              "      </style>"
            ]
          },
          "metadata": {}
        },
        {
          "output_type": "display_data",
          "data": {
            "text/plain": [
              "from matplotlib import pyplot as plt\n",
              "import seaborn as sns\n",
              "def _plot_series(series, series_name, series_index=0):\n",
              "  palette = list(sns.palettes.mpl_palette('Dark2'))\n",
              "  counted = (series[0]\n",
              "                .value_counts()\n",
              "              .reset_index(name='counts')\n",
              "              .rename({'index': 0}, axis=1)\n",
              "              .sort_values(0, ascending=True))\n",
              "  xs = counted[0]\n",
              "  ys = counted['counts']\n",
              "  plt.plot(xs, ys, label=series_name, color=palette[series_index % len(palette)])\n",
              "\n",
              "fig, ax = plt.subplots(figsize=(10, 5.2), layout='constrained')\n",
              "df_sorted = _df_4.sort_values(0, ascending=True)\n",
              "_plot_series(df_sorted, '')\n",
              "sns.despine(fig=fig, ax=ax)\n",
              "plt.xlabel(0)\n",
              "_ = plt.ylabel('count()')"
            ],
            "text/html": [
              "      <div class=\"colab-quickchart-chart-with-code\" id=\"chart-57176875-2292-4687-b6d8-f2d36b88c9bf\">\n",
              "        <img style=\"width: 180px;\" src=\"data:image/png;base64,iVBORw0KGgoAAAANSUhEUgAAA/MAAAITCAYAAABLz0yVAAAAOnRFWHRTb2Z0d2FyZQBNYXRwbG90\n",
              "bGliIHZlcnNpb24zLjEwLjAsIGh0dHBzOi8vbWF0cGxvdGxpYi5vcmcvlHJYcgAAAAlwSFlzAAAP\n",
              "YQAAD2EBqD+naQAAIX9JREFUeJzt3X+slvVh///XDUeP1cmPCoLb8XCKgIqiIEqsWGnXbmCntIpd\n",
              "zero2fhxbGpksg5KVj7TboVucbTUZgEbYqZmVAPWkHbJstrMgWxDB9hObBXG8UDlh1qFyoQC5/7+\n",
              "0Yzv53wE5ei5vXnj45Hcifd9X9zndSdXNE/v+1xUqtVqNQAAAEAxetV7AAAAANA9Yh4AAAAKI+YB\n",
              "AACgMGIeAAAACiPmAQAAoDBiHgAAAAoj5gEAAKAwYh4AAAAKc9LH/OLFi+s9AQAAAHrUSR/zL7zw\n",
              "Qr0nAAAAQI866WMeAAAATjZiHgAAAAoj5gEAAKAwYh4AAAAKI+YBAACgMGIeAAAACiPmAQAAoDBi\n",
              "HgAAAAoj5gEAAKAwYh4AAAAKI+YBAACgMGIeAAAACiPmAQAAoDBiHgAAAAoj5gEAAKAwYh4AAAAK\n",
              "I+YBAACgMGIeAAAACiPmAQAAoDBiHgAAAAoj5gEAAKAwYh4AAAAKI+YBAACgMGIeAAAACiPmAQAA\n",
              "oDBiHgAAAAoj5gEAAKAwYh4AAAAKI+YBAACgMGIeAAAACiPmAQAAoDBiHgAAAAoj5gEAAKAwYh4A\n",
              "AAAKI+YBAACgMGIeAAAACiPmAQAAoDBiHgAAAAoj5gEAAKAwYh4AAAAKI+YBAACgMGIeAAAACiPm\n",
              "AQAAoDBiHgAAAAoj5gEAAKAwYh4AAAAKI+YBAACgMGIeAAAACiPmAQAAoDBiHgAAAAoj5gEAAKAw\n",
              "Yh4AAAAKI+YBAACgMGIeAAAACiPmAQAAoDBiHgAAAAoj5gEAAKAwYh4AAAAKI+YBAACgMGIeAAAA\n",
              "CiPmAQAAoDA1jfnbb789LS0tqVQq2bhx4zGPW7ZsWYYPH57zzjsvM2bMyMGDB7s8X61W89u//dvp\n",
              "169fLecCAABAEWoa8zfddFPWrFmTIUOGHPOYrVu3Zv78+Vm9enU2b96cXbt25d577+1yzDe+8Y2c\n",
              "d955tZwKAAAAxahpzF9zzTVpamp6y2NWrFiRyZMnZ/DgwalUKrn11luzfPnyI88/88wzefTRR/Pl\n",
              "L3/5bX/egQMHsnfv3i63w4cPv+v3AQAAACeSuv/OfEdHR5dP7ltaWtLR0ZEkOXjwYGbMmJGlS5em\n",
              "d+/eb/taCxcuTN++fbvc1q1bV7PtAAAAUA91j/m3ctddd+XGG2/MhRdeeFzHz5s3L3v27OlyGzdu\n",
              "XI1XAgAAwHurod4Dmpubs2XLliP329vb09zcnCR5/PHH09HRkW9/+9s5dOhQ9u7dm5aWljz55JMZ\n",
              "OHDgm16rsbExjY2NXR47nk/0AQAAoCR1/2R+ypQpWbVqVXbu3JlqtZolS5bk5ptvTpKsXr06L7zw\n",
              "Qtrb27NmzZr06dMn7e3tRw15AAAAeL+oacy3tbWlqakp27dvz8SJEzNs2LAkyfTp07Nq1aokydCh\n",
              "Q3PXXXdl/PjxGTZsWAYOHJi2trZazgIAAICiVarVarXeI2pp9uzZWbRoUb1nAAAAQI+p+9fsAQAA\n",
              "gO4R8wAAAFAYMQ8AAACFEfMAAABQGDEPAAAAhRHzAAAAUBgxDwAAAIUR8wAAAFAYMQ8AAACFEfMA\n",
              "AABQGDEPAAAAhRHzAAAAUBgxDwAAAIUR8wAAAFAYMQ8AAACFEfMAAABQGDEPAAAAhRHzAAAAUBgx\n",
              "DwAAAIUR8wAAAFAYMQ8AAACFEfMAAABQGDEPAAAAhRHzAAAAUBgxDwAAAIUR8wAAAFAYMQ8AAACF\n",
              "EfMAAABQGDEPAAAAhRHzAAAAUBgxDwAAAIUR8wAAAFAYMQ8AAACFEfMAAABQGDEPAAAAhRHzAAAA\n",
              "UBgxDwAAAIUR8wAAAFAYMQ8AAACFEfMAAABQGDEPAAAAhRHzAAAAUBgxDwAAAIUR8wAAAFAYMQ8A\n",
              "AACFEfMAAABQGDEPAAAAhRHzAAAAUBgxDwAAAIUR8wAAAFAYMQ8AAACFEfMAAABQGDEPAAAAhRHz\n",
              "AAAAUBgxDwAAAIUR8wAAAFAYMQ8AAACFEfMAAABQGDEPAAAAhRHzAAAAUBgxDwAAAIUR8wAAAFAY\n",
              "MQ8AAACFEfMAAABQGDEPAAAAhRHzAAAAUBgxDwAAAIUR8wAAAFAYMQ8AAACFEfMAAABQGDEPAAAA\n",
              "hRHzAAAAUBgxDwAAAIUR8wAAAFAYMQ8AAACFEfMAAABQGDEPAAAAhRHzAAAAUJiaxvztt9+elpaW\n",
              "VCqVbNy48ZjHLVu2LMOHD895552XGTNm5ODBg0mSH/3oRxk3blxGjhyZiy66KHPmzElnZ2ctJwMA\n",
              "AMAJr6Yxf9NNN2XNmjUZMmTIMY/ZunVr5s+fn9WrV2fz5s3ZtWtX7r333iRJ//79893vfjebNm3K\n",
              "f/7nf2bt2rW5//77azkZAAAATng1jflrrrkmTU1Nb3nMihUrMnny5AwePDiVSiW33nprli9fniQZ\n",
              "M2ZMhg4dmiQ57bTTMnr06LS3tx/ztQ4cOJC9e/d2uR0+fLjH3g8AAACcCOr+O/MdHR1dPrlvaWlJ\n",
              "R0fHm47buXNnVqxYkeuuu+6Yr7Vw4cL07du3y23dunU12Q0AAAD1UveYPx579+7N9ddfnzlz5uTy\n",
              "yy8/5nHz5s3Lnj17utzGjRv3Hi4FAACA2muo94Dm5uZs2bLlyP329vY0Nzcfuf/LX/4ykyZNyqc+\n",
              "9anMnj37LV+rsbExjY2NXR7r3bt3zw4GAACAOqv7J/NTpkzJqlWrsnPnzlSr1SxZsiQ333xzkuT1\n",
              "11/PpEmTMmnSpHzlK1+p81IAAAA4MdQ05tva2tLU1JTt27dn4sSJGTZsWJJk+vTpWbVqVZJk6NCh\n",
              "ueuuuzJ+/PgMGzYsAwcOTFtbW5Jk8eLFWbduXR555JGMHj06o0ePzte+9rVaTgYAAIATXqVarVbr\n",
              "PaKWZs+enUWLFtV7BgAAAPSYun/NHgAAAOgeMQ8AAACFEfMAAABQGDEPAAAAhRHzAAAAUBgxDwAA\n",
              "AIUR8wAAAFAYMQ8AAACFEfMAAABQGDEPAAAAhRHzAAAAUBgxDwAAAIUR8wAAAFAYMQ8AAACFEfMA\n",
              "AABQGDEPAAAAhRHzAAAAUBgxDwAAAIUR8wAAAFAYMQ8AAACFEfMAAABQGDEPAAAAhRHzAAAAUBgx\n",
              "DwAAAIUR8wAAAFAYMQ8AAACFEfMAAABQGDEPAAAAhRHzAAAAUBgxDwAAAIUR8wAAAFAYMQ8AAACF\n",
              "EfMAAABQGDEPAAAAhRHzAAAAUBgxDwAAAIUR8wAAAFAYMQ8AAACFEfMAAABQGDEPAAAAhRHzAAAA\n",
              "UBgxDwAAAIUR8wAAAFAYMQ8AAACFEfMAAABQGDEPAAAAhRHzAAAAUBgxDwAAAIUR8wAAAFAYMQ8A\n",
              "AACFEfMAAABQGDEPAAAAhRHzAAAAUBgxDwAAAIUR8wAAAFAYMQ8AAACFEfMAAABQGDEPAAAAhRHz\n",
              "AAAAUBgxDwAAAIUR8wAAAFAYMQ8AAACFEfMAAABQGDEPAAAAhWl4J39o06ZN2b59ez7wgQ9k1KhR\n",
              "6devXw/PAgAAAI7luGP+l7/8Ze6+++585zvfyemnn55BgwZl//792bJlS8aNG5e5c+fm4x//eC23\n",
              "AgAAAOlGzH/sYx/L1KlTs2HDhgwaNOjI452dnVm9enWWLFmSzZs3p62trSZDAQAAgF877ph/4okn\n",
              "0tjY+KbHe/XqlQkTJmTChAk5cOBAj44DAAAA3uy4L4B3tJB/J8cAAAAA785xx/x1112XtWvXHvW5\n",
              "1157LX/7t3+bpUuX9tgwAAAA4OiO+2v2CxYsyLx587Jp06ZcccUVRy6A99Of/jQ///nP88UvfjF/\n",
              "/Md/XMutAAAAQLoR85dcckl+8IMfZNu2bXn88cezffv2nH766fnc5z6Xq6++Og0N7+hvuQMAAAC6\n",
              "qdsF/uqrr+aWW27p8tiPf/zjXHLJJT02CgAAADi24/6d+f/V2tp6XI8BAAAAtXHcn8zv3r07O3fu\n",
              "zBtvvJGf/OQnqVarSZI9e/Zk3759NRsIAAAAdHXcMb98+fJ885vfzIsvvpjJkycfebxv376ZM2dO\n",
              "TcYBAAAAb3bcMT9r1qzMmjUrf/mXf5n58+fXchMAAADwFrp9Abz58+ens7MzO3fuzKFDh4483tzc\n",
              "3KPDAAAAgKPr9gXw/v7v/z79+vXLqFGjMnbs2IwdOzaXX375UY+9/fbb09LSkkqlko0bNx7zNZct\n",
              "W5bhw4fnvPPOy4wZM3Lw4MHjeg4AAADej7od81/96lfz5JNP5pVXXslLL72Ul156Kbt37z7qsTfd\n",
              "dFPWrFmTIUOGHPP1tm7dmvnz52f16tXZvHlzdu3alXvvvfdtnwMAAID3q25/zX7AgAE5//zzj+vY\n",
              "a6655m2PWbFiRSZPnpzBgwcnSW699dYsWLAgX/ziF9/yuZNJtVrNG4d84wAAAKCWPtBwSiqVSr1n\n",
              "9Ihux/ynP/3pfPOb38wf/MEf5LTTTjvyeJ8+fd7RgI6Oji6f3Le0tKSjo+NtnzuaAwcO5MCBA10e\n",
              "O3z48Dva9V5649DBjHjw/9R7BgAAwEntuVu+mtNPObXeM3pEt79m/+d//ueZPXt2Bg8enP79+6df\n",
              "v37p379/LbZ128KFC9O3b98ut3Xr1tV7FgAAAPSobn8y39nZ2aMDmpubs2XLliP329vbj1wZ/62e\n",
              "O5p58+Zl9uzZXR4r4a/R+0DDKXnulq/WewYAAMBJ7QMNp9R7Qo/pdsz3tClTpuTqq6/OnXfemUGD\n",
              "BmXJkiW5+eab3/a5o2lsbExjY2OXx3r37l3T/T2hUqmcNF/1AAAAoPa6/TX7Xr16pXfv3m+6HU1b\n",
              "W1uampqyffv2TJw4McOGDUuSTJ8+PatWrUqSDB06NHfddVfGjx+fYcOGZeDAgWlra3vb5wAAAOD9\n",
              "qlKtVqvd+QP79u078s9vvPFG7r///hw+fDh/9md/1uPjesLs2bOzaNGies8AAACAHtPtT+bPOOOM\n",
              "I7cBAwZk9uzZWbFiRS22AQAAAEfR7Zj/f/30pz/Nyy+/3BNbAAAAgOPQ7Qvg9e/fP5VKJUly6NCh\n",
              "JMk999zTs6sAAACAY+p2zG/cuPH//8MNDRk8eHARV4wHAACAk0W3Y37IkCH5n//5nyNR379//5x+\n",
              "+uk9vQsAAAA4hm7H/Nq1azNlypQMHjw4SbJr166sXLkyH/7wh3t8HAAAAPBm3Y75/716/fjx45P8\n",
              "Ou7vuOOO/Pu//3uPjwMAAADerNtXs3/jjTeOhHySXHXVVdm/f3+PjgIAAACOrdsx/xu/8Rv54Q9/\n",
              "eOT+Y489ljPOOKNHRwEAAADH1u2v2X/rW9/KjTfeeOQK9p2dnXnkkUd6fBgAAABwdN2O+RdffDFP\n",
              "PfVUdu3alSQZNGhQ1q1b1+PDAAAAgKPr9tfs58+fn4EDB+biiy/OxRdfnAEDBmT+/Pm12AYAAAAc\n",
              "Rbdj/v9VqVRy+PDhntgCAAAAHIdux/yZZ56ZtWvXHrn/xBNP5Mwzz+zRUQAAAMCxdft35v/mb/4m\n",
              "N9xwQy644IIkyfPPP5/vfe97PT4MAAAAOLpux/yHP/zhPPvss/m3f/u3JL/+e+b79evX07sAAACA\n",
              "Y+h2zCdJ//7988lPfrKntwAAAADH4V1fAA8AAAB4b4l5AAAAKIyYBwAAgMKIeQAAACiMmAcAAIDC\n",
              "iHkAAAAojJgHAACAwoh5AAAAKIyYBwAAgMKIeQAAACiMmAcAAIDCiHkAAAAojJgHAACAwoh5AAAA\n",
              "KIyYBwAAgMKIeQAAACiMmAcAAIDCiHkAAAAojJgHAACAwoh5AAAAKIyYBwAAgMKIeQAAACiMmAcA\n",
              "AIDCiHkAAAAojJgHAACAwoh5AAAAKIyYBwAAgMKIeQAAACiMmAcAAIDCiHkAAAAojJgHAACAwoh5\n",
              "AAAAKIyYBwAAgMKIeQAAACiMmAcAAIDCiHkAAAAojJgHAACAwoh5AAAAKIyYBwAAgMKIeQAAACiM\n",
              "mAcAAIDCiHkAAAAojJgHAACAwoh5AAAAKIyYBwAAgMKIeQAAACiMmAcAAIDCiHkAAAAojJgHAACA\n",
              "woh5AAAAKIyYBwAAgMKIeQAAACiMmAcAAIDCiHkAAAAojJgHAACAwoh5AAAAKIyYBwAAgMKIeQAA\n",
              "ACiMmAcAAIDCiHkAAAAojJgHAACAwoh5AAAAKExNY/7555/PVVddlREjRuSKK67IM88886ZjOjs7\n",
              "86UvfSkXX3xxLrjggkybNi2/+tWvjjz/13/91xk5cmRGjx6dK6+8MuvWravlZAAAADjh1TTm29ra\n",
              "MnPmzDz33HOZO3duWltb33TMsmXLsn79+qxfvz7PPvtsevXqlcWLFydJNm7cmL/7u7/LunXrsnHj\n",
              "xtx222257bbbajkZAAAATng1i/ndu3fnqaeeyi233JIkmTJlSrZt25bNmzd3Oe7pp5/OJz7xiZx6\n",
              "6qmpVCq59tpr88ADDyRJKpVKDh48mH379iVJXnvttTQ1NR3zZx44cCB79+7tcjt8+HCN3iEAAADU\n",
              "R81iftu2bTnnnHPS0NCQ5Ndh3tzcnI6Oji7HjR07NqtWrcrevXtz8ODBPPzww2lvb0+SXHrppbnj\n",
              "jjvyoQ99KE1NTfnGN76Re+6555g/c+HChenbt2+Xm6/lAwAAcLKp+wXwWltbM2nSpEyYMCETJkzI\n",
              "iBEjjvwPgK1bt+aRRx7J5s2bs3379txxxx357Gc/e8zXmjdvXvbs2dPlNm7cuPfqrQAAAMB7omYx\n",
              "f+6552bHjh05dOhQkqRaraajoyPNzc1djqtUKrnzzjuzYcOGrF27NiNHjsxFF12UJFm5cmVGjRqV\n",
              "3/zN30yS/NEf/VGeeOKJLhfI+781NjamT58+XW69e/eu1VsEAACAuqhZzJ999tm57LLL8uCDDyb5\n",
              "dZg3NTVl2LBhXY7bv39/Xn311STJyy+/nK9//euZM2dOkmTo0KF54okn8vrrrydJvv/972fEiBE5\n",
              "9dRTazUbAAAATngNtXzxpUuXprW1NQsWLEifPn1y3333JUmmT5+eyZMnZ/LkydmzZ08++tGPplev\n",
              "Xuns7MysWbNy/fXXJ0luuOGGPPnkk7n88svT2NiYM844I//wD/9Qy8kAAABwwqtUq9VqvUfU0uzZ\n",
              "s7No0aJ6zwAAAIAeU/cL4AEAAADdI+YBAACgMGIeAAAACiPmAQAAoDBiHgAAAAoj5gEAAKAwYh4A\n",
              "AAAKI+YBAACgMGIeAAAACiPmAQAAoDBiHgAAAAoj5gEAAKAwYh4AAAAKI+YBAACgMGIeAAAACiPm\n",
              "AQAAoDBiHgAAAAoj5gEAAKAwYh4AAAAKI+YBAACgMGIeAAAACiPmAQAAoDBiHgAAAAoj5gEAAKAw\n",
              "Yh4AAAAKI+YBAACgMGIeAAAACiPmAQAAoDBiHgAAAAoj5gEAAKAwYh4AAAAKI+YBAACgMGIeAAAA\n",
              "CiPmAQAAoDBiHgAAAAoj5gEAAKAwYh4AAAAKI+YBAACgMGIeAAAACiPmAQAAoDBiHgAAAAoj5gEA\n",
              "AKAwYh4AAAAKI+YBAACgMGIeAAAACiPmAQAAoDBiHgAAAAoj5gEAAKAwYh4AAAAKI+YBAACgMGIe\n",
              "AAAACiPmAQAAoDBiHgAAAAoj5gEAAKAwYh4AAAAKI+YBAACgMGIeAAAACiPmAQAAoDBiHgAAAAoj\n",
              "5gEAAKAwYh4AAAAKI+YBAACgMGIeAAAACiPmAQAAoDBiHgAAAAoj5gEAAKAwYh4AAAAKI+YBAACg\n",
              "MGIeAAAACiPmAQAAoDBiHgAAAAoj5gEAAKAwYh4AAAAKI+YBAACgMGIeAAAACiPmAQAAoDBiHgAA\n",
              "AAoj5gEAAKAwNY35559/PldddVVGjBiRK664Is8888ybjuns7MyXvvSlXHzxxbngggsybdq0/OpX\n",
              "vzryfEdHR66//vqcf/75GTlyZO65555aTgYAAIATXk1jvq2tLTNnzsxzzz2XuXPnprW19U3HLFu2\n",
              "LOvXr8/69evz7LPPplevXlm8eHGSpFqt5oYbbsjUqVPzs5/9LJs2bcrv//7v13IyAAAAnPBqFvO7\n",
              "d+/OU089lVtuuSVJMmXKlGzbti2bN2/uctzTTz+dT3ziEzn11FNTqVRy7bXX5oEHHkiSPPbYY2ls\n",
              "bMxnPvOZI8cPGjTomD/zwIED2bt3b5fb4cOHa/DuAAAAoH5qFvPbtm3LOeeck4aGhiRJpVJJc3Nz\n",
              "Ojo6uhw3duzYrFq1Knv37s3Bgwfz8MMPp729PUmyadOmDBw4MDfffHPGjBmTG264If/93/99zJ+5\n",
              "cOHC9O3bt8tt3bp1tXqLAAAAUBd1vwBea2trJk2alAkTJmTChAkZMWLEkf8BcOjQofzoRz/K/Pnz\n",
              "s2HDhkycOPEtv2Y/b9687Nmzp8tt3Lhx79VbAQAAgPdEzWL+3HPPzY4dO3Lo0KEkv/79946OjjQ3\n",
              "N3c5rlKp5M4778yGDRuydu3ajBw5MhdddFGSpLm5OWPGjDly/w//8A+zfv36HDx48Kg/s7GxMX36\n",
              "9Oly6927d63eIgAAANRFzWL+7LPPzmWXXZYHH3wwSbJy5co0NTVl2LBhXY7bv39/Xn311STJyy+/\n",
              "nK9//euZM2dOkuTaa6/N9u3b8/Of/zxJ8o//+I+58MILc8opp9RqNgAAAJzwGmr54kuXLk1ra2sW\n",
              "LFiQPn365L777kuSTJ8+PZMnT87kyZOzZ8+efPSjH02vXr3S2dmZWbNm5frrr0+SnHHGGVmyZEl+\n",
              "7/d+L9VqNX379s13v/vdWk4GAACAE16lWq1W6z2ilmbPnp1FixbVewYAAAD0mLpfAA8AAADoHjEP\n",
              "AAAAhRHzAAAAUBgxDwAAAIUR8wAAAFAYMQ8AAACFEfMAAABQGDEPAAAAhRHzAAAAUBgxDwAAAIUR\n",
              "8wAAAFAYMQ8AAACFEfMAAABQGDEPAAAAhRHzAAAAUBgxDwAAAIUR8wAAAFAYMQ8AAACFEfMAAABQ\n",
              "GDEPAAAAhRHzAAAAUBgxDwAAAIUR8wAAAFAYMQ8AAACFEfMAAABQGDEPAAAAhRHzAAAAUBgxDwAA\n",
              "AIUR8wAAAFAYMQ8AAACFEfMAAABQGDEPAAAAhRHzAAAAUBgxDwAAAIUR8wAAAFAYMQ8AAACFEfMA\n",
              "AABQGDEPAAAAhRHzAAAAUBgxDwAAAIUR8wAAAFAYMQ8AAACFEfMAAABQGDEPAAAAhRHzAAAAUBgx\n",
              "DwAAAIUR8wAAAFAYMQ8AAACFEfMAAABQGDEPAAAAhRHzAAAAUBgxDwAAAIUR8wAAAFAYMQ8AAACF\n",
              "EfMAAABQGDEPAAAAhRHzAAAAUBgxDwAAAIUR8wAAAFAYMQ8AAACFqVSr1Wq9R9TSjTfemJaWlnrP\n",
              "eFuHDx/OunXrMm7cuPTu3bvecyiIc4d3w/nDO+Xc4Z1y7vBOOXd4N0o7f4YMGZJZs2a95TEnfcyX\n",
              "Yu/evenbt2/27NmTPn361HsOBXHu8G44f3innDu8U84d3innDu/GyXj++Jo9AAAAFEbMAwAAQGHE\n",
              "PAAAABRGzJ8gGhsb8xd/8RdpbGys9xQK49zh3XD+8E45d3innDu8U84d3o2T8fxxATwAAAAojE/m\n",
              "AQAAoDBiHgAAAAoj5gEAAKAwYv4EcPvtt6elpSWVSiUbN26s9xwKsn///nz605/OiBEjcumll+Z3\n",
              "fud3snnz5nrPohC/+7u/m0suuSSjR4/ORz7ykWzYsKHekyjMfffdl0qlkkcffbTeUyhES0tLzj//\n",
              "/IwePTqjR4/OQw89VO9JFOTAgQO57bbbMnz48IwaNSq33HJLvSdRgFdeeeXIv3NGjx6dESNGpKGh\n",
              "Ib/4xS/qPe1da6j3AJKbbropc+bMydVXX13vKRRo5syZufbaa1OpVPLtb38706dPz7/8y7/UexYF\n",
              "ePjhh9OvX78kyfe+9720trbm6aefru8oitHe3p7vfOc7ufLKK+s9hcI89NBDGT16dL1nUKAvf/nL\n",
              "qVQqee6551KpVLJz5856T6IAZ511VpcPTO++++48/vjj+eAHP1i/UT3EJ/MngGuuuSZNTU31nkGB\n",
              "TjvttHzyk59MpVJJklx55ZVpb2+v7yiK8b8hnyR79uw5ch7B2+ns7Mz06dNzzz33nFR/xQ9w4tq3\n",
              "b1+WLVuWr33ta0f+ezV48OA6r6JEy5Yty7Rp0+o9o0eIeTiJLF68OJ/61KfqPYOCTJ06Neeee27m\n",
              "z5+fBx54oN5zKMSiRYsyfvz4jB07tt5TKNDUqVMzatSoTJs2LS+99FK951CILVu25IMf/GAWLFiQ\n",
              "yy+/PB/5yEfy2GOP1XsWhVm7dm1effXVXHfddfWe0iPEPJwkFixYkM2bN2fhwoX1nkJB7r///mzb\n",
              "ti1/9Vd/lblz59Z7DgX4r//6r6xcuTJf+cpX6j2FAv3rv/5rfvzjH2f9+vUZMGBAPv/5z9d7EoU4\n",
              "dOhQXnjhhYwcOTJPPfVUvvWtb+Wzn/1sdu3aVe9pFGTZsmWZOnVqGhpOjt82PzneBbzP3X333Xnk\n",
              "kUfywx/+MKeffnq951Cgz3/+87n11lvzyiuv5Kyzzqr3HE5gq1evTnt7e4YPH54k2blzZ2bOnJkd\n",
              "O3bkC1/4Qp3XcaJrbm5Okpxyyin5kz/5k4wYMaLOiyhFc3NzevXqlc997nNJkjFjxuRDH/pQfvKT\n",
              "n2TQoEF1XkcJXn/99Tz88MN58skn6z2lx/hkHgq3aNGiLF++PP/8z//c5Xeg4a289tprefHFF4/c\n",
              "f/TRR3PWWWedFBeDoba+8IUvZMeOHWlvb097e3uuvPLK3HvvvUKet7Vv37689tprR+4vX748Y8aM\n",
              "qd8gijJgwIB8/OMfzz/90z8lSbZu3ZqtW7fmwgsvrPMySvHQQw/l0ksvzQUXXFDvKT3GJ/MngLa2\n",
              "tvzgBz/Izp07M3HixJx55pn+ejGOy/bt2/Onf/qnGTp0aD72sY8lSRobG/Mf//EfdV7GiW7Pnj35\n",
              "zGc+kzfeeCO9evXKwIED8/3vf99F8ICa2bVrV6ZMmZLDhw+nWq1m6NChuf/+++s9i4IsWbIk06ZN\n",
              "y9y5c9OrV68sXbo0v/Vbv1XvWRRi2bJlmTFjRr1n9KhKtVqt1nsEAAAAcPx8zR4AAAAKI+YBAACg\n",
              "MGIeAAAACiPmAYBuef7553PVVVdlxIgRueKKK/LMM8/UexIAvO+IeQCgW9ra2jJz5sw899xzmTt3\n",
              "blpbW+s9CQDed1zNHgA4brt3786wYcPyi1/8Ig0NDalWqznnnHOyZs2aDBs2rN7zAOB9wyfzAMBx\n",
              "27ZtW84555w0NDQkSSqVSpqbm9PR0VHnZQDw/iLmAQAAoDBiHgA4bueee2527NiRQ4cOJUmq1Wo6\n",
              "OjrS3Nxc52UA8P4i5gGA43b22Wfnsssuy4MPPpgkWblyZZqamvy+PAC8x1wADwDolp/97GdpbW3N\n",
              "K6+8kj59+uS+++7LqFGj6j0LAN5XxDwAAAAUxtfsAQAAoDBiHgAAAAoj5gEAAKAwYh4AAAAKI+YB\n",
              "AACgMGIeAAAACiPmAQAAoDBiHgAAAAoj5gEAAKAwYh4AAAAK8/8BIDndGfJvR1AAAAAASUVORK5C\n",
              "YII=\n",
              "\">\n",
              "      </div>\n",
              "      <script type=\"text/javascript\">\n",
              "        (() => {\n",
              "          const chartElement = document.getElementById(\"chart-57176875-2292-4687-b6d8-f2d36b88c9bf\");\n",
              "          async function getCodeForChartHandler(event) {\n",
              "            const chartCodeResponse =  await google.colab.kernel.invokeFunction(\n",
              "                'getCodeForChart', [\"chart-57176875-2292-4687-b6d8-f2d36b88c9bf\"], {});\n",
              "            const responseJson = chartCodeResponse.data['application/json'];\n",
              "            await google.colab.notebook.addCell(responseJson.code, 'code');\n",
              "          }\n",
              "          chartElement.onclick = getCodeForChartHandler;\n",
              "        })();\n",
              "      </script>\n",
              "      <style>\n",
              "        .colab-quickchart-chart-with-code  {\n",
              "            display: block;\n",
              "            float: left;\n",
              "            border: 1px solid transparent;\n",
              "        }\n",
              "\n",
              "        .colab-quickchart-chart-with-code:hover {\n",
              "            cursor: pointer;\n",
              "            border: 1px solid #aaa;\n",
              "        }\n",
              "      </style>"
            ]
          },
          "metadata": {}
        },
        {
          "output_type": "display_data",
          "data": {
            "text/plain": [
              "<google.colab._quickchart_helpers.SectionTitle at 0x7e3055e1a050>"
            ],
            "text/html": [
              "<h4 class=\"colab-quickchart-section-title\">Values</h4>\n",
              "<style>\n",
              "  .colab-quickchart-section-title {\n",
              "      clear: both;\n",
              "  }\n",
              "</style>"
            ]
          },
          "metadata": {}
        },
        {
          "output_type": "display_data",
          "data": {
            "text/plain": [
              "from matplotlib import pyplot as plt\n",
              "_df_5['index'].plot(kind='line', figsize=(8, 4), title='index')\n",
              "plt.gca().spines[['top', 'right']].set_visible(False)"
            ],
            "text/html": [
              "      <div class=\"colab-quickchart-chart-with-code\" id=\"chart-cb3a5dea-bb4f-4379-815b-6d7fe9ef283e\">\n",
              "        <img style=\"width: 180px;\" src=\"data:image/png;base64,iVBORw0KGgoAAAANSUhEUgAAApsAAAFuCAYAAADOJdNTAAAAOnRFWHRTb2Z0d2FyZQBNYXRwbG90\n",
              "bGliIHZlcnNpb24zLjEwLjAsIGh0dHBzOi8vbWF0cGxvdGxpYi5vcmcvlHJYcgAAAAlwSFlzAAAP\n",
              "YQAAD2EBqD+naQAAPjBJREFUeJzt3XtY1HX+//8HB8UTB0U5iYAwo2YeMRUPecK1cjd0Mzttm7Ye\n",
              "UwMv22/9+u7aJ7fryv3stn5DXTWrNavN7WBZWX0+GyieMrNSO5oznFEQFUEUGWB4//4YxFixQBkG\n",
              "mPvturyu5j0vhue8runt3RmG8TAMwxAAAADgBJ6uHgAAAABtF7EJAAAApyE2AQAA4DTEJgAAAJyG\n",
              "2AQAAIDTEJsAAABwGmITAAAATkNsAgAAwGmITQAAADgNsQkAP+O2227TU089dc1fP3bsWD355JNN\n",
              "NxAAtCLerh4AAFq6jz76yNUjAECrxTObAAAAcBpiEwB+xoQJE/THP/5RkuTh4aE1a9ZozJgx6tKl\n",
              "iwYOHKi9e/fWrq2qqtKjjz6qkJAQ9ejRQ48//vgVt3f8+HHdd9996tmzp4KCgnTvvffq1KlTkqS0\n",
              "tDR17txZBw8elCQZhqFf/vKXuv3222UYRjPcWwBoWsQmADTSCy+8oM2bN6u4uFjx8fH6zW9+U3vd\n",
              "X/7yF73xxhvasWOH8vLy5O3trQMHDtReb7PZFB8fr7CwMB07dkwZGRny9vbWfffdJ8kRtk8++aTu\n",
              "vPNOnTlzRk899ZSOHj2qV155RR4eHs1+XwHgehGbANBIjzzyiEwmk7y9vTVv3jzl5OTo5MmTkqRN\n",
              "mzbpkUceUf/+/eXj46Mnn3xSXbt2rf3aDz74QKWlpfrrX/+qzp07q0uXLvrzn/+slJQU5eXlSZL+\n",
              "z//5Pxo+fLji4+P1l7/8RVu3blVAQIAr7ioAXDfeIAQAjRQWFlb73507d5YklZaWKjg4WHl5eerd\n",
              "u3ft9V5eXoqIiKi9bLFYdPLkyToBKkk+Pj7KyclReHi4JGnZsmUaM2aM7r33Xg0ZMsSJ9wYAnIvY\n",
              "BIAmFB4erqysrNrLdrtdubm5tZdDQkIUGRmp9PT0q95GSUmJZs2apTlz5uiNN97Q+++/r9tvv92Z\n",
              "YwOA0/AyOgA0oVmzZulvf/ubjh49KpvNpj/96U8qKiqqvf6OO+5QZWWlli9frpKSEklSYWGhXn/9\n",
              "dUmONwTNmjVLffv21fPPP6/nnntODzzwgDIyMlxyfwDgehGbANCEHnvsMd1xxx0aP368wsPDVVFR\n",
              "oZEjR9Ze7+vrq/379ysnJ0cDBw6Un5+fRo8erd27d0uS/vu//1tfffVV7RuC7r33Xt1///2aMWOG\n",
              "Ll686Kq7BQDXzMPgd2kAAADASXhmEwAAAE5DbAIAAMBpiE0AAAA4DbEJAAAApyE2AQAA4DTEJgAA\n",
              "AJyG2AQAAIDTtMjYTE5OdvUIAAAAaAItMjazs7NdPQIAAACaQIuMTQAAALQNxCYAAACchtgEAACA\n",
              "0xCbAAAAcBpiEwAAAE5DbAIAAMBpiE0AAAA4DbEJAAAAp7nm2Ny0aZM8PDy0bdu2eq/fvn27+vXr\n",
              "J7PZrDvuuEPnzp271m8FAACAVuqaYjMrK0vPP/+84uLi6r3+/PnzmjNnjrZt2yaLxaKwsDA99dRT\n",
              "1zUoAAAAWp9Gx2Z1dbXmzp2rNWvWyMfHp941H330kYYOHap+/fpJkhYtWqQtW7Zc36QAAAC4qkp7\n",
              "tatHqFejY3PVqlUaM2aMhg0bdtU1OTk5ioyMrL0cFRWl/Px8VVVVXbHWZrPp3Llzdf7Y7fbGjgUA\n",
              "AOCWSi5W6tmUYxr95x06ea7c1eNcwbsxi7/55htt3bpVu3fvbrIBVq5cqRUrVtQ5drWX5wEAAOBQ\n",
              "Ulapf+zL1D/2Zaq03PGE3hsHc/VwvNnFk9XVqNjcs2ePsrKyZDY77kRBQYHmz5+v/Px8PfTQQ7Xr\n",
              "IiIi9PHHH9dezsrKUmhoqLy9r/x2jz/+uJYtW1bn2PLlyxt1JwAAANxFcVmF/rE3U5v2ZanU5ojM\n",
              "PsFdlBhv1tQBoS6e7koehmEY1/rFEyZM0NKlSzV9+vQ6x0tLSxUTE6Pdu3erX79+WrJkiTp06KBn\n",
              "nnmmQbe7bNkyrVq16lrHAgAAaHOKyyr0wp5MvfRJls7XRGa/EF8lxpt1640h8vT0cPGE9WvUM5s/\n",
              "5YknnlBYWJgWLlwoX19fvfDCC5o+fbqqqqo0YMAAbd68uam+FQAAgNs4e6FCL+zN0OZPsutE5tLJ\n",
              "Zk3p33Ij85LrembTWXhmEwAAuLuiCxV6fk+GXv4kSxcqHG+e7h/qp8R4s6b0D27xkXlJkz2zCQAA\n",
              "gOt35rxNG/dk6JX92Sqricwbw/yUFG/WL/oHy8OjdUTmJcQmAABAC3D6vE3P787Qy/uzdbHSEZkD\n",
              "evppaXwfxd8Q1Ooi8xJiEwAAwIVOldq0cXe6Xv00pzYyB4X7KynerEn9Wm9kXkJsAgAAuEBhabme\n",
              "25Whfx7IVnml49N/BvcK0NJ4syb07dHqI/MSYhMAAKAZFZ4r14aayLRVOSJzSK8ALZ1s1vg+bScy\n",
              "LyE2AQAAmsHJc+Van5auLZ/l1EZmbESAkib30Thz9zYXmZcQmwAAAE5UUFKu9WlWbTmYq4qayLwp\n",
              "squSJps11tR2I/MSYhMAAMAJ8ksuan1auv71Wa4q7I7IHB7VVUsn99HomMA2H5mXEJsAAABN6ETx\n",
              "Ra1Ls+qNg3m1kTmidzctjTdrlBtF5iXEJgAAQBM4XnxR63Za9cbnuaq0Oz6gMS66m5Li+2hUTKCL\n",
              "p3MdYhMAAOA65BaVaV1aut764nJkjooOVNJks+Ki3TcyLyE2AQAArkFuUZn+vtOqt77IU1W1IzLH\n",
              "mAKVFN9HI3p3c/F0LQexCQAA0Ag5Z8q0dqdFb395vDYyx5q6K2myWcOjiMz/RGwCAAA0QPaZC1q7\n",
              "w6q3Dx2XvSYybzZ319LJZg2LJDKvhtgEAAD4CVmnL2jNDqu2Hb4cmeP79FBivFnDIru6eLqWj9gE\n",
              "AACoR8ap81pbE5k1jakJfXsoKd6soRFEZkMRmwAAAD+SXhOZ7/4oMif1C1JivFlDegW4dLbWiNgE\n",
              "AACQZC08rzU7LHr/yInayJx8gyMyB4UHuHS21ozYBAAAbs1yslSrd1i1/asTMmojM1hJ8WYNDPd3\n",
              "7XBtALEJAADc0rGTpVqdatEHX+fXRuaU/sFKjDdrQE8is6kQmwAAwK38UOCIzA+/uRyZt94Yoofj\n",
              "TboxjMhsasQmAABwC9/nn9PqVIs++qag9thtA0KUGG/WDaF+LpysbSM2AQBAm/bdCUdk/s+3jsj0\n",
              "8JCmDgjVw/Em9QshMp2N2AQAAG3SN8dLtDrVon9/d1KSIzJ/OTBUifFm9Qn2dfF07oPYBAAAbco3\n",
              "x0v0bIpFKd9fjsxfDQpT4iSTzERmsyM2AQBAm/B1XomSU48p5ftCSZKnh3T74DA9PMkkUxCR6SqN\n",
              "js0pU6aooKBAnp6e8vX11erVqzV06NA6a9LS0nTbbbepb9++tcf279+vjh07Xv/EAAAAP3Ikt1jJ\n",
              "qRbtOHo5MqcN6aklk0yK6dHFxdOh0bH5xhtvKCAgQJL0zjvvaPbs2Tpy5MgV6/r27avDhw9f73wA\n",
              "AAD1OpRzVsmpFqX9cEqSIzKn10RmNJHZYjQ6Ni+FpiSVlJTIw8OjKecBAAD4SV/mnFVyikW7jjki\n",
              "08vTozYye3fv7OLp8J+u6Wc2H3jgAe3cuVOS9OGHH9a7Jj09XbGxsfLy8tKDDz6oRYsW1bvOZrPJ\n",
              "ZrPVOWa3269lLAAA0IZ9kV2kZ1Ms2mM5LckRmXcM7anFE02KIjJbLA/DuPS78xtv8+bNev31168I\n",
              "znPnzskwDPn7+ysvL09Tp07VH//4R911111X3MaTTz6pFStW1DkWFxen/fv3X+tYAACgDTmYVaTk\n",
              "FIv2Wh2R6e3poTtiHZEZGUhktnTXFZuS1LFjR+Xl5SkwMPCqa1auXKkTJ05ozZo1V1xX3zOby5cv\n",
              "V3Jy8vWMBQAAWrnPMouUnHpM+6xnJDki885h4Vo80aRe3Tq5eDo0VKNeRi8uLlZZWZnCwsIkSdu2\n",
              "bVNgYKC6detWZ11+fr6Cg4Pl6emp0tJSbd++XXPmzKn3Nn18fOTj41PnmJeXV2PGAgAAbcinGWeU\n",
              "nGLR/ozLkTnzpl5aNCGGyGyFGhWbJSUlmjlzpi5evChPT0/16NFD27dvl4eHh+bOnauEhAQlJCRo\n",
              "69atWr9+vby9vVVVVaWZM2fqwQcfdNZ9AAAAbcD+9DN6NuWYDmQWSZLaeV2OzPCuRGZrdd0vozvD\n",
              "smXLtGrVKlePAQAAnMwwDEdkplr0WU1ktvfy1F3Dw/XQBJN6BvA7uls7PkEIAAA0O8MwtM96Rsmp\n",
              "x3Qw66wkR2TePbyXHpoQozAis80gNgEAQLMxDEN7raf1bIpFX2TXRKa3p+4d3ksLJ8Qo1J/IbGuI\n",
              "TQAA4HSGYWi35bSSU47py5xiSY7IvG9EhBaOj1GIfwfXDginITYBAIDTGIahtGOnlJxi0eHcYkmS\n",
              "j7en7hvpiMxgPyKzrSM2AQBAkzMMQ2k/nNKzqRYdqYnMDu089ZuRkVowLlpBRKbbIDYBAECTMQxD\n",
              "O44WKjnVoq/ySiQ5IvO3cZGaNy5aQb5EprshNgEAwHUzDEMp3xdqdapFXx93RGbHdl767ahIzbs5\n",
              "Wj18fX7mFtBWEZsAAOCaGYahj787qeRUi749cU6S1Kn95cjs3oXIdHfEJgAAaLTqakP//u6kVqda\n",
              "9F2+IzI7t/fSA6OjNHdsbwUSmahBbAIAgAarrjb0v98WKDnVoqMFpZIckTlrdJTm3hytbp3bu3hC\n",
              "tDTEJgAA+FnV1Yb+59sCrf5RZHbx8dbs0VGaM7a3uhKZuApiEwAAXFV1taEPv8nXmlSrfjjpiExf\n",
              "H289OCZKvxvbWwGdiEz8NGITAABcwV5t6IOv87Um1SJL4XlJkm8Hbz04prfmjOkt/07tXDwhWgti\n",
              "EwAA1LJXG9r+1Qmt2WGV9UeROWdsbz04prf8OxKZaBxiEwAAyF5t6P0jJ7Rmh0Xppy5Ikvw6eGvO\n",
              "2GjNHhNFZOKaEZsAALixKnu13jtyQmt3WJVx2hGZ/h3bae7Y3po1Jkp+HYhMXB9iEwAAN1Rlr9a7\n",
              "h09o7U6rMmsiM6BTO827OVoPjIqUL5GJJkJsAgDgRqrs1Xrn0HH9fadVWWfKJEldO7XT3JujNWt0\n",
              "lLr4kAZoWjyiAABwA5X2ar3z5XGt3WlVTpEjMrt1bl/7TGZnIhNOwiMLAIA2rNJerbe/zNPanVbl\n",
              "Fl2UJAV2bq/546J1fxyRCefjEQYAQBtUUVWtrV/m6e87rco764jM7l0uR2an9iQAmgePNAAA2pCK\n",
              "qmq9+UWu1u1M1/HiS5Hpo4Xjo/WbkZHq2N7LxRPC3RCbAAC0AbYqu978PE/rdlp1oqRcktTD10cL\n",
              "x8fovhERRCZchtgEAKAVs1XZ9cbBXK1LS1d+TWQGXYrMkRHq0I7IhGsRmwAAtELllXa9fjBX69PS\n",
              "VXDOEZnBfj56aHyM7hlBZKLlIDYBAGhFyivt+tdnOVq/K10nz9kkSSF+HbRoYozuuqkXkYkWp9Gx\n",
              "OWXKFBUUFMjT01O+vr5avXq1hg4desW6F198UX/+859VXV2tSZMmad26dWrXjk8jAADgWpRX2vXa\n",
              "gRxt2JWuwlJHZIb6d9CiCTG6a3gv+XgTmWiZGh2bb7zxhgICAiRJ77zzjmbPnq0jR47UWZOZmanl\n",
              "y5fryy+/VHBwsKZNm6aNGzdq8eLFTTI0AADu4mKFXf88kK3ndmfoVE1khvl30KKJJs28KZzIRIvX\n",
              "6Ni8FJqSVFJSIg8PjyvWvPXWW0pISFBISIgkaeHChXr66aeJTQAAGuhSZG7YlaHT5x2R2TOgoxZP\n",
              "NOnOYeFq7+3p4gmBhrmmn9l84IEHtHPnTknShx9+eMX1OTk5ioyMrL0cFRWlnJycem/LZrPJZrPV\n",
              "OWa3269lLAAAWr2yiiq9+mm2Nu7O0OnzFZKk8K6OyJwRS2Si9bmm2Hz55ZclSZs3b9Zjjz1Wb3A2\n",
              "1MqVK7VixYo6x+Li4q759gAAaI0u2Kr0yqfZen53hs5ccERmr24dtWSiSXfEhqudF5GJ1um63o0+\n",
              "a9YsLVy4UGfOnFFgYGDt8YiICKWnp9dezsrKUkRERL238fjjj2vZsmV1ji1fvvx6xgIAoNW4YKvS\n",
              "y/uz9fyeDBXVRGZEt05aMtGkX8f2JDLR6jUqNouLi1VWVqawsDBJ0rZt2xQYGKhu3brVWTdjxgyN\n",
              "HTtWTz75pIKDg7Vhwwbdc8899d6mj4+PfHx86hzz8uKHnQEAbdt5W5U2f5KlF/Zk6GxZpSQpMtAR\n",
              "mdOHEploOxoVmyUlJZo5c6YuXrwoT09P9ejRQ9u3b5eHh4fmzp2rhIQEJSQkKDo6WitWrNCYMWMk\n",
              "SRMmTNCCBQuccgcAAGhNSssrHZG5N1PFNZHZu3tnLZlo0rQhYfImMtHGeBiGYbh6iP+0bNkyrVq1\n",
              "ytVjAADQZM6VV2rzPkdkllx0RGZ09856ON6k2wcRmWi7+AQhAACcqORipV7al6UX92boXHmVJCm6\n",
              "R2clTjLr9sFh8vK88lcIAm0JsQkAgBOUXKzUP/Zm6h/7MlVaE5mmoC56eJJJvxpEZMJ9EJsAADSh\n",
              "krJKvbgvU5t+FJnmoC5KjDdr6sBQIhNuh9gEAKAJFJdV6MW9mXppX5ZKbY7I7BNcE5kDQuVJZMJN\n",
              "EZsAAFyHsxcq9MLeDG3+JFvnayKzX4ivEuPNuvXGECITbo/YBADgGhRdqNALezK0+ZMsXahwfMxy\n",
              "vxBfLZ1s1pT+RCZwCbEJAEAjnDlv0/N7MvXy/iyV1URm/1A/JcabNaV/MJEJ/AdiEwCABjh93qbn\n",
              "d2folU+zayPzxjA/JcWb9Yv+wfLwIDKB+hCbAAD8hNPnbdq4O0Ov7M/WxUpHZA7o6ael8X0Uf0MQ\n",
              "kQn8DGITAIB6FJaWa+OuDL16IFvlldWSpEHh/kqKN2tSPyITaChiEwCAHyk8V64NuzL0zwPZslU5\n",
              "InNwrwAtjTdrQt8eRCbQSMQmAAByROb6Xel67UBObWQO6RWgpZPNGt+HyASuFbEJAHBrBSXl2rAr\n",
              "Xa99lqOKmsiMjQhQ0uQ+GmfuTmQC14nYBAC4pfySi1qflq5/HcytjcxhkV21dLJZY01EJtBUiE0A\n",
              "gFs5UeyIzNcP5qrC7ojM4VFdlRTfR2NMgUQm0MSITQCAWzhefFHrdlr15ud5tZE5onc3LY03a1QM\n",
              "kQk4C7EJAGjT8s6WaV1aut78PFeVdkOSNLJ3Ny2d3EejYgJdPB3Q9hGbAIA2KbeoTOvSrHrri7za\n",
              "yBwVHaikyWbFRROZQHMhNgEAbUrOmTL9fadVW7/MU1W1IzLHmAKVFN9HI3p3c/F0gPshNgEAbULO\n",
              "mTKt3WnR1i+Py14TmWNN3ZU02azhUUQm4CrEJgCgVcs6fUFrd1r1zqHLkXmzubuWTjZrWCSRCbga\n",
              "sQkAaJUyT1/Qmh0WvXv4RG1kju/TQ4nxZg2L7Ori6QBcQmwCAFqVjFPntXaHVdsOH1dNY2pC3x5K\n",
              "ijdraASRCbQ0xCYAoFWwFp7X2h0WvXfkRG1kTuoXpMR4s4b0CnDpbACujtgEALRo1sJSrU616v2v\n",
              "TsioiczJNzgic1B4gEtnA/DziE0AQItkOVmq1Tus2l4nMoOVFG/WwHB/1w4HoMEaFZvl5eW65557\n",
              "9N1336ljx44KCgrS+vXrZTKZ6qzLyspSTEyMBg4cWHts69atiomJaZqpAQBt1g8FpVq9w6IPv86v\n",
              "jcwp/YOVGG/WgJ5EJtDaNPqZzfnz5+u2226Th4eH1q5dq7lz5yotLe2Kdb6+vjp8+HATjAgAcAdH\n",
              "C85pdapFH35dUHvs1htD9HC8STeGEZlAa9Wo2OzQoYOmTp1aezkuLk7PPPNMkw8FAHAf3+c7IvOj\n",
              "by5H5m0DQpQYb9YNoX4unAxAU7iun9lMTk7WtGnT6r3uwoULGj58uOx2u6ZPn64//OEP8vLyumKd\n",
              "zWaTzWarc8xut1/PWACAVuDbEyVanWrR/357svbYLweG6uF4k/qFEJlAW3HNsfn000/LarUqNTX1\n",
              "iutCQ0N1/PhxBQUFqaioSHfffbf+9re/6dFHH71i7cqVK7VixYo6x+Li4q51LABAC/fN8RIlp1r0\n",
              "8XeOyPTwkKYODFXiJLP6hvi6eDoATc3DMC79+HXDPfPMM/rXv/6llJQUBQQE/Oz6LVu26LXXXtP7\n",
              "779/xXX1PbO5fPlyJScnN3YsAEAL9nWeIzJTvr8cmb8aFKbESSaZg4lMoK1q9DObq1at0pYtW34y\n",
              "NAsLC9W1a1e1a9dONptNb7/9toYOHVrvWh8fH/n4+NQ5Vt/L7QCA1umrvGIlp1iUerRQkiMyEwaH\n",
              "6eFJJpmCiEygrWtUbObl5emRRx5RdHS0Jk6cKMkRiwcOHNATTzyhsLAwLVy4UHv37tUTTzwhLy8v\n",
              "VVVVadKkSfrDH/7glDsAAGiZjuQWKznVoh01kelZE5lLJpllCuri4ukANJdrehnd2ZYtW6ZVq1a5\n",
              "egwAwDU4lHNWyakWpf1wSpIjMqcP6aklk0yK7kFkAu6GTxACADSJL7Idkbn7mCMyvTw9aiOzd/fO\n",
              "Lp4OgKsQmwCA6/JFdpGeTbFoj+W0JEdk/npoTy2ZaFIUkQm4PWITAHBNDmYVKTnFor3Wy5E5I7an\n",
              "Fk80KTKQyATgQGwCABrlQMYZJada9En6GUmSt6eH7hwWrsUTTerVrZOLpwPQ0hCbAIAG+TTjjJJT\n",
              "LNqfcTkyZ94UrkUTiEwAV0dsAgCuyjAM7a+JzAOZRZKkdl4emnlTLy2aEKPwrkQmgJ9GbAIArmAY\n",
              "hvann9GzKRZ9lnU5Mu8e3ksPTTCpZ0BHF08IoLUgNgEAtQzD0D7rGSWnHtPBrLOSpPZenjWRGaMw\n",
              "IhNAIxGbAAAZhqE9ltNKTrXoi+yayPT21L3De2nhhBiF+hOZAK4NsQkAbswwDO22nNazKcd0KKdY\n",
              "kiMy7xsRoYXjYxTi38G1AwJo9YhNAHBDhmEo7dgpJadYdDi3WJLk4+2p+0Y6IjPYj8gE0DSITQBw\n",
              "I4ZhaOcPhUpOtepITWR2aOep34yM1IJx0QoiMgE0MWITANyAYRjacbRQyakWfZVXIskRmfePjNT8\n",
              "8dEK8iUyATgHsQkAbZhhGEr5vlCrUy36+rgjMju289JvR0Vq3s3R6uHr4+IJAbR1xCYAtEGGYejf\n",
              "353U6lSLvj1xTpLUqf3lyOzehcgE0DyITQBoQ6qrHZGZnGrR9/mXI/OBUVGad3NvBRKZAJoZsQkA\n",
              "bUB1taH//bZAyakWHS0olSR1bu+lWaOjNPfmaHXr3N7FEwJwV8QmALRi1dWGPvqmQGt2XI7MLj7e\n",
              "mj06SnPG9lZXIhOAixGbANAKVVcb+vCbfK1OtejYyfOSJF8fb80e44jMgE5EJoCWgdgEgFbEXm3o\n",
              "g6/ztSbVIkvh5ch8cGxvzRnTW/6d2rl4QgCoi9gEgFbAXm1o+1cntGaHVdZLkdnBW78b01u/IzIB\n",
              "tGDEJgC0YPZqQ+8fOaHVOyzKOHVBkuTXwVtzxkZr9pgo+XckMgG0bMQmALRAVfZqvXfkhNbusCrj\n",
              "tCMy/Tu209yxvTVrTJT8OhCZAFoHYhMAWpAqe7W2HT6hv++0KrMmMgM61UTm6Cj5EpkAWhliEwBa\n",
              "gCp7td45dFxrd1qVfaZMktS1UzvNvTlas0ZHqYsPp2sArRNnLwBwoUp7td750hGZOUWOyOzWub3m\n",
              "3Ryt346KJDIBtHqNOouVl5frnnvu0XfffaeOHTsqKChI69evl8lkumLt9u3b9fvf/152u10DBw7U\n",
              "Sy+9JD8/vyYbHABas0p7tbZ+kae/p1mVW3RRkhTYub3mjYvWb+Mi1ZnIBNBGeDb2C+bPn68ffvhB\n",
              "R44c0bRp0zR37twr1pw/f15z5szRtm3bZLFYFBYWpqeeeqpJBgaA1qyiqlpbPsvRhL+m6f97+2vl\n",
              "Fl1U9y7t9X+n9tOexyZq4fgYQhNAm9KoM1qHDh00derU2stxcXF65plnrlj30UcfaejQoerXr58k\n",
              "adGiRZoyZYr++te/Xue4ANA6VVRV680vcrVuZ7qOFzueyezexUcLx0frNyMj1bG9l4snBADnuK5/\n",
              "PicnJ2vatGlXHM/JyVFkZGTt5aioKOXn56uqqkre3nW/pc1mk81mq3PMbrdfz1gA0GLYqux64/M8\n",
              "bUi7HJk9fH20YByRCcA9XHNsPv3007JarUpNTb2uAVauXKkVK1bUORYXF3ddtwkArmarsuuNg7la\n",
              "l5au/JJySVKQr48Wjo/RfSMj1KEdkQnAPVxTbD7zzDN6++23lZKSok6dOl1xfUREhD7++OPay1lZ\n",
              "WQoNDb3iWU1Jevzxx7Vs2bI6x5YvX34tYwGAy5VX2vX6wVytT0tXwTlHZAb7OSLz3hFEJgD30+jY\n",
              "XLVqlbZs2aKUlBQFBATUu+bWW2/V4sWLdfToUfXr10/r1q3TPffcU+9aHx8f+fj41Dnm5cXJGEDr\n",
              "Ul5p15bPcrRhV7pOnnP8aFCIXwc9NCFGdw/vRWQCcFuNis28vDw98sgjio6O1sSJEyU5YvHAgQN6\n",
              "4oknFBYWpoULF8rX11cvvPCCpk+frqqqKg0YMECbN292yh0AAFcqr7TrtQOOyCwsdURmqH8HLZoQ\n",
              "o5k3EZkA4GEYhuHqIf7TsmXLtGrVKlePAQBXdbHCrn8eyNZzuzN0qiYyw/w7aNFEk2beFC4fbyIT\n",
              "ACQ+QQgAGqWsokr//DRHz+3O0OnzjsjsGdBRiybG6M5hRCYA/CdiEwAaoKyiSq9+mq2NuzN0+nyF\n",
              "JCm8a0ctnmjSjNhwtfdu9GdkAIBbIDYB4CdcsFXplU+z9fzuDJ25cDkyH55k0h2x4WrnRWQCwE8h\n",
              "NgGgHudtVXp5f5Ze2JOpoprIjOjWSUsmmvTr2J5EJgA0ELEJAD9y3lalzZ9k6YU9GTpbVilJigx0\n",
              "ROb0oUQmADQWsQkAkkrLKx2RuTdTxTWRGRXYSQ9PMmvakDB5E5kAcE2ITQBu7Vx5pTbvc0RmyUVH\n",
              "ZEZ376wlk0xKGExkAsD1IjYBuKWSi5V6aV+WXtyboXPlVZKk6B6dlTjJrNsHh8nL08PFEwJA20Bs\n",
              "AnArJRcr9Y+9mfrHvkyV1kRmTI/OSow361eDiEwAaGrEJgC3UFJWqRf3ZWrTjyLTHNRFD8eb9cuB\n",
              "oUQmADgJsQmgTSsuq9CLezP10r4sldockdknuIsS482aOiBUnkQmADgVsQmgTTp7oUIv7M3Q5k+y\n",
              "db4mMvsG+yppslm33hhCZAJAMyE2AbQpRRcq9MKeDG3+JEsXKuySpH4hvkqKN+sWIhMAmh2xCaBN\n",
              "OHPepuf3ZOrl/Vkqq4nM/qF+Sow3a0r/YCITAFyE2ATQqp0+b9PzuzP0yqfZtZF5Y5ifkuLN+kX/\n",
              "YHl4EJkA4ErEJoBW6fR5mzbuztAr+7N1sdIRmQN6+ikpvo8m3xBEZAJAC0FsAmhVCkvLtXFXhl49\n",
              "kK3yympJ0qBwfyXFmzWpH5EJAC0NsQmgVSg8V64NuzL0zwPZslU5InNwuL+WTu6jCX17EJkA0EIR\n",
              "mwBatMJz5Vq/K12vHcipjcwhvQKUNNmsCX2ITABo6YhNAC1SQUm5NuxK12uf5aiiJjJjIwKUNLmP\n",
              "xpm7E5kA0EoQmwBalPySi1qflq5/HcytjcxhkV21dLJZY01EJgC0NsQmgBbhRLEjMl8/mKsKuyMy\n",
              "h0d1VVJ8H40xBRKZANBKEZsAXOp48UWtT7PqjYN5tZE5onc3LY03a1QMkQkArR2xCcAl8s6WaV1a\n",
              "ut78PFeVdkOSNLJ3Ny2d3EejYgJdPB0AoKkQmwCaVW5RmdalWfXWF3m1kTkqOlBJk82KiyYyAaCt\n",
              "ITYBNIvcojL9facjMquqHZE5OiZQSfFmjSQyAaDNalRsJiYm6r333lN2drYOHTqkIUOGXLEmLS1N\n",
              "t912m/r27Vt7bP/+/erYseN1Dwug9ck5U6a1Oy16+8vjtZE51tRdSZPNGh7VzcXTAQCcrVGxeeed\n",
              "d+rRRx/V2LFjf3Jd3759dfjw4euZC0Arl3X6gtbutOqdQ8dlr4nMm83dtXSyWcMiiUwAcBeNis1x\n",
              "48Y5aw4AbUTm6Qtau8OqbYcvR+a4Pj2UFG/WsMiuLp4OANDcnPIzm+np6YqNjZWXl5cefPBBLVq0\n",
              "6KprbTabbDZbnWN2u90ZYwFwooxT52sjs6YxNaGvIzKHRhCZAOCumjw2Y2NjlZeXJ39/f+Xl5Wnq\n",
              "1Knq3r277rrrrnrXr1y5UitWrKhzLC4urqnHAuAk1sLzWrvDoveOnKiNzEn9gpQYb9aQXgEunQ0A\n",
              "4HqeTX2Dfn5+8vf3lySFh4fr3nvv1Z49e666/vHHH1dJSUmdPyNGjGjqsQA0MWthqZL+dUi/+H+7\n",
              "tO2wIzTj+wXp3cVj9I/ZwwlNAIAkJzyzmZ+fr+DgYHl6eqq0tFTbt2/XnDlzrrrex8dHPj4+dY55\n",
              "eXk19VgAmojlZKlW77Bq+1cnZNQ8kzn5hmAlxZs1MNzftcMBAFqcRsXmggUL9MEHH6igoEC33HKL\n",
              "fH19ZbVaNXfuXCUkJCghIUFbt27V+vXr5e3traqqKs2cOVMPPvigs+YH0Ex+KCjV6h0Wffh1fm1k\n",
              "TukfrMR4swb0JDIBAPXzMIxLf220HMuWLdOqVatcPQYASUcLzmlNqlUffJ1fe+yWGx2ReWMYkQkA\n",
              "+Gl8ghCAen2ff06rUy366JuC2mO3DQhRYrxZN4T6uXAyAEBrQmwCqOPbEyVanWrR/357svbYLweG\n",
              "6uF4k/qFEJkAgMYhNgFIkr457ojMf3/niEwPD2nqwFAlTjKrb4ivi6cDALRWxCbg5r7OK1FyqkUp\n",
              "31+OzF8NClPiJJPMwUQmAOD6EJuAm/oqr1jJKRalHi2U5IjMhMFheniSSaYgIhMA0DSITcDNHMkt\n",
              "VnKqRTtqItOzJjKXTDLLFNTFxdMBANoaYhNwE4dyzio51aK0H05JckTm9CE9tWSSSdE9iEwAgHMQ\n",
              "m0Ab90W2IzJ3H3NEppenR21k9u7e2cXTAQDaOmITaKO+yC7SsykW7bGcluSIzF8P7aklE02KIjIB\n",
              "AM2E2ATamINZRUpOsWiv9XJkzojtqcUTTYoMJDIBAM2L2ATaiAMZZ5ScatEn6WckSd6eHrpzWLgW\n",
              "TzSpV7dOLp4OAOCuiE2glfs044ySUyzan3E5MmfeFK5FE4hMAIDrEZtAK7U//YyeTTmmA5lFkqR2\n",
              "Xh6aeVMvLZoQo/CuRCYAoGUgNoFWxDAMR2SmWvTZjyLz7uG99NAEk3oGdHTxhAAA1EVsAq2AYRja\n",
              "Zz2j5NRjOph1VpLU3suzJjJjFEZkAgBaKGITaMEMw9Be62k9m2LRF9k1kentqXuH99LCCTEK9Scy\n",
              "AQAtG7EJtECGYWi35bSSU47py5xiSY7IvG9EhBaOj1GIfwfXDggAQAMRm0ALYhiG0o6dUnKKRYdz\n",
              "iyVJPt6eum+kIzKD/YhMAEDrQmwCLYBhGEr74ZSeTbXoSE1kdmjnqd+MjNSCcdEKIjIBAK0UsQm4\n",
              "kGEY2nG0UMmpFn2VVyLJEZn3j4zU/PHRCvIlMgEArRuxCbiAYRhK+b5Qq1Mt+vq4IzI7tvPSb0dF\n",
              "at7N0erh6+PiCQEAaBrEJtCMDMPQx9+dVHKqRd+eOCdJ6tT+cmR270JkAgDaFmITaAbV1Yb+/d1J\n",
              "rU616Lv8y5H5wKgozbu5twKJTABAG0VsAk5UXW3of78tUHKqRUcLSiVJndt7adboKM29OVrdOrd3\n",
              "8YQAADgXsQk4QXW1of/5tkCrfxSZXXy8NXt0lOaM7a2uRCYAwE0Qm0ATqq429OE3+VqTatUPJx2R\n",
              "6evjrdljHJEZ0InIBAC4F8/GLE5MTFRUVJQ8PDx0+PDhq6578cUXZTabFRMTo3nz5qmysvJ65wRa\n",
              "NHu1ofeOnNAtz+7WktcO6YeTpfL18VZivFl7H5ukR6b0JTQBAG6pUbF55513au/evYqMjLzqmszM\n",
              "TC1fvlx79uyR1WrVyZMntXHjxuseFGiJ7NWG3j18XLc8u1uJWw7JUnhevh28lVQTmct+0Uf+ndq5\n",
              "ekwAAFymUS+jjxs37mfXvPXWW0pISFBISIgkaeHChXr66ae1ePHia5sQaIHs1YbeP3JCa3ZYlH7q\n",
              "giTJr4O35oyN1uwxUfLvSGACACA54Wc2c3Jy6jzzGRUVpZycnKuut9lsstlsdY7Z7famHgtoElX2\n",
              "ar135ITW7rAq47QjMv07ttPcsb01a0yU/DoQmQAA/JjL3yC0cuVKrVixos6xuLg4F00D1K/KXq13\n",
              "D5/Q2p1WZdZEZkCnmsgcHSVfIhMAgHo1eWxGREQoPT299nJWVpYiIiKuuv7xxx/XsmXL6hxbvnx5\n",
              "U48FXJMqe7XeOXRcf99pVdaZMklS107tNPfmaM0aHaUuPi7/9xoAAC1ak/9NOWPGDI0dO1ZPPvmk\n",
              "goODtWHDBt1zzz1XXe/j4yMfn7qfnuLl5dXUYwGNUmmv1jtfHtfanVblFDkis1vn9pp3c7R+OyqS\n",
              "yAQAoIEa9TfmggUL9MEHH6igoEC33HKLfH19ZbVaNXfuXCUkJCghIUHR0dFasWKFxowZI0maMGGC\n",
              "FixY4JThgaZWaa/W21/mae1Oq3KLLkqSAju317xx0fptXKQ6E5kAADSKh2EYhquH+E/Lli3TqlWr\n",
              "XD0G3EhFVbW2fpmnv++0Ku+sIzK7d2mv+eOidX9cpDq1JzIBALgW/A0Kt1ZRVa03v8jVup3pOl58\n",
              "KTJ9tHB8tH4zMlId2/MjHQAAXA9iE27JVmXXm5/nad1Oq06UlEuSevj6aME4IhMAgKZEbMKt2Krs\n",
              "euNgrtalpSu/JjKDfH20cHyM7hsZoQ7tiEwAAJoSsQm3UF5p1+sHc7U+LV0F5xyRGezno4fGx+ie\n",
              "EUQmAADOQmyiTSuvtOtfn+Vo/a50nTzn+KSqEL8OemhCjO4e3ovIBADAyYhNtEnllXa9diBHG3al\n",
              "q7DUEZmh/h20aEKM7hreSz7eRCYAAM2B2ESbcrHCrn8eyNZzuzN0qiYyw/w7aNFEk2beFE5kAgDQ\n",
              "zIhNtAmXInPDrgydPu+IzJ4BHbVoYozuHEZkAgDgKsQmWrWyiiq9+mm2Nu7O0OnzFZKk8K4dtXii\n",
              "STNiw9Xe29PFEwIA4N6ITbRKZRVVemW/IzLPXLgcmQ9PMumO2HC18yIyAQBoCYhNtCoXbFV6eX+2\n",
              "nt+ToaKayIzo1klLJpr069ieRCYAAC0MsYlW4bytSps/ydILezJ0tqxSkhQZ6IjM6UOJTAAAWipi\n",
              "Ey1aaXll7TOZxTWRGRXYSQ9PMmvakDB5E5kAALRoxCZapHPlldq8L0sv7M1UyUVHZEZ376wlk0xK\n",
              "GExkAgDQWhCbaFHOlVdq094svbg3Q+fKqyRJ0T06K3GSWbcPDpOXp4eLJwQAAI1BbKJFKLlYqU37\n",
              "MvWPvZm1kRnTo7MS48361SAiEwCA1orYhEuVlFXqxX2Z2rQvU6U1kWkO6qKH48365cBQIhMAgFaO\n",
              "2IRLFJdV6MW9mXppX5ZKbY7I7BPcRYnxZk0dECpPIhMAgDaB2ESzOnuhJjI/ydL5msjsG+yrpMlm\n",
              "3XpjCJEJAEAbQ2yiWRRdqNALezK0+ZMsXaiwS5L6hfgqKd6sW4hMAADaLGITTnXmvE3P78nUy/uz\n",
              "VFYTmf1D/ZQYb9aU/sFEJgAAbRyxCac4c96mjXsy9Mr+7NrIvDHMT0nxZv2if7A8PIhMAADcAbGJ\n",
              "JnX6vE0bdzsi82KlIzIH9PRTUnwfTb4hiMgEAMDNEJtoEoWl5dq4K0OvHshWeWW1JGlQuL+S4s2a\n",
              "1I/IBADAXRGbuC6FpeV6bleG/vmjyBwc7q+lk/toQt8eRCYAAG6O2MQ1KTxXrvW70vXagRzZqhyR\n",
              "OaRXgJImmzWhD5EJAAAcGh2bFotFs2bN0unTp+Xv76+XXnpJN954Y501aWlpuu2229S3b9/aY/v3\n",
              "71fHjh2vf2K4VEFJuTbsStdrn+WooiYyYyMClDS5j8aZuxOZAACgjkbH5oIFCzR//nzNnj1bb731\n",
              "lmbPnq2DBw9esa5v3746fPhwU8yIFqCgpFzr06zacjC3NjKHRXbV0slmjTURmQAAoH6Nis3CwkJ9\n",
              "/vnn+ve//y1JmjFjhpYsWSKr1SqTyeSUAeFaJ4ovan1aul4/mKsKuyMyh0d1VVJ8H40xBRKZAADg\n",
              "JzUqNnNzcxUaGipvb8eXeXh4KCIiQjk5OVfEZnp6umJjY+Xl5aUHH3xQixYtqvc2bTabbDZbnWN2\n",
              "u70xY8EJjhdf1Po0q944mFcbmSN6d9PSeLNGxRCZAACgYZzyBqHY2Fjl5eXJ399feXl5mjp1qrp3\n",
              "76677rrrirUrV67UihUr6hyLi4tzxlhogLyzZVqXlq43P89Vpd2QJI3s3U1LJ/fRqJhAF08HAABa\n",
              "Gw/DMIyGLi4sLJTJZFJRUZG8vb1lGIZCQ0O1d+/en3wZfeXKlTpx4oTWrFlzxXX1PbO5fPlyJScn\n",
              "N+Ju4HrlFpVpXZpVb32RVxuZo6IDlTTZrLhoIhMAAFybRj2zGRQUpNjYWL366quaPXu2tm7dqvDw\n",
              "8CtCMz8/X8HBwfL09FRpaam2b9+uOXPm1HubPj4+8vHxqXPMy8urkXcD1yq3qEx/3+mIzKpqR2SO\n",
              "jglUUrxZI4lMAABwnRr9Mvpzzz2n2bNn6+mnn5afn582bdokSZo7d64SEhKUkJCgrVu3av369fL2\n",
              "9lZVVZVmzpypBx98sMmHx7XLOVOmtTstevvL47WROdbUXUmTzRoe1c3F0wEAgLaiUS+jN5dly5Zp\n",
              "1apVrh6jTco6fUFrd1r1zqHjstdE5s3m7lo62axhkUQmAABoWnyCkJvIPH1Ba3dYte3w5cgc16eH\n",
              "kuLNGhbZ1cXTAQCAtorYbOMyTp2vjcyaxtSEvo7IHBpBZAIAAOciNtuo9JrIfPdHkTmpX5AS480a\n",
              "0ivApbMBAAD3QWy2MdbCUq3ZYdX7R07URmZ8TWQOJjIBAEAzIzbbCMvJUq3eYdX2r07o0lu+Jt8Q\n",
              "rKR4swaG+7t2OAAA4LaIzVbu2MlSrU616IOv82sjc0r/YCXGmzWgJ5EJAABci9hspY4WnNOaVKs+\n",
              "/OZyZN5yoyMybwwjMgEAQMtAbLYy3+ef0+pUiz76pqD22G0DQpQYb9YNoX4unAwAAOBKxGYr8d0J\n",
              "R2T+z7eXI/OXA0P1cLxJ/UKITAAA0DIRmy3cN8dLtDrVon9/d1KS5OEhTR0YqsRJZvUN8XXxdAAA\n",
              "AD+N2GyhvjleomdTLEr5/nJk/mpQmBInmWQOJjIBAEDrQGy2MF/nlSg59ZhSvi+U5IjMhMFheniS\n",
              "SaYgIhMAALQuxGYLcSS3WMmpFu046ohMz5rIXDLJLFNQFxdPBwAAcG2ITRc7lHNWyakWpf1wSpIj\n",
              "MqcP6anFk0yK6UFkAgCA1o3YdJEvc84qOcWiXccckenl6aHpQ3pqySSTenfv7OLpAAAAmgax2cy+\n",
              "yC7SsykW7bGcluSIzF8P7aklE02KIjIBAEAbQ2w2k4NZRUpOsWiv9XJkzojtqcUTTYoMJDIBAEDb\n",
              "RGw62WeZRUpOPaZ91jOSJG9PD905LFyLJ5rUq1snF08HAADgXMSmk3yacUbJKRbtz7gcmTNvCtei\n",
              "CUQmAABwH8RmE9uffkbPphzTgcwiSVI7Lw/NvKmXFk2IUXhXIhMAALgXYrMJGIbhiMxUiz77UWTe\n",
              "PbyXHppgUs+Aji6eEAAAwDWIzetgGIb2Wc8oOfWYDmadlSS19/KsicwYhRGZAADAzRGb18AwDO21\n",
              "ntazKRZ9kV0Tmd6eund4Ly2cEKNQfyITAABAIjYbxTAM7bacVnLKMX2ZUyzJEZn3jYjQwvExCvHv\n",
              "4NoBAQAAWhhiswEMw1DasVNKTrHocG6xJMnH21P3jXREZrAfkQkAAFAfYvMnGIahtB9O6dlUi47U\n",
              "RGaHdp76zchILRgXrSAiEwAA4Cd5NvYLLBaLRo8erT59+mj48OH69ttv61334osvymw2KyYmRvPm\n",
              "zVNlZeV1D9tcDMNQ6vcnNe3v+/TgSwd1JLdYHdp5au7Y3tr96EQt/1V/QhMAAKABGh2bCxYs0Pz5\n",
              "83Xs2DE99thjmj179hVrMjMztXz5cu3Zs0dWq1UnT57Uxo0bm2JepzIMQynfnVTC2n2as/lzfZVX\n",
              "oo7tvDR/XLT2PDpJf/xVfwX5EpkAAAAN1ajYLCws1Oeff677779fkjRjxgzl5ubKarXWWffWW28p\n",
              "ISFBISEh8vDw0MKFC7Vly5amm7qJGYahf39boNvX7tXclz/X18dL1Km9lxaMj9aexybq/069QT18\n",
              "fVw9JgAAQKvTqJ/ZzM3NVWhoqLy9HV/m4eGhiIgI5eTkyGQy1a7LyclRZGRk7eWoqCjl5OTUe5s2\n",
              "m002m63OMbvd3pixrsvuY6f054+O6rv8c5KkTu299MCoKM27ubcCuxCYAAAA18PlbxBauXKlVqxY\n",
              "UedYXFxcs33/3LNl+i7/nDq399Ks0VGae3O0unVu32zfHwAAoC1rVGz26tVL+fn5qqqqkre3twzD\n",
              "UE5OjiIiIuqsi4iIUHp6eu3lrKysK9Zc8vjjj2vZsmV1ji1fvrwxY12XmcN6qbisUveNiFBXIhMA\n",
              "AKBJNepnNoOCghQbG6tXX31VkrR161aFh4fXeQldcvws53vvvaeCggIZhqENGzbonnvuqfc2fXx8\n",
              "5OfnV+ePl5fXNd6dxmvv7anFE02EJgAAgBM0+t3ozz33nJ577jn16dNHf/7zn7Vp0yZJ0ty5c/Xe\n",
              "e+9JkqKjo7VixQqNGTNGJpNJPXr00IIFC5p2cgAAALR4HoZhGK4e4j8tW7ZMq1atcvUYAAAAuE6N\n",
              "fmYTAAAAaChiEwAAAE5DbAIAAMBpiE0AAAA4DbEJAAAApyE2AQAA4DTEJgAAAJyG2AQAAIDTEJsA\n",
              "AABwmhb5CUJ33HGHoqKimu372e12ffbZZxoxYkSzfi57S8e+XB17Uz/2pX7sy9WxN/VjX66Ovamf\n",
              "K/YlMjJSSUlJP7uuRcZmczt37pz8/f1VUlIiPz8/V4/TYrAvV8fe1I99qR/7cnXsTf3Yl6tjb+rX\n",
              "kveFl9EBAADgNMQmAAAAnIbYBAAAgNMQm5J8fHz0X//1X/Lx8XH1KC0K+3J17E392Jf6sS9Xx97U\n",
              "j325Ovamfi15X3iDEAAAAJyGZzYBAADgNMQmAAAAnIbYBAAAgNO4VWxaLBaNHj1affr00fDhw/Xt\n",
              "t9/Wu+7FF1+U2WxWTEyM5s2bp8rKymaetHk1ZF/S0tLUsWNHDRkypPbPxYsXXTBt80lMTFRUVJQ8\n",
              "PDx0+PDhq65zt8dLQ/bFHR8v5eXlmj59uvr06aPBgwfrF7/4haxWa71rt2/frn79+slsNuuOO+7Q\n",
              "uXPnmnna5tXQvcnKypKXl1edx016eroLJm4+U6ZM0aBBgzRkyBDdfPPNOnToUL3r3O08IzVsb9zx\n",
              "XHPJpk2b5OHhoW3bttV7fYs6zxhuZOLEicamTZsMwzCMN99807jpppuuWJORkWGEhoYa+fn5RnV1\n",
              "tXH77bcba9eubeZJm1dD9mXnzp3G4MGDm3cwF9u1a5eRm5trREZGGocOHap3jTs+XhqyL+74eLl4\n",
              "8aLxwQcfGNXV1YZhGMaaNWuM8ePHX7GutLTUCAoKMr7//nvDMAxj8eLFxu9///vmHLXZNXRvMjMz\n",
              "DX9//+YdzsXOnj1b+99vv/22MWjQoCvWuON5xjAatjfueK4xDMf/K6NGjTLi4uKMd95554rrW9p5\n",
              "xm2e2SwsLNTnn3+u+++/X5I0Y8YM5ebmXvGv67feeksJCQkKCQmRh4eHFi5cqC1btrhi5GbR0H1x\n",
              "R+PGjVN4ePhPrnG3x4vUsH1xRx06dNDUqVPl4eEhSYqLi1NWVtYV6z766CMNHTpU/fr1kyQtWrSo\n",
              "zT9mGro37iggIKD2v0tKSmr36Mfc8TwjNWxv3FF1dbXmzp2rNWvWXPXXHLW084zbxGZubq5CQ0Pl\n",
              "7e0tSfLw8FBERIRycnLqrMvJyVFkZGTt5aioqCvWtCUN3RdJSk9PV2xsrIYPH65169Y196gtkrs9\n",
              "XhrD3R8vycnJmjZt2hXH63vM5Ofnq6qqqjnHc6mr7Y0kXbhwQcOHD1dsbKz+9Kc/yW63N/N0ze+B\n",
              "Bx5Qr169tHz5cr3yyitXXO/O55mf2xvJ/c41q1at0pgxYzRs2LCrrmlp5xlvl3xXtDqxsbHKy8uT\n",
              "v7+/8vLyNHXqVHXv3l133XWXq0dDC+Tuj5enn35aVqtVqamprh6lxfmpvQkNDdXx48cVFBSkoqIi\n",
              "3X333frb3/6mRx991AWTNp+XX35ZkrR582Y99thj+vDDD108Ucvxc3vjbueab775Rlu3btXu3btd\n",
              "PUqjuM0zm7169apT9YZhKCcnRxEREXXWRUREKDs7u/ZyVlbWFWvakobui5+fn/z9/SVJ4eHhuvfe\n",
              "e7Vnz55mn7elcbfHS0O58+PlmWee0dtvv62PPvpInTp1uuL6+h4zP351oS37ub3x8fFRUFCQJKlb\n",
              "t2763e9+5zaPG0maNWuWdu7cqTNnztQ5znnm6nvjbueaPXv2KCsrS2azWVFRUfr00081f/58rV+/\n",
              "vs66lnaecZvYDAoKUmxsrF599VVJ0tatWxUeHi6TyVRn3YwZM/Tee++poKBAhmFow4YNuueee1wx\n",
              "crNo6L7k5+erurpaklRaWqrt27dr6NChzT5vS+Nuj5eGctfHy6pVq7RlyxZ9/PHHdX7e7MduvfVW\n",
              "ffnllzp69Kgkad26dW7xmGnI3hQWFta+y9pms+ntt99u04+b4uJinThxovbytm3bFBgYqG7dutVZ\n",
              "547nmYbujbudax566CHl5+crKytLWVlZiouL08aNG/XQQw/VWdfizjMue2uSCxw9etSIi4szzGaz\n",
              "MWzYMOOrr74yDMMw5syZY7z77ru16zZu3GhER0cb0dHRxu9+9zujoqLCVSM3i4bsy5o1a4z+/fsb\n",
              "gwYNMvr372/813/9V+07S9uq+fPnGz179jS8vLyMoKAgIyYmxjAMHi8N2Rd3fLzk5uYakozo6Ghj\n",
              "8ODBxuDBg40RI0YYhmEYy5cvN9avX1+79t133zX69u1rxMTEGNOmTTOKi4tdNXazaOjebN261bjx\n",
              "xhtrHzdLliwxysvLXTm6U2VlZRnDhw83BgwYYAwaNMiIj4+v/Q0P7n6eaejeuOO55sfGjx9f+270\n",
              "lnye4bPRAQAA4DRu8zI6AAAAmh+xCQAAAKchNgEAAOA0xCYAAACchtgEAACA0xCbAAAAcBpiEwAA\n",
              "AE5DbAIAAMBpiE0AAAA4DbEJAAAApyE2AQAA4DT/PzDNobEMFcSbAAAAAElFTkSuQmCC\n",
              "\">\n",
              "      </div>\n",
              "      <script type=\"text/javascript\">\n",
              "        (() => {\n",
              "          const chartElement = document.getElementById(\"chart-cb3a5dea-bb4f-4379-815b-6d7fe9ef283e\");\n",
              "          async function getCodeForChartHandler(event) {\n",
              "            const chartCodeResponse =  await google.colab.kernel.invokeFunction(\n",
              "                'getCodeForChart', [\"chart-cb3a5dea-bb4f-4379-815b-6d7fe9ef283e\"], {});\n",
              "            const responseJson = chartCodeResponse.data['application/json'];\n",
              "            await google.colab.notebook.addCell(responseJson.code, 'code');\n",
              "          }\n",
              "          chartElement.onclick = getCodeForChartHandler;\n",
              "        })();\n",
              "      </script>\n",
              "      <style>\n",
              "        .colab-quickchart-chart-with-code  {\n",
              "            display: block;\n",
              "            float: left;\n",
              "            border: 1px solid transparent;\n",
              "        }\n",
              "\n",
              "        .colab-quickchart-chart-with-code:hover {\n",
              "            cursor: pointer;\n",
              "            border: 1px solid #aaa;\n",
              "        }\n",
              "      </style>"
            ]
          },
          "metadata": {}
        },
        {
          "output_type": "display_data",
          "data": {
            "text/plain": [
              "from matplotlib import pyplot as plt\n",
              "_df_6[0].plot(kind='line', figsize=(8, 4), title=0)\n",
              "plt.gca().spines[['top', 'right']].set_visible(False)"
            ],
            "text/html": [
              "      <div class=\"colab-quickchart-chart-with-code\" id=\"chart-93bae479-1e92-49ca-a9d7-60703bfee0a3\">\n",
              "        <img style=\"width: 180px;\" src=\"data:image/png;base64,iVBORw0KGgoAAAANSUhEUgAAApAAAAFbCAYAAABicr66AAAAOnRFWHRTb2Z0d2FyZQBNYXRwbG90\n",
              "bGliIHZlcnNpb24zLjEwLjAsIGh0dHBzOi8vbWF0cGxvdGxpYi5vcmcvlHJYcgAAAAlwSFlzAAAP\n",
              "YQAAD2EBqD+naQAAMYFJREFUeJzt3XtcXPWd//H3cBtyIRAgwJg7CbkQhtwMwXg3mgi01dW2Xhut\n",
              "iWltu2233a1195ft2t013V3rNtrWa0y9NWrrdQWiMUaTqgm5M+R+IzdnIJBwhwFmzu+PwQEMUYYA\n",
              "M8O8no8Hj4c55+QxH4+TycvvmTNjMgzDEAAAANBNYf4eAAAAAMGFgAQAAIBPCEgAAAD4hIAEAACA\n",
              "TwhIAAAA+ISABAAAgE8ISAAAAPiEgAQAAIBP+jUgV6xY0Z8PBwAAgD7QrwF57Nix/nw4AAAA9AEu\n",
              "YQMAAMAnBCQAAAB8QkACAADAJwQkAAAAfEJAAgAAwCcEJAAAAHxCQAIAAMAnBCQAAAB8QkACAADA\n",
              "JxG+HFxZWan58+d7f93Q0KAjR46ovLxc8fHxvT4cAAAAAo9PAZmQkKCdO3d6f/3www/ro48+Ih4B\n",
              "AAD6QGOzS4Oiwv09xjku6BL2ypUrtXjx4i73OZ1O1dTUdPpxuVwX8nAAAAAh42hFveb/9kP9ddtJ\n",
              "f49yjh4H5CeffKKzZ8/qa1/7Wpf7ly9frtjY2E4/RUVFPR4UAAAgVBytqNetT32qz6qb9MzGI2px\n",
              "uf09Uic9DsiVK1dq0aJFiojo+ir4Aw88oOrq6k4/WVlZPR4UAAAgFBw+XadbnvxUZTVOTU6O0YtL\n",
              "5ioyPLDue/bpPZCfq6ur06uvvqotW7ac9xiz2Syz2dxpW3h44F3DBwAACBSHT9fptqc2qbzWqSkp\n",
              "MXppyVwlDDV/9W/sZz0KyFdeeUXTp0/XlClTenseAACAkHSovE63Pb1JpwM8HqUeBuTKlSt17733\n",
              "9vYsAAAAIelQea1ufWqzKuqcmmoZppeWzFX8kCh/j3VePQrITz75pLfnAAAACEkHy2p129ObVFHX\n",
              "rPS2eBwewPEo8U00AAAAfnOgQzxOuyg44lHq4QokAAAALsx+R61uf3qTKuublTFymF5cPFdxgwM/\n",
              "HiUCEgAAoN/tc9To9qc360x9s6wjY/XC4qygiUeJgAQAAOhXe+01uuMZTzxmjorVC/fMVezgSH+P\n",
              "5RMCEgAAoJ/s+axGdzyzSWcbWjR9VKyeXzxXsYOCKx4lAhIAAKBf7P6sWnc8s1lVDS2aPjpOz9+T\n",
              "FZTxKBGQAAAAfa7kVLXuXOmJxxmj4/T84iwNiw7OeJQISAAAgD5Vcsqz8ljd2KKZYzwrjzFBHI8S\n",
              "AQkAANBnbCerdcczm1TT1KpZY+L03ACIR4mABAAA6BPFJ6t05zObVdPUqovHDtef7snSUPPASK+B\n",
              "8W8BAAAQQHadqNKdKzertqlVc8YN16rvDpx4lPgqQwAAgF6184Rn5bG2qVVZ4+IHXDxKrEACAAD0\n",
              "mh3Hz2rRyiLVOluVNT5eq+6eoyEDLB4lViABAAB6xbZjZ/WdtnicO4DjUWIFEgAA4IJtO3ZGdz27\n",
              "RXXOVmWnxuvZu+docNTAzayB+28GAADQD7aWntFdzxapvtmlS1IT9OzdczQoKtzfY/UpLmEDAAD0\n",
              "0JYO8ThvQmjEo8QKJAAAQI8UHT2ju1cVqaHZpcsmJurpRReHRDxKBCQAAIDPNh+p1Hf/tEUNzS5d\n",
              "nuaJx+jI0IhHiYAEAADwyaYjlfruqi1qbAnNeJR4DyQAAEC3fXq4PR6vnDQiJONRYgUSAACgWz45\n",
              "VKF7ntuipha3rpo8Qk/cOTsk41FiBRIAAOArfdwhHq8O8XiUWIEEAAD4Un87WKHFz22Rs9Wta6Yk\n",
              "6fE7Z8kcEbrxKLECCQAAcF4bD572xuO1U4nHz7ECCQAA0IWPDpzWvc9vVXOrW9dOTdYf7phJPLYh\n",
              "IAEAAL7gw/3lWvrCNjW3unVderL+cPssRUVw4fZznAkAAIAO1neIx4XTiMeusAIJAADQZv2+cn3v\n",
              "hW1qdrl1/bQUPXb7TEWGE49fxBkBAACQtG5vmTceczKIxy/DCiQAAAh57+8p030vbVOLy1Ce1aLf\n",
              "3TqDePwSnBkAABDS1naMx0zisTtYgQQAACHrvd0O/fDP29XiMvT16Rfpf789XRHE41fiDAEAgJC0\n",
              "psShH7zkicdvEI8+YQUSAACEnDUldv3ozzvU6jZ0w4yL9NtvEY++ICABAEBIKbTZ9aPVO+RyG/q7\n",
              "mSP18LemKzzM5O+xggqpDQAAQkZ+cXs83kQ89hgrkAAAICS8U/yZfvLyTk88zhqp//km8dhTPq9A\n",
              "Op1O/ehHP1JaWpqsVqvuvPPOvpgLAACg1/zfrvZ4/ObsUcTjBfJ5BfKXv/ylTCaTDhw4IJPJJIfD\n",
              "0RdzAQAA9Iq3dp7SP7yyU25D+tbsUfqvmzMVRjxeEJ8Csr6+XitXrtTJkydlMnlOfEpKSpfHOp1O\n",
              "OZ3OTttcLlcPxwQAAPBdx3i85eLRWn6TlXjsBT5dwj58+LDi4+P10EMP6eKLL9bll1+udevWdXns\n",
              "8uXLFRsb2+mnqKioV4YGAAD4Km/sOOmNx1vnEI+9yaeAbG1t1bFjx5Senq6tW7fq0Ucf1S233KKy\n",
              "srJzjn3ggQdUXV3d6ScrK6vXBgcAADif17ef1M9f3SW3Id2WNUYP/R3x2Jt8uoQ9ZswYhYWF6Y47\n",
              "7pAkzZw5U+PHj5fNZlNycnKnY81ms8xmc6dt4eHhFzguAADAl/vrtpP6p7/ukmFIt88do/+4IYN4\n",
              "7GU+rUAmJiZq/vz5evfddyVJR48e1dGjRzV16tQ+GQ4AAMAXf9l6whuPd2YTj33F57uwn3jiCS1e\n",
              "vFj333+/wsLC9OSTT2rkyJF9MRsAAEC3vbr1hO5/rViGIX0ne6x+fcM0702/6F0+B2RqaqrWr1/f\n",
              "F7MAAAD0yCtbjuuXr9tkGNJdl4zVv32DeOxLfBMNAAAIai8XeeJRku6eN06/+no68djHCEgAABC0\n",
              "/rz5uP75DU88fvfScfrXrxGP/YGABAAAQemlzcf0L2+USJLuuXS8ln1tKvHYTwhIAAAQdF7YdEzL\n",
              "3vTE45LLxutf8ojH/kRAAgCAoPLCp6Va9tZuSdK9l4/XP+cSj/2NgAQAAEHjuU9K9au3PfH4vStS\n",
              "9cucKcSjHxCQAAAgKPzp46P6t//bI0n6/pUTdP/1k4lHPyEgAQBAwHv2b0f163c88XjfVRP0i4XE\n",
              "oz8RkAAAIKA9s/GI/iN/ryTph1dP0D8uIB79jYAEAAABq2M8/v01E/Wz6yYRjwGAgAQAAAHp6Q1H\n",
              "9J8Fnnj88TUT9Q/EY8AgIAEAQMB58qPDWl64T5L0k/lp+ofrJvl5InREQAIAgIDy+IeH9V9rPPH4\n",
              "02vT9NNricdAQ0ACAICA8ccPD+m/1+yXJP3DtZP0k2vT/DwRukJAAgCAgPCH9Yf0P+964vHn103S\n",
              "388nHgMVAQkAAPzusXUH9du1ByRJ/7Rwsn549UQ/T4QvQ0ACAAC/enTdQT1CPAYVAhIAAPjN794/\n",
              "oN+9f1CSdP/1U3TfVRP8PBG6g4AEAAB+8b9rD2jFOk88PpAzRd+7kngMFgQkAADoV4Zh6H/fP6hH\n",
              "2+Lxn3OnaOkVxGMwISABAEC/MQxDj6w9oMc+OCRJ+n95U7Xk8lQ/TwVfEZAAAKBfGIahh9/brz+s\n",
              "PyyJeAxmBCQAAOhzhmHof97drz9+6InHf/1auu65bLyfp0JPEZAAAKBPGYah/1qzX0985InHf/t6\n",
              "uu6+lHgMZgQkAADoM4Zh6DeF+/TkhiOSpAe/MU13zRvn36FwwQhIAADQJwzD0PLCfXqqLR5/fcM0\n",
              "LbpknH+HQq8gIAEAQK8zDEP/mb9Xz/ztqCTp32/M0Heyx/p5KvQWAhIAAPQqwzD07+/s1bMfe+Lx\n",
              "P27M0J3E44BCQAIAgF5jGIZ+/c4erfq4VJL00N9ZdfvcMf4dCr2OgAQAAL3CMAw9+H979KdPSiVJ\n",
              "y2+y6rYs4nEgIiABAMAFMwxD//b2bj336TGZTNJvbrLqljnE40BFQAIAgAtiGIb+9a3demGTJx7/\n",
              "66ZMfXvOaH+PhT5EQAIAgB5zuw3969slenHTcZlM0n/fnKlvXUw8DnQEJAAA6BG329D/e6tEf97s\n",
              "icf/+eZ0fXP2KH+PhX5AQAIAAJ+53Yb+5c0SrS7yxONvvzVdN80iHkMFAQkAAHzidhv65zdsennL\n",
              "CYWZpN9+e7r+bibxGEoISAAA0G1ut6EHXrfpla2eeHzk2zN048yR/h4L/SzM198wbtw4TZ48WTNm\n",
              "zNCMGTP0yiuv9MVcAAAgwLjdhu5/rdgbj/97C/EYqnq0AvnKK69oxowZvTwKAAAIVK62ePzrtpMK\n",
              "M0m/u3WmvjH9In+PBT/hEjYAAPhSLrehf/rrLr2+/ZTCw0z63S0z9HXiMaT1KCAXLVokwzCUlZWl\n",
              "3/zmNxoxYsQ5xzidTjmdzk7bXC5Xz6YEAAB+4XIb+qe/7NLrOzzx+OitM5WXafH3WPAzn98DuWHD\n",
              "BhUXF2v79u1KTEzUXXfd1eVxy5cvV2xsbKefoqKiCx4YAAD0D5fb0M9f3emNx8duIx7hYTIMw+jp\n",
              "b7bb7Zo0aZJqa2vP2dfVCuSyZcu0YsWKnj4cAADoJ60ut37+l116a+dnimiLxxwr8QgPny5h19fX\n",
              "q6WlRXFxcZKk1atXa+bMmV0eazabZTabO20LDw/v2ZQAAKDftLrc+tmru/T2Lk88/v72Wbo+I8Xf\n",
              "YyGA+BSQZWVluvnmm+VyuWQYhlJTU/X888/31WwAAKCftbrc+ukrO/VOsV0RYSb94Y5ZWjiNeERn\n",
              "PgVkamqqduzY0VezAAAAP2p1ufWTV3Yqv9iuyHCT/nD7LC0gHtEFPsYHAACoxeXWT1/eqXybJx4f\n",
              "v2O2rk1P9vdYCFAEJAAAIa7F5daPV+9QYYlDUeFhevzOWZo/lXjE+RGQAACEsBaXW3//5x1as9sT\n",
              "j098Z5aumUI84ssRkAAAhKjmVrf+fvV2vbu7TFERYXryO7N19eQkf4+FIEBAAgAQgppb3frhn7dr\n",
              "7R5PPD71ndm6inhENxGQAACEmOZWt37w0na9v9cTj08vulhXTjr3a4mB8yEgAQAIIc5Wl3740na9\n",
              "v7dc5rZ4vIJ4hI8ISAAAQoSz1aX7XtyuD/Z54nHlXXN0WVqiv8dCECIgAQAIAU0tLt334jat339a\n",
              "0ZGeeLx0IvGIniEgAQAY4JpaXPr+i9v0YVs8PnvXHM0jHnEBCEgAAAawphaXlr6wTRsOtMXj3XM0\n",
              "bwLxiAtDQAIAMEA1tbh07/NbtfFghQZFhuvZu+fokgkJ/h4LAwABCQDAAPTFeFz13TnKTiUe0TsI\n",
              "SAAABpjGZk88/u1QhQZHhWvV3XM0l3hELyIgAQAYQBqbXVr83BZ9crhSQ6LC9ad7sjRnXLy/x8IA\n",
              "Q0ACADBANDS3avGfturTI554fO6eLF1MPKIPEJAAAAwADc2tuudPW7TpyBkNNUfouXvmaPZY4hF9\n",
              "g4AEACDINTS36rurtmjz0c/jMUuzxw7391gYwAhIAACCWL2zVd/90xYVHT2jGHOEnlucpVljiEf0\n",
              "LQISAIAgVeds1XdXFWlL6VnFmCP0/OIszSQe0Q8ISAAAglCds1V3P1ukrcfOKiY6Qi8snqsZo+P8\n",
              "PRZCBAEJAECQqW1q0d2rtmhbWzy+uHiuphOP6EcEJAAAQaS2qUV3PVuk7cerNCw6Qi8umavMUXH+\n",
              "HgshhoAEACBI1LTF447jVYodFKmXlsxVxshYf4+FEERAAgAQBGqaWrRoZZF2niAe4X8EJAAAAa66\n",
              "sUWLni3SrhNVihscqRcXE4/wLwISAIAAVt3YokUrN2vXyWoNHxypl5ZkK/2iYf4eCyGOgAQAIEBV\n",
              "N7ToO89uVjHxiABDQAIAEICqGpp158rNKjlVo/ghUXppyVxNtRCPCAwEJAAAAaaqoVl3PLNZuz+r\n",
              "UcKQKP353mxNTonx91iAFwEJAEAAOVvvicc9duIRgYuABAAgQJxpi8e99holDvXE46Rk4hGBh4AE\n",
              "ACAAnKlv1u1Pb9I+R60Sh5q1+t65SiMeEaAISAAA/Kyyzqk7ntnsjceXl87VxCTiEYGLgAQAwI8q\n",
              "6py64+nN2l9WqxExZq2+N1sTk4b6eyzgSxGQAAD4SUWdU7c/vUkHyuqUFGPW6qXZmjCCeETgIyAB\n",
              "APCD07WeeDxYXqfkYZ6Vx1TiEUGCgAQAoJ+V1zbp9qc361B5nVKGRWv10myNTxzi77GAbgvr6W9c\n",
              "tWqVTCaT3nzzzV4cBwCAga28tkm3PbVJh8rrZImN1svEI4JQj1YgS0tL9fTTTys7O7u35wEAYMAq\n",
              "r2nSbU9v0uHT9d54HJtAPCL4+LwC6Xa7tWTJEj322GMym83nPc7pdKqmpqbTj8vluqBhAQAIRhV1\n",
              "Tr246Zi+/eSnOny6XhcRjwhyPq9APvLII7r00ks1e/bsLz1u+fLlevDBBzttY8USABAqymub9G6J\n",
              "Q/k2u4qOnpHb8GwfGTdIq+/N1piEwf4dELgAPgVkSUmJXnvtNW3YsOErj33ggQf0s5/9rNO2ZcuW\n",
              "+TYdAABBpLymSYUlDhXY7CoqPSPDaN83fVSscq0WfXP2KCUMPf8VPCAY+BSQGzduVGlpqdLS0iRJ\n",
              "DodDS5culd1u13333dfpWLPZfM4l7vDw8AscFwCAwFJW06RCm10FNoe2HOscjTNGxynPatH1GSka\n",
              "Hc+KIwYOnwLyvvvu6xSKV111lX7605/qxhtv7O25AAAIWPbqRhXaPCuN246f7RSNM8d4ojHHatHI\n",
              "uEH+GxLoQ3wOJAAA3fBZVaP38vS2Y2c77Zs9drhyrRblZKToIqIRIeCCAvLDDz/spTEAAAg8p6oa\n",
              "VWizK99m147jVd7tJpN08djhysmwKMeaIkss0YjQwgokAAAdnDjToMISu/JtDu06UeXdbjJJc8bG\n",
              "K9eaohyrRcnDov03JOBnBCQAIOSdONOgAptdBTa7dp2s9m43maSscfHKy7To+mkpSiIaAUkEJAAg\n",
              "RB2vbFB+WzTaTrVHY5hJmjs+QbnWFC3MSFFSDNEIfBEBCQAIGaUV9Soo8URjyaka7/Ywk5SdmqBc\n",
              "q0ULp6VoRAyf0wh8GQISADCgHa2oV4HNrvxiu/bY26MxPMykS7zRmMyHewM+ICABAAPO4dN1Kij2\n",
              "3D29z1Hr3R4eZtK8Ce0rjfFDovw4JRC8CEgAwIBwqLxWBW0f7t0xGiPCTJo3MVF51hQtSE/RcKIR\n",
              "uGAEJAAgaB0sq/XeCHOgrM67PSLMpMvSEpVrtWhBerLiBhONQG8iIAEAQcMwDB0oq/NG46Hy9miM\n",
              "DDfpsomfR2OKYgdH+nFSYGAjIAEAAc0wDO1z1Hq/Eebw6XrvvqjwMF3ettJ4bXqyYgcRjUB/ICAB\n",
              "AAHHMAzttdd6P9z7SEXnaLxi0gjlWlN0bXqyhkUTjUB/IyABAAHBMAzt/qxGBTa7CkscOtoxGiPC\n",
              "dOWkEcqzWjR/apJiiEbArwhIAIDfGIahklM13g/3PlbZ4N1njgjTVZNHKNdq0TVTiEYgkBCQAIB+\n",
              "ZRiGbKeqlW+zq9Dm0PEz7dEYHRmmqycnKactGoea+WsKCET8yQQA9DnDMLTrZLX3PY0nzzZ690VH\n",
              "humaKUnKtVp09eQkDSEagYDHn1IAQJ8wDEM7TlSp0GZXgc2hU1Xt0TgoMlzXTE1SntWiqyaP0OAo\n",
              "/joCggl/YgEAvcbt9kRjgc2uQptdn1U3efcNjgrX/KnJys1I0VWTkzQoKtyPkwK4EAQkAOCCuN2G\n",
              "th8/q3ybXWtKHLJ3iMYhn0dj20pjdCTRCAwEBCQAwGdut6Gtx86qoC0aHTXt0TjUHKFrp3re03jF\n",
              "JKIRGIgISABAt7jchraWnvF+TmN5rdO7L8YcoevSk5VjtejytESiERjgCEgAwHm53IaKjnqicc1u\n",
              "h053jMZoTzTmWS26LC1R5giiEQgVBCQAoJNWl1tFbSuNa0rKVFHXHo3DoiO0YFqK8qwWzZuYQDQC\n",
              "IYqABACo1eXW5qNnlG+z690Shyrrm737YgdFakF6snIzLbp0QqKiIsL8OCmAQEBAAkCIanW59emR\n",
              "ShXY7Hp3d5nOdIjGuMGRWpieotxMi+ZNSFBkONEIoB0BCQAhpMXl1qeHP49Gh842tHj3DR8cqesz\n",
              "UpRrtSg7lWgEcH4EJAAMcC0utz4+VKECm13v7SlTVYdojB8SpYVt72nMTo1XBNEIoBsISAAYgJpb\n",
              "PdGYb7Nr7Z4yVTe2R2Pi0PZozBpPNALwHQEJAAOEs9XlicZih9bucaimqdW7L3GoWTltl6ezxscr\n",
              "PMzkx0kBBDsCEgCCmLPVpY0HPJen1+4tU22HaBwR0x6Nc8YRjQB6DwEJAEGmqcWlDQdOq7DEoff3\n",
              "lKnW2R6NSTFm5VotyrVaNHvscKIRQJ8gIAEgCDS1uPTRgdMqsNm1bm+56jpEY8qwaF2fkaK8TItm\n",
              "jxmuMKIRQB8jIAEgQDW1uPTh/nLl2xz6YG+Z6ptd3n2W2GjlZFiUl5mimaOJRgD9i4AEgADS2OzS\n",
              "+v3lKrDZ9cG+cjV0iMaRcYOUk5GiHKtFM0fHEY0A/IaABAA/a2hu1fp9p73R2NjSORpzrZ4bYWaM\n",
              "jpPJRDQC8D8CEgD8oN7Zqg/2eVYa1+8vV1OL27tv1PBBymu7ESZzVCzRCCDgEJAA0E/qnK1at7dM\n",
              "hTaH1u8vl7O1PRrHxA9uu3s6RdaRRCOAwEZAAkAfqm1q0Qf7ypVfbNdHB053isaxCZ5ozLNaNO2i\n",
              "YUQjgKBBQAJAL6tpatG6vWXKL3Zow8HTau4QjeMTh3jf05huIRoBBCefA3LBggVyOBwKCwtTTEyM\n",
              "Hn30Uc2cObMvZgOAoFHd2KL395SpsMSuDQcq1Oxqj8bUEUOUZ7UoJ8OiqZYYohFA0PM5IF999VXF\n",
              "xcVJkt544w3dfffd2rVrV2/PBQABr7qxRWv3lKnAZtfGg6fV4jK8+ya0RWNupkWTk4lGAAOLzwH5\n",
              "eTxKUnV19XlfFJ1Op5xOZ6dtLpery2MBIFhUNTTrvbZo/PhQRadoTEsa6nlPY6ZFk5Jj/DglAPSt\n",
              "Hr0HctGiRVq/fr0kqaCgoMtjli9frgcffLDTtuzs7J48HAD41dn6Zr23x6ECm0MfH6pQq7s9Gicl\n",
              "D/XeCJNGNAIIESbDMIyvPqxrzz33nF555ZUuI7KrFchly5ZpxYoVPX04AOg3Z+qb9d5uh/Jtdn16\n",
              "uLJTNE5JiWn7yB2LJiYN9eOUAOAfF3QX9l133aXvf//7qqysVEJCQqd9ZrNZZrO507bw8PALeTgA\n",
              "6FOVdU69u9tzefrTI5VydYjGqZZhyrN6vkZwwgiiEUBo8ykgq6qq1NDQoIsuukiS9OabbyohIUHx\n",
              "8fF9MhwA9LWKOqfWlDhUWGLXpiNnOkXjtIuGeVcaxycO8eOUABBYfArI6upqfetb31JjY6PCwsI0\n",
              "YsQIvfPOO9xdCCConK51as1uhwqK7dp8tFIdmlEZI9uiMcOicUQjAHTJp4AcO3asioqK+moWAOgz\n",
              "5bVNWlPiUH6xXUWlZ9Tx3d+Zo2K90TgmYbD/hgSAIME30QAYsMpqmlRos6ugxKEtX4jG6aPjPO9p\n",
              "zLBodDzRCAC+ICABDCiO6iYVlthVYLNr67GznaJxxug4zzfCWFM0ajjRCAA9RUACCHr26kYV2Bwq\n",
              "sNm17djZTvtmjYlTrtWiHKtFI+MG+WlCABhYCEgAQelUVaPn8rTNru3Hqzrtu3jscOVaLbo+I0UX\n",
              "EY0A0OsISABB4+TZBhXaPB/uvfNElXe7ydQejTkZFqXERvtvSAAIAQQkgIB24kyDCtpWGnedrPZu\n",
              "N5mkOePilde20pg8jGgEgP5CQAIIOMcrG1TQdiNM8ReiMWtcvPIyLbp+WoqSiEYA8AsCEkBAOFZZ\n",
              "r/y2lcaSUzXe7WEmae74BOVmWrRwWrKSYohGAPA3AhKA3xytqFeBza78Yrv22DtH4yUTEpSTYdHC\n",
              "aSkaEWP245QAgC8iIAH0q8On61Rosyvf5tDeDtEYHmbSJakJyrV6VhoThhKNABCoCEgAfe5QeZ33\n",
              "Rph9jlrv9vAwk+ZNSFCe1aIF01IUPyTKj1MCALqLgATQJw6W1Xrf03igrM67PSLMpEsnJirXmqIF\n",
              "6SkaTjQCQNAhIAH0CsMwdKCsfaXxYHl7NEaGfx6NFi1IT1bcYKIRAIIZAQmgxwzD0P6yWhUU25Vv\n",
              "s+vw6Xrvvshwky5PG6Fcq0XXTU1W7OBIP04KAOhNBCQAnxiGob32Ws9KY4ldRzpEY1R4mK6YlKic\n",
              "DIuuTU9W7CCiEQAGIgISwFcyDEO7P6tRgc2uwhKHjlZ0iMaIMF2RNkJ5mSmaPzVZw6KJRgAY6AhI\n",
              "AF0yDEMlp2q83whzrLLBuy8qIkxXTRqhvEyLrpmSpBiiEQBCCgEJwMswDNlOVSvfZlehzaHjZ9qj\n",
              "0RwRpqsnJynH6llpHGrm5QMAQhV/AwAhzjAM7TpZ7b17+uTZRu++6EhPNOZaPSuNQ4hGAIAISCAk\n",
              "GYahHSeqVGizq8Dm0Kmq9mgcFBmua6Z4ovHqKSM0OIqXCQBAZ/zNAIQIt9sTjQU2uwptdn1W3eTd\n",
              "NziqPRqvmkw0AgC+HH9LAAOY221o+/GzyrfZtabEIfsXonH+1GTlWVN05aQkDYoK9+OkAIBgQkAC\n",
              "A4zbbWjrsbMqaItGR017NA6JCte16cnKtVp05aQRio4kGgEAviMggQHA5Ta0tfSM93May2ud3n0x\n",
              "5ghdm56snIwUXUE0AgB6AQEJBCmX21DRUU80rtnt0OkvRON1bSuNl09KlDmCaAQA9B4CEggirS63\n",
              "itpWGteUlKmirkM0RkdoQXqK8jJTdOlEohEA0HcISCDAtbrc2nz0jPJtdr1b4lBlfbN337DoCC2Y\n",
              "lqI8q0WXTkxUVESYHycFAIQKAhIIQK0utz49UqkCm13v7i7TmQ7RGDc4UgvaLk/Pm0A0AgD6HwEJ\n",
              "BIgWl1ufHv48Gh0629Di3Td8cKQWTktRrtWiSyYkKDKcaAQA+A8BCfhRi8utjw9VqMBm13t7ylTV\n",
              "IRrjh0Rp4TTPSmN2KtEIAAgcBCTQz5pbPdGYb7Nr7Z4yVTe2R2PCkCgtzPC8p3Hu+HhFEI0AgABE\n",
              "QAL9wNnq8kRjsUNr9zhU09Tq3Zc4NErXZ3guT2eNIxoBAIGPgAT6iLPVpY0HPJen1+4tU22naDQr\n",
              "5/NoHB+v8DCTHycFAMA3BCTQi5paXNpw4LQKSxx6f0+Zap3t0ZgU0x6NF48jGgEAwYuABC5QU4tL\n",
              "Hx04rQKbXev2lquuQzQmDzMrJ8OivEyLZo8ZrjCiEQAwABCQQA80tbj04f5y5dsc+mBvmeqbXd59\n",
              "KcOilWP13Agzi2gEAAxABCTQTY3NLq3fX64Cm10f7CtXQ4dovCg2WjlWi3KtFs0cHUc0AgAGNJ8C\n",
              "sqmpSbfeeqv27NmjQYMGKSkpSY8//rgmTpzYV/MBftXQ3Kr1+057o7GxpT0aR8YNUq41RTlWi2aM\n",
              "IhoBAKHD5xXIpUuXKicnRyaTSb///e+1ZMkSffjhh30wGuAf9c5WfbDPs9K4fn+5mlrc3n2jhg9S\n",
              "bttK4/RRsTKZiEYAQOjxKSCjo6OVm5vr/XV2drYefvjhXh8K6G91zlat21umQptD6/eXy9naHo2j\n",
              "4z3RmGe1yDqSaAQA4ILeA7lixQrdcMMNXe5zOp1yOp2dtrlcri6PBfyhtqlFH+wrV36xXR8dON0p\n",
              "GscmDPasNGZYlDFyGNEIAEAHPQ7Ihx56SIcOHdK6deu63L98+XI9+OCDnbZlZ2f39OGAXlHT1KJ1\n",
              "e8uUX+zQhoOn1dwhGsd9Ho1Wi6ZdRDQCAHA+JsMwDF9/08MPP6yXX35Z77//vuLi4ro8pqsVyGXL\n",
              "lmnFihU9GhToqerGFr2/p0yFJXZtOFChZld7NKYmDvFG41RLDNEIAEA3+LwC+cgjj2j16tVfGo+S\n",
              "ZDabZTabO20LDw/3eUCgJ6obW7R2T5kKbHZtPHhaLa72/0+aMGKI8qwW5VgtmpJCNAIA4CufAvLk\n",
              "yZP6+c9/rtTUVF199dWSPKG4efPmPhkO8EVVQ7Pea4vGjw9VdIrGiUlDvTfCTEoeSjQCAHABfArI\n",
              "UaNGqQdXvIE+c7a+We/tcajA5tDHhyrU6m5/fk5Kbo/GtOQYP04JAMDAwjfRIOicqW/We7sdyrfZ\n",
              "9enhyk7ROCUlpu09jSmamEQ0AgDQFwhIBIXKOqfe3e25PP3pkUq5vhCNeVaLcjMtmjBiqB+nBAAg\n",
              "NBCQCFgVdU6tKXGosMSuTUfOdIrGdMsw5WValJORolSiEQCAfkVAIqCcrnVqzW6HCort2ny0Uh2a\n",
              "URkjh3k/3Htc4hD/DQkAQIgjIOF35bVNWlPiUH6xXUWlZ9TxPi3ryFjvexrHJhCNAAAEAgISflFW\n",
              "06RCm10FJQ5t+UI0Th8V6/1w79Hxg/03JAAA6BIBiX7jqG5SYYldBTa7th472ykaZ4yOU57Vousz\n",
              "UohGAAACHAGJPmWvblSBzaECm13bjp3ttG/mmDjvN8KMjBvkpwkBAICvCEj0ulNVjZ7L0za7th+v\n",
              "6rRv9tjhyrV67p6+iGgEACAoEZDoFSfPNqjQ5vlw750nqrzbTSbp4rHDlZNhUY41RZZYohEAgGBH\n",
              "QKLHTpxpUEHbSuOuk9Xe7SaTNGdsvHKtKcqxWpQ8LNqPUwIAgN5GQMInxysbVNB2I0zxF6Ixa1y8\n",
              "8jItun5aipKIRgAABiwCEl/pWGW98ttWGktO1Xi3h5mkueMTlGtN0cKMFCXFEI0AAIQCAhJdOlpR\n",
              "rwKbXfnFdu2xd47G7NQE5VotWjgtRSNizH6cEgAA+AMBCa8jp+s80WhzaG+HaAwPM+kSbzQmK2Eo\n",
              "0QgAQCgjIEPcofI6740w+xy13u3hYSbNm9C+0hg/JMqPUwIAgEBCQIagg2W13g/33l/WHo0RYSbN\n",
              "m5ioPGuKFqSnaDjRCAAAukBAhogDZbXKL/asNB4sr/Nujwgz6bK0ROVaLVqQnqy4wUQjAAD4cgTk\n",
              "AGUYhvaX1aqg2K6CEocOdYjGyHCTLk8boZwMz0pj7OBIP04KAACCDQE5gBiGob32WhWW2JVvs+vI\n",
              "6XrvvqjwMF3ettJ4bXqyYgcRjQAAoGcIyCBnGIb22GvaboRx6GhF52i8YtII5WWmaP7UZA2LJhoB\n",
              "AMCFIyCDkGEY2v1ZjfJtdhXa7CqtbPDui4oI01WTRijXatH8qUmKIRoBAEAvIyCDhGEYsp2q9t49\n",
              "ffxMezSaI8J01eTPozFZQ838ZwUAAH2H0ghghmGo+GS15/J0iV0nzjR690VHhunqyUnKtVp0zZQk\n",
              "DSEaAQBAP6E6AoxhGNp5osr7nsZTVe3ROCgyXNdMSVKONUVXTyYaAQCAf1AgAcDtNrTjRJUKbXYV\n",
              "lnQRjVOTlGe16KrJIzQ4iv9kAADAv6gRP/FE41nlFztUWGKXvbrJu29wVLjmT01WnjVFV05K0qCo\n",
              "cD9OCgAA0BkB2Y/cbkPbjp9VfrFda0occtS0R+OQqHBdm56snAzPSmN0JNEIAAACEwHZx1xuQ9uO\n",
              "nVWBza7CErvKapzefUPNEbp2qudGmCsmEY0AACA4EJB9wOU2tKX0TFs0OnS6tj0aY8wRui49WblW\n",
              "iy5LSyQaAQBA0CEge4nLbWjz0UoV2OxaU1KmiroO0Rjtica8tmg0RxCNAAAgeBGQF6DV5VbR0TPK\n",
              "t9n17m6HKuqavfuGRUdowbQU5VktunRioqIiwvw4KQAAQO8hIH3U6nJr0xFPNL6326HK+vZojB0U\n",
              "qYXTPJen500gGgEAwMBEQHZDi8utTw97Lk+/u9uhsw0t3n1xgyO1MD1FuZkWzZuQoMhwohEAAAxs\n",
              "BOR5tLjc+uRwpQqK7Xp3j0NVHaIxfkiUd6UxO5VoBAAAoYWA7KC51a2PD1eooNiu9/aUqbqxPRoT\n",
              "hkRpYYbnPY1zx8crgmgEAAAhKuQDsrnVrb8dOq38YofW7nGopqnVuy9xaJQWtt0Ik0U0AgAASArR\n",
              "gHS2uvS3gxXKt9m1dk+ZajtFo1k5GSnKbYvG8DCTHycFAAAIPD4F5I9//GO9/fbbOnbsmHbs2KEZ\n",
              "M2b00Vi9r6nFpY0HK1Rgs+v9PWWqdbZHY1JMezRePI5oBAAA+DI+BeQ3v/lN/eIXv9Bll13WV/P0\n",
              "qqYWlzYcOO2Jxr3lqusQjcnDzMrJsHiicexwhRGNAAAA3eJTQF5xxRXdPtbpdMrpdHba5nK5fHm4\n",
              "HiuradJ/5u/Vur1lqm9uf8yUYdHKsXre0zhrDNEIAADQE332Hsjly5frwQcf7LQtOzu7rx6uk5jo\n",
              "CL23x6GmFrcuio1WjtWz0jhzdBzRCAAAcIH6LCAfeOAB/exnP+u0bdmyZX31cJ0MjorQf9xoVeqI\n",
              "IZoximgEAADoTX0WkGazWWazudO28PDwvnq4c3xz9qh+eywAAIBQwgcbAgAAwCc+BeT3vvc9jRo1\n",
              "SidPntTChQs1ceLEvpoLAAAAAcqnS9hPPvlkX80BAACAIMElbAAAAPiEgAQAAIBPCEgAAAD4hIAE\n",
              "AACATwhIAAAA+ISABAAAgE8ISAAAAPiEgAQAAIBPTIZhGP31YDfddJPGjRvXL4/lcrlUVFSkrKys\n",
              "fv0O7kDHeTk/zk3XOC/nx7npGufl/Dg3XeO8nJ8/zs3YsWP1k5/85EuP6deA7E81NTWKjY1VdXW1\n",
              "hg0b5u9xAgbn5fw4N13jvJwf56ZrnJfz49x0jfNyfoF6briEDQAAAJ8QkAAAAPAJAQkAAACfDNiA\n",
              "NJvN+tWvfiWz2ezvUQIK5+X8ODdd47ycH+ema5yX8+PcdI3zcn6Bem4G7E00AAAA6BsDdgUSAAAA\n",
              "fYOABAAAgE8ISAAAAPiEgAQAAIBPgj4gDx48qHnz5mnSpEmaM2eOdu/e3eVxK1euVFpamiZMmKB7\n",
              "771XLS0t/Txp/+rOefnwww81aNAgzZgxw/vT2Njoh2n7z49//GONGzdOJpNJO3fuPO9xofZ8kbp3\n",
              "bkLxOdPU1KQbb7xRkyZN0vTp03Xdddfp0KFDXR77zjvvaMqUKUpLS9NNN92kmpqafp62/3T3vJSW\n",
              "lio8PLzTc+bw4cN+mLh/LViwQJmZmZoxY4Yuv/xy7dixo8vjQu21pjvnJRRfZz63atUqmUwmvfnm\n",
              "m13uD6jXGCPIXX311caqVasMwzCMv/zlL8bFF198zjFHjhwxLBaLYbfbDbfbbXz96183fv/73/fz\n",
              "pP2rO+dl/fr1xvTp0/t3MD/76KOPjBMnThhjx441duzY0eUxofh8MYzunZtQfM40NjYa+fn5htvt\n",
              "NgzDMB577DHjyiuvPOe42tpaIykpydi7d69hGIbxwx/+0PjHf/zH/hy1X3X3vBw9etSIjY3t3+EC\n",
              "wNmzZ73//PrrrxuZmZnnHBOKrzXdOS+h+DpjGJ4/K5dccomRnZ1tvPHGG+fsD7TXmKBegSwvL9fW\n",
              "rVt15513SpJuvvlmnThx4pz/C/7rX/+qb3zjG0pJSZHJZNL3v/99rV692h8j94vunpdQdMUVV2jU\n",
              "qFFfekyoPV8+151zE4qio6OVm5srk8kkScrOzlZpaek5xxUWFmrmzJmaMmWKJOkHP/jBgH7edPe8\n",
              "hKq4uDjvP1dXV3vPU0eh+FrTnfMSitxut5YsWaLHHnvsvJ/3GGivMUEdkCdOnJDFYlFERIQkyWQy\n",
              "acyYMTp+/Hin444fP66xY8d6fz1u3LhzjhlIunteJOnw4cOaNWuW5syZoz/+8Y/9PWpACrXni69C\n",
              "/TmzYsUK3XDDDeds7+p5Y7fb1dra2p/j+c35zosk1dfXa86cOZo1a5Z+/etfy+Vy9fN0/rFo0SKN\n",
              "Hj1ay5Yt0wsvvHDO/lB9rfmq8yKF3uvMI488oksvvVSzZ88+7zGB9hoT4ZdHRUCYNWuWTp48qdjY\n",
              "WJ08eVK5ublKTEzUt7/9bX+PhgAV6s+Zhx56SIcOHdK6dev8PUpA+bLzYrFYdOrUKSUlJenMmTO6\n",
              "5ZZb9Nvf/la/+MUv/DBp/3r++eclSc8995zuv/9+FRQU+HmiwPBV5yXUXmdKSkr02muvacOGDf4e\n",
              "xSdBvQI5evToTvVtGIaOHz+uMWPGdDpuzJgxOnbsmPfXpaWl5xwzkHT3vAwbNkyxsbGSpFGjRum2\n",
              "227Txo0b+33eQBNqzxdfhPJz5uGHH9brr7+uwsJCDR48+Jz9XT1vOl4JGKi+6ryYzWYlJSVJkuLj\n",
              "43XPPfeEzHPmc3fddZfWr1+vysrKTttD/bXmfOcl1F5nNm7cqNLSUqWlpWncuHHatGmTli5dqscf\n",
              "f7zTcYH2GhPUAZmUlKRZs2bpxRdflCS99tprGjVqlCZOnNjpuJtvvllvv/22HA6HDMPQE088oVtv\n",
              "vdUfI/eL7p4Xu90ut9stSaqtrdU777yjmTNn9vu8gSbUni++CNXnzCOPPKLVq1dr7dq1nd7D1dH1\n",
              "11+v7du3a9++fZKkP/7xjwP+edOd81JeXu69s9jpdOr1118f8M+ZqqoqffbZZ95fv/nmm0pISFB8\n",
              "fHyn40Lttaa75yXUXmfuu+8+2e12lZaWqrS0VNnZ2Xrqqad03333dTou4F5j/Hb7Ti/Zt2+fkZ2d\n",
              "baSlpRmzZ882iouLDcMwjMWLFxtvvfWW97innnrKSE1NNVJTU4177rnHaG5u9tfI/aI75+Wxxx4z\n",
              "0tPTjczMTCM9Pd341a9+5b2jcqBaunSpMXLkSCM8PNxISkoyJkyYYBgGzxfD6N65CcXnzIkTJwxJ\n",
              "RmpqqjF9+nRj+vTpRlZWlmEYhrFs2TLj8ccf9x771ltvGZMnTzYmTJhg3HDDDUZVVZW/xu5z3T0v\n",
              "r732mjFt2jTvc+ZHP/qR0dTU5M/R+1xpaakxZ84cIyMjw8jMzDTmz5/v/WSDUH6t6e55CcXXmY6u\n",
              "vPJK713YgfwaYzIMw/BfvgIAACDYBPUlbAAAAPQ/AhIAAAA+ISABAADgEwISAAAAPiEgAQAA4BMC\n",
              "EgAAAD4hIAEAAOATAhIAAAA+ISABAADgEwISAAAAPvn/me3W+NmUPs4AAAAASUVORK5CYII=\n",
              "\">\n",
              "      </div>\n",
              "      <script type=\"text/javascript\">\n",
              "        (() => {\n",
              "          const chartElement = document.getElementById(\"chart-93bae479-1e92-49ca-a9d7-60703bfee0a3\");\n",
              "          async function getCodeForChartHandler(event) {\n",
              "            const chartCodeResponse =  await google.colab.kernel.invokeFunction(\n",
              "                'getCodeForChart', [\"chart-93bae479-1e92-49ca-a9d7-60703bfee0a3\"], {});\n",
              "            const responseJson = chartCodeResponse.data['application/json'];\n",
              "            await google.colab.notebook.addCell(responseJson.code, 'code');\n",
              "          }\n",
              "          chartElement.onclick = getCodeForChartHandler;\n",
              "        })();\n",
              "      </script>\n",
              "      <style>\n",
              "        .colab-quickchart-chart-with-code  {\n",
              "            display: block;\n",
              "            float: left;\n",
              "            border: 1px solid transparent;\n",
              "        }\n",
              "\n",
              "        .colab-quickchart-chart-with-code:hover {\n",
              "            cursor: pointer;\n",
              "            border: 1px solid #aaa;\n",
              "        }\n",
              "      </style>"
            ]
          },
          "metadata": {}
        }
      ]
    },
    {
      "source": [
        "from matplotlib import pyplot as plt\n",
        "_df_0['index'].plot(kind='hist', bins=20, title='index')\n",
        "plt.gca().spines[['top', 'right',]].set_visible(False)"
      ],
      "cell_type": "code",
      "metadata": {
        "colab": {
          "base_uri": "https://localhost:8080/",
          "height": 452
        },
        "id": "Xc_bmIY0v1Kg",
        "outputId": "eae5f64a-4d95-4a2e-d595-61c6c9a20e2f"
      },
      "execution_count": 114,
      "outputs": [
        {
          "output_type": "display_data",
          "data": {
            "text/plain": [
              "<Figure size 640x480 with 1 Axes>"
            ],
            "image/png": "[encoded data removed]"
          },
          "metadata": {}
        }
      ]
    },
    {
      "cell_type": "code",
      "source": [
        "import pandas as pd\n",
        "\n",
        "# Creating a DataFrame\n",
        "data = {'Name': ['Alice', 'Bob', 'Charlie'],\n",
        "        'Age': [25, 30, 35],\n",
        "        'City': ['New York', 'London', 'Berlin']}\n",
        "\n",
        "df = pd.DataFrame(data)\n",
        "print(df)\n"
      ],
      "metadata": {
        "colab": {
          "base_uri": "https://localhost:8080/"
        },
        "id": "tpbOyDqwvvOT",
        "outputId": "19a259ba-4120-409c-cae4-5cf0a770ae66"
      },
      "execution_count": 115,
      "outputs": [
        {
          "output_type": "stream",
          "name": "stdout",
          "text": [
            "      Name  Age      City\n",
            "0    Alice   25  New York\n",
            "1      Bob   30    London\n",
            "2  Charlie   35    Berlin\n"
          ]
        }
      ]
    },
    {
      "cell_type": "code",
      "source": [
        "df.size"
      ],
      "metadata": {
        "colab": {
          "base_uri": "https://localhost:8080/"
        },
        "id": "nBbmGSyav7sL",
        "outputId": "cbc7a3e3-a720-4397-87d7-276d23939bb8"
      },
      "execution_count": 117,
      "outputs": [
        {
          "output_type": "execute_result",
          "data": {
            "text/plain": [
              "9"
            ]
          },
          "metadata": {},
          "execution_count": 117
        }
      ]
    },
    {
      "cell_type": "code",
      "source": [
        "df.info()"
      ],
      "metadata": {
        "colab": {
          "base_uri": "https://localhost:8080/"
        },
        "id": "iZgEikgmv_NJ",
        "outputId": "87731012-0605-4546-96b9-08af9bdfc9b0"
      },
      "execution_count": 119,
      "outputs": [
        {
          "output_type": "stream",
          "name": "stdout",
          "text": [
            "<class 'pandas.core.frame.DataFrame'>\n",
            "RangeIndex: 3 entries, 0 to 2\n",
            "Data columns (total 3 columns):\n",
            " #   Column  Non-Null Count  Dtype \n",
            "---  ------  --------------  ----- \n",
            " 0   Name    3 non-null      object\n",
            " 1   Age     3 non-null      int64 \n",
            " 2   City    3 non-null      object\n",
            "dtypes: int64(1), object(2)\n",
            "memory usage: 204.0+ bytes\n"
          ]
        }
      ]
    },
    {
      "cell_type": "code",
      "source": [
        "df.dtypes"
      ],
      "metadata": {
        "colab": {
          "base_uri": "https://localhost:8080/",
          "height": 178
        },
        "id": "lEQZcTQowC1q",
        "outputId": "5cba4367-7713-48e2-ca62-6141af4b1a8e"
      },
      "execution_count": 121,
      "outputs": [
        {
          "output_type": "execute_result",
          "data": {
            "text/plain": [
              "Name    object\n",
              "Age      int64\n",
              "City    object\n",
              "dtype: object"
            ],
            "text/html": [
              "<div>\n",
              "<style scoped>\n",
              "    .dataframe tbody tr th:only-of-type {\n",
              "        vertical-align: middle;\n",
              "    }\n",
              "\n",
              "    .dataframe tbody tr th {\n",
              "        vertical-align: top;\n",
              "    }\n",
              "\n",
              "    .dataframe thead th {\n",
              "        text-align: right;\n",
              "    }\n",
              "</style>\n",
              "<table border=\"1\" class=\"dataframe\">\n",
              "  <thead>\n",
              "    <tr style=\"text-align: right;\">\n",
              "      <th></th>\n",
              "      <th>0</th>\n",
              "    </tr>\n",
              "  </thead>\n",
              "  <tbody>\n",
              "    <tr>\n",
              "      <th>Name</th>\n",
              "      <td>object</td>\n",
              "    </tr>\n",
              "    <tr>\n",
              "      <th>Age</th>\n",
              "      <td>int64</td>\n",
              "    </tr>\n",
              "    <tr>\n",
              "      <th>City</th>\n",
              "      <td>object</td>\n",
              "    </tr>\n",
              "  </tbody>\n",
              "</table>\n",
              "</div><br><label><b>dtype:</b> object</label>"
            ]
          },
          "metadata": {},
          "execution_count": 121
        }
      ]
    },
    {
      "cell_type": "code",
      "source": [
        "import pandas as pd\n",
        "\n",
        "# Creating a Series from a list\n",
        "data = [10, 20, 30, 40, 50]\n",
        "series = pd.Series(data)\n",
        "print(series)\n"
      ],
      "metadata": {
        "colab": {
          "base_uri": "https://localhost:8080/"
        },
        "id": "6OeVrYu_wKFd",
        "outputId": "d790e0cc-b9d3-49df-bd90-560a1f3ed2d5"
      },
      "execution_count": 122,
      "outputs": [
        {
          "output_type": "stream",
          "name": "stdout",
          "text": [
            "0    10\n",
            "1    20\n",
            "2    30\n",
            "3    40\n",
            "4    50\n",
            "dtype: int64\n"
          ]
        }
      ]
    },
    {
      "cell_type": "code",
      "source": [
        "data = {\n",
        "    'Name': ['Alice', 'Bob', 'Charlie'],\n",
        "    'Age': [25, 30, 35],\n",
        "    'City': ['New York', 'London', 'Berlin']\n",
        "}\n",
        "\n",
        "df = pd.DataFrame(data)\n",
        "print(df)\n"
      ],
      "metadata": {
        "colab": {
          "base_uri": "https://localhost:8080/"
        },
        "id": "cw7nGpZqwVGx",
        "outputId": "8a204bdb-a879-4c41-fa6d-9a5e4e7e6211"
      },
      "execution_count": 123,
      "outputs": [
        {
          "output_type": "stream",
          "name": "stdout",
          "text": [
            "      Name  Age      City\n",
            "0    Alice   25  New York\n",
            "1      Bob   30    London\n",
            "2  Charlie   35    Berlin\n"
          ]
        }
      ]
    },
    {
      "cell_type": "code",
      "source": [
        "df.to_csv('data.csv', index=False)"
      ],
      "metadata": {
        "id": "4MdbAJqLwbiB"
      },
      "execution_count": 124,
      "outputs": []
    },
    {
      "cell_type": "code",
      "source": [
        "df.to_excel('data.xlsx', index=False)"
      ],
      "metadata": {
        "id": "RxoMMhCrwlLf"
      },
      "execution_count": 125,
      "outputs": []
    },
    {
      "cell_type": "code",
      "source": [
        "df.to_html('data.html', index=False)"
      ],
      "metadata": {
        "id": "LpbewW5dwqfj"
      },
      "execution_count": 126,
      "outputs": []
    },
    {
      "cell_type": "code",
      "source": [
        "df.to_json('data.json')"
      ],
      "metadata": {
        "id": "igFw00DQwvns"
      },
      "execution_count": 127,
      "outputs": []
    },
    {
      "cell_type": "code",
      "source": [
        "df = pd.read_excel(\"data.xlsx\", sheet_name=\"Sheet1\")\n",
        "print(df.head())\n"
      ],
      "metadata": {
        "colab": {
          "base_uri": "https://localhost:8080/"
        },
        "id": "Ymko_nB1w1l-",
        "outputId": "ebc9fbbb-c7f3-4d8e-88d9-d2157f06ce73"
      },
      "execution_count": 128,
      "outputs": [
        {
          "output_type": "stream",
          "name": "stdout",
          "text": [
            "      Name  Age      City\n",
            "0    Alice   25  New York\n",
            "1      Bob   30    London\n",
            "2  Charlie   35    Berlin\n"
          ]
        }
      ]
    },
    {
      "cell_type": "code",
      "source": [
        "pd.read_csv('data.csv')"
      ],
      "metadata": {
        "colab": {
          "base_uri": "https://localhost:8080/",
          "height": 143
        },
        "id": "5CCndDsww6R9",
        "outputId": "a1bae29b-ce42-4274-9e78-1c2fb3414f9a"
      },
      "execution_count": 132,
      "outputs": [
        {
          "output_type": "execute_result",
          "data": {
            "text/plain": [
              "      Name  Age      City\n",
              "0    Alice   25  New York\n",
              "1      Bob   30    London\n",
              "2  Charlie   35    Berlin"
            ],
            "text/html": [
              "\n",
              "  <div id=\"df-0e33de2a-ebd7-4c4d-bcb8-fbf5dbb649d5\" class=\"colab-df-container\">\n",
              "    <div>\n",
              "<style scoped>\n",
              "    .dataframe tbody tr th:only-of-type {\n",
              "        vertical-align: middle;\n",
              "    }\n",
              "\n",
              "    .dataframe tbody tr th {\n",
              "        vertical-align: top;\n",
              "    }\n",
              "\n",
              "    .dataframe thead th {\n",
              "        text-align: right;\n",
              "    }\n",
              "</style>\n",
              "<table border=\"1\" class=\"dataframe\">\n",
              "  <thead>\n",
              "    <tr style=\"text-align: right;\">\n",
              "      <th></th>\n",
              "      <th>Name</th>\n",
              "      <th>Age</th>\n",
              "      <th>City</th>\n",
              "    </tr>\n",
              "  </thead>\n",
              "  <tbody>\n",
              "    <tr>\n",
              "      <th>0</th>\n",
              "      <td>Alice</td>\n",
              "      <td>25</td>\n",
              "      <td>New York</td>\n",
              "    </tr>\n",
              "    <tr>\n",
              "      <th>1</th>\n",
              "      <td>Bob</td>\n",
              "      <td>30</td>\n",
              "      <td>London</td>\n",
              "    </tr>\n",
              "    <tr>\n",
              "      <th>2</th>\n",
              "      <td>Charlie</td>\n",
              "      <td>35</td>\n",
              "      <td>Berlin</td>\n",
              "    </tr>\n",
              "  </tbody>\n",
              "</table>\n",
              "</div>\n",
              "    <div class=\"colab-df-buttons\">\n",
              "\n",
              "  <div class=\"colab-df-container\">\n",
              "    <button class=\"colab-df-convert\" onclick=\"convertToInteractive('df-0e33de2a-ebd7-4c4d-bcb8-fbf5dbb649d5')\"\n",
              "            title=\"Convert this dataframe to an interactive table.\"\n",
              "            style=\"display:none;\">\n",
              "\n",
              "  <svg xmlns=\"http://www.w3.org/2000/svg\" height=\"24px\" viewBox=\"0 -960 960 960\">\n",
              "    <path d=\"M120-120v-720h720v720H120Zm60-500h600v-160H180v160Zm220 220h160v-160H400v160Zm0 220h160v-160H400v160ZM180-400h160v-160H180v160Zm440 0h160v-160H620v160ZM180-180h160v-160H180v160Zm440 0h160v-160H620v160Z\"/>\n",
              "  </svg>\n",
              "    </button>\n",
              "\n",
              "  <style>\n",
              "    .colab-df-container {\n",
              "      display:flex;\n",
              "      gap: 12px;\n",
              "    }\n",
              "\n",
              "    .colab-df-convert {\n",
              "      background-color: #E8F0FE;\n",
              "      border: none;\n",
              "      border-radius: 50%;\n",
              "      cursor: pointer;\n",
              "      display: none;\n",
              "      fill: #1967D2;\n",
              "      height: 32px;\n",
              "      padding: 0 0 0 0;\n",
              "      width: 32px;\n",
              "    }\n",
              "\n",
              "    .colab-df-convert:hover {\n",
              "      background-color: #E2EBFA;\n",
              "      box-shadow: 0px 1px 2px rgba(60, 64, 67, 0.3), 0px 1px 3px 1px rgba(60, 64, 67, 0.15);\n",
              "      fill: #174EA6;\n",
              "    }\n",
              "\n",
              "    .colab-df-buttons div {\n",
              "      margin-bottom: 4px;\n",
              "    }\n",
              "\n",
              "    [theme=dark] .colab-df-convert {\n",
              "      background-color: #3B4455;\n",
              "      fill: #D2E3FC;\n",
              "    }\n",
              "\n",
              "    [theme=dark] .colab-df-convert:hover {\n",
              "      background-color: #434B5C;\n",
              "      box-shadow: 0px 1px 3px 1px rgba(0, 0, 0, 0.15);\n",
              "      filter: drop-shadow(0px 1px 2px rgba(0, 0, 0, 0.3));\n",
              "      fill: #FFFFFF;\n",
              "    }\n",
              "  </style>\n",
              "\n",
              "    <script>\n",
              "      const buttonEl =\n",
              "        document.querySelector('#df-0e33de2a-ebd7-4c4d-bcb8-fbf5dbb649d5 button.colab-df-convert');\n",
              "      buttonEl.style.display =\n",
              "        google.colab.kernel.accessAllowed ? 'block' : 'none';\n",
              "\n",
              "      async function convertToInteractive(key) {\n",
              "        const element = document.querySelector('#df-0e33de2a-ebd7-4c4d-bcb8-fbf5dbb649d5');\n",
              "        const dataTable =\n",
              "          await google.colab.kernel.invokeFunction('convertToInteractive',\n",
              "                                                    [key], {});\n",
              "        if (!dataTable) return;\n",
              "\n",
              "        const docLinkHtml = 'Like what you see? Visit the ' +\n",
              "          '<a target=\"_blank\" href=https://colab.research.google.com/notebooks/data_table.ipynb>data table notebook</a>'\n",
              "          + ' to learn more about interactive tables.';\n",
              "        element.innerHTML = '';\n",
              "        dataTable['output_type'] = 'display_data';\n",
              "        await google.colab.output.renderOutput(dataTable, element);\n",
              "        const docLink = document.createElement('div');\n",
              "        docLink.innerHTML = docLinkHtml;\n",
              "        element.appendChild(docLink);\n",
              "      }\n",
              "    </script>\n",
              "  </div>\n",
              "\n",
              "\n",
              "<div id=\"df-c31f0bd8-f6f7-4231-84c8-b7ab92a7d913\">\n",
              "  <button class=\"colab-df-quickchart\" onclick=\"quickchart('df-c31f0bd8-f6f7-4231-84c8-b7ab92a7d913')\"\n",
              "            title=\"Suggest charts\"\n",
              "            style=\"display:none;\">\n",
              "\n",
              "<svg xmlns=\"http://www.w3.org/2000/svg\" height=\"24px\"viewBox=\"0 0 24 24\"\n",
              "     width=\"24px\">\n",
              "    <g>\n",
              "        <path d=\"M19 3H5c-1.1 0-2 .9-2 2v14c0 1.1.9 2 2 2h14c1.1 0 2-.9 2-2V5c0-1.1-.9-2-2-2zM9 17H7v-7h2v7zm4 0h-2V7h2v10zm4 0h-2v-4h2v4z\"/>\n",
              "    </g>\n",
              "</svg>\n",
              "  </button>\n",
              "\n",
              "<style>\n",
              "  .colab-df-quickchart {\n",
              "      --bg-color: #E8F0FE;\n",
              "      --fill-color: #1967D2;\n",
              "      --hover-bg-color: #E2EBFA;\n",
              "      --hover-fill-color: #174EA6;\n",
              "      --disabled-fill-color: #AAA;\n",
              "      --disabled-bg-color: #DDD;\n",
              "  }\n",
              "\n",
              "  [theme=dark] .colab-df-quickchart {\n",
              "      --bg-color: #3B4455;\n",
              "      --fill-color: #D2E3FC;\n",
              "      --hover-bg-color: #434B5C;\n",
              "      --hover-fill-color: #FFFFFF;\n",
              "      --disabled-bg-color: #3B4455;\n",
              "      --disabled-fill-color: #666;\n",
              "  }\n",
              "\n",
              "  .colab-df-quickchart {\n",
              "    background-color: var(--bg-color);\n",
              "    border: none;\n",
              "    border-radius: 50%;\n",
              "    cursor: pointer;\n",
              "    display: none;\n",
              "    fill: var(--fill-color);\n",
              "    height: 32px;\n",
              "    padding: 0;\n",
              "    width: 32px;\n",
              "  }\n",
              "\n",
              "  .colab-df-quickchart:hover {\n",
              "    background-color: var(--hover-bg-color);\n",
              "    box-shadow: 0 1px 2px rgba(60, 64, 67, 0.3), 0 1px 3px 1px rgba(60, 64, 67, 0.15);\n",
              "    fill: var(--button-hover-fill-color);\n",
              "  }\n",
              "\n",
              "  .colab-df-quickchart-complete:disabled,\n",
              "  .colab-df-quickchart-complete:disabled:hover {\n",
              "    background-color: var(--disabled-bg-color);\n",
              "    fill: var(--disabled-fill-color);\n",
              "    box-shadow: none;\n",
              "  }\n",
              "\n",
              "  .colab-df-spinner {\n",
              "    border: 2px solid var(--fill-color);\n",
              "    border-color: transparent;\n",
              "    border-bottom-color: var(--fill-color);\n",
              "    animation:\n",
              "      spin 1s steps(1) infinite;\n",
              "  }\n",
              "\n",
              "  @keyframes spin {\n",
              "    0% {\n",
              "      border-color: transparent;\n",
              "      border-bottom-color: var(--fill-color);\n",
              "      border-left-color: var(--fill-color);\n",
              "    }\n",
              "    20% {\n",
              "      border-color: transparent;\n",
              "      border-left-color: var(--fill-color);\n",
              "      border-top-color: var(--fill-color);\n",
              "    }\n",
              "    30% {\n",
              "      border-color: transparent;\n",
              "      border-left-color: var(--fill-color);\n",
              "      border-top-color: var(--fill-color);\n",
              "      border-right-color: var(--fill-color);\n",
              "    }\n",
              "    40% {\n",
              "      border-color: transparent;\n",
              "      border-right-color: var(--fill-color);\n",
              "      border-top-color: var(--fill-color);\n",
              "    }\n",
              "    60% {\n",
              "      border-color: transparent;\n",
              "      border-right-color: var(--fill-color);\n",
              "    }\n",
              "    80% {\n",
              "      border-color: transparent;\n",
              "      border-right-color: var(--fill-color);\n",
              "      border-bottom-color: var(--fill-color);\n",
              "    }\n",
              "    90% {\n",
              "      border-color: transparent;\n",
              "      border-bottom-color: var(--fill-color);\n",
              "    }\n",
              "  }\n",
              "</style>\n",
              "\n",
              "  <script>\n",
              "    async function quickchart(key) {\n",
              "      const quickchartButtonEl =\n",
              "        document.querySelector('#' + key + ' button');\n",
              "      quickchartButtonEl.disabled = true;  // To prevent multiple clicks.\n",
              "      quickchartButtonEl.classList.add('colab-df-spinner');\n",
              "      try {\n",
              "        const charts = await google.colab.kernel.invokeFunction(\n",
              "            'suggestCharts', [key], {});\n",
              "      } catch (error) {\n",
              "        console.error('Error during call to suggestCharts:', error);\n",
              "      }\n",
              "      quickchartButtonEl.classList.remove('colab-df-spinner');\n",
              "      quickchartButtonEl.classList.add('colab-df-quickchart-complete');\n",
              "    }\n",
              "    (() => {\n",
              "      let quickchartButtonEl =\n",
              "        document.querySelector('#df-c31f0bd8-f6f7-4231-84c8-b7ab92a7d913 button');\n",
              "      quickchartButtonEl.style.display =\n",
              "        google.colab.kernel.accessAllowed ? 'block' : 'none';\n",
              "    })();\n",
              "  </script>\n",
              "</div>\n",
              "\n",
              "    </div>\n",
              "  </div>\n"
            ],
            "application/vnd.google.colaboratory.intrinsic+json": {
              "type": "dataframe",
              "summary": "{\n  \"name\": \"pd\",\n  \"rows\": 3,\n  \"fields\": [\n    {\n      \"column\": \"Name\",\n      \"properties\": {\n        \"dtype\": \"string\",\n        \"num_unique_values\": 3,\n        \"samples\": [\n          \"Alice\",\n          \"Bob\",\n          \"Charlie\"\n        ],\n        \"semantic_type\": \"\",\n        \"description\": \"\"\n      }\n    },\n    {\n      \"column\": \"Age\",\n      \"properties\": {\n        \"dtype\": \"number\",\n        \"std\": 5,\n        \"min\": 25,\n        \"max\": 35,\n        \"num_unique_values\": 3,\n        \"samples\": [\n          25,\n          30,\n          35\n        ],\n        \"semantic_type\": \"\",\n        \"description\": \"\"\n      }\n    },\n    {\n      \"column\": \"City\",\n      \"properties\": {\n        \"dtype\": \"string\",\n        \"num_unique_values\": 3,\n        \"samples\": [\n          \"New York\",\n          \"London\",\n          \"Berlin\"\n        ],\n        \"semantic_type\": \"\",\n        \"description\": \"\"\n      }\n    }\n  ]\n}"
            }
          },
          "metadata": {},
          "execution_count": 132
        }
      ]
    },
    {
      "cell_type": "code",
      "source": [
        "pd.read_json('data.json')"
      ],
      "metadata": {
        "colab": {
          "base_uri": "https://localhost:8080/",
          "height": 143
        },
        "id": "QuCcpUlYw_de",
        "outputId": "3be9ecc2-6a16-4ed0-fa69-d9ceb1fc370d"
      },
      "execution_count": 133,
      "outputs": [
        {
          "output_type": "execute_result",
          "data": {
            "text/plain": [
              "      Name  Age      City\n",
              "0    Alice   25  New York\n",
              "1      Bob   30    London\n",
              "2  Charlie   35    Berlin"
            ],
            "text/html": [
              "\n",
              "  <div id=\"df-210a33bb-9366-4647-8a12-d4f42da6e4a9\" class=\"colab-df-container\">\n",
              "    <div>\n",
              "<style scoped>\n",
              "    .dataframe tbody tr th:only-of-type {\n",
              "        vertical-align: middle;\n",
              "    }\n",
              "\n",
              "    .dataframe tbody tr th {\n",
              "        vertical-align: top;\n",
              "    }\n",
              "\n",
              "    .dataframe thead th {\n",
              "        text-align: right;\n",
              "    }\n",
              "</style>\n",
              "<table border=\"1\" class=\"dataframe\">\n",
              "  <thead>\n",
              "    <tr style=\"text-align: right;\">\n",
              "      <th></th>\n",
              "      <th>Name</th>\n",
              "      <th>Age</th>\n",
              "      <th>City</th>\n",
              "    </tr>\n",
              "  </thead>\n",
              "  <tbody>\n",
              "    <tr>\n",
              "      <th>0</th>\n",
              "      <td>Alice</td>\n",
              "      <td>25</td>\n",
              "      <td>New York</td>\n",
              "    </tr>\n",
              "    <tr>\n",
              "      <th>1</th>\n",
              "      <td>Bob</td>\n",
              "      <td>30</td>\n",
              "      <td>London</td>\n",
              "    </tr>\n",
              "    <tr>\n",
              "      <th>2</th>\n",
              "      <td>Charlie</td>\n",
              "      <td>35</td>\n",
              "      <td>Berlin</td>\n",
              "    </tr>\n",
              "  </tbody>\n",
              "</table>\n",
              "</div>\n",
              "    <div class=\"colab-df-buttons\">\n",
              "\n",
              "  <div class=\"colab-df-container\">\n",
              "    <button class=\"colab-df-convert\" onclick=\"convertToInteractive('df-210a33bb-9366-4647-8a12-d4f42da6e4a9')\"\n",
              "            title=\"Convert this dataframe to an interactive table.\"\n",
              "            style=\"display:none;\">\n",
              "\n",
              "  <svg xmlns=\"http://www.w3.org/2000/svg\" height=\"24px\" viewBox=\"0 -960 960 960\">\n",
              "    <path d=\"M120-120v-720h720v720H120Zm60-500h600v-160H180v160Zm220 220h160v-160H400v160Zm0 220h160v-160H400v160ZM180-400h160v-160H180v160Zm440 0h160v-160H620v160ZM180-180h160v-160H180v160Zm440 0h160v-160H620v160Z\"/>\n",
              "  </svg>\n",
              "    </button>\n",
              "\n",
              "  <style>\n",
              "    .colab-df-container {\n",
              "      display:flex;\n",
              "      gap: 12px;\n",
              "    }\n",
              "\n",
              "    .colab-df-convert {\n",
              "      background-color: #E8F0FE;\n",
              "      border: none;\n",
              "      border-radius: 50%;\n",
              "      cursor: pointer;\n",
              "      display: none;\n",
              "      fill: #1967D2;\n",
              "      height: 32px;\n",
              "      padding: 0 0 0 0;\n",
              "      width: 32px;\n",
              "    }\n",
              "\n",
              "    .colab-df-convert:hover {\n",
              "      background-color: #E2EBFA;\n",
              "      box-shadow: 0px 1px 2px rgba(60, 64, 67, 0.3), 0px 1px 3px 1px rgba(60, 64, 67, 0.15);\n",
              "      fill: #174EA6;\n",
              "    }\n",
              "\n",
              "    .colab-df-buttons div {\n",
              "      margin-bottom: 4px;\n",
              "    }\n",
              "\n",
              "    [theme=dark] .colab-df-convert {\n",
              "      background-color: #3B4455;\n",
              "      fill: #D2E3FC;\n",
              "    }\n",
              "\n",
              "    [theme=dark] .colab-df-convert:hover {\n",
              "      background-color: #434B5C;\n",
              "      box-shadow: 0px 1px 3px 1px rgba(0, 0, 0, 0.15);\n",
              "      filter: drop-shadow(0px 1px 2px rgba(0, 0, 0, 0.3));\n",
              "      fill: #FFFFFF;\n",
              "    }\n",
              "  </style>\n",
              "\n",
              "    <script>\n",
              "      const buttonEl =\n",
              "        document.querySelector('#df-210a33bb-9366-4647-8a12-d4f42da6e4a9 button.colab-df-convert');\n",
              "      buttonEl.style.display =\n",
              "        google.colab.kernel.accessAllowed ? 'block' : 'none';\n",
              "\n",
              "      async function convertToInteractive(key) {\n",
              "        const element = document.querySelector('#df-210a33bb-9366-4647-8a12-d4f42da6e4a9');\n",
              "        const dataTable =\n",
              "          await google.colab.kernel.invokeFunction('convertToInteractive',\n",
              "                                                    [key], {});\n",
              "        if (!dataTable) return;\n",
              "\n",
              "        const docLinkHtml = 'Like what you see? Visit the ' +\n",
              "          '<a target=\"_blank\" href=https://colab.research.google.com/notebooks/data_table.ipynb>data table notebook</a>'\n",
              "          + ' to learn more about interactive tables.';\n",
              "        element.innerHTML = '';\n",
              "        dataTable['output_type'] = 'display_data';\n",
              "        await google.colab.output.renderOutput(dataTable, element);\n",
              "        const docLink = document.createElement('div');\n",
              "        docLink.innerHTML = docLinkHtml;\n",
              "        element.appendChild(docLink);\n",
              "      }\n",
              "    </script>\n",
              "  </div>\n",
              "\n",
              "\n",
              "<div id=\"df-795159a5-5a3f-421b-8f78-e653766b0a56\">\n",
              "  <button class=\"colab-df-quickchart\" onclick=\"quickchart('df-795159a5-5a3f-421b-8f78-e653766b0a56')\"\n",
              "            title=\"Suggest charts\"\n",
              "            style=\"display:none;\">\n",
              "\n",
              "<svg xmlns=\"http://www.w3.org/2000/svg\" height=\"24px\"viewBox=\"0 0 24 24\"\n",
              "     width=\"24px\">\n",
              "    <g>\n",
              "        <path d=\"M19 3H5c-1.1 0-2 .9-2 2v14c0 1.1.9 2 2 2h14c1.1 0 2-.9 2-2V5c0-1.1-.9-2-2-2zM9 17H7v-7h2v7zm4 0h-2V7h2v10zm4 0h-2v-4h2v4z\"/>\n",
              "    </g>\n",
              "</svg>\n",
              "  </button>\n",
              "\n",
              "<style>\n",
              "  .colab-df-quickchart {\n",
              "      --bg-color: #E8F0FE;\n",
              "      --fill-color: #1967D2;\n",
              "      --hover-bg-color: #E2EBFA;\n",
              "      --hover-fill-color: #174EA6;\n",
              "      --disabled-fill-color: #AAA;\n",
              "      --disabled-bg-color: #DDD;\n",
              "  }\n",
              "\n",
              "  [theme=dark] .colab-df-quickchart {\n",
              "      --bg-color: #3B4455;\n",
              "      --fill-color: #D2E3FC;\n",
              "      --hover-bg-color: #434B5C;\n",
              "      --hover-fill-color: #FFFFFF;\n",
              "      --disabled-bg-color: #3B4455;\n",
              "      --disabled-fill-color: #666;\n",
              "  }\n",
              "\n",
              "  .colab-df-quickchart {\n",
              "    background-color: var(--bg-color);\n",
              "    border: none;\n",
              "    border-radius: 50%;\n",
              "    cursor: pointer;\n",
              "    display: none;\n",
              "    fill: var(--fill-color);\n",
              "    height: 32px;\n",
              "    padding: 0;\n",
              "    width: 32px;\n",
              "  }\n",
              "\n",
              "  .colab-df-quickchart:hover {\n",
              "    background-color: var(--hover-bg-color);\n",
              "    box-shadow: 0 1px 2px rgba(60, 64, 67, 0.3), 0 1px 3px 1px rgba(60, 64, 67, 0.15);\n",
              "    fill: var(--button-hover-fill-color);\n",
              "  }\n",
              "\n",
              "  .colab-df-quickchart-complete:disabled,\n",
              "  .colab-df-quickchart-complete:disabled:hover {\n",
              "    background-color: var(--disabled-bg-color);\n",
              "    fill: var(--disabled-fill-color);\n",
              "    box-shadow: none;\n",
              "  }\n",
              "\n",
              "  .colab-df-spinner {\n",
              "    border: 2px solid var(--fill-color);\n",
              "    border-color: transparent;\n",
              "    border-bottom-color: var(--fill-color);\n",
              "    animation:\n",
              "      spin 1s steps(1) infinite;\n",
              "  }\n",
              "\n",
              "  @keyframes spin {\n",
              "    0% {\n",
              "      border-color: transparent;\n",
              "      border-bottom-color: var(--fill-color);\n",
              "      border-left-color: var(--fill-color);\n",
              "    }\n",
              "    20% {\n",
              "      border-color: transparent;\n",
              "      border-left-color: var(--fill-color);\n",
              "      border-top-color: var(--fill-color);\n",
              "    }\n",
              "    30% {\n",
              "      border-color: transparent;\n",
              "      border-left-color: var(--fill-color);\n",
              "      border-top-color: var(--fill-color);\n",
              "      border-right-color: var(--fill-color);\n",
              "    }\n",
              "    40% {\n",
              "      border-color: transparent;\n",
              "      border-right-color: var(--fill-color);\n",
              "      border-top-color: var(--fill-color);\n",
              "    }\n",
              "    60% {\n",
              "      border-color: transparent;\n",
              "      border-right-color: var(--fill-color);\n",
              "    }\n",
              "    80% {\n",
              "      border-color: transparent;\n",
              "      border-right-color: var(--fill-color);\n",
              "      border-bottom-color: var(--fill-color);\n",
              "    }\n",
              "    90% {\n",
              "      border-color: transparent;\n",
              "      border-bottom-color: var(--fill-color);\n",
              "    }\n",
              "  }\n",
              "</style>\n",
              "\n",
              "  <script>\n",
              "    async function quickchart(key) {\n",
              "      const quickchartButtonEl =\n",
              "        document.querySelector('#' + key + ' button');\n",
              "      quickchartButtonEl.disabled = true;  // To prevent multiple clicks.\n",
              "      quickchartButtonEl.classList.add('colab-df-spinner');\n",
              "      try {\n",
              "        const charts = await google.colab.kernel.invokeFunction(\n",
              "            'suggestCharts', [key], {});\n",
              "      } catch (error) {\n",
              "        console.error('Error during call to suggestCharts:', error);\n",
              "      }\n",
              "      quickchartButtonEl.classList.remove('colab-df-spinner');\n",
              "      quickchartButtonEl.classList.add('colab-df-quickchart-complete');\n",
              "    }\n",
              "    (() => {\n",
              "      let quickchartButtonEl =\n",
              "        document.querySelector('#df-795159a5-5a3f-421b-8f78-e653766b0a56 button');\n",
              "      quickchartButtonEl.style.display =\n",
              "        google.colab.kernel.accessAllowed ? 'block' : 'none';\n",
              "    })();\n",
              "  </script>\n",
              "</div>\n",
              "\n",
              "    </div>\n",
              "  </div>\n"
            ],
            "application/vnd.google.colaboratory.intrinsic+json": {
              "type": "dataframe",
              "summary": "{\n  \"name\": \"pd\",\n  \"rows\": 3,\n  \"fields\": [\n    {\n      \"column\": \"Name\",\n      \"properties\": {\n        \"dtype\": \"string\",\n        \"num_unique_values\": 3,\n        \"samples\": [\n          \"Alice\",\n          \"Bob\",\n          \"Charlie\"\n        ],\n        \"semantic_type\": \"\",\n        \"description\": \"\"\n      }\n    },\n    {\n      \"column\": \"Age\",\n      \"properties\": {\n        \"dtype\": \"number\",\n        \"std\": 5,\n        \"min\": 25,\n        \"max\": 35,\n        \"num_unique_values\": 3,\n        \"samples\": [\n          25,\n          30,\n          35\n        ],\n        \"semantic_type\": \"\",\n        \"description\": \"\"\n      }\n    },\n    {\n      \"column\": \"City\",\n      \"properties\": {\n        \"dtype\": \"string\",\n        \"num_unique_values\": 3,\n        \"samples\": [\n          \"New York\",\n          \"London\",\n          \"Berlin\"\n        ],\n        \"semantic_type\": \"\",\n        \"description\": \"\"\n      }\n    }\n  ]\n}"
            }
          },
          "metadata": {},
          "execution_count": 133
        }
      ]
    },
    {
      "cell_type": "code",
      "source": [
        "pd.read_html('data.html')"
      ],
      "metadata": {
        "colab": {
          "base_uri": "https://localhost:8080/"
        },
        "id": "bDehtTY3xW0v",
        "outputId": "e478533f-c0c8-403d-8ee5-84d6ee52a238"
      },
      "execution_count": 134,
      "outputs": [
        {
          "output_type": "execute_result",
          "data": {
            "text/plain": [
              "[      Name  Age      City\n",
              " 0    Alice   25  New York\n",
              " 1      Bob   30    London\n",
              " 2  Charlie   35    Berlin]"
            ]
          },
          "metadata": {},
          "execution_count": 134
        }
      ]
    },
    {
      "cell_type": "code",
      "source": [
        "import pandas as pd\n",
        "\n",
        "data = {\n",
        "    'Name': ['Alice', 'Bob', 'Charlie'],\n",
        "    'Age': [25, 30, 35],\n",
        "    'City': ['New York', 'London', 'Berlin']\n",
        "}\n",
        "\n",
        "df = pd.DataFrame(data)\n",
        "\n",
        "# Selecting a single column\n",
        "print(df['Name'])  # Returns a Series\n",
        "\n",
        "# Selecting multiple columns\n",
        "print(df[['Name', 'Age']])  # Returns a DataFrame\n"
      ],
      "metadata": {
        "colab": {
          "base_uri": "https://localhost:8080/"
        },
        "id": "_hlGfcnIxYcR",
        "outputId": "a52fdb8b-ef76-4f7a-8fe4-d9756223fd2d"
      },
      "execution_count": 135,
      "outputs": [
        {
          "output_type": "stream",
          "name": "stdout",
          "text": [
            "0      Alice\n",
            "1        Bob\n",
            "2    Charlie\n",
            "Name: Name, dtype: object\n",
            "      Name  Age\n",
            "0    Alice   25\n",
            "1      Bob   30\n",
            "2  Charlie   35\n"
          ]
        }
      ]
    },
    {
      "cell_type": "code",
      "source": [
        "df"
      ],
      "metadata": {
        "colab": {
          "base_uri": "https://localhost:8080/",
          "height": 143
        },
        "id": "o-4rr8PdxjVu",
        "outputId": "a6481d86-2152-4df7-c426-7e10c7e3e624"
      },
      "execution_count": 136,
      "outputs": [
        {
          "output_type": "execute_result",
          "data": {
            "text/plain": [
              "      Name  Age      City\n",
              "0    Alice   25  New York\n",
              "1      Bob   30    London\n",
              "2  Charlie   35    Berlin"
            ],
            "text/html": [
              "\n",
              "  <div id=\"df-4f8d97b9-8e76-46c2-a8a2-8a96c60e62bd\" class=\"colab-df-container\">\n",
              "    <div>\n",
              "<style scoped>\n",
              "    .dataframe tbody tr th:only-of-type {\n",
              "        vertical-align: middle;\n",
              "    }\n",
              "\n",
              "    .dataframe tbody tr th {\n",
              "        vertical-align: top;\n",
              "    }\n",
              "\n",
              "    .dataframe thead th {\n",
              "        text-align: right;\n",
              "    }\n",
              "</style>\n",
              "<table border=\"1\" class=\"dataframe\">\n",
              "  <thead>\n",
              "    <tr style=\"text-align: right;\">\n",
              "      <th></th>\n",
              "      <th>Name</th>\n",
              "      <th>Age</th>\n",
              "      <th>City</th>\n",
              "    </tr>\n",
              "  </thead>\n",
              "  <tbody>\n",
              "    <tr>\n",
              "      <th>0</th>\n",
              "      <td>Alice</td>\n",
              "      <td>25</td>\n",
              "      <td>New York</td>\n",
              "    </tr>\n",
              "    <tr>\n",
              "      <th>1</th>\n",
              "      <td>Bob</td>\n",
              "      <td>30</td>\n",
              "      <td>London</td>\n",
              "    </tr>\n",
              "    <tr>\n",
              "      <th>2</th>\n",
              "      <td>Charlie</td>\n",
              "      <td>35</td>\n",
              "      <td>Berlin</td>\n",
              "    </tr>\n",
              "  </tbody>\n",
              "</table>\n",
              "</div>\n",
              "    <div class=\"colab-df-buttons\">\n",
              "\n",
              "  <div class=\"colab-df-container\">\n",
              "    <button class=\"colab-df-convert\" onclick=\"convertToInteractive('df-4f8d97b9-8e76-46c2-a8a2-8a96c60e62bd')\"\n",
              "            title=\"Convert this dataframe to an interactive table.\"\n",
              "            style=\"display:none;\">\n",
              "\n",
              "  <svg xmlns=\"http://www.w3.org/2000/svg\" height=\"24px\" viewBox=\"0 -960 960 960\">\n",
              "    <path d=\"M120-120v-720h720v720H120Zm60-500h600v-160H180v160Zm220 220h160v-160H400v160Zm0 220h160v-160H400v160ZM180-400h160v-160H180v160Zm440 0h160v-160H620v160ZM180-180h160v-160H180v160Zm440 0h160v-160H620v160Z\"/>\n",
              "  </svg>\n",
              "    </button>\n",
              "\n",
              "  <style>\n",
              "    .colab-df-container {\n",
              "      display:flex;\n",
              "      gap: 12px;\n",
              "    }\n",
              "\n",
              "    .colab-df-convert {\n",
              "      background-color: #E8F0FE;\n",
              "      border: none;\n",
              "      border-radius: 50%;\n",
              "      cursor: pointer;\n",
              "      display: none;\n",
              "      fill: #1967D2;\n",
              "      height: 32px;\n",
              "      padding: 0 0 0 0;\n",
              "      width: 32px;\n",
              "    }\n",
              "\n",
              "    .colab-df-convert:hover {\n",
              "      background-color: #E2EBFA;\n",
              "      box-shadow: 0px 1px 2px rgba(60, 64, 67, 0.3), 0px 1px 3px 1px rgba(60, 64, 67, 0.15);\n",
              "      fill: #174EA6;\n",
              "    }\n",
              "\n",
              "    .colab-df-buttons div {\n",
              "      margin-bottom: 4px;\n",
              "    }\n",
              "\n",
              "    [theme=dark] .colab-df-convert {\n",
              "      background-color: #3B4455;\n",
              "      fill: #D2E3FC;\n",
              "    }\n",
              "\n",
              "    [theme=dark] .colab-df-convert:hover {\n",
              "      background-color: #434B5C;\n",
              "      box-shadow: 0px 1px 3px 1px rgba(0, 0, 0, 0.15);\n",
              "      filter: drop-shadow(0px 1px 2px rgba(0, 0, 0, 0.3));\n",
              "      fill: #FFFFFF;\n",
              "    }\n",
              "  </style>\n",
              "\n",
              "    <script>\n",
              "      const buttonEl =\n",
              "        document.querySelector('#df-4f8d97b9-8e76-46c2-a8a2-8a96c60e62bd button.colab-df-convert');\n",
              "      buttonEl.style.display =\n",
              "        google.colab.kernel.accessAllowed ? 'block' : 'none';\n",
              "\n",
              "      async function convertToInteractive(key) {\n",
              "        const element = document.querySelector('#df-4f8d97b9-8e76-46c2-a8a2-8a96c60e62bd');\n",
              "        const dataTable =\n",
              "          await google.colab.kernel.invokeFunction('convertToInteractive',\n",
              "                                                    [key], {});\n",
              "        if (!dataTable) return;\n",
              "\n",
              "        const docLinkHtml = 'Like what you see? Visit the ' +\n",
              "          '<a target=\"_blank\" href=https://colab.research.google.com/notebooks/data_table.ipynb>data table notebook</a>'\n",
              "          + ' to learn more about interactive tables.';\n",
              "        element.innerHTML = '';\n",
              "        dataTable['output_type'] = 'display_data';\n",
              "        await google.colab.output.renderOutput(dataTable, element);\n",
              "        const docLink = document.createElement('div');\n",
              "        docLink.innerHTML = docLinkHtml;\n",
              "        element.appendChild(docLink);\n",
              "      }\n",
              "    </script>\n",
              "  </div>\n",
              "\n",
              "\n",
              "<div id=\"df-ccbb7aca-4eaf-4e2d-bf88-3bdbeb7be830\">\n",
              "  <button class=\"colab-df-quickchart\" onclick=\"quickchart('df-ccbb7aca-4eaf-4e2d-bf88-3bdbeb7be830')\"\n",
              "            title=\"Suggest charts\"\n",
              "            style=\"display:none;\">\n",
              "\n",
              "<svg xmlns=\"http://www.w3.org/2000/svg\" height=\"24px\"viewBox=\"0 0 24 24\"\n",
              "     width=\"24px\">\n",
              "    <g>\n",
              "        <path d=\"M19 3H5c-1.1 0-2 .9-2 2v14c0 1.1.9 2 2 2h14c1.1 0 2-.9 2-2V5c0-1.1-.9-2-2-2zM9 17H7v-7h2v7zm4 0h-2V7h2v10zm4 0h-2v-4h2v4z\"/>\n",
              "    </g>\n",
              "</svg>\n",
              "  </button>\n",
              "\n",
              "<style>\n",
              "  .colab-df-quickchart {\n",
              "      --bg-color: #E8F0FE;\n",
              "      --fill-color: #1967D2;\n",
              "      --hover-bg-color: #E2EBFA;\n",
              "      --hover-fill-color: #174EA6;\n",
              "      --disabled-fill-color: #AAA;\n",
              "      --disabled-bg-color: #DDD;\n",
              "  }\n",
              "\n",
              "  [theme=dark] .colab-df-quickchart {\n",
              "      --bg-color: #3B4455;\n",
              "      --fill-color: #D2E3FC;\n",
              "      --hover-bg-color: #434B5C;\n",
              "      --hover-fill-color: #FFFFFF;\n",
              "      --disabled-bg-color: #3B4455;\n",
              "      --disabled-fill-color: #666;\n",
              "  }\n",
              "\n",
              "  .colab-df-quickchart {\n",
              "    background-color: var(--bg-color);\n",
              "    border: none;\n",
              "    border-radius: 50%;\n",
              "    cursor: pointer;\n",
              "    display: none;\n",
              "    fill: var(--fill-color);\n",
              "    height: 32px;\n",
              "    padding: 0;\n",
              "    width: 32px;\n",
              "  }\n",
              "\n",
              "  .colab-df-quickchart:hover {\n",
              "    background-color: var(--hover-bg-color);\n",
              "    box-shadow: 0 1px 2px rgba(60, 64, 67, 0.3), 0 1px 3px 1px rgba(60, 64, 67, 0.15);\n",
              "    fill: var(--button-hover-fill-color);\n",
              "  }\n",
              "\n",
              "  .colab-df-quickchart-complete:disabled,\n",
              "  .colab-df-quickchart-complete:disabled:hover {\n",
              "    background-color: var(--disabled-bg-color);\n",
              "    fill: var(--disabled-fill-color);\n",
              "    box-shadow: none;\n",
              "  }\n",
              "\n",
              "  .colab-df-spinner {\n",
              "    border: 2px solid var(--fill-color);\n",
              "    border-color: transparent;\n",
              "    border-bottom-color: var(--fill-color);\n",
              "    animation:\n",
              "      spin 1s steps(1) infinite;\n",
              "  }\n",
              "\n",
              "  @keyframes spin {\n",
              "    0% {\n",
              "      border-color: transparent;\n",
              "      border-bottom-color: var(--fill-color);\n",
              "      border-left-color: var(--fill-color);\n",
              "    }\n",
              "    20% {\n",
              "      border-color: transparent;\n",
              "      border-left-color: var(--fill-color);\n",
              "      border-top-color: var(--fill-color);\n",
              "    }\n",
              "    30% {\n",
              "      border-color: transparent;\n",
              "      border-left-color: var(--fill-color);\n",
              "      border-top-color: var(--fill-color);\n",
              "      border-right-color: var(--fill-color);\n",
              "    }\n",
              "    40% {\n",
              "      border-color: transparent;\n",
              "      border-right-color: var(--fill-color);\n",
              "      border-top-color: var(--fill-color);\n",
              "    }\n",
              "    60% {\n",
              "      border-color: transparent;\n",
              "      border-right-color: var(--fill-color);\n",
              "    }\n",
              "    80% {\n",
              "      border-color: transparent;\n",
              "      border-right-color: var(--fill-color);\n",
              "      border-bottom-color: var(--fill-color);\n",
              "    }\n",
              "    90% {\n",
              "      border-color: transparent;\n",
              "      border-bottom-color: var(--fill-color);\n",
              "    }\n",
              "  }\n",
              "</style>\n",
              "\n",
              "  <script>\n",
              "    async function quickchart(key) {\n",
              "      const quickchartButtonEl =\n",
              "        document.querySelector('#' + key + ' button');\n",
              "      quickchartButtonEl.disabled = true;  // To prevent multiple clicks.\n",
              "      quickchartButtonEl.classList.add('colab-df-spinner');\n",
              "      try {\n",
              "        const charts = await google.colab.kernel.invokeFunction(\n",
              "            'suggestCharts', [key], {});\n",
              "      } catch (error) {\n",
              "        console.error('Error during call to suggestCharts:', error);\n",
              "      }\n",
              "      quickchartButtonEl.classList.remove('colab-df-spinner');\n",
              "      quickchartButtonEl.classList.add('colab-df-quickchart-complete');\n",
              "    }\n",
              "    (() => {\n",
              "      let quickchartButtonEl =\n",
              "        document.querySelector('#df-ccbb7aca-4eaf-4e2d-bf88-3bdbeb7be830 button');\n",
              "      quickchartButtonEl.style.display =\n",
              "        google.colab.kernel.accessAllowed ? 'block' : 'none';\n",
              "    })();\n",
              "  </script>\n",
              "</div>\n",
              "\n",
              "  <div id=\"id_7a86f4a8-9601-4a74-814b-b0964733f24b\">\n",
              "    <style>\n",
              "      .colab-df-generate {\n",
              "        background-color: #E8F0FE;\n",
              "        border: none;\n",
              "        border-radius: 50%;\n",
              "        cursor: pointer;\n",
              "        display: none;\n",
              "        fill: #1967D2;\n",
              "        height: 32px;\n",
              "        padding: 0 0 0 0;\n",
              "        width: 32px;\n",
              "      }\n",
              "\n",
              "      .colab-df-generate:hover {\n",
              "        background-color: #E2EBFA;\n",
              "        box-shadow: 0px 1px 2px rgba(60, 64, 67, 0.3), 0px 1px 3px 1px rgba(60, 64, 67, 0.15);\n",
              "        fill: #174EA6;\n",
              "      }\n",
              "\n",
              "      [theme=dark] .colab-df-generate {\n",
              "        background-color: #3B4455;\n",
              "        fill: #D2E3FC;\n",
              "      }\n",
              "\n",
              "      [theme=dark] .colab-df-generate:hover {\n",
              "        background-color: #434B5C;\n",
              "        box-shadow: 0px 1px 3px 1px rgba(0, 0, 0, 0.15);\n",
              "        filter: drop-shadow(0px 1px 2px rgba(0, 0, 0, 0.3));\n",
              "        fill: #FFFFFF;\n",
              "      }\n",
              "    </style>\n",
              "    <button class=\"colab-df-generate\" onclick=\"generateWithVariable('df')\"\n",
              "            title=\"Generate code using this dataframe.\"\n",
              "            style=\"display:none;\">\n",
              "\n",
              "  <svg xmlns=\"http://www.w3.org/2000/svg\" height=\"24px\"viewBox=\"0 0 24 24\"\n",
              "       width=\"24px\">\n",
              "    <path d=\"M7,19H8.4L18.45,9,17,7.55,7,17.6ZM5,21V16.75L18.45,3.32a2,2,0,0,1,2.83,0l1.4,1.43a1.91,1.91,0,0,1,.58,1.4,1.91,1.91,0,0,1-.58,1.4L9.25,21ZM18.45,9,17,7.55Zm-12,3A5.31,5.31,0,0,0,4.9,8.1,5.31,5.31,0,0,0,1,6.5,5.31,5.31,0,0,0,4.9,4.9,5.31,5.31,0,0,0,6.5,1,5.31,5.31,0,0,0,8.1,4.9,5.31,5.31,0,0,0,12,6.5,5.46,5.46,0,0,0,6.5,12Z\"/>\n",
              "  </svg>\n",
              "    </button>\n",
              "    <script>\n",
              "      (() => {\n",
              "      const buttonEl =\n",
              "        document.querySelector('#id_7a86f4a8-9601-4a74-814b-b0964733f24b button.colab-df-generate');\n",
              "      buttonEl.style.display =\n",
              "        google.colab.kernel.accessAllowed ? 'block' : 'none';\n",
              "\n",
              "      buttonEl.onclick = () => {\n",
              "        google.colab.notebook.generateWithVariable('df');\n",
              "      }\n",
              "      })();\n",
              "    </script>\n",
              "  </div>\n",
              "\n",
              "    </div>\n",
              "  </div>\n"
            ],
            "application/vnd.google.colaboratory.intrinsic+json": {
              "type": "dataframe",
              "variable_name": "df",
              "summary": "{\n  \"name\": \"df\",\n  \"rows\": 3,\n  \"fields\": [\n    {\n      \"column\": \"Name\",\n      \"properties\": {\n        \"dtype\": \"string\",\n        \"num_unique_values\": 3,\n        \"samples\": [\n          \"Alice\",\n          \"Bob\",\n          \"Charlie\"\n        ],\n        \"semantic_type\": \"\",\n        \"description\": \"\"\n      }\n    },\n    {\n      \"column\": \"Age\",\n      \"properties\": {\n        \"dtype\": \"number\",\n        \"std\": 5,\n        \"min\": 25,\n        \"max\": 35,\n        \"num_unique_values\": 3,\n        \"samples\": [\n          25,\n          30,\n          35\n        ],\n        \"semantic_type\": \"\",\n        \"description\": \"\"\n      }\n    },\n    {\n      \"column\": \"City\",\n      \"properties\": {\n        \"dtype\": \"string\",\n        \"num_unique_values\": 3,\n        \"samples\": [\n          \"New York\",\n          \"London\",\n          \"Berlin\"\n        ],\n        \"semantic_type\": \"\",\n        \"description\": \"\"\n      }\n    }\n  ]\n}"
            }
          },
          "metadata": {},
          "execution_count": 136
        }
      ]
    },
    {
      "cell_type": "code",
      "source": [
        "df.head(1)"
      ],
      "metadata": {
        "colab": {
          "base_uri": "https://localhost:8080/",
          "height": 80
        },
        "id": "GY24-Bssxvmw",
        "outputId": "c2c88d2a-a0a7-4edb-c86a-170e5ceb52d0"
      },
      "execution_count": 137,
      "outputs": [
        {
          "output_type": "execute_result",
          "data": {
            "text/plain": [
              "    Name  Age      City\n",
              "0  Alice   25  New York"
            ],
            "text/html": [
              "\n",
              "  <div id=\"df-82992ff2-f055-43fc-8a32-cf2d42feb814\" class=\"colab-df-container\">\n",
              "    <div>\n",
              "<style scoped>\n",
              "    .dataframe tbody tr th:only-of-type {\n",
              "        vertical-align: middle;\n",
              "    }\n",
              "\n",
              "    .dataframe tbody tr th {\n",
              "        vertical-align: top;\n",
              "    }\n",
              "\n",
              "    .dataframe thead th {\n",
              "        text-align: right;\n",
              "    }\n",
              "</style>\n",
              "<table border=\"1\" class=\"dataframe\">\n",
              "  <thead>\n",
              "    <tr style=\"text-align: right;\">\n",
              "      <th></th>\n",
              "      <th>Name</th>\n",
              "      <th>Age</th>\n",
              "      <th>City</th>\n",
              "    </tr>\n",
              "  </thead>\n",
              "  <tbody>\n",
              "    <tr>\n",
              "      <th>0</th>\n",
              "      <td>Alice</td>\n",
              "      <td>25</td>\n",
              "      <td>New York</td>\n",
              "    </tr>\n",
              "  </tbody>\n",
              "</table>\n",
              "</div>\n",
              "    <div class=\"colab-df-buttons\">\n",
              "\n",
              "  <div class=\"colab-df-container\">\n",
              "    <button class=\"colab-df-convert\" onclick=\"convertToInteractive('df-82992ff2-f055-43fc-8a32-cf2d42feb814')\"\n",
              "            title=\"Convert this dataframe to an interactive table.\"\n",
              "            style=\"display:none;\">\n",
              "\n",
              "  <svg xmlns=\"http://www.w3.org/2000/svg\" height=\"24px\" viewBox=\"0 -960 960 960\">\n",
              "    <path d=\"M120-120v-720h720v720H120Zm60-500h600v-160H180v160Zm220 220h160v-160H400v160Zm0 220h160v-160H400v160ZM180-400h160v-160H180v160Zm440 0h160v-160H620v160ZM180-180h160v-160H180v160Zm440 0h160v-160H620v160Z\"/>\n",
              "  </svg>\n",
              "    </button>\n",
              "\n",
              "  <style>\n",
              "    .colab-df-container {\n",
              "      display:flex;\n",
              "      gap: 12px;\n",
              "    }\n",
              "\n",
              "    .colab-df-convert {\n",
              "      background-color: #E8F0FE;\n",
              "      border: none;\n",
              "      border-radius: 50%;\n",
              "      cursor: pointer;\n",
              "      display: none;\n",
              "      fill: #1967D2;\n",
              "      height: 32px;\n",
              "      padding: 0 0 0 0;\n",
              "      width: 32px;\n",
              "    }\n",
              "\n",
              "    .colab-df-convert:hover {\n",
              "      background-color: #E2EBFA;\n",
              "      box-shadow: 0px 1px 2px rgba(60, 64, 67, 0.3), 0px 1px 3px 1px rgba(60, 64, 67, 0.15);\n",
              "      fill: #174EA6;\n",
              "    }\n",
              "\n",
              "    .colab-df-buttons div {\n",
              "      margin-bottom: 4px;\n",
              "    }\n",
              "\n",
              "    [theme=dark] .colab-df-convert {\n",
              "      background-color: #3B4455;\n",
              "      fill: #D2E3FC;\n",
              "    }\n",
              "\n",
              "    [theme=dark] .colab-df-convert:hover {\n",
              "      background-color: #434B5C;\n",
              "      box-shadow: 0px 1px 3px 1px rgba(0, 0, 0, 0.15);\n",
              "      filter: drop-shadow(0px 1px 2px rgba(0, 0, 0, 0.3));\n",
              "      fill: #FFFFFF;\n",
              "    }\n",
              "  </style>\n",
              "\n",
              "    <script>\n",
              "      const buttonEl =\n",
              "        document.querySelector('#df-82992ff2-f055-43fc-8a32-cf2d42feb814 button.colab-df-convert');\n",
              "      buttonEl.style.display =\n",
              "        google.colab.kernel.accessAllowed ? 'block' : 'none';\n",
              "\n",
              "      async function convertToInteractive(key) {\n",
              "        const element = document.querySelector('#df-82992ff2-f055-43fc-8a32-cf2d42feb814');\n",
              "        const dataTable =\n",
              "          await google.colab.kernel.invokeFunction('convertToInteractive',\n",
              "                                                    [key], {});\n",
              "        if (!dataTable) return;\n",
              "\n",
              "        const docLinkHtml = 'Like what you see? Visit the ' +\n",
              "          '<a target=\"_blank\" href=https://colab.research.google.com/notebooks/data_table.ipynb>data table notebook</a>'\n",
              "          + ' to learn more about interactive tables.';\n",
              "        element.innerHTML = '';\n",
              "        dataTable['output_type'] = 'display_data';\n",
              "        await google.colab.output.renderOutput(dataTable, element);\n",
              "        const docLink = document.createElement('div');\n",
              "        docLink.innerHTML = docLinkHtml;\n",
              "        element.appendChild(docLink);\n",
              "      }\n",
              "    </script>\n",
              "  </div>\n",
              "\n",
              "\n",
              "    </div>\n",
              "  </div>\n"
            ],
            "application/vnd.google.colaboratory.intrinsic+json": {
              "type": "dataframe",
              "variable_name": "df",
              "summary": "{\n  \"name\": \"df\",\n  \"rows\": 3,\n  \"fields\": [\n    {\n      \"column\": \"Name\",\n      \"properties\": {\n        \"dtype\": \"string\",\n        \"num_unique_values\": 3,\n        \"samples\": [\n          \"Alice\",\n          \"Bob\",\n          \"Charlie\"\n        ],\n        \"semantic_type\": \"\",\n        \"description\": \"\"\n      }\n    },\n    {\n      \"column\": \"Age\",\n      \"properties\": {\n        \"dtype\": \"number\",\n        \"std\": 5,\n        \"min\": 25,\n        \"max\": 35,\n        \"num_unique_values\": 3,\n        \"samples\": [\n          25,\n          30,\n          35\n        ],\n        \"semantic_type\": \"\",\n        \"description\": \"\"\n      }\n    },\n    {\n      \"column\": \"City\",\n      \"properties\": {\n        \"dtype\": \"string\",\n        \"num_unique_values\": 3,\n        \"samples\": [\n          \"New York\",\n          \"London\",\n          \"Berlin\"\n        ],\n        \"semantic_type\": \"\",\n        \"description\": \"\"\n      }\n    }\n  ]\n}"
            }
          },
          "metadata": {},
          "execution_count": 137
        }
      ]
    },
    {
      "source": [
        "# @title Age\n",
        "\n",
        "from matplotlib import pyplot as plt\n",
        "df['Age'].plot(kind='hist', bins=20, title='Age')\n",
        "plt.gca().spines[['top', 'right',]].set_visible(False)"
      ],
      "cell_type": "code",
      "execution_count": 138,
      "outputs": [
        {
          "output_type": "display_data",
          "data": {
            "text/plain": [
              "<Figure size 640x480 with 1 Axes>"
            ],
            "image/png": "[encoded data removed]"
          },
          "metadata": {}
        }
      ],
      "metadata": {
        "colab": {
          "base_uri": "https://localhost:8080/",
          "height": 452
        },
        "id": "CVNBtqqzx4-e",
        "outputId": "a78713ba-04b0-43bf-ff8d-eeaa7ec02c59"
      }
    },
    {
      "cell_type": "code",
      "source": [
        "df.tail(2)"
      ],
      "metadata": {
        "colab": {
          "base_uri": "https://localhost:8080/",
          "height": 112
        },
        "id": "KbusGrzHxx6B",
        "outputId": "b459781b-b709-4ebb-fbe6-1e06d9d7f385"
      },
      "execution_count": 139,
      "outputs": [
        {
          "output_type": "execute_result",
          "data": {
            "text/plain": [
              "      Name  Age    City\n",
              "1      Bob   30  London\n",
              "2  Charlie   35  Berlin"
            ],
            "text/html": [
              "\n",
              "  <div id=\"df-9e6b9d25-4ca3-4bec-b261-7e4a5123c3d2\" class=\"colab-df-container\">\n",
              "    <div>\n",
              "<style scoped>\n",
              "    .dataframe tbody tr th:only-of-type {\n",
              "        vertical-align: middle;\n",
              "    }\n",
              "\n",
              "    .dataframe tbody tr th {\n",
              "        vertical-align: top;\n",
              "    }\n",
              "\n",
              "    .dataframe thead th {\n",
              "        text-align: right;\n",
              "    }\n",
              "</style>\n",
              "<table border=\"1\" class=\"dataframe\">\n",
              "  <thead>\n",
              "    <tr style=\"text-align: right;\">\n",
              "      <th></th>\n",
              "      <th>Name</th>\n",
              "      <th>Age</th>\n",
              "      <th>City</th>\n",
              "    </tr>\n",
              "  </thead>\n",
              "  <tbody>\n",
              "    <tr>\n",
              "      <th>1</th>\n",
              "      <td>Bob</td>\n",
              "      <td>30</td>\n",
              "      <td>London</td>\n",
              "    </tr>\n",
              "    <tr>\n",
              "      <th>2</th>\n",
              "      <td>Charlie</td>\n",
              "      <td>35</td>\n",
              "      <td>Berlin</td>\n",
              "    </tr>\n",
              "  </tbody>\n",
              "</table>\n",
              "</div>\n",
              "    <div class=\"colab-df-buttons\">\n",
              "\n",
              "  <div class=\"colab-df-container\">\n",
              "    <button class=\"colab-df-convert\" onclick=\"convertToInteractive('df-9e6b9d25-4ca3-4bec-b261-7e4a5123c3d2')\"\n",
              "            title=\"Convert this dataframe to an interactive table.\"\n",
              "            style=\"display:none;\">\n",
              "\n",
              "  <svg xmlns=\"http://www.w3.org/2000/svg\" height=\"24px\" viewBox=\"0 -960 960 960\">\n",
              "    <path d=\"M120-120v-720h720v720H120Zm60-500h600v-160H180v160Zm220 220h160v-160H400v160Zm0 220h160v-160H400v160ZM180-400h160v-160H180v160Zm440 0h160v-160H620v160ZM180-180h160v-160H180v160Zm440 0h160v-160H620v160Z\"/>\n",
              "  </svg>\n",
              "    </button>\n",
              "\n",
              "  <style>\n",
              "    .colab-df-container {\n",
              "      display:flex;\n",
              "      gap: 12px;\n",
              "    }\n",
              "\n",
              "    .colab-df-convert {\n",
              "      background-color: #E8F0FE;\n",
              "      border: none;\n",
              "      border-radius: 50%;\n",
              "      cursor: pointer;\n",
              "      display: none;\n",
              "      fill: #1967D2;\n",
              "      height: 32px;\n",
              "      padding: 0 0 0 0;\n",
              "      width: 32px;\n",
              "    }\n",
              "\n",
              "    .colab-df-convert:hover {\n",
              "      background-color: #E2EBFA;\n",
              "      box-shadow: 0px 1px 2px rgba(60, 64, 67, 0.3), 0px 1px 3px 1px rgba(60, 64, 67, 0.15);\n",
              "      fill: #174EA6;\n",
              "    }\n",
              "\n",
              "    .colab-df-buttons div {\n",
              "      margin-bottom: 4px;\n",
              "    }\n",
              "\n",
              "    [theme=dark] .colab-df-convert {\n",
              "      background-color: #3B4455;\n",
              "      fill: #D2E3FC;\n",
              "    }\n",
              "\n",
              "    [theme=dark] .colab-df-convert:hover {\n",
              "      background-color: #434B5C;\n",
              "      box-shadow: 0px 1px 3px 1px rgba(0, 0, 0, 0.15);\n",
              "      filter: drop-shadow(0px 1px 2px rgba(0, 0, 0, 0.3));\n",
              "      fill: #FFFFFF;\n",
              "    }\n",
              "  </style>\n",
              "\n",
              "    <script>\n",
              "      const buttonEl =\n",
              "        document.querySelector('#df-9e6b9d25-4ca3-4bec-b261-7e4a5123c3d2 button.colab-df-convert');\n",
              "      buttonEl.style.display =\n",
              "        google.colab.kernel.accessAllowed ? 'block' : 'none';\n",
              "\n",
              "      async function convertToInteractive(key) {\n",
              "        const element = document.querySelector('#df-9e6b9d25-4ca3-4bec-b261-7e4a5123c3d2');\n",
              "        const dataTable =\n",
              "          await google.colab.kernel.invokeFunction('convertToInteractive',\n",
              "                                                    [key], {});\n",
              "        if (!dataTable) return;\n",
              "\n",
              "        const docLinkHtml = 'Like what you see? Visit the ' +\n",
              "          '<a target=\"_blank\" href=https://colab.research.google.com/notebooks/data_table.ipynb>data table notebook</a>'\n",
              "          + ' to learn more about interactive tables.';\n",
              "        element.innerHTML = '';\n",
              "        dataTable['output_type'] = 'display_data';\n",
              "        await google.colab.output.renderOutput(dataTable, element);\n",
              "        const docLink = document.createElement('div');\n",
              "        docLink.innerHTML = docLinkHtml;\n",
              "        element.appendChild(docLink);\n",
              "      }\n",
              "    </script>\n",
              "  </div>\n",
              "\n",
              "\n",
              "<div id=\"df-177ca12e-899b-4066-aefc-b105fe793be1\">\n",
              "  <button class=\"colab-df-quickchart\" onclick=\"quickchart('df-177ca12e-899b-4066-aefc-b105fe793be1')\"\n",
              "            title=\"Suggest charts\"\n",
              "            style=\"display:none;\">\n",
              "\n",
              "<svg xmlns=\"http://www.w3.org/2000/svg\" height=\"24px\"viewBox=\"0 0 24 24\"\n",
              "     width=\"24px\">\n",
              "    <g>\n",
              "        <path d=\"M19 3H5c-1.1 0-2 .9-2 2v14c0 1.1.9 2 2 2h14c1.1 0 2-.9 2-2V5c0-1.1-.9-2-2-2zM9 17H7v-7h2v7zm4 0h-2V7h2v10zm4 0h-2v-4h2v4z\"/>\n",
              "    </g>\n",
              "</svg>\n",
              "  </button>\n",
              "\n",
              "<style>\n",
              "  .colab-df-quickchart {\n",
              "      --bg-color: #E8F0FE;\n",
              "      --fill-color: #1967D2;\n",
              "      --hover-bg-color: #E2EBFA;\n",
              "      --hover-fill-color: #174EA6;\n",
              "      --disabled-fill-color: #AAA;\n",
              "      --disabled-bg-color: #DDD;\n",
              "  }\n",
              "\n",
              "  [theme=dark] .colab-df-quickchart {\n",
              "      --bg-color: #3B4455;\n",
              "      --fill-color: #D2E3FC;\n",
              "      --hover-bg-color: #434B5C;\n",
              "      --hover-fill-color: #FFFFFF;\n",
              "      --disabled-bg-color: #3B4455;\n",
              "      --disabled-fill-color: #666;\n",
              "  }\n",
              "\n",
              "  .colab-df-quickchart {\n",
              "    background-color: var(--bg-color);\n",
              "    border: none;\n",
              "    border-radius: 50%;\n",
              "    cursor: pointer;\n",
              "    display: none;\n",
              "    fill: var(--fill-color);\n",
              "    height: 32px;\n",
              "    padding: 0;\n",
              "    width: 32px;\n",
              "  }\n",
              "\n",
              "  .colab-df-quickchart:hover {\n",
              "    background-color: var(--hover-bg-color);\n",
              "    box-shadow: 0 1px 2px rgba(60, 64, 67, 0.3), 0 1px 3px 1px rgba(60, 64, 67, 0.15);\n",
              "    fill: var(--button-hover-fill-color);\n",
              "  }\n",
              "\n",
              "  .colab-df-quickchart-complete:disabled,\n",
              "  .colab-df-quickchart-complete:disabled:hover {\n",
              "    background-color: var(--disabled-bg-color);\n",
              "    fill: var(--disabled-fill-color);\n",
              "    box-shadow: none;\n",
              "  }\n",
              "\n",
              "  .colab-df-spinner {\n",
              "    border: 2px solid var(--fill-color);\n",
              "    border-color: transparent;\n",
              "    border-bottom-color: var(--fill-color);\n",
              "    animation:\n",
              "      spin 1s steps(1) infinite;\n",
              "  }\n",
              "\n",
              "  @keyframes spin {\n",
              "    0% {\n",
              "      border-color: transparent;\n",
              "      border-bottom-color: var(--fill-color);\n",
              "      border-left-color: var(--fill-color);\n",
              "    }\n",
              "    20% {\n",
              "      border-color: transparent;\n",
              "      border-left-color: var(--fill-color);\n",
              "      border-top-color: var(--fill-color);\n",
              "    }\n",
              "    30% {\n",
              "      border-color: transparent;\n",
              "      border-left-color: var(--fill-color);\n",
              "      border-top-color: var(--fill-color);\n",
              "      border-right-color: var(--fill-color);\n",
              "    }\n",
              "    40% {\n",
              "      border-color: transparent;\n",
              "      border-right-color: var(--fill-color);\n",
              "      border-top-color: var(--fill-color);\n",
              "    }\n",
              "    60% {\n",
              "      border-color: transparent;\n",
              "      border-right-color: var(--fill-color);\n",
              "    }\n",
              "    80% {\n",
              "      border-color: transparent;\n",
              "      border-right-color: var(--fill-color);\n",
              "      border-bottom-color: var(--fill-color);\n",
              "    }\n",
              "    90% {\n",
              "      border-color: transparent;\n",
              "      border-bottom-color: var(--fill-color);\n",
              "    }\n",
              "  }\n",
              "</style>\n",
              "\n",
              "  <script>\n",
              "    async function quickchart(key) {\n",
              "      const quickchartButtonEl =\n",
              "        document.querySelector('#' + key + ' button');\n",
              "      quickchartButtonEl.disabled = true;  // To prevent multiple clicks.\n",
              "      quickchartButtonEl.classList.add('colab-df-spinner');\n",
              "      try {\n",
              "        const charts = await google.colab.kernel.invokeFunction(\n",
              "            'suggestCharts', [key], {});\n",
              "      } catch (error) {\n",
              "        console.error('Error during call to suggestCharts:', error);\n",
              "      }\n",
              "      quickchartButtonEl.classList.remove('colab-df-spinner');\n",
              "      quickchartButtonEl.classList.add('colab-df-quickchart-complete');\n",
              "    }\n",
              "    (() => {\n",
              "      let quickchartButtonEl =\n",
              "        document.querySelector('#df-177ca12e-899b-4066-aefc-b105fe793be1 button');\n",
              "      quickchartButtonEl.style.display =\n",
              "        google.colab.kernel.accessAllowed ? 'block' : 'none';\n",
              "    })();\n",
              "  </script>\n",
              "</div>\n",
              "\n",
              "    </div>\n",
              "  </div>\n"
            ],
            "application/vnd.google.colaboratory.intrinsic+json": {
              "type": "dataframe",
              "summary": "{\n  \"name\": \"df\",\n  \"rows\": 2,\n  \"fields\": [\n    {\n      \"column\": \"Name\",\n      \"properties\": {\n        \"dtype\": \"string\",\n        \"num_unique_values\": 2,\n        \"samples\": [\n          \"Charlie\",\n          \"Bob\"\n        ],\n        \"semantic_type\": \"\",\n        \"description\": \"\"\n      }\n    },\n    {\n      \"column\": \"Age\",\n      \"properties\": {\n        \"dtype\": \"number\",\n        \"std\": 3,\n        \"min\": 30,\n        \"max\": 35,\n        \"num_unique_values\": 2,\n        \"samples\": [\n          35,\n          30\n        ],\n        \"semantic_type\": \"\",\n        \"description\": \"\"\n      }\n    },\n    {\n      \"column\": \"City\",\n      \"properties\": {\n        \"dtype\": \"string\",\n        \"num_unique_values\": 2,\n        \"samples\": [\n          \"Berlin\",\n          \"London\"\n        ],\n        \"semantic_type\": \"\",\n        \"description\": \"\"\n      }\n    }\n  ]\n}"
            }
          },
          "metadata": {},
          "execution_count": 139
        }
      ]
    },
    {
      "cell_type": "code",
      "source": [
        "df.Age"
      ],
      "metadata": {
        "colab": {
          "base_uri": "https://localhost:8080/",
          "height": 178
        },
        "id": "KltXl-o9yCmV",
        "outputId": "c332670d-1b85-45c1-a5a0-3cd1ee12a257"
      },
      "execution_count": 140,
      "outputs": [
        {
          "output_type": "execute_result",
          "data": {
            "text/plain": [
              "0    25\n",
              "1    30\n",
              "2    35\n",
              "Name: Age, dtype: int64"
            ],
            "text/html": [
              "<div>\n",
              "<style scoped>\n",
              "    .dataframe tbody tr th:only-of-type {\n",
              "        vertical-align: middle;\n",
              "    }\n",
              "\n",
              "    .dataframe tbody tr th {\n",
              "        vertical-align: top;\n",
              "    }\n",
              "\n",
              "    .dataframe thead th {\n",
              "        text-align: right;\n",
              "    }\n",
              "</style>\n",
              "<table border=\"1\" class=\"dataframe\">\n",
              "  <thead>\n",
              "    <tr style=\"text-align: right;\">\n",
              "      <th></th>\n",
              "      <th>Age</th>\n",
              "    </tr>\n",
              "  </thead>\n",
              "  <tbody>\n",
              "    <tr>\n",
              "      <th>0</th>\n",
              "      <td>25</td>\n",
              "    </tr>\n",
              "    <tr>\n",
              "      <th>1</th>\n",
              "      <td>30</td>\n",
              "    </tr>\n",
              "    <tr>\n",
              "      <th>2</th>\n",
              "      <td>35</td>\n",
              "    </tr>\n",
              "  </tbody>\n",
              "</table>\n",
              "</div><br><label><b>dtype:</b> int64</label>"
            ]
          },
          "metadata": {},
          "execution_count": 140
        }
      ]
    },
    {
      "cell_type": "code",
      "source": [
        "df.dtypes"
      ],
      "metadata": {
        "colab": {
          "base_uri": "https://localhost:8080/",
          "height": 178
        },
        "id": "GAwsJym9yEq-",
        "outputId": "71ffd559-04e7-4091-d5bb-b09fe43b78ca"
      },
      "execution_count": 141,
      "outputs": [
        {
          "output_type": "execute_result",
          "data": {
            "text/plain": [
              "Name    object\n",
              "Age      int64\n",
              "City    object\n",
              "dtype: object"
            ],
            "text/html": [
              "<div>\n",
              "<style scoped>\n",
              "    .dataframe tbody tr th:only-of-type {\n",
              "        vertical-align: middle;\n",
              "    }\n",
              "\n",
              "    .dataframe tbody tr th {\n",
              "        vertical-align: top;\n",
              "    }\n",
              "\n",
              "    .dataframe thead th {\n",
              "        text-align: right;\n",
              "    }\n",
              "</style>\n",
              "<table border=\"1\" class=\"dataframe\">\n",
              "  <thead>\n",
              "    <tr style=\"text-align: right;\">\n",
              "      <th></th>\n",
              "      <th>0</th>\n",
              "    </tr>\n",
              "  </thead>\n",
              "  <tbody>\n",
              "    <tr>\n",
              "      <th>Name</th>\n",
              "      <td>object</td>\n",
              "    </tr>\n",
              "    <tr>\n",
              "      <th>Age</th>\n",
              "      <td>int64</td>\n",
              "    </tr>\n",
              "    <tr>\n",
              "      <th>City</th>\n",
              "      <td>object</td>\n",
              "    </tr>\n",
              "  </tbody>\n",
              "</table>\n",
              "</div><br><label><b>dtype:</b> object</label>"
            ]
          },
          "metadata": {},
          "execution_count": 141
        }
      ]
    },
    {
      "cell_type": "code",
      "source": [
        "df.loc[1]"
      ],
      "metadata": {
        "colab": {
          "base_uri": "https://localhost:8080/",
          "height": 178
        },
        "id": "6unPDdrvyHSr",
        "outputId": "87ca5ffb-527a-4e37-b767-e6a5f7cd6d65"
      },
      "execution_count": 142,
      "outputs": [
        {
          "output_type": "execute_result",
          "data": {
            "text/plain": [
              "Name       Bob\n",
              "Age         30\n",
              "City    London\n",
              "Name: 1, dtype: object"
            ],
            "text/html": [
              "<div>\n",
              "<style scoped>\n",
              "    .dataframe tbody tr th:only-of-type {\n",
              "        vertical-align: middle;\n",
              "    }\n",
              "\n",
              "    .dataframe tbody tr th {\n",
              "        vertical-align: top;\n",
              "    }\n",
              "\n",
              "    .dataframe thead th {\n",
              "        text-align: right;\n",
              "    }\n",
              "</style>\n",
              "<table border=\"1\" class=\"dataframe\">\n",
              "  <thead>\n",
              "    <tr style=\"text-align: right;\">\n",
              "      <th></th>\n",
              "      <th>1</th>\n",
              "    </tr>\n",
              "  </thead>\n",
              "  <tbody>\n",
              "    <tr>\n",
              "      <th>Name</th>\n",
              "      <td>Bob</td>\n",
              "    </tr>\n",
              "    <tr>\n",
              "      <th>Age</th>\n",
              "      <td>30</td>\n",
              "    </tr>\n",
              "    <tr>\n",
              "      <th>City</th>\n",
              "      <td>London</td>\n",
              "    </tr>\n",
              "  </tbody>\n",
              "</table>\n",
              "</div><br><label><b>dtype:</b> object</label>"
            ]
          },
          "metadata": {},
          "execution_count": 142
        }
      ]
    },
    {
      "cell_type": "code",
      "source": [
        "df"
      ],
      "metadata": {
        "colab": {
          "base_uri": "https://localhost:8080/",
          "height": 143
        },
        "id": "nn8jjaHcyNSc",
        "outputId": "b36f69a4-0ff1-4d83-8dd1-ec004f56d916"
      },
      "execution_count": 143,
      "outputs": [
        {
          "output_type": "execute_result",
          "data": {
            "text/plain": [
              "      Name  Age      City\n",
              "0    Alice   25  New York\n",
              "1      Bob   30    London\n",
              "2  Charlie   35    Berlin"
            ],
            "text/html": [
              "\n",
              "  <div id=\"df-428601ef-e02e-4b00-ae2b-03b5464a8301\" class=\"colab-df-container\">\n",
              "    <div>\n",
              "<style scoped>\n",
              "    .dataframe tbody tr th:only-of-type {\n",
              "        vertical-align: middle;\n",
              "    }\n",
              "\n",
              "    .dataframe tbody tr th {\n",
              "        vertical-align: top;\n",
              "    }\n",
              "\n",
              "    .dataframe thead th {\n",
              "        text-align: right;\n",
              "    }\n",
              "</style>\n",
              "<table border=\"1\" class=\"dataframe\">\n",
              "  <thead>\n",
              "    <tr style=\"text-align: right;\">\n",
              "      <th></th>\n",
              "      <th>Name</th>\n",
              "      <th>Age</th>\n",
              "      <th>City</th>\n",
              "    </tr>\n",
              "  </thead>\n",
              "  <tbody>\n",
              "    <tr>\n",
              "      <th>0</th>\n",
              "      <td>Alice</td>\n",
              "      <td>25</td>\n",
              "      <td>New York</td>\n",
              "    </tr>\n",
              "    <tr>\n",
              "      <th>1</th>\n",
              "      <td>Bob</td>\n",
              "      <td>30</td>\n",
              "      <td>London</td>\n",
              "    </tr>\n",
              "    <tr>\n",
              "      <th>2</th>\n",
              "      <td>Charlie</td>\n",
              "      <td>35</td>\n",
              "      <td>Berlin</td>\n",
              "    </tr>\n",
              "  </tbody>\n",
              "</table>\n",
              "</div>\n",
              "    <div class=\"colab-df-buttons\">\n",
              "\n",
              "  <div class=\"colab-df-container\">\n",
              "    <button class=\"colab-df-convert\" onclick=\"convertToInteractive('df-428601ef-e02e-4b00-ae2b-03b5464a8301')\"\n",
              "            title=\"Convert this dataframe to an interactive table.\"\n",
              "            style=\"display:none;\">\n",
              "\n",
              "  <svg xmlns=\"http://www.w3.org/2000/svg\" height=\"24px\" viewBox=\"0 -960 960 960\">\n",
              "    <path d=\"M120-120v-720h720v720H120Zm60-500h600v-160H180v160Zm220 220h160v-160H400v160Zm0 220h160v-160H400v160ZM180-400h160v-160H180v160Zm440 0h160v-160H620v160ZM180-180h160v-160H180v160Zm440 0h160v-160H620v160Z\"/>\n",
              "  </svg>\n",
              "    </button>\n",
              "\n",
              "  <style>\n",
              "    .colab-df-container {\n",
              "      display:flex;\n",
              "      gap: 12px;\n",
              "    }\n",
              "\n",
              "    .colab-df-convert {\n",
              "      background-color: #E8F0FE;\n",
              "      border: none;\n",
              "      border-radius: 50%;\n",
              "      cursor: pointer;\n",
              "      display: none;\n",
              "      fill: #1967D2;\n",
              "      height: 32px;\n",
              "      padding: 0 0 0 0;\n",
              "      width: 32px;\n",
              "    }\n",
              "\n",
              "    .colab-df-convert:hover {\n",
              "      background-color: #E2EBFA;\n",
              "      box-shadow: 0px 1px 2px rgba(60, 64, 67, 0.3), 0px 1px 3px 1px rgba(60, 64, 67, 0.15);\n",
              "      fill: #174EA6;\n",
              "    }\n",
              "\n",
              "    .colab-df-buttons div {\n",
              "      margin-bottom: 4px;\n",
              "    }\n",
              "\n",
              "    [theme=dark] .colab-df-convert {\n",
              "      background-color: #3B4455;\n",
              "      fill: #D2E3FC;\n",
              "    }\n",
              "\n",
              "    [theme=dark] .colab-df-convert:hover {\n",
              "      background-color: #434B5C;\n",
              "      box-shadow: 0px 1px 3px 1px rgba(0, 0, 0, 0.15);\n",
              "      filter: drop-shadow(0px 1px 2px rgba(0, 0, 0, 0.3));\n",
              "      fill: #FFFFFF;\n",
              "    }\n",
              "  </style>\n",
              "\n",
              "    <script>\n",
              "      const buttonEl =\n",
              "        document.querySelector('#df-428601ef-e02e-4b00-ae2b-03b5464a8301 button.colab-df-convert');\n",
              "      buttonEl.style.display =\n",
              "        google.colab.kernel.accessAllowed ? 'block' : 'none';\n",
              "\n",
              "      async function convertToInteractive(key) {\n",
              "        const element = document.querySelector('#df-428601ef-e02e-4b00-ae2b-03b5464a8301');\n",
              "        const dataTable =\n",
              "          await google.colab.kernel.invokeFunction('convertToInteractive',\n",
              "                                                    [key], {});\n",
              "        if (!dataTable) return;\n",
              "\n",
              "        const docLinkHtml = 'Like what you see? Visit the ' +\n",
              "          '<a target=\"_blank\" href=https://colab.research.google.com/notebooks/data_table.ipynb>data table notebook</a>'\n",
              "          + ' to learn more about interactive tables.';\n",
              "        element.innerHTML = '';\n",
              "        dataTable['output_type'] = 'display_data';\n",
              "        await google.colab.output.renderOutput(dataTable, element);\n",
              "        const docLink = document.createElement('div');\n",
              "        docLink.innerHTML = docLinkHtml;\n",
              "        element.appendChild(docLink);\n",
              "      }\n",
              "    </script>\n",
              "  </div>\n",
              "\n",
              "\n",
              "<div id=\"df-27223f1f-2e47-4fe4-87df-2b577e8d1929\">\n",
              "  <button class=\"colab-df-quickchart\" onclick=\"quickchart('df-27223f1f-2e47-4fe4-87df-2b577e8d1929')\"\n",
              "            title=\"Suggest charts\"\n",
              "            style=\"display:none;\">\n",
              "\n",
              "<svg xmlns=\"http://www.w3.org/2000/svg\" height=\"24px\"viewBox=\"0 0 24 24\"\n",
              "     width=\"24px\">\n",
              "    <g>\n",
              "        <path d=\"M19 3H5c-1.1 0-2 .9-2 2v14c0 1.1.9 2 2 2h14c1.1 0 2-.9 2-2V5c0-1.1-.9-2-2-2zM9 17H7v-7h2v7zm4 0h-2V7h2v10zm4 0h-2v-4h2v4z\"/>\n",
              "    </g>\n",
              "</svg>\n",
              "  </button>\n",
              "\n",
              "<style>\n",
              "  .colab-df-quickchart {\n",
              "      --bg-color: #E8F0FE;\n",
              "      --fill-color: #1967D2;\n",
              "      --hover-bg-color: #E2EBFA;\n",
              "      --hover-fill-color: #174EA6;\n",
              "      --disabled-fill-color: #AAA;\n",
              "      --disabled-bg-color: #DDD;\n",
              "  }\n",
              "\n",
              "  [theme=dark] .colab-df-quickchart {\n",
              "      --bg-color: #3B4455;\n",
              "      --fill-color: #D2E3FC;\n",
              "      --hover-bg-color: #434B5C;\n",
              "      --hover-fill-color: #FFFFFF;\n",
              "      --disabled-bg-color: #3B4455;\n",
              "      --disabled-fill-color: #666;\n",
              "  }\n",
              "\n",
              "  .colab-df-quickchart {\n",
              "    background-color: var(--bg-color);\n",
              "    border: none;\n",
              "    border-radius: 50%;\n",
              "    cursor: pointer;\n",
              "    display: none;\n",
              "    fill: var(--fill-color);\n",
              "    height: 32px;\n",
              "    padding: 0;\n",
              "    width: 32px;\n",
              "  }\n",
              "\n",
              "  .colab-df-quickchart:hover {\n",
              "    background-color: var(--hover-bg-color);\n",
              "    box-shadow: 0 1px 2px rgba(60, 64, 67, 0.3), 0 1px 3px 1px rgba(60, 64, 67, 0.15);\n",
              "    fill: var(--button-hover-fill-color);\n",
              "  }\n",
              "\n",
              "  .colab-df-quickchart-complete:disabled,\n",
              "  .colab-df-quickchart-complete:disabled:hover {\n",
              "    background-color: var(--disabled-bg-color);\n",
              "    fill: var(--disabled-fill-color);\n",
              "    box-shadow: none;\n",
              "  }\n",
              "\n",
              "  .colab-df-spinner {\n",
              "    border: 2px solid var(--fill-color);\n",
              "    border-color: transparent;\n",
              "    border-bottom-color: var(--fill-color);\n",
              "    animation:\n",
              "      spin 1s steps(1) infinite;\n",
              "  }\n",
              "\n",
              "  @keyframes spin {\n",
              "    0% {\n",
              "      border-color: transparent;\n",
              "      border-bottom-color: var(--fill-color);\n",
              "      border-left-color: var(--fill-color);\n",
              "    }\n",
              "    20% {\n",
              "      border-color: transparent;\n",
              "      border-left-color: var(--fill-color);\n",
              "      border-top-color: var(--fill-color);\n",
              "    }\n",
              "    30% {\n",
              "      border-color: transparent;\n",
              "      border-left-color: var(--fill-color);\n",
              "      border-top-color: var(--fill-color);\n",
              "      border-right-color: var(--fill-color);\n",
              "    }\n",
              "    40% {\n",
              "      border-color: transparent;\n",
              "      border-right-color: var(--fill-color);\n",
              "      border-top-color: var(--fill-color);\n",
              "    }\n",
              "    60% {\n",
              "      border-color: transparent;\n",
              "      border-right-color: var(--fill-color);\n",
              "    }\n",
              "    80% {\n",
              "      border-color: transparent;\n",
              "      border-right-color: var(--fill-color);\n",
              "      border-bottom-color: var(--fill-color);\n",
              "    }\n",
              "    90% {\n",
              "      border-color: transparent;\n",
              "      border-bottom-color: var(--fill-color);\n",
              "    }\n",
              "  }\n",
              "</style>\n",
              "\n",
              "  <script>\n",
              "    async function quickchart(key) {\n",
              "      const quickchartButtonEl =\n",
              "        document.querySelector('#' + key + ' button');\n",
              "      quickchartButtonEl.disabled = true;  // To prevent multiple clicks.\n",
              "      quickchartButtonEl.classList.add('colab-df-spinner');\n",
              "      try {\n",
              "        const charts = await google.colab.kernel.invokeFunction(\n",
              "            'suggestCharts', [key], {});\n",
              "      } catch (error) {\n",
              "        console.error('Error during call to suggestCharts:', error);\n",
              "      }\n",
              "      quickchartButtonEl.classList.remove('colab-df-spinner');\n",
              "      quickchartButtonEl.classList.add('colab-df-quickchart-complete');\n",
              "    }\n",
              "    (() => {\n",
              "      let quickchartButtonEl =\n",
              "        document.querySelector('#df-27223f1f-2e47-4fe4-87df-2b577e8d1929 button');\n",
              "      quickchartButtonEl.style.display =\n",
              "        google.colab.kernel.accessAllowed ? 'block' : 'none';\n",
              "    })();\n",
              "  </script>\n",
              "</div>\n",
              "\n",
              "  <div id=\"id_caa507bb-8ecd-46bf-b1a5-198e01b1fc01\">\n",
              "    <style>\n",
              "      .colab-df-generate {\n",
              "        background-color: #E8F0FE;\n",
              "        border: none;\n",
              "        border-radius: 50%;\n",
              "        cursor: pointer;\n",
              "        display: none;\n",
              "        fill: #1967D2;\n",
              "        height: 32px;\n",
              "        padding: 0 0 0 0;\n",
              "        width: 32px;\n",
              "      }\n",
              "\n",
              "      .colab-df-generate:hover {\n",
              "        background-color: #E2EBFA;\n",
              "        box-shadow: 0px 1px 2px rgba(60, 64, 67, 0.3), 0px 1px 3px 1px rgba(60, 64, 67, 0.15);\n",
              "        fill: #174EA6;\n",
              "      }\n",
              "\n",
              "      [theme=dark] .colab-df-generate {\n",
              "        background-color: #3B4455;\n",
              "        fill: #D2E3FC;\n",
              "      }\n",
              "\n",
              "      [theme=dark] .colab-df-generate:hover {\n",
              "        background-color: #434B5C;\n",
              "        box-shadow: 0px 1px 3px 1px rgba(0, 0, 0, 0.15);\n",
              "        filter: drop-shadow(0px 1px 2px rgba(0, 0, 0, 0.3));\n",
              "        fill: #FFFFFF;\n",
              "      }\n",
              "    </style>\n",
              "    <button class=\"colab-df-generate\" onclick=\"generateWithVariable('df')\"\n",
              "            title=\"Generate code using this dataframe.\"\n",
              "            style=\"display:none;\">\n",
              "\n",
              "  <svg xmlns=\"http://www.w3.org/2000/svg\" height=\"24px\"viewBox=\"0 0 24 24\"\n",
              "       width=\"24px\">\n",
              "    <path d=\"M7,19H8.4L18.45,9,17,7.55,7,17.6ZM5,21V16.75L18.45,3.32a2,2,0,0,1,2.83,0l1.4,1.43a1.91,1.91,0,0,1,.58,1.4,1.91,1.91,0,0,1-.58,1.4L9.25,21ZM18.45,9,17,7.55Zm-12,3A5.31,5.31,0,0,0,4.9,8.1,5.31,5.31,0,0,0,1,6.5,5.31,5.31,0,0,0,4.9,4.9,5.31,5.31,0,0,0,6.5,1,5.31,5.31,0,0,0,8.1,4.9,5.31,5.31,0,0,0,12,6.5,5.46,5.46,0,0,0,6.5,12Z\"/>\n",
              "  </svg>\n",
              "    </button>\n",
              "    <script>\n",
              "      (() => {\n",
              "      const buttonEl =\n",
              "        document.querySelector('#id_caa507bb-8ecd-46bf-b1a5-198e01b1fc01 button.colab-df-generate');\n",
              "      buttonEl.style.display =\n",
              "        google.colab.kernel.accessAllowed ? 'block' : 'none';\n",
              "\n",
              "      buttonEl.onclick = () => {\n",
              "        google.colab.notebook.generateWithVariable('df');\n",
              "      }\n",
              "      })();\n",
              "    </script>\n",
              "  </div>\n",
              "\n",
              "    </div>\n",
              "  </div>\n"
            ],
            "application/vnd.google.colaboratory.intrinsic+json": {
              "type": "dataframe",
              "variable_name": "df",
              "summary": "{\n  \"name\": \"df\",\n  \"rows\": 3,\n  \"fields\": [\n    {\n      \"column\": \"Name\",\n      \"properties\": {\n        \"dtype\": \"string\",\n        \"num_unique_values\": 3,\n        \"samples\": [\n          \"Alice\",\n          \"Bob\",\n          \"Charlie\"\n        ],\n        \"semantic_type\": \"\",\n        \"description\": \"\"\n      }\n    },\n    {\n      \"column\": \"Age\",\n      \"properties\": {\n        \"dtype\": \"number\",\n        \"std\": 5,\n        \"min\": 25,\n        \"max\": 35,\n        \"num_unique_values\": 3,\n        \"samples\": [\n          25,\n          30,\n          35\n        ],\n        \"semantic_type\": \"\",\n        \"description\": \"\"\n      }\n    },\n    {\n      \"column\": \"City\",\n      \"properties\": {\n        \"dtype\": \"string\",\n        \"num_unique_values\": 3,\n        \"samples\": [\n          \"New York\",\n          \"London\",\n          \"Berlin\"\n        ],\n        \"semantic_type\": \"\",\n        \"description\": \"\"\n      }\n    }\n  ]\n}"
            }
          },
          "metadata": {},
          "execution_count": 143
        }
      ]
    },
    {
      "cell_type": "code",
      "source": [
        "df.loc[0]"
      ],
      "metadata": {
        "colab": {
          "base_uri": "https://localhost:8080/",
          "height": 178
        },
        "id": "6Y88eZ5syQlf",
        "outputId": "18c7a642-1e22-4bba-ffe9-01cbe366454b"
      },
      "execution_count": 144,
      "outputs": [
        {
          "output_type": "execute_result",
          "data": {
            "text/plain": [
              "Name       Alice\n",
              "Age           25\n",
              "City    New York\n",
              "Name: 0, dtype: object"
            ],
            "text/html": [
              "<div>\n",
              "<style scoped>\n",
              "    .dataframe tbody tr th:only-of-type {\n",
              "        vertical-align: middle;\n",
              "    }\n",
              "\n",
              "    .dataframe tbody tr th {\n",
              "        vertical-align: top;\n",
              "    }\n",
              "\n",
              "    .dataframe thead th {\n",
              "        text-align: right;\n",
              "    }\n",
              "</style>\n",
              "<table border=\"1\" class=\"dataframe\">\n",
              "  <thead>\n",
              "    <tr style=\"text-align: right;\">\n",
              "      <th></th>\n",
              "      <th>0</th>\n",
              "    </tr>\n",
              "  </thead>\n",
              "  <tbody>\n",
              "    <tr>\n",
              "      <th>Name</th>\n",
              "      <td>Alice</td>\n",
              "    </tr>\n",
              "    <tr>\n",
              "      <th>Age</th>\n",
              "      <td>25</td>\n",
              "    </tr>\n",
              "    <tr>\n",
              "      <th>City</th>\n",
              "      <td>New York</td>\n",
              "    </tr>\n",
              "  </tbody>\n",
              "</table>\n",
              "</div><br><label><b>dtype:</b> object</label>"
            ]
          },
          "metadata": {},
          "execution_count": 144
        }
      ]
    },
    {
      "cell_type": "code",
      "source": [
        "filtered_df = df[df['Age'] > 35]  # Select rows where Age > 25\n",
        "print(filtered_df)\n"
      ],
      "metadata": {
        "colab": {
          "base_uri": "https://localhost:8080/"
        },
        "id": "IHuinLAyyW5K",
        "outputId": "023bcdc6-b4c7-4ad8-a23b-01023f203ae7"
      },
      "execution_count": 146,
      "outputs": [
        {
          "output_type": "stream",
          "name": "stdout",
          "text": [
            "Empty DataFrame\n",
            "Columns: [Name, Age, City]\n",
            "Index: []\n"
          ]
        }
      ]
    },
    {
      "cell_type": "code",
      "source": [
        "# Select rows where Age > 25 AND City is 'London'\n",
        "filtered_df = df[(df['Age'] > 25) & (df['City'] == 'London')]\n",
        "print(filtered_df)\n"
      ],
      "metadata": {
        "colab": {
          "base_uri": "https://localhost:8080/"
        },
        "id": "ttOD0LFEye49",
        "outputId": "7687e3d2-7d67-4d74-d349-b200449475d7"
      },
      "execution_count": 147,
      "outputs": [
        {
          "output_type": "stream",
          "name": "stdout",
          "text": [
            "  Name  Age    City\n",
            "1  Bob   30  London\n"
          ]
        }
      ]
    },
    {
      "cell_type": "code",
      "source": [
        "import pandas as pd\n",
        "import numpy as np\n",
        "\n",
        "data = {\n",
        "    'Name': ['Alice', 'Bob', 'Charlie', 'David'],\n",
        "    'Age': [25, np.nan, 35, 40],  # Bob's age is missing\n",
        "    'City': ['New York', 'London', np.nan, 'Berlin']  # Charlie's city is missing\n",
        "}\n",
        "\n",
        "df = pd.DataFrame(data)\n",
        "\n",
        "# Check for missing values\n",
        "print(df.isna(),index=False)  # or df.isnull()\n"
      ],
      "metadata": {
        "colab": {
          "base_uri": "https://localhost:8080/",
          "height": 176
        },
        "id": "e8qOGEJfynWy",
        "outputId": "524ae08e-9eec-4be0-d644-85ed5d56e547"
      },
      "execution_count": 149,
      "outputs": [
        {
          "output_type": "error",
          "ename": "TypeError",
          "evalue": "'index' is an invalid keyword argument for print()",
          "traceback": [
            "\u001b[0;31m---------------------------------------------------------------------------\u001b[0m",
            "\u001b[0;31mTypeError\u001b[0m                                 Traceback (most recent call last)",
            "\u001b[0;32m<ipython-input-149-b30640b7629b>\u001b[0m in \u001b[0;36m<cell line: 0>\u001b[0;34m()\u001b[0m\n\u001b[1;32m     11\u001b[0m \u001b[0;34m\u001b[0m\u001b[0m\n\u001b[1;32m     12\u001b[0m \u001b[0;31m# Check for missing values\u001b[0m\u001b[0;34m\u001b[0m\u001b[0;34m\u001b[0m\u001b[0m\n\u001b[0;32m---> 13\u001b[0;31m \u001b[0mprint\u001b[0m\u001b[0;34m(\u001b[0m\u001b[0mdf\u001b[0m\u001b[0;34m.\u001b[0m\u001b[0misna\u001b[0m\u001b[0;34m(\u001b[0m\u001b[0;34m)\u001b[0m\u001b[0;34m,\u001b[0m\u001b[0mindex\u001b[0m\u001b[0;34m=\u001b[0m\u001b[0;32mFalse\u001b[0m\u001b[0;34m)\u001b[0m  \u001b[0;31m# or df.isnull()\u001b[0m\u001b[0;34m\u001b[0m\u001b[0;34m\u001b[0m\u001b[0m\n\u001b[0m",
            "\u001b[0;31mTypeError\u001b[0m: 'index' is an invalid keyword argument for print()"
          ]
        }
      ]
    },
    {
      "cell_type": "code",
      "source": [
        "import pandas as pd\n",
        "import numpy as np\n",
        "\n",
        "data = {\n",
        "    'Name': ['Alice', 'Bob', 'Charlie', 'David'],\n",
        "    'Age': [25, np.nan, 35, 40],  # Bob's age is missing\n",
        "    'City': ['New York', 'London', np.nan, 'Berlin']  # Charlie's city is missing\n",
        "}\n",
        "\n",
        "df = pd.DataFrame(data)\n",
        "\n",
        "# Check for missing values\n",
        "print(df.isna())  # or df.isnull()\n",
        "# To suppress the index in the output, you can use the 'to_string' method:\n",
        "print(df.isna().to_string(index=False))"
      ],
      "metadata": {
        "colab": {
          "base_uri": "https://localhost:8080/"
        },
        "id": "E_x47QUfywbP",
        "outputId": "b072f34c-6fba-45d4-d9f1-e11d93fb2587"
      },
      "execution_count": 150,
      "outputs": [
        {
          "output_type": "stream",
          "name": "stdout",
          "text": [
            "    Name    Age   City\n",
            "0  False  False  False\n",
            "1  False   True  False\n",
            "2  False  False   True\n",
            "3  False  False  False\n",
            " Name   Age  City\n",
            "False False False\n",
            "False  True False\n",
            "False False  True\n",
            "False False False\n"
          ]
        }
      ]
    },
    {
      "cell_type": "code",
      "source": [
        "print(df.isna().sum())\n"
      ],
      "metadata": {
        "colab": {
          "base_uri": "https://localhost:8080/"
        },
        "id": "OjQRpvvjzBQ2",
        "outputId": "61eeabbc-adde-4d6d-de9c-d3fb61b7d369"
      },
      "execution_count": 151,
      "outputs": [
        {
          "output_type": "stream",
          "name": "stdout",
          "text": [
            "Name    0\n",
            "Age     1\n",
            "City    1\n",
            "dtype: int64\n"
          ]
        }
      ]
    },
    {
      "cell_type": "code",
      "source": [
        "df"
      ],
      "metadata": {
        "colab": {
          "base_uri": "https://localhost:8080/",
          "height": 174
        },
        "id": "QDIE_BcBzHpr",
        "outputId": "9b931202-eab1-4fb7-f3da-9d1a395f9b3f"
      },
      "execution_count": 153,
      "outputs": [
        {
          "output_type": "execute_result",
          "data": {
            "text/plain": [
              "      Name   Age      City\n",
              "0    Alice  25.0  New York\n",
              "1      Bob   NaN    London\n",
              "2  Charlie  35.0       NaN\n",
              "3    David  40.0    Berlin"
            ],
            "text/html": [
              "\n",
              "  <div id=\"df-de0622d1-19f8-42e8-80cf-d2c365b9f1ef\" class=\"colab-df-container\">\n",
              "    <div>\n",
              "<style scoped>\n",
              "    .dataframe tbody tr th:only-of-type {\n",
              "        vertical-align: middle;\n",
              "    }\n",
              "\n",
              "    .dataframe tbody tr th {\n",
              "        vertical-align: top;\n",
              "    }\n",
              "\n",
              "    .dataframe thead th {\n",
              "        text-align: right;\n",
              "    }\n",
              "</style>\n",
              "<table border=\"1\" class=\"dataframe\">\n",
              "  <thead>\n",
              "    <tr style=\"text-align: right;\">\n",
              "      <th></th>\n",
              "      <th>Name</th>\n",
              "      <th>Age</th>\n",
              "      <th>City</th>\n",
              "    </tr>\n",
              "  </thead>\n",
              "  <tbody>\n",
              "    <tr>\n",
              "      <th>0</th>\n",
              "      <td>Alice</td>\n",
              "      <td>25.0</td>\n",
              "      <td>New York</td>\n",
              "    </tr>\n",
              "    <tr>\n",
              "      <th>1</th>\n",
              "      <td>Bob</td>\n",
              "      <td>NaN</td>\n",
              "      <td>London</td>\n",
              "    </tr>\n",
              "    <tr>\n",
              "      <th>2</th>\n",
              "      <td>Charlie</td>\n",
              "      <td>35.0</td>\n",
              "      <td>NaN</td>\n",
              "    </tr>\n",
              "    <tr>\n",
              "      <th>3</th>\n",
              "      <td>David</td>\n",
              "      <td>40.0</td>\n",
              "      <td>Berlin</td>\n",
              "    </tr>\n",
              "  </tbody>\n",
              "</table>\n",
              "</div>\n",
              "    <div class=\"colab-df-buttons\">\n",
              "\n",
              "  <div class=\"colab-df-container\">\n",
              "    <button class=\"colab-df-convert\" onclick=\"convertToInteractive('df-de0622d1-19f8-42e8-80cf-d2c365b9f1ef')\"\n",
              "            title=\"Convert this dataframe to an interactive table.\"\n",
              "            style=\"display:none;\">\n",
              "\n",
              "  <svg xmlns=\"http://www.w3.org/2000/svg\" height=\"24px\" viewBox=\"0 -960 960 960\">\n",
              "    <path d=\"M120-120v-720h720v720H120Zm60-500h600v-160H180v160Zm220 220h160v-160H400v160Zm0 220h160v-160H400v160ZM180-400h160v-160H180v160Zm440 0h160v-160H620v160ZM180-180h160v-160H180v160Zm440 0h160v-160H620v160Z\"/>\n",
              "  </svg>\n",
              "    </button>\n",
              "\n",
              "  <style>\n",
              "    .colab-df-container {\n",
              "      display:flex;\n",
              "      gap: 12px;\n",
              "    }\n",
              "\n",
              "    .colab-df-convert {\n",
              "      background-color: #E8F0FE;\n",
              "      border: none;\n",
              "      border-radius: 50%;\n",
              "      cursor: pointer;\n",
              "      display: none;\n",
              "      fill: #1967D2;\n",
              "      height: 32px;\n",
              "      padding: 0 0 0 0;\n",
              "      width: 32px;\n",
              "    }\n",
              "\n",
              "    .colab-df-convert:hover {\n",
              "      background-color: #E2EBFA;\n",
              "      box-shadow: 0px 1px 2px rgba(60, 64, 67, 0.3), 0px 1px 3px 1px rgba(60, 64, 67, 0.15);\n",
              "      fill: #174EA6;\n",
              "    }\n",
              "\n",
              "    .colab-df-buttons div {\n",
              "      margin-bottom: 4px;\n",
              "    }\n",
              "\n",
              "    [theme=dark] .colab-df-convert {\n",
              "      background-color: #3B4455;\n",
              "      fill: #D2E3FC;\n",
              "    }\n",
              "\n",
              "    [theme=dark] .colab-df-convert:hover {\n",
              "      background-color: #434B5C;\n",
              "      box-shadow: 0px 1px 3px 1px rgba(0, 0, 0, 0.15);\n",
              "      filter: drop-shadow(0px 1px 2px rgba(0, 0, 0, 0.3));\n",
              "      fill: #FFFFFF;\n",
              "    }\n",
              "  </style>\n",
              "\n",
              "    <script>\n",
              "      const buttonEl =\n",
              "        document.querySelector('#df-de0622d1-19f8-42e8-80cf-d2c365b9f1ef button.colab-df-convert');\n",
              "      buttonEl.style.display =\n",
              "        google.colab.kernel.accessAllowed ? 'block' : 'none';\n",
              "\n",
              "      async function convertToInteractive(key) {\n",
              "        const element = document.querySelector('#df-de0622d1-19f8-42e8-80cf-d2c365b9f1ef');\n",
              "        const dataTable =\n",
              "          await google.colab.kernel.invokeFunction('convertToInteractive',\n",
              "                                                    [key], {});\n",
              "        if (!dataTable) return;\n",
              "\n",
              "        const docLinkHtml = 'Like what you see? Visit the ' +\n",
              "          '<a target=\"_blank\" href=https://colab.research.google.com/notebooks/data_table.ipynb>data table notebook</a>'\n",
              "          + ' to learn more about interactive tables.';\n",
              "        element.innerHTML = '';\n",
              "        dataTable['output_type'] = 'display_data';\n",
              "        await google.colab.output.renderOutput(dataTable, element);\n",
              "        const docLink = document.createElement('div');\n",
              "        docLink.innerHTML = docLinkHtml;\n",
              "        element.appendChild(docLink);\n",
              "      }\n",
              "    </script>\n",
              "  </div>\n",
              "\n",
              "\n",
              "<div id=\"df-855f0c5a-5f7c-4406-9b8b-e15af36b9c18\">\n",
              "  <button class=\"colab-df-quickchart\" onclick=\"quickchart('df-855f0c5a-5f7c-4406-9b8b-e15af36b9c18')\"\n",
              "            title=\"Suggest charts\"\n",
              "            style=\"display:none;\">\n",
              "\n",
              "<svg xmlns=\"http://www.w3.org/2000/svg\" height=\"24px\"viewBox=\"0 0 24 24\"\n",
              "     width=\"24px\">\n",
              "    <g>\n",
              "        <path d=\"M19 3H5c-1.1 0-2 .9-2 2v14c0 1.1.9 2 2 2h14c1.1 0 2-.9 2-2V5c0-1.1-.9-2-2-2zM9 17H7v-7h2v7zm4 0h-2V7h2v10zm4 0h-2v-4h2v4z\"/>\n",
              "    </g>\n",
              "</svg>\n",
              "  </button>\n",
              "\n",
              "<style>\n",
              "  .colab-df-quickchart {\n",
              "      --bg-color: #E8F0FE;\n",
              "      --fill-color: #1967D2;\n",
              "      --hover-bg-color: #E2EBFA;\n",
              "      --hover-fill-color: #174EA6;\n",
              "      --disabled-fill-color: #AAA;\n",
              "      --disabled-bg-color: #DDD;\n",
              "  }\n",
              "\n",
              "  [theme=dark] .colab-df-quickchart {\n",
              "      --bg-color: #3B4455;\n",
              "      --fill-color: #D2E3FC;\n",
              "      --hover-bg-color: #434B5C;\n",
              "      --hover-fill-color: #FFFFFF;\n",
              "      --disabled-bg-color: #3B4455;\n",
              "      --disabled-fill-color: #666;\n",
              "  }\n",
              "\n",
              "  .colab-df-quickchart {\n",
              "    background-color: var(--bg-color);\n",
              "    border: none;\n",
              "    border-radius: 50%;\n",
              "    cursor: pointer;\n",
              "    display: none;\n",
              "    fill: var(--fill-color);\n",
              "    height: 32px;\n",
              "    padding: 0;\n",
              "    width: 32px;\n",
              "  }\n",
              "\n",
              "  .colab-df-quickchart:hover {\n",
              "    background-color: var(--hover-bg-color);\n",
              "    box-shadow: 0 1px 2px rgba(60, 64, 67, 0.3), 0 1px 3px 1px rgba(60, 64, 67, 0.15);\n",
              "    fill: var(--button-hover-fill-color);\n",
              "  }\n",
              "\n",
              "  .colab-df-quickchart-complete:disabled,\n",
              "  .colab-df-quickchart-complete:disabled:hover {\n",
              "    background-color: var(--disabled-bg-color);\n",
              "    fill: var(--disabled-fill-color);\n",
              "    box-shadow: none;\n",
              "  }\n",
              "\n",
              "  .colab-df-spinner {\n",
              "    border: 2px solid var(--fill-color);\n",
              "    border-color: transparent;\n",
              "    border-bottom-color: var(--fill-color);\n",
              "    animation:\n",
              "      spin 1s steps(1) infinite;\n",
              "  }\n",
              "\n",
              "  @keyframes spin {\n",
              "    0% {\n",
              "      border-color: transparent;\n",
              "      border-bottom-color: var(--fill-color);\n",
              "      border-left-color: var(--fill-color);\n",
              "    }\n",
              "    20% {\n",
              "      border-color: transparent;\n",
              "      border-left-color: var(--fill-color);\n",
              "      border-top-color: var(--fill-color);\n",
              "    }\n",
              "    30% {\n",
              "      border-color: transparent;\n",
              "      border-left-color: var(--fill-color);\n",
              "      border-top-color: var(--fill-color);\n",
              "      border-right-color: var(--fill-color);\n",
              "    }\n",
              "    40% {\n",
              "      border-color: transparent;\n",
              "      border-right-color: var(--fill-color);\n",
              "      border-top-color: var(--fill-color);\n",
              "    }\n",
              "    60% {\n",
              "      border-color: transparent;\n",
              "      border-right-color: var(--fill-color);\n",
              "    }\n",
              "    80% {\n",
              "      border-color: transparent;\n",
              "      border-right-color: var(--fill-color);\n",
              "      border-bottom-color: var(--fill-color);\n",
              "    }\n",
              "    90% {\n",
              "      border-color: transparent;\n",
              "      border-bottom-color: var(--fill-color);\n",
              "    }\n",
              "  }\n",
              "</style>\n",
              "\n",
              "  <script>\n",
              "    async function quickchart(key) {\n",
              "      const quickchartButtonEl =\n",
              "        document.querySelector('#' + key + ' button');\n",
              "      quickchartButtonEl.disabled = true;  // To prevent multiple clicks.\n",
              "      quickchartButtonEl.classList.add('colab-df-spinner');\n",
              "      try {\n",
              "        const charts = await google.colab.kernel.invokeFunction(\n",
              "            'suggestCharts', [key], {});\n",
              "      } catch (error) {\n",
              "        console.error('Error during call to suggestCharts:', error);\n",
              "      }\n",
              "      quickchartButtonEl.classList.remove('colab-df-spinner');\n",
              "      quickchartButtonEl.classList.add('colab-df-quickchart-complete');\n",
              "    }\n",
              "    (() => {\n",
              "      let quickchartButtonEl =\n",
              "        document.querySelector('#df-855f0c5a-5f7c-4406-9b8b-e15af36b9c18 button');\n",
              "      quickchartButtonEl.style.display =\n",
              "        google.colab.kernel.accessAllowed ? 'block' : 'none';\n",
              "    })();\n",
              "  </script>\n",
              "</div>\n",
              "\n",
              "  <div id=\"id_9eac92e7-0f86-4aee-a266-7c409f619560\">\n",
              "    <style>\n",
              "      .colab-df-generate {\n",
              "        background-color: #E8F0FE;\n",
              "        border: none;\n",
              "        border-radius: 50%;\n",
              "        cursor: pointer;\n",
              "        display: none;\n",
              "        fill: #1967D2;\n",
              "        height: 32px;\n",
              "        padding: 0 0 0 0;\n",
              "        width: 32px;\n",
              "      }\n",
              "\n",
              "      .colab-df-generate:hover {\n",
              "        background-color: #E2EBFA;\n",
              "        box-shadow: 0px 1px 2px rgba(60, 64, 67, 0.3), 0px 1px 3px 1px rgba(60, 64, 67, 0.15);\n",
              "        fill: #174EA6;\n",
              "      }\n",
              "\n",
              "      [theme=dark] .colab-df-generate {\n",
              "        background-color: #3B4455;\n",
              "        fill: #D2E3FC;\n",
              "      }\n",
              "\n",
              "      [theme=dark] .colab-df-generate:hover {\n",
              "        background-color: #434B5C;\n",
              "        box-shadow: 0px 1px 3px 1px rgba(0, 0, 0, 0.15);\n",
              "        filter: drop-shadow(0px 1px 2px rgba(0, 0, 0, 0.3));\n",
              "        fill: #FFFFFF;\n",
              "      }\n",
              "    </style>\n",
              "    <button class=\"colab-df-generate\" onclick=\"generateWithVariable('df')\"\n",
              "            title=\"Generate code using this dataframe.\"\n",
              "            style=\"display:none;\">\n",
              "\n",
              "  <svg xmlns=\"http://www.w3.org/2000/svg\" height=\"24px\"viewBox=\"0 0 24 24\"\n",
              "       width=\"24px\">\n",
              "    <path d=\"M7,19H8.4L18.45,9,17,7.55,7,17.6ZM5,21V16.75L18.45,3.32a2,2,0,0,1,2.83,0l1.4,1.43a1.91,1.91,0,0,1,.58,1.4,1.91,1.91,0,0,1-.58,1.4L9.25,21ZM18.45,9,17,7.55Zm-12,3A5.31,5.31,0,0,0,4.9,8.1,5.31,5.31,0,0,0,1,6.5,5.31,5.31,0,0,0,4.9,4.9,5.31,5.31,0,0,0,6.5,1,5.31,5.31,0,0,0,8.1,4.9,5.31,5.31,0,0,0,12,6.5,5.46,5.46,0,0,0,6.5,12Z\"/>\n",
              "  </svg>\n",
              "    </button>\n",
              "    <script>\n",
              "      (() => {\n",
              "      const buttonEl =\n",
              "        document.querySelector('#id_9eac92e7-0f86-4aee-a266-7c409f619560 button.colab-df-generate');\n",
              "      buttonEl.style.display =\n",
              "        google.colab.kernel.accessAllowed ? 'block' : 'none';\n",
              "\n",
              "      buttonEl.onclick = () => {\n",
              "        google.colab.notebook.generateWithVariable('df');\n",
              "      }\n",
              "      })();\n",
              "    </script>\n",
              "  </div>\n",
              "\n",
              "    </div>\n",
              "  </div>\n"
            ],
            "application/vnd.google.colaboratory.intrinsic+json": {
              "type": "dataframe",
              "variable_name": "df",
              "summary": "{\n  \"name\": \"df\",\n  \"rows\": 4,\n  \"fields\": [\n    {\n      \"column\": \"Name\",\n      \"properties\": {\n        \"dtype\": \"string\",\n        \"num_unique_values\": 4,\n        \"samples\": [\n          \"Bob\",\n          \"David\",\n          \"Alice\"\n        ],\n        \"semantic_type\": \"\",\n        \"description\": \"\"\n      }\n    },\n    {\n      \"column\": \"Age\",\n      \"properties\": {\n        \"dtype\": \"number\",\n        \"std\": 7.637626158259733,\n        \"min\": 25.0,\n        \"max\": 40.0,\n        \"num_unique_values\": 3,\n        \"samples\": [\n          25.0,\n          35.0,\n          40.0\n        ],\n        \"semantic_type\": \"\",\n        \"description\": \"\"\n      }\n    },\n    {\n      \"column\": \"City\",\n      \"properties\": {\n        \"dtype\": \"string\",\n        \"num_unique_values\": 3,\n        \"samples\": [\n          \"New York\",\n          \"London\",\n          \"Berlin\"\n        ],\n        \"semantic_type\": \"\",\n        \"description\": \"\"\n      }\n    }\n  ]\n}"
            }
          },
          "metadata": {},
          "execution_count": 153
        }
      ]
    },
    {
      "cell_type": "code",
      "source": [
        "df.hist()"
      ],
      "metadata": {
        "colab": {
          "base_uri": "https://localhost:8080/",
          "height": 469
        },
        "id": "wIOlMFAKzLOB",
        "outputId": "bfe431c6-2d97-4ed5-f35f-308dfd5c3548"
      },
      "execution_count": 155,
      "outputs": [
        {
          "output_type": "execute_result",
          "data": {
            "text/plain": [
              "array([[<Axes: title={'center': 'Age'}>]], dtype=object)"
            ]
          },
          "metadata": {},
          "execution_count": 155
        },
        {
          "output_type": "display_data",
          "data": {
            "text/plain": [
              "<Figure size 640x480 with 1 Axes>"
            ],
            "image/png": "[encoded data removed]"
          },
          "metadata": {}
        }
      ]
    },
    {
      "cell_type": "code",
      "source": [],
      "metadata": {
        "colab": {
          "base_uri": "https://localhost:8080/",
          "height": 304
        },
        "id": "toFaH41mziGY",
        "outputId": "f7a31254-2648-45e0-abd9-221bc4fc8bb6"
      },
      "execution_count": 160,
      "outputs": [
        {
          "output_type": "error",
          "ename": "ValueError",
          "evalue": "scatter requires an x and y column",
          "traceback": [
            "\u001b[0;31m---------------------------------------------------------------------------\u001b[0m",
            "\u001b[0;31mValueError\u001b[0m                                Traceback (most recent call last)",
            "\u001b[0;32m<ipython-input-160-4b2979737319>\u001b[0m in \u001b[0;36m<cell line: 0>\u001b[0;34m()\u001b[0m\n\u001b[0;32m----> 1\u001b[0;31m \u001b[0mdf\u001b[0m\u001b[0;34m.\u001b[0m\u001b[0mplot\u001b[0m\u001b[0;34m(\u001b[0m\u001b[0mkind\u001b[0m\u001b[0;34m=\u001b[0m\u001b[0;34m\"scatter\"\u001b[0m\u001b[0;34m)\u001b[0m\u001b[0;34m\u001b[0m\u001b[0;34m\u001b[0m\u001b[0m\n\u001b[0m",
            "\u001b[0;32m/usr/local/lib/python3.11/dist-packages/pandas/plotting/_core.py\u001b[0m in \u001b[0;36m__call__\u001b[0;34m(self, *args, **kwargs)\u001b[0m\n\u001b[1;32m    973\u001b[0m         \u001b[0;32mif\u001b[0m \u001b[0mkind\u001b[0m \u001b[0;32min\u001b[0m \u001b[0mself\u001b[0m\u001b[0;34m.\u001b[0m\u001b[0m_dataframe_kinds\u001b[0m\u001b[0;34m:\u001b[0m\u001b[0;34m\u001b[0m\u001b[0;34m\u001b[0m\u001b[0m\n\u001b[1;32m    974\u001b[0m             \u001b[0;32mif\u001b[0m \u001b[0misinstance\u001b[0m\u001b[0;34m(\u001b[0m\u001b[0mdata\u001b[0m\u001b[0;34m,\u001b[0m \u001b[0mABCDataFrame\u001b[0m\u001b[0;34m)\u001b[0m\u001b[0;34m:\u001b[0m\u001b[0;34m\u001b[0m\u001b[0;34m\u001b[0m\u001b[0m\n\u001b[0;32m--> 975\u001b[0;31m                 \u001b[0;32mreturn\u001b[0m \u001b[0mplot_backend\u001b[0m\u001b[0;34m.\u001b[0m\u001b[0mplot\u001b[0m\u001b[0;34m(\u001b[0m\u001b[0mdata\u001b[0m\u001b[0;34m,\u001b[0m \u001b[0mx\u001b[0m\u001b[0;34m=\u001b[0m\u001b[0mx\u001b[0m\u001b[0;34m,\u001b[0m \u001b[0my\u001b[0m\u001b[0;34m=\u001b[0m\u001b[0my\u001b[0m\u001b[0;34m,\u001b[0m \u001b[0mkind\u001b[0m\u001b[0;34m=\u001b[0m\u001b[0mkind\u001b[0m\u001b[0;34m,\u001b[0m \u001b[0;34m**\u001b[0m\u001b[0mkwargs\u001b[0m\u001b[0;34m)\u001b[0m\u001b[0;34m\u001b[0m\u001b[0;34m\u001b[0m\u001b[0m\n\u001b[0m\u001b[1;32m    976\u001b[0m             \u001b[0;32melse\u001b[0m\u001b[0;34m:\u001b[0m\u001b[0;34m\u001b[0m\u001b[0;34m\u001b[0m\u001b[0m\n\u001b[1;32m    977\u001b[0m                 \u001b[0;32mraise\u001b[0m \u001b[0mValueError\u001b[0m\u001b[0;34m(\u001b[0m\u001b[0;34mf\"plot kind {kind} can only be used for data frames\"\u001b[0m\u001b[0;34m)\u001b[0m\u001b[0;34m\u001b[0m\u001b[0;34m\u001b[0m\u001b[0m\n",
            "\u001b[0;32m/usr/local/lib/python3.11/dist-packages/pandas/plotting/_matplotlib/__init__.py\u001b[0m in \u001b[0;36mplot\u001b[0;34m(data, kind, **kwargs)\u001b[0m\n\u001b[1;32m     68\u001b[0m                 \u001b[0max\u001b[0m \u001b[0;34m=\u001b[0m \u001b[0mplt\u001b[0m\u001b[0;34m.\u001b[0m\u001b[0mgca\u001b[0m\u001b[0;34m(\u001b[0m\u001b[0;34m)\u001b[0m\u001b[0;34m\u001b[0m\u001b[0;34m\u001b[0m\u001b[0m\n\u001b[1;32m     69\u001b[0m             \u001b[0mkwargs\u001b[0m\u001b[0;34m[\u001b[0m\u001b[0;34m\"ax\"\u001b[0m\u001b[0;34m]\u001b[0m \u001b[0;34m=\u001b[0m \u001b[0mgetattr\u001b[0m\u001b[0;34m(\u001b[0m\u001b[0max\u001b[0m\u001b[0;34m,\u001b[0m \u001b[0;34m\"left_ax\"\u001b[0m\u001b[0;34m,\u001b[0m \u001b[0max\u001b[0m\u001b[0;34m)\u001b[0m\u001b[0;34m\u001b[0m\u001b[0;34m\u001b[0m\u001b[0m\n\u001b[0;32m---> 70\u001b[0;31m     \u001b[0mplot_obj\u001b[0m \u001b[0;34m=\u001b[0m \u001b[0mPLOT_CLASSES\u001b[0m\u001b[0;34m[\u001b[0m\u001b[0mkind\u001b[0m\u001b[0;34m]\u001b[0m\u001b[0;34m(\u001b[0m\u001b[0mdata\u001b[0m\u001b[0;34m,\u001b[0m \u001b[0;34m**\u001b[0m\u001b[0mkwargs\u001b[0m\u001b[0;34m)\u001b[0m\u001b[0;34m\u001b[0m\u001b[0;34m\u001b[0m\u001b[0m\n\u001b[0m\u001b[1;32m     71\u001b[0m     \u001b[0mplot_obj\u001b[0m\u001b[0;34m.\u001b[0m\u001b[0mgenerate\u001b[0m\u001b[0;34m(\u001b[0m\u001b[0;34m)\u001b[0m\u001b[0;34m\u001b[0m\u001b[0;34m\u001b[0m\u001b[0m\n\u001b[1;32m     72\u001b[0m     \u001b[0mplot_obj\u001b[0m\u001b[0;34m.\u001b[0m\u001b[0mdraw\u001b[0m\u001b[0;34m(\u001b[0m\u001b[0;34m)\u001b[0m\u001b[0;34m\u001b[0m\u001b[0;34m\u001b[0m\u001b[0m\n",
            "\u001b[0;32m/usr/local/lib/python3.11/dist-packages/pandas/plotting/_matplotlib/core.py\u001b[0m in \u001b[0;36m__init__\u001b[0;34m(self, data, x, y, s, c, colorbar, norm, **kwargs)\u001b[0m\n\u001b[1;32m   1319\u001b[0m         \u001b[0mself\u001b[0m\u001b[0;34m.\u001b[0m\u001b[0mnorm\u001b[0m \u001b[0;34m=\u001b[0m \u001b[0mnorm\u001b[0m\u001b[0;34m\u001b[0m\u001b[0;34m\u001b[0m\u001b[0m\n\u001b[1;32m   1320\u001b[0m \u001b[0;34m\u001b[0m\u001b[0m\n\u001b[0;32m-> 1321\u001b[0;31m         \u001b[0msuper\u001b[0m\u001b[0;34m(\u001b[0m\u001b[0;34m)\u001b[0m\u001b[0;34m.\u001b[0m\u001b[0m__init__\u001b[0m\u001b[0;34m(\u001b[0m\u001b[0mdata\u001b[0m\u001b[0;34m,\u001b[0m \u001b[0mx\u001b[0m\u001b[0;34m,\u001b[0m \u001b[0my\u001b[0m\u001b[0;34m,\u001b[0m \u001b[0;34m**\u001b[0m\u001b[0mkwargs\u001b[0m\u001b[0;34m)\u001b[0m\u001b[0;34m\u001b[0m\u001b[0;34m\u001b[0m\u001b[0m\n\u001b[0m\u001b[1;32m   1322\u001b[0m         \u001b[0;32mif\u001b[0m \u001b[0mis_integer\u001b[0m\u001b[0;34m(\u001b[0m\u001b[0mc\u001b[0m\u001b[0;34m)\u001b[0m \u001b[0;32mand\u001b[0m \u001b[0;32mnot\u001b[0m \u001b[0mself\u001b[0m\u001b[0;34m.\u001b[0m\u001b[0mdata\u001b[0m\u001b[0;34m.\u001b[0m\u001b[0mcolumns\u001b[0m\u001b[0;34m.\u001b[0m\u001b[0m_holds_integer\u001b[0m\u001b[0;34m(\u001b[0m\u001b[0;34m)\u001b[0m\u001b[0;34m:\u001b[0m\u001b[0;34m\u001b[0m\u001b[0;34m\u001b[0m\u001b[0m\n\u001b[1;32m   1323\u001b[0m             \u001b[0mc\u001b[0m \u001b[0;34m=\u001b[0m \u001b[0mself\u001b[0m\u001b[0;34m.\u001b[0m\u001b[0mdata\u001b[0m\u001b[0;34m.\u001b[0m\u001b[0mcolumns\u001b[0m\u001b[0;34m[\u001b[0m\u001b[0mc\u001b[0m\u001b[0;34m]\u001b[0m\u001b[0;34m\u001b[0m\u001b[0;34m\u001b[0m\u001b[0m\n",
            "\u001b[0;32m/usr/local/lib/python3.11/dist-packages/pandas/plotting/_matplotlib/core.py\u001b[0m in \u001b[0;36m__init__\u001b[0;34m(self, data, x, y, **kwargs)\u001b[0m\n\u001b[1;32m   1247\u001b[0m         \u001b[0mMPLPlot\u001b[0m\u001b[0;34m.\u001b[0m\u001b[0m__init__\u001b[0m\u001b[0;34m(\u001b[0m\u001b[0mself\u001b[0m\u001b[0;34m,\u001b[0m \u001b[0mdata\u001b[0m\u001b[0;34m,\u001b[0m \u001b[0;34m**\u001b[0m\u001b[0mkwargs\u001b[0m\u001b[0;34m)\u001b[0m\u001b[0;34m\u001b[0m\u001b[0;34m\u001b[0m\u001b[0m\n\u001b[1;32m   1248\u001b[0m         \u001b[0;32mif\u001b[0m \u001b[0mx\u001b[0m \u001b[0;32mis\u001b[0m \u001b[0;32mNone\u001b[0m \u001b[0;32mor\u001b[0m \u001b[0my\u001b[0m \u001b[0;32mis\u001b[0m \u001b[0;32mNone\u001b[0m\u001b[0;34m:\u001b[0m\u001b[0;34m\u001b[0m\u001b[0;34m\u001b[0m\u001b[0m\n\u001b[0;32m-> 1249\u001b[0;31m             \u001b[0;32mraise\u001b[0m \u001b[0mValueError\u001b[0m\u001b[0;34m(\u001b[0m\u001b[0mself\u001b[0m\u001b[0;34m.\u001b[0m\u001b[0m_kind\u001b[0m \u001b[0;34m+\u001b[0m \u001b[0;34m\" requires an x and y column\"\u001b[0m\u001b[0;34m)\u001b[0m\u001b[0;34m\u001b[0m\u001b[0;34m\u001b[0m\u001b[0m\n\u001b[0m\u001b[1;32m   1250\u001b[0m         \u001b[0;32mif\u001b[0m \u001b[0mis_integer\u001b[0m\u001b[0;34m(\u001b[0m\u001b[0mx\u001b[0m\u001b[0;34m)\u001b[0m \u001b[0;32mand\u001b[0m \u001b[0;32mnot\u001b[0m \u001b[0mself\u001b[0m\u001b[0;34m.\u001b[0m\u001b[0mdata\u001b[0m\u001b[0;34m.\u001b[0m\u001b[0mcolumns\u001b[0m\u001b[0;34m.\u001b[0m\u001b[0m_holds_integer\u001b[0m\u001b[0;34m(\u001b[0m\u001b[0;34m)\u001b[0m\u001b[0;34m:\u001b[0m\u001b[0;34m\u001b[0m\u001b[0;34m\u001b[0m\u001b[0m\n\u001b[1;32m   1251\u001b[0m             \u001b[0mx\u001b[0m \u001b[0;34m=\u001b[0m \u001b[0mself\u001b[0m\u001b[0;34m.\u001b[0m\u001b[0mdata\u001b[0m\u001b[0;34m.\u001b[0m\u001b[0mcolumns\u001b[0m\u001b[0;34m[\u001b[0m\u001b[0mx\u001b[0m\u001b[0;34m]\u001b[0m\u001b[0;34m\u001b[0m\u001b[0;34m\u001b[0m\u001b[0m\n",
            "\u001b[0;31mValueError\u001b[0m: scatter requires an x and y column"
          ]
        }
      ]
    },
    {
      "cell_type": "code",
      "source": [
        "import pandas as pd\n",
        "import matplotlib.pyplot as plt\n",
        "\n",
        "# Sample Data\n",
        "data = {'Year': [2015, 2016, 2017, 2018, 2019, 2020],\n",
        "        'Sales': [200, 250, 270, 290, 320, 400]}\n",
        "\n",
        "df = pd.DataFrame(data)\n",
        "\n",
        "# Line Plot\n",
        "df.plot(x='Year', y='Sales', kind='line', marker='o', title=\"Yearly Sales\")\n",
        "\n",
        "# Show the plot\n",
        "plt.show()\n"
      ],
      "metadata": {
        "colab": {
          "base_uri": "https://localhost:8080/",
          "height": 472
        },
        "id": "6ty_Ly1hzwjd",
        "outputId": "5e68f7a4-1e9c-423a-ba50-fad8951f4f0b"
      },
      "execution_count": 161,
      "outputs": [
        {
          "output_type": "display_data",
          "data": {
            "text/plain": [
              "<Figure size 640x480 with 1 Axes>"
            ],
            "image/png": "[encoded data removed]"
          },
          "metadata": {}
        }
      ]
    },
    {
      "cell_type": "code",
      "source": [
        "df.plot(x='Year', y='Sales', kind='bar', color='skyblue', title=\"Yearly Sales\")\n",
        "plt.show()\n"
      ],
      "metadata": {
        "colab": {
          "base_uri": "https://localhost:8080/",
          "height": 493
        },
        "id": "P-ST49dd0Nk_",
        "outputId": "0712b357-f147-438f-aea7-0d00a9094557"
      },
      "execution_count": 162,
      "outputs": [
        {
          "output_type": "display_data",
          "data": {
            "text/plain": [
              "<Figure size 640x480 with 1 Axes>"
            ],
            "image/png": "[encoded data removed]"
          },
          "metadata": {}
        }
      ]
    },
    {
      "cell_type": "code",
      "source": [],
      "metadata": {
        "id": "B7pAaZf00hqg"
      },
      "execution_count": null,
      "outputs": []
    }
  ]
}